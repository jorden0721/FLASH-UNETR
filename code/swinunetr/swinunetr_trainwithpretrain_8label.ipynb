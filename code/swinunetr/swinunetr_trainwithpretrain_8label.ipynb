{
 "cells": [
  {
   "cell_type": "code",
   "execution_count": 1,
   "id": "1c7824a8",
   "metadata": {},
   "outputs": [],
   "source": [
    "!python -c \"import monai; import nibabel; import tqdm\" || pip install -q \"monai-weekly[nibabel, tqdm]\"\n",
    "!python -c \"import matplotlib\" || pip install -q matplotlib\n",
    "%matplotlib inline"
   ]
  },
  {
   "cell_type": "code",
   "execution_count": 2,
   "id": "4456d505",
   "metadata": {},
   "outputs": [
    {
     "name": "stdout",
     "output_type": "stream",
     "text": [
      "MONAI version: 1.1.0\n",
      "Numpy version: 1.21.6\n",
      "Pytorch version: 1.13.1+cu117\n",
      "MONAI flags: HAS_EXT = False, USE_COMPILED = False, USE_META_DICT = False\n",
      "MONAI rev id: a2ec3752f54bfc3b40e7952234fbeb5452ed63e3\n",
      "MONAI __file__: /home/user/anaconda3/envs/kevin/lib/python3.7/site-packages/monai/__init__.py\n",
      "\n",
      "Optional dependencies:\n",
      "Pytorch Ignite version: NOT INSTALLED or UNKNOWN VERSION.\n",
      "Nibabel version: 4.0.2\n",
      "scikit-image version: 0.19.3\n",
      "Pillow version: 9.4.0\n",
      "Tensorboard version: 2.11.2\n",
      "gdown version: 4.7.1\n",
      "TorchVision version: 0.14.1+cu117\n",
      "tqdm version: 4.65.0\n",
      "lmdb version: NOT INSTALLED or UNKNOWN VERSION.\n",
      "psutil version: 5.9.0\n",
      "pandas version: 1.3.5\n",
      "einops version: 0.6.1\n",
      "transformers version: NOT INSTALLED or UNKNOWN VERSION.\n",
      "mlflow version: NOT INSTALLED or UNKNOWN VERSION.\n",
      "pynrrd version: NOT INSTALLED or UNKNOWN VERSION.\n",
      "\n",
      "For details about installing the optional dependencies, please visit:\n",
      "    https://docs.monai.io/en/latest/installation.html#installing-the-recommended-dependencies\n",
      "\n"
     ]
    }
   ],
   "source": [
    "import os\n",
    "import shutil\n",
    "import tempfile\n",
    "\n",
    "import matplotlib.pyplot as plt\n",
    "from tqdm import tqdm\n",
    "\n",
    "from monai.losses import DiceCELoss\n",
    "from monai.inferers import sliding_window_inference\n",
    "from monai.transforms import (\n",
    "    AsDiscrete,\n",
    "    EnsureChannelFirstd,#unetr\n",
    "    Compose,\n",
    "    CropForegroundd,\n",
    "    LoadImaged,\n",
    "    Orientationd,\n",
    "    RandFlipd,\n",
    "    RandCropByPosNegLabeld,\n",
    "    RandShiftIntensityd,\n",
    "    ScaleIntensityRanged,\n",
    "    Spacingd,\n",
    "    RandRotate90d,\n",
    "    EnsureTyped,\n",
    "    ToTensor,\n",
    "    ToTensord\n",
    ")\n",
    "\n",
    "from monai.config import print_config\n",
    "from monai.metrics import DiceMetric\n",
    "from monai.networks.nets import SwinUNETR\n",
    "\n",
    "from monai.data import (\n",
    "    ThreadDataLoader,\n",
    "    CacheDataset,\n",
    "    load_decathlon_datalist,\n",
    "    decollate_batch,\n",
    "    set_track_meta,\n",
    ")\n",
    "\n",
    "import logging\n",
    "logging.disable(logging.WARNING)\n",
    "\n",
    "\n",
    "import torch\n",
    "\n",
    "print_config()"
   ]
  },
  {
   "cell_type": "code",
   "execution_count": 3,
   "id": "425a863a",
   "metadata": {},
   "outputs": [
    {
     "name": "stdout",
     "output_type": "stream",
     "text": [
      "/tmp/tmpvpa19wkg\n"
     ]
    }
   ],
   "source": [
    "directory = os.environ.get(\"MONAI_DATA_DIRECTORY\")\n",
    "root_dir = tempfile.mkdtemp() if directory is None else directory\n",
    "print(root_dir)"
   ]
  },
  {
   "cell_type": "code",
   "execution_count": 4,
   "id": "3167deed",
   "metadata": {},
   "outputs": [],
   "source": [
    "# num_samples = 4\n",
    "\n",
    "# os.environ[\"CUDA_DEVICE_ORDER\"] = \"PCI_BUS_ID\"\n",
    "# device = torch.device(\"cuda\" if torch.cuda.is_available() else \"cpu\")\n",
    "\n",
    "# train_transforms = Compose(\n",
    "#     [\n",
    "#         LoadImaged(keys=[\"image\", \"label\"], ensure_channel_first=True),\n",
    "#         ScaleIntensityRanged(\n",
    "#             keys=[\"image\"],\n",
    "#             a_min=-175,\n",
    "#             a_max=250,\n",
    "#             b_min=0.0,\n",
    "#             b_max=1.0,\n",
    "#             clip=True,\n",
    "#         ),\n",
    "#         CropForegroundd(keys=[\"image\", \"label\"], source_key=\"image\"),\n",
    "#         Orientationd(keys=[\"image\", \"label\"], axcodes=\"RAS\"),\n",
    "#         Spacingd(\n",
    "#             keys=[\"image\", \"label\"],\n",
    "#             pixdim=(1.5, 1.5, 2.0),\n",
    "#             mode=(\"bilinear\", \"nearest\"),\n",
    "#         ),\n",
    "#         EnsureTyped(keys=[\"image\", \"label\"], device=device, track_meta=False),\n",
    "#         RandCropByPosNegLabeld(\n",
    "#             keys=[\"image\", \"label\"],\n",
    "#             label_key=\"label\",\n",
    "#             spatial_size=(96, 96, 96),\n",
    "#             pos=1,\n",
    "#             neg=1,\n",
    "#             num_samples=num_samples,\n",
    "#             image_key=\"image\",\n",
    "#             image_threshold=0,\n",
    "#         ),\n",
    "#         RandFlipd(\n",
    "#             keys=[\"image\", \"label\"],\n",
    "#             spatial_axis=[0],\n",
    "#             prob=0.10,\n",
    "#         ),\n",
    "#         RandFlipd(\n",
    "#             keys=[\"image\", \"label\"],\n",
    "#             spatial_axis=[1],\n",
    "#             prob=0.10,\n",
    "#         ),\n",
    "#         RandFlipd(\n",
    "#             keys=[\"image\", \"label\"],\n",
    "#             spatial_axis=[2],\n",
    "#             prob=0.10,\n",
    "#         ),\n",
    "#         RandRotate90d(\n",
    "#             keys=[\"image\", \"label\"],\n",
    "#             prob=0.10,\n",
    "#             max_k=3,\n",
    "#         ),\n",
    "#         RandShiftIntensityd(\n",
    "#             keys=[\"image\"],\n",
    "#             offsets=0.10,\n",
    "#             prob=0.50,\n",
    "#         ),\n",
    "#     ]\n",
    "# )\n",
    "# val_transforms = Compose(\n",
    "#     [\n",
    "#         LoadImaged(keys=[\"image\", \"label\"], ensure_channel_first=True),\n",
    "#         ScaleIntensityRanged(keys=[\"image\"], a_min=-175, a_max=250, b_min=0.0, b_max=1.0, clip=True),\n",
    "#         CropForegroundd(keys=[\"image\", \"label\"], source_key=\"image\"),\n",
    "#         Orientationd(keys=[\"image\", \"label\"], axcodes=\"RAS\"),\n",
    "#         Spacingd(\n",
    "#             keys=[\"image\", \"label\"],\n",
    "#             pixdim=(1.5, 1.5, 2.0),\n",
    "#             mode=(\"bilinear\", \"nearest\"),\n",
    "#         ),\n",
    "#         EnsureTyped(keys=[\"image\", \"label\"], device=device, track_meta=True),\n",
    "#     ]\n",
    "# )\n",
    "train_transforms = Compose(\n",
    "    [\n",
    "        LoadImaged(keys=[\"image\", \"label\"]),\n",
    "        EnsureChannelFirstd(keys=[\"image\", \"label\"]),\n",
    "        Orientationd(keys=[\"image\", \"label\"], axcodes=\"RAS\"),\n",
    "        Spacingd(\n",
    "            keys=[\"image\", \"label\"],\n",
    "            pixdim=(1.5, 1.5, 2.0),\n",
    "            mode=(\"bilinear\", \"nearest\"),\n",
    "        ),\n",
    "        ScaleIntensityRanged(\n",
    "            keys=[\"image\"],\n",
    "            a_min=-175,\n",
    "            a_max=250,\n",
    "            b_min=0.0,\n",
    "            b_max=1.0,\n",
    "            clip=True,\n",
    "        ),\n",
    "        CropForegroundd(keys=[\"image\", \"label\"], source_key=\"image\"),\n",
    "        RandCropByPosNegLabeld(\n",
    "            keys=[\"image\", \"label\"],\n",
    "            label_key=\"label\",\n",
    "            spatial_size=(96, 96, 96),\n",
    "            pos=1,\n",
    "            neg=1,\n",
    "            num_samples=4,\n",
    "            image_key=\"image\",\n",
    "            image_threshold=0,\n",
    "        ),\n",
    "        RandFlipd(\n",
    "            keys=[\"image\", \"label\"],\n",
    "            spatial_axis=[0],\n",
    "            prob=0.10,\n",
    "        ),\n",
    "        RandFlipd(\n",
    "            keys=[\"image\", \"label\"],\n",
    "            spatial_axis=[1],\n",
    "            prob=0.10,\n",
    "        ),\n",
    "        RandFlipd(\n",
    "            keys=[\"image\", \"label\"],\n",
    "            spatial_axis=[2],\n",
    "            prob=0.10,\n",
    "        ),\n",
    "        RandRotate90d(\n",
    "            keys=[\"image\", \"label\"],\n",
    "            prob=0.10,\n",
    "            max_k=3,\n",
    "        ),\n",
    "        RandShiftIntensityd(\n",
    "            keys=[\"image\"],\n",
    "            offsets=0.10,\n",
    "            prob=0.50,\n",
    "        ),\n",
    "    ]\n",
    ")\n",
    "val_transforms = Compose(\n",
    "    [\n",
    "        LoadImaged(keys=[\"image\", \"label\"]),\n",
    "        EnsureChannelFirstd(keys=[\"image\", \"label\"]),\n",
    "        Orientationd(keys=[\"image\", \"label\"], axcodes=\"RAS\"),\n",
    "        Spacingd(\n",
    "            keys=[\"image\", \"label\"],\n",
    "            pixdim=(1.5, 1.5, 2.0),\n",
    "            mode=(\"bilinear\", \"nearest\"),\n",
    "        ),\n",
    "        ScaleIntensityRanged(keys=[\"image\"], a_min=-175, a_max=250, b_min=0.0, b_max=1.0, clip=True),\n",
    "        CropForegroundd(keys=[\"image\", \"label\"], source_key=\"image\"),\n",
    "    ]\n",
    ")"
   ]
  },
  {
   "cell_type": "code",
   "execution_count": 5,
   "id": "4eeee6fc",
   "metadata": {},
   "outputs": [
    {
     "name": "stderr",
     "output_type": "stream",
     "text": [
      "Loading dataset: 100%|██████████████████████████| 24/24 [00:17<00:00,  1.35it/s]\n",
      "Loading dataset: 100%|████████████████████████████| 6/6 [00:06<00:00,  1.14s/it]\n"
     ]
    }
   ],
   "source": [
    "split_json = \"dataset_0.json\"\n",
    "data_dir = \"/home/user/Documents/unetr/research-contributions/UNETR/BTCV/dataset/dataset0/\"\n",
    "\n",
    "datasets = data_dir + split_json\n",
    "datalist = load_decathlon_datalist(datasets, True, \"training\")\n",
    "val_files = load_decathlon_datalist(datasets, True, \"validation\")\n",
    "train_ds = CacheDataset(\n",
    "    data=datalist,\n",
    "    transform=train_transforms,\n",
    "    cache_num=24,\n",
    "    cache_rate=1.0,\n",
    "    num_workers=8,\n",
    ")\n",
    "train_loader = ThreadDataLoader(train_ds, num_workers=0, batch_size=1, shuffle=True)\n",
    "val_ds = CacheDataset(data=val_files, transform=val_transforms, cache_num=6, cache_rate=1.0, num_workers=4)\n",
    "val_loader = ThreadDataLoader(val_ds, num_workers=0, batch_size=1)\n",
    "\n",
    "# as explained in the \"Setup transforms\" section above, we want cached training images to not have metadata, and validations to have metadata\n",
    "# the EnsureTyped transforms allow us to make this distinction\n",
    "# on the other hand, set_track_meta is a global API; doing so here makes sure subsequent transforms (i.e., random transforms for training)\n",
    "# will be carried out as Tensors, not MetaTensors\n",
    "set_track_meta(False)"
   ]
  },
  {
   "cell_type": "code",
   "execution_count": 6,
   "id": "fb022c4c",
   "metadata": {},
   "outputs": [
    {
     "name": "stdout",
     "output_type": "stream",
     "text": [
      "image shape: torch.Size([1, 314, 214, 234]), label shape: torch.Size([1, 314, 214, 234])\n"
     ]
    },
    {
     "data": {
      "image/png": "[encoded data removed]",
      "text/plain": [
       "<Figure size 1800x600 with 2 Axes>"
      ]
     },
     "metadata": {},
     "output_type": "display_data"
    }
   ],
   "source": [
    "slice_map = {\n",
    "    \"img0035.nii.gz\": 170,\n",
    "    \"img0036.nii.gz\": 230,\n",
    "    \"img0037.nii.gz\": 204,\n",
    "    \"img0038.nii.gz\": 204,\n",
    "    \"img0039.nii.gz\": 204,\n",
    "    \"img0040.nii.gz\": 180,\n",
    "}\n",
    "case_num = 0\n",
    "img_name = os.path.split(val_ds[case_num][\"image\"].meta[\"filename_or_obj\"])[1]\n",
    "img = val_ds[case_num][\"image\"]\n",
    "label = val_ds[case_num][\"label\"]\n",
    "img_shape = img.shape\n",
    "label_shape = label.shape\n",
    "print(f\"image shape: {img_shape}, label shape: {label_shape}\")\n",
    "plt.figure(\"image\", (18, 6))\n",
    "plt.subplot(1, 2, 1)\n",
    "plt.title(\"image\")\n",
    "plt.imshow(img[0, :, :, slice_map[img_name]].detach().cpu(), cmap=\"gray\")\n",
    "plt.subplot(1, 2, 2)\n",
    "plt.title(\"label\")\n",
    "plt.imshow(label[0, :, :, slice_map[img_name]].detach().cpu())\n",
    "plt.show()"
   ]
  },
  {
   "cell_type": "code",
   "execution_count": 7,
   "id": "c4af3130",
   "metadata": {},
   "outputs": [],
   "source": [
    "os.environ[\"CUDA_DEVICE_ORDER\"] = \"PCI_BUS_ID\"\n",
    "device = torch.device(\"cuda\" if torch.cuda.is_available() else \"cpu\")\n",
    "\n",
    "model = SwinUNETR(\n",
    "    img_size=(96, 96, 96),\n",
    "    in_channels=1,\n",
    "    out_channels=8,\n",
    "    feature_size=48,\n",
    "    use_checkpoint=True,\n",
    ").to(device)"
   ]
  },
  {
   "cell_type": "code",
   "execution_count": null,
   "id": "b21f2364",
   "metadata": {},
   "outputs": [],
   "source": [
    "# uncomment to download the pre-trained weights\n",
    "# !wget https://github.com/Project-MONAI/MONAI-extra-test-data/releases/download/0.8.1/model_swinvit.pt"
   ]
  },
  {
   "cell_type": "code",
   "execution_count": 8,
   "id": "df400e60",
   "metadata": {},
   "outputs": [
    {
     "name": "stdout",
     "output_type": "stream",
     "text": [
      "Using pretrained self-supervied Swin UNETR backbone weights !\n"
     ]
    }
   ],
   "source": [
    "weight = torch.load(\"/home/user/Documents/swin_unetr/model_swinvit.pt\")\n",
    "model.load_from(weights=weight)\n",
    "print(\"Using pretrained self-supervied Swin UNETR backbone weights !\")"
   ]
  },
  {
   "cell_type": "code",
   "execution_count": 9,
   "id": "aa6312c7",
   "metadata": {},
   "outputs": [],
   "source": [
    "torch.backends.cudnn.benchmark = True\n",
    "loss_function = DiceCELoss(to_onehot_y=True, softmax=True)\n",
    "optimizer = torch.optim.AdamW(model.parameters(), lr=1e-4, weight_decay=1e-5)\n",
    "scaler = torch.cuda.amp.GradScaler()"
   ]
  },
  {
   "cell_type": "code",
   "execution_count": 10,
   "id": "929d57ea",
   "metadata": {},
   "outputs": [],
   "source": [
    "def validation(epoch_iterator_val):\n",
    "    model.eval()\n",
    "    with torch.no_grad():\n",
    "        for batch in epoch_iterator_val:\n",
    "            val_inputs, val_labels = (batch[\"image\"].cuda(), batch[\"label\"].cuda())\n",
    "            with torch.cuda.amp.autocast():\n",
    "                val_outputs = sliding_window_inference(val_inputs, (96, 96, 96), 4, model)\n",
    "            val_labels_list = decollate_batch(val_labels)\n",
    "            val_labels_convert = [post_label(val_label_tensor) for val_label_tensor in val_labels_list]\n",
    "            val_outputs_list = decollate_batch(val_outputs)\n",
    "            val_output_convert = [post_pred(val_pred_tensor) for val_pred_tensor in val_outputs_list]\n",
    "            dice_metric(y_pred=val_output_convert, y=val_labels_convert)\n",
    "            epoch_iterator_val.set_description(\"Validate (%d / %d Steps)\" % (global_step, 10.0))\n",
    "        mean_dice_val = dice_metric.aggregate().item()\n",
    "        dice_metric.reset()\n",
    "    return mean_dice_val\n",
    "\n",
    "def train(global_step, train_loader, dice_val_best, global_step_best):\n",
    "    model.train()\n",
    "    epoch_loss = 0\n",
    "    step = 0\n",
    "    epoch_iterator = tqdm(train_loader, desc=\"Training (X / X Steps) (loss=X.X)\", dynamic_ncols=True)\n",
    "    for step, batch in enumerate(epoch_iterator):\n",
    "        step += 1\n",
    "        x, y = (batch[\"image\"].cuda(), batch[\"label\"].cuda())\n",
    "        with torch.cuda.amp.autocast():\n",
    "            logit_map = model(x)\n",
    "            loss = loss_function(logit_map, y)\n",
    "        scaler.scale(loss).backward()\n",
    "        epoch_loss += loss.item()\n",
    "        scaler.unscale_(optimizer)\n",
    "        scaler.step(optimizer)\n",
    "        scaler.update()\n",
    "        optimizer.zero_grad()\n",
    "        epoch_iterator.set_description(f\"Training ({global_step} / {max_iterations} Steps) (loss={loss:2.5f})\")\n",
    "        if (global_step % eval_num == 0 and global_step != 0) or global_step == max_iterations:\n",
    "            epoch_iterator_val = tqdm(val_loader, desc=\"Validate (X / X Steps) (dice=X.X)\", dynamic_ncols=True)\n",
    "            dice_val = validation(epoch_iterator_val)\n",
    "            epoch_loss /= step\n",
    "            epoch_loss_values.append(epoch_loss)\n",
    "            metric_values.append(dice_val)\n",
    "            if dice_val > dice_val_best:\n",
    "                dice_val_best = dice_val\n",
    "                global_step_best = global_step\n",
    "                torch.save(model.state_dict(), os.path.join(root_dir, \"best_metric_model.pth\"))\n",
    "                print(\n",
    "                    \"Model Was Saved ! Current Best Avg. Dice: {} Current Avg. Dice: {}\".format(dice_val_best, dice_val)\n",
    "                )\n",
    "            else:\n",
    "                print(\n",
    "                    \"Model Was Not Saved ! Current Best Avg. Dice: {} Current Avg. Dice: {}\".format(\n",
    "                        dice_val_best, dice_val\n",
    "                    )\n",
    "                )\n",
    "        global_step += 1\n",
    "    return global_step, dice_val_best, global_step_best"
   ]
  },
  {
   "cell_type": "code",
   "execution_count": 11,
   "id": "2a9e4b2a",
   "metadata": {},
   "outputs": [
    {
     "name": "stderr",
     "output_type": "stream",
     "text": [
      "Training (23 / 25000 Steps) (loss=1.98429): 100%|██████████████████████████████████████████████████████████████████████████████████████████████████████████████████████████| 24/24 [00:23<00:00,  1.03it/s]\n",
      "Training (47 / 25000 Steps) (loss=1.84306): 100%|██████████████████████████████████████████████████████████████████████████████████████████████████████████████████████████| 24/24 [00:18<00:00,  1.29it/s]\n",
      "Training (71 / 25000 Steps) (loss=1.66534): 100%|██████████████████████████████████████████████████████████████████████████████████████████████████████████████████████████| 24/24 [00:18<00:00,  1.28it/s]\n",
      "Training (95 / 25000 Steps) (loss=1.51332): 100%|██████████████████████████████████████████████████████████████████████████████████████████████████████████████████████████| 24/24 [00:18<00:00,  1.28it/s]\n",
      "Training (119 / 25000 Steps) (loss=1.53186): 100%|█████████████████████████████████████████████████████████████████████████████████████████████████████████████████████████| 24/24 [00:18<00:00,  1.29it/s]\n",
      "Training (143 / 25000 Steps) (loss=1.41073): 100%|█████████████████████████████████████████████████████████████████████████████████████████████████████████████████████████| 24/24 [00:18<00:00,  1.29it/s]\n",
      "Training (167 / 25000 Steps) (loss=1.44558): 100%|█████████████████████████████████████████████████████████████████████████████████████████████████████████████████████████| 24/24 [00:18<00:00,  1.28it/s]\n",
      "Training (191 / 25000 Steps) (loss=1.36371): 100%|█████████████████████████████████████████████████████████████████████████████████████████████████████████████████████████| 24/24 [00:18<00:00,  1.29it/s]\n",
      "Training (215 / 25000 Steps) (loss=1.27854): 100%|█████████████████████████████████████████████████████████████████████████████████████████████████████████████████████████| 24/24 [00:18<00:00,  1.29it/s]\n",
      "Training (239 / 25000 Steps) (loss=1.44409): 100%|█████████████████████████████████████████████████████████████████████████████████████████████████████████████████████████| 24/24 [00:18<00:00,  1.29it/s]\n",
      "Training (263 / 25000 Steps) (loss=1.34492): 100%|█████████████████████████████████████████████████████████████████████████████████████████████████████████████████████████| 24/24 [00:18<00:00,  1.29it/s]\n",
      "Training (287 / 25000 Steps) (loss=1.34314): 100%|█████████████████████████████████████████████████████████████████████████████████████████████████████████████████████████| 24/24 [00:18<00:00,  1.28it/s]\n",
      "Training (311 / 25000 Steps) (loss=1.29400): 100%|█████████████████████████████████████████████████████████████████████████████████████████████████████████████████████████| 24/24 [00:18<00:00,  1.29it/s]\n",
      "Training (335 / 25000 Steps) (loss=1.40688): 100%|█████████████████████████████████████████████████████████████████████████████████████████████████████████████████████████| 24/24 [00:18<00:00,  1.28it/s]\n",
      "Training (359 / 25000 Steps) (loss=1.27454): 100%|█████████████████████████████████████████████████████████████████████████████████████████████████████████████████████████| 24/24 [00:18<00:00,  1.29it/s]\n",
      "Training (383 / 25000 Steps) (loss=1.22326): 100%|█████████████████████████████████████████████████████████████████████████████████████████████████████████████████████████| 24/24 [00:18<00:00,  1.29it/s]\n",
      "Training (407 / 25000 Steps) (loss=1.17029): 100%|█████████████████████████████████████████████████████████████████████████████████████████████████████████████████████████| 24/24 [00:18<00:00,  1.29it/s]\n",
      "Training (431 / 25000 Steps) (loss=1.12283): 100%|█████████████████████████████████████████████████████████████████████████████████████████████████████████████████████████| 24/24 [00:18<00:00,  1.29it/s]\n",
      "Training (455 / 25000 Steps) (loss=1.19642): 100%|█████████████████████████████████████████████████████████████████████████████████████████████████████████████████████████| 24/24 [00:18<00:00,  1.29it/s]\n",
      "Training (479 / 25000 Steps) (loss=1.33479): 100%|█████████████████████████████████████████████████████████████████████████████████████████████████████████████████████████| 24/24 [00:18<00:00,  1.29it/s]\n",
      "Training (500 / 25000 Steps) (loss=1.29340):  83%|████████████████████████████████████████████████████████████████████████████████████████████████████▊                    | 20/24 [00:16<00:03,  1.29it/s]\n",
      "Validate (X / X Steps) (dice=X.X):   0%|                                                                                                                                             | 0/6 [00:00<?, ?it/s]\u001b[ANone of the inputs have requires_grad=True. Gradients will be None\n",
      "\n",
      "Validate (480 / 10 Steps):   0%|                                                                                                                                                     | 0/6 [00:02<?, ?it/s]\u001b[A\n",
      "Validate (480 / 10 Steps):  17%|███████████████████████▌                                                                                                                     | 1/6 [00:02<00:14,  2.87s/it]\u001b[A\n",
      "Validate (480 / 10 Steps):  17%|███████████████████████▌                                                                                                                     | 1/6 [00:05<00:14,  2.87s/it]\u001b[A\n",
      "Validate (480 / 10 Steps):  33%|███████████████████████████████████████████████                                                                                              | 2/6 [00:05<00:10,  2.74s/it]\u001b[A\n",
      "Validate (480 / 10 Steps):  33%|███████████████████████████████████████████████                                                                                              | 2/6 [00:07<00:10,  2.74s/it]\u001b[A\n",
      "Validate (480 / 10 Steps):  50%|██████████████████████████████████████████████████████████████████████▌                                                                      | 3/6 [00:07<00:07,  2.40s/it]\u001b[A\n",
      "Validate (480 / 10 Steps):  50%|██████████████████████████████████████████████████████████████████████▌                                                                      | 3/6 [00:11<00:07,  2.40s/it]\u001b[A\n",
      "Validate (480 / 10 Steps):  67%|██████████████████████████████████████████████████████████████████████████████████████████████                                               | 4/6 [00:11<00:06,  3.17s/it]\u001b[A\n",
      "Validate (480 / 10 Steps):  67%|██████████████████████████████████████████████████████████████████████████████████████████████                                               | 4/6 [00:14<00:06,  3.17s/it]\u001b[A\n",
      "Validate (480 / 10 Steps):  83%|█████████████████████████████████████████████████████████████████████████████████████████████████████████████████████▌                       | 5/6 [00:14<00:02,  2.93s/it]\u001b[A\n",
      "Validate (480 / 10 Steps):  83%|█████████████████████████████████████████████████████████████████████████████████████████████████████████████████████▌                       | 5/6 [00:17<00:02,  2.93s/it]\u001b[A\n",
      "Validate (480 / 10 Steps): 100%|█████████████████████████████████████████████████████████████████████████████████████████████████████████████████████████████████████████████| 6/6 [00:17<00:00,  2.83s/it]\u001b[A\n",
      "Training (500 / 25000 Steps) (loss=1.29340):  88%|█████████████████████████████████████████████████████████████████████████████████████████████████████████▉               | 21/24 [00:33<00:17,  5.94s/it]"
     ]
    },
    {
     "name": "stdout",
     "output_type": "stream",
     "text": [
      "Model Was Saved ! Current Best Avg. Dice: 0.24406559765338898 Current Avg. Dice: 0.24406559765338898\n"
     ]
    },
    {
     "name": "stderr",
     "output_type": "stream",
     "text": [
      "Training (503 / 25000 Steps) (loss=1.07446): 100%|█████████████████████████████████████████████████████████████████████████████████████████████████████████████████████████| 24/24 [00:35<00:00,  1.50s/it]\n",
      "Training (527 / 25000 Steps) (loss=1.15335): 100%|█████████████████████████████████████████████████████████████████████████████████████████████████████████████████████████| 24/24 [00:18<00:00,  1.29it/s]\n",
      "Training (551 / 25000 Steps) (loss=1.05963): 100%|█████████████████████████████████████████████████████████████████████████████████████████████████████████████████████████| 24/24 [00:18<00:00,  1.29it/s]\n",
      "Training (575 / 25000 Steps) (loss=1.19245): 100%|█████████████████████████████████████████████████████████████████████████████████████████████████████████████████████████| 24/24 [00:18<00:00,  1.29it/s]\n",
      "Training (599 / 25000 Steps) (loss=1.22441): 100%|█████████████████████████████████████████████████████████████████████████████████████████████████████████████████████████| 24/24 [00:18<00:00,  1.29it/s]\n",
      "Training (623 / 25000 Steps) (loss=1.09991): 100%|█████████████████████████████████████████████████████████████████████████████████████████████████████████████████████████| 24/24 [00:18<00:00,  1.28it/s]\n",
      "Training (647 / 25000 Steps) (loss=1.03481): 100%|█████████████████████████████████████████████████████████████████████████████████████████████████████████████████████████| 24/24 [00:18<00:00,  1.29it/s]\n",
      "Training (671 / 25000 Steps) (loss=1.04373): 100%|█████████████████████████████████████████████████████████████████████████████████████████████████████████████████████████| 24/24 [00:18<00:00,  1.29it/s]\n",
      "Training (695 / 25000 Steps) (loss=1.02732): 100%|█████████████████████████████████████████████████████████████████████████████████████████████████████████████████████████| 24/24 [00:18<00:00,  1.29it/s]\n",
      "Training (719 / 25000 Steps) (loss=1.05681): 100%|█████████████████████████████████████████████████████████████████████████████████████████████████████████████████████████| 24/24 [00:18<00:00,  1.29it/s]\n",
      "Training (743 / 25000 Steps) (loss=1.07504): 100%|█████████████████████████████████████████████████████████████████████████████████████████████████████████████████████████| 24/24 [00:18<00:00,  1.29it/s]\n",
      "Training (767 / 25000 Steps) (loss=1.04985): 100%|█████████████████████████████████████████████████████████████████████████████████████████████████████████████████████████| 24/24 [00:18<00:00,  1.29it/s]\n",
      "Training (791 / 25000 Steps) (loss=1.02882): 100%|█████████████████████████████████████████████████████████████████████████████████████████████████████████████████████████| 24/24 [00:18<00:00,  1.29it/s]\n",
      "Training (815 / 25000 Steps) (loss=0.97467): 100%|█████████████████████████████████████████████████████████████████████████████████████████████████████████████████████████| 24/24 [00:18<00:00,  1.29it/s]\n",
      "Training (839 / 25000 Steps) (loss=0.91212): 100%|█████████████████████████████████████████████████████████████████████████████████████████████████████████████████████████| 24/24 [00:18<00:00,  1.29it/s]\n",
      "Training (863 / 25000 Steps) (loss=1.01032): 100%|█████████████████████████████████████████████████████████████████████████████████████████████████████████████████████████| 24/24 [00:18<00:00,  1.29it/s]\n",
      "Training (887 / 25000 Steps) (loss=1.03094): 100%|█████████████████████████████████████████████████████████████████████████████████████████████████████████████████████████| 24/24 [00:18<00:00,  1.29it/s]\n",
      "Training (911 / 25000 Steps) (loss=1.08985): 100%|█████████████████████████████████████████████████████████████████████████████████████████████████████████████████████████| 24/24 [00:18<00:00,  1.29it/s]\n",
      "Training (935 / 25000 Steps) (loss=0.95679): 100%|█████████████████████████████████████████████████████████████████████████████████████████████████████████████████████████| 24/24 [00:18<00:00,  1.28it/s]\n",
      "Training (959 / 25000 Steps) (loss=0.94138): 100%|█████████████████████████████████████████████████████████████████████████████████████████████████████████████████████████| 24/24 [00:18<00:00,  1.29it/s]\n",
      "Training (983 / 25000 Steps) (loss=1.06479): 100%|█████████████████████████████████████████████████████████████████████████████████████████████████████████████████████████| 24/24 [00:18<00:00,  1.29it/s]\n",
      "Training (1000 / 25000 Steps) (loss=1.03494):  67%|████████████████████████████████████████████████████████████████████████████████                                        | 16/24 [00:13<00:06,  1.29it/s]\n",
      "Validate (X / X Steps) (dice=X.X):   0%|                                                                                                                                             | 0/6 [00:00<?, ?it/s]\u001b[A\n",
      "Validate (984 / 10 Steps):   0%|                                                                                                                                                     | 0/6 [00:02<?, ?it/s]\u001b[A\n",
      "Validate (984 / 10 Steps):  17%|███████████████████████▌                                                                                                                     | 1/6 [00:02<00:12,  2.52s/it]\u001b[A\n",
      "Validate (984 / 10 Steps):  17%|███████████████████████▌                                                                                                                     | 1/6 [00:05<00:12,  2.52s/it]\u001b[A\n",
      "Validate (984 / 10 Steps):  33%|███████████████████████████████████████████████                                                                                              | 2/6 [00:05<00:10,  2.59s/it]\u001b[A\n",
      "Validate (984 / 10 Steps):  33%|███████████████████████████████████████████████                                                                                              | 2/6 [00:07<00:10,  2.59s/it]\u001b[A\n",
      "Validate (984 / 10 Steps):  50%|██████████████████████████████████████████████████████████████████████▌                                                                      | 3/6 [00:07<00:06,  2.32s/it]\u001b[A\n",
      "Validate (984 / 10 Steps):  50%|██████████████████████████████████████████████████████████████████████▌                                                                      | 3/6 [00:11<00:06,  2.32s/it]\u001b[A\n",
      "Validate (984 / 10 Steps):  67%|██████████████████████████████████████████████████████████████████████████████████████████████                                               | 4/6 [00:11<00:06,  3.13s/it]\u001b[A\n",
      "Validate (984 / 10 Steps):  67%|██████████████████████████████████████████████████████████████████████████████████████████████                                               | 4/6 [00:14<00:06,  3.13s/it]\u001b[A\n",
      "Validate (984 / 10 Steps):  83%|█████████████████████████████████████████████████████████████████████████████████████████████████████████████████████▌                       | 5/6 [00:14<00:02,  2.90s/it]\u001b[A\n",
      "Validate (984 / 10 Steps):  83%|█████████████████████████████████████████████████████████████████████████████████████████████████████████████████████▌                       | 5/6 [00:16<00:02,  2.90s/it]\u001b[A\n",
      "Validate (984 / 10 Steps): 100%|█████████████████████████████████████████████████████████████████████████████████████████████████████████████████████████████████████████████| 6/6 [00:16<00:00,  2.78s/it]\u001b[A\n",
      "Training (1000 / 25000 Steps) (loss=1.03494):  71%|█████████████████████████████████████████████████████████████████████████████████████                                   | 17/24 [00:30<00:41,  5.86s/it]"
     ]
    },
    {
     "name": "stdout",
     "output_type": "stream",
     "text": [
      "Model Was Saved ! Current Best Avg. Dice: 0.5685513615608215 Current Avg. Dice: 0.5685513615608215\n"
     ]
    },
    {
     "name": "stderr",
     "output_type": "stream",
     "text": [
      "Training (1007 / 25000 Steps) (loss=1.06145): 100%|████████████████████████████████████████████████████████████████████████████████████████████████████████████████████████| 24/24 [00:35<00:00,  1.48s/it]\n",
      "Training (1031 / 25000 Steps) (loss=0.87639): 100%|████████████████████████████████████████████████████████████████████████████████████████████████████████████████████████| 24/24 [00:18<00:00,  1.29it/s]\n",
      "Training (1055 / 25000 Steps) (loss=0.95789): 100%|████████████████████████████████████████████████████████████████████████████████████████████████████████████████████████| 24/24 [00:18<00:00,  1.29it/s]\n",
      "Training (1079 / 25000 Steps) (loss=0.93692): 100%|████████████████████████████████████████████████████████████████████████████████████████████████████████████████████████| 24/24 [00:18<00:00,  1.29it/s]\n",
      "Training (1103 / 25000 Steps) (loss=0.96235): 100%|████████████████████████████████████████████████████████████████████████████████████████████████████████████████████████| 24/24 [00:18<00:00,  1.29it/s]\n",
      "Training (1127 / 25000 Steps) (loss=0.84863): 100%|████████████████████████████████████████████████████████████████████████████████████████████████████████████████████████| 24/24 [00:18<00:00,  1.28it/s]\n",
      "Training (1151 / 25000 Steps) (loss=0.81356): 100%|████████████████████████████████████████████████████████████████████████████████████████████████████████████████████████| 24/24 [00:18<00:00,  1.29it/s]\n",
      "Training (1175 / 25000 Steps) (loss=0.90132): 100%|████████████████████████████████████████████████████████████████████████████████████████████████████████████████████████| 24/24 [00:18<00:00,  1.29it/s]\n",
      "Training (1199 / 25000 Steps) (loss=0.94631): 100%|████████████████████████████████████████████████████████████████████████████████████████████████████████████████████████| 24/24 [00:18<00:00,  1.28it/s]\n",
      "Training (1223 / 25000 Steps) (loss=0.96526): 100%|████████████████████████████████████████████████████████████████████████████████████████████████████████████████████████| 24/24 [00:18<00:00,  1.29it/s]\n",
      "Training (1247 / 25000 Steps) (loss=0.89859): 100%|████████████████████████████████████████████████████████████████████████████████████████████████████████████████████████| 24/24 [00:18<00:00,  1.30it/s]\n",
      "Training (1271 / 25000 Steps) (loss=0.89177): 100%|████████████████████████████████████████████████████████████████████████████████████████████████████████████████████████| 24/24 [00:18<00:00,  1.29it/s]\n",
      "Training (1295 / 25000 Steps) (loss=0.94737): 100%|████████████████████████████████████████████████████████████████████████████████████████████████████████████████████████| 24/24 [00:18<00:00,  1.30it/s]\n",
      "Training (1319 / 25000 Steps) (loss=0.86707): 100%|████████████████████████████████████████████████████████████████████████████████████████████████████████████████████████| 24/24 [00:18<00:00,  1.30it/s]\n",
      "Training (1343 / 25000 Steps) (loss=0.84628): 100%|████████████████████████████████████████████████████████████████████████████████████████████████████████████████████████| 24/24 [00:18<00:00,  1.29it/s]\n",
      "Training (1367 / 25000 Steps) (loss=0.85345): 100%|████████████████████████████████████████████████████████████████████████████████████████████████████████████████████████| 24/24 [00:18<00:00,  1.30it/s]\n",
      "Training (1391 / 25000 Steps) (loss=0.79339): 100%|████████████████████████████████████████████████████████████████████████████████████████████████████████████████████████| 24/24 [00:18<00:00,  1.29it/s]\n",
      "Training (1415 / 25000 Steps) (loss=1.37886): 100%|████████████████████████████████████████████████████████████████████████████████████████████████████████████████████████| 24/24 [00:18<00:00,  1.29it/s]\n",
      "Training (1439 / 25000 Steps) (loss=0.82033): 100%|████████████████████████████████████████████████████████████████████████████████████████████████████████████████████████| 24/24 [00:18<00:00,  1.30it/s]\n",
      "Training (1463 / 25000 Steps) (loss=0.93141): 100%|████████████████████████████████████████████████████████████████████████████████████████████████████████████████████████| 24/24 [00:18<00:00,  1.30it/s]\n",
      "Training (1487 / 25000 Steps) (loss=0.69827): 100%|████████████████████████████████████████████████████████████████████████████████████████████████████████████████████████| 24/24 [00:18<00:00,  1.29it/s]\n",
      "Training (1500 / 25000 Steps) (loss=0.84511):  50%|████████████████████████████████████████████████████████████                                                            | 12/24 [00:10<00:09,  1.30it/s]\n",
      "Validate (X / X Steps) (dice=X.X):   0%|                                                                                                                                             | 0/6 [00:00<?, ?it/s]\u001b[A\n",
      "Validate (1488 / 10 Steps):   0%|                                                                                                                                                    | 0/6 [00:02<?, ?it/s]\u001b[A\n",
      "Validate (1488 / 10 Steps):  17%|███████████████████████▎                                                                                                                    | 1/6 [00:02<00:12,  2.50s/it]\u001b[A\n",
      "Validate (1488 / 10 Steps):  17%|███████████████████████▎                                                                                                                    | 1/6 [00:05<00:12,  2.50s/it]\u001b[A\n",
      "Validate (1488 / 10 Steps):  33%|██████████████████████████████████████████████▋                                                                                             | 2/6 [00:05<00:10,  2.57s/it]\u001b[A\n",
      "Validate (1488 / 10 Steps):  33%|██████████████████████████████████████████████▋                                                                                             | 2/6 [00:07<00:10,  2.57s/it]\u001b[A\n",
      "Validate (1488 / 10 Steps):  50%|██████████████████████████████████████████████████████████████████████                                                                      | 3/6 [00:07<00:06,  2.29s/it]\u001b[A\n",
      "Validate (1488 / 10 Steps):  50%|██████████████████████████████████████████████████████████████████████                                                                      | 3/6 [00:11<00:06,  2.29s/it]\u001b[A\n",
      "Validate (1488 / 10 Steps):  67%|█████████████████████████████████████████████████████████████████████████████████████████████▎                                              | 4/6 [00:11<00:06,  3.10s/it]\u001b[A\n",
      "Validate (1488 / 10 Steps):  67%|█████████████████████████████████████████████████████████████████████████████████████████████▎                                              | 4/6 [00:13<00:06,  3.10s/it]\u001b[A\n",
      "Validate (1488 / 10 Steps):  83%|████████████████████████████████████████████████████████████████████████████████████████████████████████████████████▋                       | 5/6 [00:13<00:02,  2.87s/it]\u001b[A\n",
      "Validate (1488 / 10 Steps):  83%|████████████████████████████████████████████████████████████████████████████████████████████████████████████████████▋                       | 5/6 [00:16<00:02,  2.87s/it]\u001b[A\n",
      "Validate (1488 / 10 Steps): 100%|████████████████████████████████████████████████████████████████████████████████████████████████████████████████████████████████████████████| 6/6 [00:16<00:00,  2.74s/it]\u001b[A\n",
      "Training (1500 / 25000 Steps) (loss=0.84511):  54%|█████████████████████████████████████████████████████████████████                                                       | 13/24 [00:26<01:04,  5.84s/it]"
     ]
    },
    {
     "name": "stdout",
     "output_type": "stream",
     "text": [
      "Model Was Saved ! Current Best Avg. Dice: 0.7380895614624023 Current Avg. Dice: 0.7380895614624023\n"
     ]
    },
    {
     "name": "stderr",
     "output_type": "stream",
     "text": [
      "Training (1511 / 25000 Steps) (loss=0.85158): 100%|████████████████████████████████████████████████████████████████████████████████████████████████████████████████████████| 24/24 [00:35<00:00,  1.47s/it]\n",
      "Training (1535 / 25000 Steps) (loss=0.95455): 100%|████████████████████████████████████████████████████████████████████████████████████████████████████████████████████████| 24/24 [00:18<00:00,  1.29it/s]\n",
      "Training (1559 / 25000 Steps) (loss=1.12555): 100%|████████████████████████████████████████████████████████████████████████████████████████████████████████████████████████| 24/24 [00:18<00:00,  1.29it/s]\n",
      "Training (1583 / 25000 Steps) (loss=0.83927): 100%|████████████████████████████████████████████████████████████████████████████████████████████████████████████████████████| 24/24 [00:18<00:00,  1.29it/s]\n",
      "Training (1607 / 25000 Steps) (loss=0.78613): 100%|████████████████████████████████████████████████████████████████████████████████████████████████████████████████████████| 24/24 [00:18<00:00,  1.28it/s]\n",
      "Training (1631 / 25000 Steps) (loss=0.86555): 100%|████████████████████████████████████████████████████████████████████████████████████████████████████████████████████████| 24/24 [00:18<00:00,  1.28it/s]\n",
      "Training (1655 / 25000 Steps) (loss=0.85881): 100%|████████████████████████████████████████████████████████████████████████████████████████████████████████████████████████| 24/24 [00:18<00:00,  1.28it/s]\n",
      "Training (1679 / 25000 Steps) (loss=0.76500): 100%|████████████████████████████████████████████████████████████████████████████████████████████████████████████████████████| 24/24 [00:18<00:00,  1.28it/s]\n",
      "Training (1703 / 25000 Steps) (loss=0.78284): 100%|████████████████████████████████████████████████████████████████████████████████████████████████████████████████████████| 24/24 [00:18<00:00,  1.29it/s]\n",
      "Training (1727 / 25000 Steps) (loss=0.82776): 100%|████████████████████████████████████████████████████████████████████████████████████████████████████████████████████████| 24/24 [00:18<00:00,  1.28it/s]\n",
      "Training (1751 / 25000 Steps) (loss=0.85071): 100%|████████████████████████████████████████████████████████████████████████████████████████████████████████████████████████| 24/24 [00:18<00:00,  1.28it/s]\n",
      "Training (1775 / 25000 Steps) (loss=0.71139): 100%|████████████████████████████████████████████████████████████████████████████████████████████████████████████████████████| 24/24 [00:18<00:00,  1.29it/s]\n",
      "Training (1799 / 25000 Steps) (loss=0.87299): 100%|████████████████████████████████████████████████████████████████████████████████████████████████████████████████████████| 24/24 [00:18<00:00,  1.29it/s]\n",
      "Training (1823 / 25000 Steps) (loss=0.95494): 100%|████████████████████████████████████████████████████████████████████████████████████████████████████████████████████████| 24/24 [00:18<00:00,  1.29it/s]\n",
      "Training (1847 / 25000 Steps) (loss=0.77303): 100%|████████████████████████████████████████████████████████████████████████████████████████████████████████████████████████| 24/24 [00:18<00:00,  1.29it/s]\n",
      "Training (1871 / 25000 Steps) (loss=0.68649): 100%|████████████████████████████████████████████████████████████████████████████████████████████████████████████████████████| 24/24 [00:18<00:00,  1.29it/s]\n",
      "Training (1895 / 25000 Steps) (loss=0.71407): 100%|████████████████████████████████████████████████████████████████████████████████████████████████████████████████████████| 24/24 [00:18<00:00,  1.29it/s]\n",
      "Training (1919 / 25000 Steps) (loss=0.67064): 100%|████████████████████████████████████████████████████████████████████████████████████████████████████████████████████████| 24/24 [00:18<00:00,  1.29it/s]\n",
      "Training (1943 / 25000 Steps) (loss=0.87393): 100%|████████████████████████████████████████████████████████████████████████████████████████████████████████████████████████| 24/24 [00:18<00:00,  1.29it/s]\n",
      "Training (1967 / 25000 Steps) (loss=0.80838): 100%|████████████████████████████████████████████████████████████████████████████████████████████████████████████████████████| 24/24 [00:18<00:00,  1.29it/s]\n",
      "Training (1991 / 25000 Steps) (loss=0.75173): 100%|████████████████████████████████████████████████████████████████████████████████████████████████████████████████████████| 24/24 [00:18<00:00,  1.28it/s]\n",
      "Training (2000 / 25000 Steps) (loss=0.77211):  33%|████████████████████████████████████████▎                                                                                | 8/24 [00:07<00:12,  1.29it/s]\n",
      "Validate (X / X Steps) (dice=X.X):   0%|                                                                                                                                             | 0/6 [00:00<?, ?it/s]\u001b[A\n",
      "Validate (1992 / 10 Steps):   0%|                                                                                                                                                    | 0/6 [00:02<?, ?it/s]\u001b[A\n",
      "Validate (1992 / 10 Steps):  17%|███████████████████████▎                                                                                                                    | 1/6 [00:02<00:12,  2.54s/it]\u001b[A\n",
      "Validate (1992 / 10 Steps):  17%|███████████████████████▎                                                                                                                    | 1/6 [00:05<00:12,  2.54s/it]\u001b[A\n",
      "Validate (1992 / 10 Steps):  33%|██████████████████████████████████████████████▋                                                                                             | 2/6 [00:05<00:10,  2.62s/it]\u001b[A\n",
      "Validate (1992 / 10 Steps):  33%|██████████████████████████████████████████████▋                                                                                             | 2/6 [00:07<00:10,  2.62s/it]\u001b[A\n",
      "Validate (1992 / 10 Steps):  50%|██████████████████████████████████████████████████████████████████████                                                                      | 3/6 [00:07<00:07,  2.34s/it]\u001b[A\n",
      "Validate (1992 / 10 Steps):  50%|██████████████████████████████████████████████████████████████████████                                                                      | 3/6 [00:11<00:07,  2.34s/it]\u001b[A\n",
      "Validate (1992 / 10 Steps):  67%|█████████████████████████████████████████████████████████████████████████████████████████████▎                                              | 4/6 [00:11<00:06,  3.15s/it]\u001b[A\n",
      "Validate (1992 / 10 Steps):  67%|█████████████████████████████████████████████████████████████████████████████████████████████▎                                              | 4/6 [00:14<00:06,  3.15s/it]\u001b[A\n",
      "Validate (1992 / 10 Steps):  83%|████████████████████████████████████████████████████████████████████████████████████████████████████████████████████▋                       | 5/6 [00:14<00:02,  2.91s/it]\u001b[A\n",
      "Validate (1992 / 10 Steps):  83%|████████████████████████████████████████████████████████████████████████████████████████████████████████████████████▋                       | 5/6 [00:16<00:02,  2.91s/it]\u001b[A\n",
      "Validate (1992 / 10 Steps): 100%|████████████████████████████████████████████████████████████████████████████████████████████████████████████████████████████████████████████| 6/6 [00:16<00:00,  2.79s/it]\u001b[A\n",
      "Training (2000 / 25000 Steps) (loss=0.77211):  38%|█████████████████████████████████████████████▍                                                                           | 9/24 [00:24<01:31,  6.09s/it]"
     ]
    },
    {
     "name": "stdout",
     "output_type": "stream",
     "text": [
      "Model Was Saved ! Current Best Avg. Dice: 0.8187296986579895 Current Avg. Dice: 0.8187296986579895\n"
     ]
    },
    {
     "name": "stderr",
     "output_type": "stream",
     "text": [
      "Training (2015 / 25000 Steps) (loss=0.87732): 100%|████████████████████████████████████████████████████████████████████████████████████████████████████████████████████████| 24/24 [00:35<00:00,  1.49s/it]\n",
      "Training (2039 / 25000 Steps) (loss=0.77808): 100%|████████████████████████████████████████████████████████████████████████████████████████████████████████████████████████| 24/24 [00:18<00:00,  1.29it/s]\n",
      "Training (2063 / 25000 Steps) (loss=0.77943): 100%|████████████████████████████████████████████████████████████████████████████████████████████████████████████████████████| 24/24 [00:18<00:00,  1.29it/s]\n",
      "Training (2087 / 25000 Steps) (loss=0.90534): 100%|████████████████████████████████████████████████████████████████████████████████████████████████████████████████████████| 24/24 [00:18<00:00,  1.29it/s]\n",
      "Training (2111 / 25000 Steps) (loss=0.85987): 100%|████████████████████████████████████████████████████████████████████████████████████████████████████████████████████████| 24/24 [00:18<00:00,  1.28it/s]\n",
      "Training (2135 / 25000 Steps) (loss=0.71694): 100%|████████████████████████████████████████████████████████████████████████████████████████████████████████████████████████| 24/24 [00:18<00:00,  1.29it/s]\n",
      "Training (2159 / 25000 Steps) (loss=0.86189): 100%|████████████████████████████████████████████████████████████████████████████████████████████████████████████████████████| 24/24 [00:18<00:00,  1.29it/s]\n",
      "Training (2183 / 25000 Steps) (loss=0.70504): 100%|████████████████████████████████████████████████████████████████████████████████████████████████████████████████████████| 24/24 [00:18<00:00,  1.29it/s]\n",
      "Training (2207 / 25000 Steps) (loss=0.69480): 100%|████████████████████████████████████████████████████████████████████████████████████████████████████████████████████████| 24/24 [00:18<00:00,  1.29it/s]\n",
      "Training (2231 / 25000 Steps) (loss=0.85542): 100%|████████████████████████████████████████████████████████████████████████████████████████████████████████████████████████| 24/24 [00:18<00:00,  1.29it/s]\n",
      "Training (2255 / 25000 Steps) (loss=0.73278): 100%|████████████████████████████████████████████████████████████████████████████████████████████████████████████████████████| 24/24 [00:18<00:00,  1.29it/s]\n",
      "Training (2279 / 25000 Steps) (loss=1.09773): 100%|████████████████████████████████████████████████████████████████████████████████████████████████████████████████████████| 24/24 [00:18<00:00,  1.29it/s]\n",
      "Training (2303 / 25000 Steps) (loss=0.69528): 100%|████████████████████████████████████████████████████████████████████████████████████████████████████████████████████████| 24/24 [00:18<00:00,  1.29it/s]\n",
      "Training (2327 / 25000 Steps) (loss=0.55919): 100%|████████████████████████████████████████████████████████████████████████████████████████████████████████████████████████| 24/24 [00:18<00:00,  1.29it/s]\n",
      "Training (2351 / 25000 Steps) (loss=0.65293): 100%|████████████████████████████████████████████████████████████████████████████████████████████████████████████████████████| 24/24 [00:18<00:00,  1.29it/s]\n",
      "Training (2375 / 25000 Steps) (loss=0.76479): 100%|████████████████████████████████████████████████████████████████████████████████████████████████████████████████████████| 24/24 [00:18<00:00,  1.29it/s]\n",
      "Training (2399 / 25000 Steps) (loss=0.69892): 100%|████████████████████████████████████████████████████████████████████████████████████████████████████████████████████████| 24/24 [00:18<00:00,  1.29it/s]\n",
      "Training (2423 / 25000 Steps) (loss=0.64220): 100%|████████████████████████████████████████████████████████████████████████████████████████████████████████████████████████| 24/24 [00:18<00:00,  1.29it/s]\n",
      "Training (2447 / 25000 Steps) (loss=0.67804): 100%|████████████████████████████████████████████████████████████████████████████████████████████████████████████████████████| 24/24 [00:18<00:00,  1.29it/s]\n",
      "Training (2471 / 25000 Steps) (loss=0.72121): 100%|████████████████████████████████████████████████████████████████████████████████████████████████████████████████████████| 24/24 [00:18<00:00,  1.29it/s]\n",
      "Training (2495 / 25000 Steps) (loss=1.54472): 100%|████████████████████████████████████████████████████████████████████████████████████████████████████████████████████████| 24/24 [00:18<00:00,  1.29it/s]\n",
      "Training (2500 / 25000 Steps) (loss=0.70023):  17%|████████████████████▏                                                                                                    | 4/24 [00:03<00:15,  1.28it/s]\n",
      "Validate (X / X Steps) (dice=X.X):   0%|                                                                                                                                             | 0/6 [00:00<?, ?it/s]\u001b[A\n",
      "Validate (2496 / 10 Steps):   0%|                                                                                                                                                    | 0/6 [00:02<?, ?it/s]\u001b[A\n",
      "Validate (2496 / 10 Steps):  17%|███████████████████████▎                                                                                                                    | 1/6 [00:02<00:12,  2.53s/it]\u001b[A\n",
      "Validate (2496 / 10 Steps):  17%|███████████████████████▎                                                                                                                    | 1/6 [00:05<00:12,  2.53s/it]\u001b[A\n",
      "Validate (2496 / 10 Steps):  33%|██████████████████████████████████████████████▋                                                                                             | 2/6 [00:05<00:10,  2.60s/it]\u001b[A\n",
      "Validate (2496 / 10 Steps):  33%|██████████████████████████████████████████████▋                                                                                             | 2/6 [00:07<00:10,  2.60s/it]\u001b[A\n",
      "Validate (2496 / 10 Steps):  50%|██████████████████████████████████████████████████████████████████████                                                                      | 3/6 [00:07<00:06,  2.33s/it]\u001b[A\n",
      "Validate (2496 / 10 Steps):  50%|██████████████████████████████████████████████████████████████████████                                                                      | 3/6 [00:11<00:06,  2.33s/it]\u001b[A\n",
      "Validate (2496 / 10 Steps):  67%|█████████████████████████████████████████████████████████████████████████████████████████████▎                                              | 4/6 [00:11<00:06,  3.14s/it]\u001b[A\n",
      "Validate (2496 / 10 Steps):  67%|█████████████████████████████████████████████████████████████████████████████████████████████▎                                              | 4/6 [00:14<00:06,  3.14s/it]\u001b[A\n",
      "Validate (2496 / 10 Steps):  83%|████████████████████████████████████████████████████████████████████████████████████████████████████████████████████▋                       | 5/6 [00:14<00:02,  2.91s/it]\u001b[A\n",
      "Validate (2496 / 10 Steps):  83%|████████████████████████████████████████████████████████████████████████████████████████████████████████████████████▋                       | 5/6 [00:16<00:02,  2.91s/it]\u001b[A\n",
      "Validate (2496 / 10 Steps): 100%|████████████████████████████████████████████████████████████████████████████████████████████████████████████████████████████████████████████| 6/6 [00:16<00:00,  2.79s/it]\u001b[A\n",
      "Training (2500 / 25000 Steps) (loss=0.70023):  21%|█████████████████████████▏                                                                                               | 5/24 [00:20<02:11,  6.91s/it]"
     ]
    },
    {
     "name": "stdout",
     "output_type": "stream",
     "text": [
      "Model Was Saved ! Current Best Avg. Dice: 0.8422344326972961 Current Avg. Dice: 0.8422344326972961\n"
     ]
    },
    {
     "name": "stderr",
     "output_type": "stream",
     "text": [
      "Training (2519 / 25000 Steps) (loss=0.53641): 100%|████████████████████████████████████████████████████████████████████████████████████████████████████████████████████████| 24/24 [00:35<00:00,  1.48s/it]\n",
      "Training (2543 / 25000 Steps) (loss=0.64960): 100%|████████████████████████████████████████████████████████████████████████████████████████████████████████████████████████| 24/24 [00:18<00:00,  1.29it/s]\n",
      "Training (2567 / 25000 Steps) (loss=0.72523): 100%|████████████████████████████████████████████████████████████████████████████████████████████████████████████████████████| 24/24 [00:18<00:00,  1.29it/s]\n",
      "Training (2591 / 25000 Steps) (loss=1.25479): 100%|████████████████████████████████████████████████████████████████████████████████████████████████████████████████████████| 24/24 [00:18<00:00,  1.29it/s]\n",
      "Training (2615 / 25000 Steps) (loss=0.77741): 100%|████████████████████████████████████████████████████████████████████████████████████████████████████████████████████████| 24/24 [00:18<00:00,  1.29it/s]\n",
      "Training (2639 / 25000 Steps) (loss=0.55388): 100%|████████████████████████████████████████████████████████████████████████████████████████████████████████████████████████| 24/24 [00:18<00:00,  1.29it/s]\n",
      "Training (2663 / 25000 Steps) (loss=0.66598): 100%|████████████████████████████████████████████████████████████████████████████████████████████████████████████████████████| 24/24 [00:18<00:00,  1.29it/s]\n",
      "Training (2687 / 25000 Steps) (loss=0.64058): 100%|████████████████████████████████████████████████████████████████████████████████████████████████████████████████████████| 24/24 [00:18<00:00,  1.29it/s]\n",
      "Training (2711 / 25000 Steps) (loss=0.93194): 100%|████████████████████████████████████████████████████████████████████████████████████████████████████████████████████████| 24/24 [00:18<00:00,  1.29it/s]\n",
      "Training (2735 / 25000 Steps) (loss=0.73713): 100%|████████████████████████████████████████████████████████████████████████████████████████████████████████████████████████| 24/24 [00:18<00:00,  1.29it/s]\n",
      "Training (2759 / 25000 Steps) (loss=0.69427): 100%|████████████████████████████████████████████████████████████████████████████████████████████████████████████████████████| 24/24 [00:18<00:00,  1.29it/s]\n",
      "Training (2783 / 25000 Steps) (loss=0.55242): 100%|████████████████████████████████████████████████████████████████████████████████████████████████████████████████████████| 24/24 [00:18<00:00,  1.28it/s]\n",
      "Training (2807 / 25000 Steps) (loss=0.58938): 100%|████████████████████████████████████████████████████████████████████████████████████████████████████████████████████████| 24/24 [00:18<00:00,  1.29it/s]\n",
      "Training (2831 / 25000 Steps) (loss=0.52534): 100%|████████████████████████████████████████████████████████████████████████████████████████████████████████████████████████| 24/24 [00:18<00:00,  1.29it/s]\n",
      "Training (2855 / 25000 Steps) (loss=0.61373): 100%|████████████████████████████████████████████████████████████████████████████████████████████████████████████████████████| 24/24 [00:18<00:00,  1.30it/s]\n",
      "Training (2879 / 25000 Steps) (loss=0.67702): 100%|████████████████████████████████████████████████████████████████████████████████████████████████████████████████████████| 24/24 [00:18<00:00,  1.29it/s]\n",
      "Training (2903 / 25000 Steps) (loss=0.64346): 100%|████████████████████████████████████████████████████████████████████████████████████████████████████████████████████████| 24/24 [00:18<00:00,  1.30it/s]\n",
      "Training (2927 / 25000 Steps) (loss=0.45221): 100%|████████████████████████████████████████████████████████████████████████████████████████████████████████████████████████| 24/24 [00:18<00:00,  1.29it/s]\n",
      "Training (2951 / 25000 Steps) (loss=0.63653): 100%|████████████████████████████████████████████████████████████████████████████████████████████████████████████████████████| 24/24 [00:18<00:00,  1.29it/s]\n",
      "Training (2975 / 25000 Steps) (loss=0.73023): 100%|████████████████████████████████████████████████████████████████████████████████████████████████████████████████████████| 24/24 [00:18<00:00,  1.29it/s]\n",
      "Training (2999 / 25000 Steps) (loss=0.77427): 100%|████████████████████████████████████████████████████████████████████████████████████████████████████████████████████████| 24/24 [00:18<00:00,  1.30it/s]\n",
      "Training (3000 / 25000 Steps) (loss=0.75897):   0%|                                                                                                                                 | 0/24 [00:00<?, ?it/s]\n",
      "Validate (X / X Steps) (dice=X.X):   0%|                                                                                                                                             | 0/6 [00:00<?, ?it/s]\u001b[A\n",
      "Validate (3000 / 10 Steps):   0%|                                                                                                                                                    | 0/6 [00:02<?, ?it/s]\u001b[A\n",
      "Validate (3000 / 10 Steps):  17%|███████████████████████▎                                                                                                                    | 1/6 [00:02<00:12,  2.48s/it]\u001b[A\n",
      "Validate (3000 / 10 Steps):  17%|███████████████████████▎                                                                                                                    | 1/6 [00:05<00:12,  2.48s/it]\u001b[A\n",
      "Validate (3000 / 10 Steps):  33%|██████████████████████████████████████████████▋                                                                                             | 2/6 [00:05<00:10,  2.56s/it]\u001b[A\n",
      "Validate (3000 / 10 Steps):  33%|██████████████████████████████████████████████▋                                                                                             | 2/6 [00:07<00:10,  2.56s/it]\u001b[A\n",
      "Validate (3000 / 10 Steps):  50%|██████████████████████████████████████████████████████████████████████                                                                      | 3/6 [00:07<00:06,  2.28s/it]\u001b[A\n",
      "Validate (3000 / 10 Steps):  50%|██████████████████████████████████████████████████████████████████████                                                                      | 3/6 [00:11<00:06,  2.28s/it]\u001b[A\n",
      "Validate (3000 / 10 Steps):  67%|█████████████████████████████████████████████████████████████████████████████████████████████▎                                              | 4/6 [00:11<00:06,  3.09s/it]\u001b[A\n",
      "Validate (3000 / 10 Steps):  67%|█████████████████████████████████████████████████████████████████████████████████████████████▎                                              | 4/6 [00:13<00:06,  3.09s/it]\u001b[A\n",
      "Validate (3000 / 10 Steps):  83%|████████████████████████████████████████████████████████████████████████████████████████████████████████████████████▋                       | 5/6 [00:13<00:02,  2.86s/it]\u001b[A\n",
      "Validate (3000 / 10 Steps):  83%|████████████████████████████████████████████████████████████████████████████████████████████████████████████████████▋                       | 5/6 [00:16<00:02,  2.86s/it]\u001b[A\n",
      "Validate (3000 / 10 Steps): 100%|████████████████████████████████████████████████████████████████████████████████████████████████████████████████████████████████████████████| 6/6 [00:16<00:00,  2.74s/it]\u001b[A\n",
      "Training (3000 / 25000 Steps) (loss=0.75897):   4%|█████                                                                                                                    | 1/24 [00:17<06:36, 17.25s/it]"
     ]
    },
    {
     "name": "stdout",
     "output_type": "stream",
     "text": [
      "Model Was Not Saved ! Current Best Avg. Dice: 0.8422344326972961 Current Avg. Dice: 0.835167646408081\n"
     ]
    },
    {
     "name": "stderr",
     "output_type": "stream",
     "text": [
      "Training (3023 / 25000 Steps) (loss=0.68936): 100%|████████████████████████████████████████████████████████████████████████████████████████████████████████████████████████| 24/24 [00:35<00:00,  1.46s/it]\n",
      "Training (3047 / 25000 Steps) (loss=0.79160): 100%|████████████████████████████████████████████████████████████████████████████████████████████████████████████████████████| 24/24 [00:18<00:00,  1.30it/s]\n",
      "Training (3071 / 25000 Steps) (loss=0.56515): 100%|████████████████████████████████████████████████████████████████████████████████████████████████████████████████████████| 24/24 [00:18<00:00,  1.30it/s]\n",
      "Training (3095 / 25000 Steps) (loss=0.76888): 100%|████████████████████████████████████████████████████████████████████████████████████████████████████████████████████████| 24/24 [00:18<00:00,  1.30it/s]\n",
      "Training (3119 / 25000 Steps) (loss=0.65430): 100%|████████████████████████████████████████████████████████████████████████████████████████████████████████████████████████| 24/24 [00:18<00:00,  1.30it/s]\n",
      "Training (3143 / 25000 Steps) (loss=0.62697): 100%|████████████████████████████████████████████████████████████████████████████████████████████████████████████████████████| 24/24 [00:18<00:00,  1.30it/s]\n",
      "Training (3167 / 25000 Steps) (loss=0.66560): 100%|████████████████████████████████████████████████████████████████████████████████████████████████████████████████████████| 24/24 [00:18<00:00,  1.29it/s]\n",
      "Training (3191 / 25000 Steps) (loss=0.79842): 100%|████████████████████████████████████████████████████████████████████████████████████████████████████████████████████████| 24/24 [00:18<00:00,  1.29it/s]\n",
      "Training (3215 / 25000 Steps) (loss=0.67815): 100%|████████████████████████████████████████████████████████████████████████████████████████████████████████████████████████| 24/24 [00:18<00:00,  1.29it/s]\n",
      "Training (3239 / 25000 Steps) (loss=0.81462): 100%|████████████████████████████████████████████████████████████████████████████████████████████████████████████████████████| 24/24 [00:18<00:00,  1.29it/s]\n",
      "Training (3263 / 25000 Steps) (loss=0.48080): 100%|████████████████████████████████████████████████████████████████████████████████████████████████████████████████████████| 24/24 [00:18<00:00,  1.30it/s]\n",
      "Training (3287 / 25000 Steps) (loss=0.78691): 100%|████████████████████████████████████████████████████████████████████████████████████████████████████████████████████████| 24/24 [00:18<00:00,  1.29it/s]\n",
      "Training (3311 / 25000 Steps) (loss=0.67576): 100%|████████████████████████████████████████████████████████████████████████████████████████████████████████████████████████| 24/24 [00:18<00:00,  1.29it/s]\n",
      "Training (3335 / 25000 Steps) (loss=0.81949): 100%|████████████████████████████████████████████████████████████████████████████████████████████████████████████████████████| 24/24 [00:18<00:00,  1.30it/s]\n",
      "Training (3359 / 25000 Steps) (loss=0.70573): 100%|████████████████████████████████████████████████████████████████████████████████████████████████████████████████████████| 24/24 [00:18<00:00,  1.29it/s]\n",
      "Training (3383 / 25000 Steps) (loss=0.74694): 100%|████████████████████████████████████████████████████████████████████████████████████████████████████████████████████████| 24/24 [00:18<00:00,  1.29it/s]\n",
      "Training (3407 / 25000 Steps) (loss=0.69740): 100%|████████████████████████████████████████████████████████████████████████████████████████████████████████████████████████| 24/24 [00:18<00:00,  1.30it/s]\n",
      "Training (3431 / 25000 Steps) (loss=0.66569): 100%|████████████████████████████████████████████████████████████████████████████████████████████████████████████████████████| 24/24 [00:18<00:00,  1.29it/s]\n",
      "Training (3455 / 25000 Steps) (loss=0.52873): 100%|████████████████████████████████████████████████████████████████████████████████████████████████████████████████████████| 24/24 [00:18<00:00,  1.29it/s]\n",
      "Training (3479 / 25000 Steps) (loss=0.62151): 100%|████████████████████████████████████████████████████████████████████████████████████████████████████████████████████████| 24/24 [00:18<00:00,  1.29it/s]\n",
      "Training (3500 / 25000 Steps) (loss=0.70226):  83%|████████████████████████████████████████████████████████████████████████████████████████████████████                    | 20/24 [00:16<00:03,  1.30it/s]\n",
      "Validate (X / X Steps) (dice=X.X):   0%|                                                                                                                                             | 0/6 [00:00<?, ?it/s]\u001b[A\n",
      "Validate (3480 / 10 Steps):   0%|                                                                                                                                                    | 0/6 [00:02<?, ?it/s]\u001b[A\n",
      "Validate (3480 / 10 Steps):  17%|███████████████████████▎                                                                                                                    | 1/6 [00:02<00:12,  2.49s/it]\u001b[A\n",
      "Validate (3480 / 10 Steps):  17%|███████████████████████▎                                                                                                                    | 1/6 [00:05<00:12,  2.49s/it]\u001b[A\n",
      "Validate (3480 / 10 Steps):  33%|██████████████████████████████████████████████▋                                                                                             | 2/6 [00:05<00:10,  2.57s/it]\u001b[A\n",
      "Validate (3480 / 10 Steps):  33%|██████████████████████████████████████████████▋                                                                                             | 2/6 [00:07<00:10,  2.57s/it]\u001b[A\n",
      "Validate (3480 / 10 Steps):  50%|██████████████████████████████████████████████████████████████████████                                                                      | 3/6 [00:07<00:06,  2.30s/it]\u001b[A\n",
      "Validate (3480 / 10 Steps):  50%|██████████████████████████████████████████████████████████████████████                                                                      | 3/6 [00:11<00:06,  2.30s/it]\u001b[A\n",
      "Validate (3480 / 10 Steps):  67%|█████████████████████████████████████████████████████████████████████████████████████████████▎                                              | 4/6 [00:11<00:06,  3.10s/it]\u001b[A\n",
      "Validate (3480 / 10 Steps):  67%|█████████████████████████████████████████████████████████████████████████████████████████████▎                                              | 4/6 [00:13<00:06,  3.10s/it]\u001b[A\n",
      "Validate (3480 / 10 Steps):  83%|████████████████████████████████████████████████████████████████████████████████████████████████████████████████████▋                       | 5/6 [00:13<00:02,  2.87s/it]\u001b[A\n",
      "Validate (3480 / 10 Steps):  83%|████████████████████████████████████████████████████████████████████████████████████████████████████████████████████▋                       | 5/6 [00:16<00:02,  2.87s/it]\u001b[A\n",
      "Validate (3480 / 10 Steps): 100%|████████████████████████████████████████████████████████████████████████████████████████████████████████████████████████████████████████████| 6/6 [00:16<00:00,  2.75s/it]\u001b[A\n",
      "Training (3500 / 25000 Steps) (loss=0.70226):  88%|█████████████████████████████████████████████████████████████████████████████████████████████████████████               | 21/24 [00:33<00:17,  5.81s/it]"
     ]
    },
    {
     "name": "stdout",
     "output_type": "stream",
     "text": [
      "Model Was Saved ! Current Best Avg. Dice: 0.866954505443573 Current Avg. Dice: 0.866954505443573\n"
     ]
    },
    {
     "name": "stderr",
     "output_type": "stream",
     "text": [
      "Training (3503 / 25000 Steps) (loss=0.71520): 100%|████████████████████████████████████████████████████████████████████████████████████████████████████████████████████████| 24/24 [00:35<00:00,  1.47s/it]\n",
      "Training (3527 / 25000 Steps) (loss=0.67960): 100%|████████████████████████████████████████████████████████████████████████████████████████████████████████████████████████| 24/24 [00:18<00:00,  1.30it/s]\n",
      "Training (3551 / 25000 Steps) (loss=0.69388): 100%|████████████████████████████████████████████████████████████████████████████████████████████████████████████████████████| 24/24 [00:18<00:00,  1.29it/s]\n",
      "Training (3575 / 25000 Steps) (loss=0.62191): 100%|████████████████████████████████████████████████████████████████████████████████████████████████████████████████████████| 24/24 [00:18<00:00,  1.30it/s]\n",
      "Training (3599 / 25000 Steps) (loss=0.68984): 100%|████████████████████████████████████████████████████████████████████████████████████████████████████████████████████████| 24/24 [00:18<00:00,  1.30it/s]\n",
      "Training (3623 / 25000 Steps) (loss=0.84208): 100%|████████████████████████████████████████████████████████████████████████████████████████████████████████████████████████| 24/24 [00:18<00:00,  1.29it/s]\n",
      "Training (3647 / 25000 Steps) (loss=0.77513): 100%|████████████████████████████████████████████████████████████████████████████████████████████████████████████████████████| 24/24 [00:18<00:00,  1.29it/s]\n",
      "Training (3671 / 25000 Steps) (loss=0.63578): 100%|████████████████████████████████████████████████████████████████████████████████████████████████████████████████████████| 24/24 [00:18<00:00,  1.29it/s]\n",
      "Training (3695 / 25000 Steps) (loss=0.64360): 100%|████████████████████████████████████████████████████████████████████████████████████████████████████████████████████████| 24/24 [00:18<00:00,  1.29it/s]\n",
      "Training (3719 / 25000 Steps) (loss=0.55355): 100%|████████████████████████████████████████████████████████████████████████████████████████████████████████████████████████| 24/24 [00:18<00:00,  1.30it/s]\n",
      "Training (3743 / 25000 Steps) (loss=0.83108): 100%|████████████████████████████████████████████████████████████████████████████████████████████████████████████████████████| 24/24 [00:18<00:00,  1.30it/s]\n",
      "Training (3767 / 25000 Steps) (loss=0.74174): 100%|████████████████████████████████████████████████████████████████████████████████████████████████████████████████████████| 24/24 [00:18<00:00,  1.29it/s]\n",
      "Training (3791 / 25000 Steps) (loss=0.60515): 100%|████████████████████████████████████████████████████████████████████████████████████████████████████████████████████████| 24/24 [00:18<00:00,  1.29it/s]\n",
      "Training (3815 / 25000 Steps) (loss=0.76306): 100%|████████████████████████████████████████████████████████████████████████████████████████████████████████████████████████| 24/24 [00:18<00:00,  1.29it/s]\n",
      "Training (3839 / 25000 Steps) (loss=0.60444): 100%|████████████████████████████████████████████████████████████████████████████████████████████████████████████████████████| 24/24 [00:18<00:00,  1.30it/s]\n",
      "Training (3863 / 25000 Steps) (loss=0.67611): 100%|████████████████████████████████████████████████████████████████████████████████████████████████████████████████████████| 24/24 [00:18<00:00,  1.30it/s]\n",
      "Training (3887 / 25000 Steps) (loss=0.72379): 100%|████████████████████████████████████████████████████████████████████████████████████████████████████████████████████████| 24/24 [00:18<00:00,  1.30it/s]\n",
      "Training (3911 / 25000 Steps) (loss=0.53973): 100%|████████████████████████████████████████████████████████████████████████████████████████████████████████████████████████| 24/24 [00:18<00:00,  1.29it/s]\n",
      "Training (3935 / 25000 Steps) (loss=0.57716): 100%|████████████████████████████████████████████████████████████████████████████████████████████████████████████████████████| 24/24 [00:18<00:00,  1.29it/s]\n",
      "Training (3959 / 25000 Steps) (loss=0.51760): 100%|████████████████████████████████████████████████████████████████████████████████████████████████████████████████████████| 24/24 [00:18<00:00,  1.30it/s]\n",
      "Training (3983 / 25000 Steps) (loss=0.45454): 100%|████████████████████████████████████████████████████████████████████████████████████████████████████████████████████████| 24/24 [00:18<00:00,  1.30it/s]\n",
      "Training (4000 / 25000 Steps) (loss=0.59810):  67%|████████████████████████████████████████████████████████████████████████████████                                        | 16/24 [00:13<00:06,  1.30it/s]\n",
      "Validate (X / X Steps) (dice=X.X):   0%|                                                                                                                                             | 0/6 [00:00<?, ?it/s]\u001b[A\n",
      "Validate (3984 / 10 Steps):   0%|                                                                                                                                                    | 0/6 [00:02<?, ?it/s]\u001b[A\n",
      "Validate (3984 / 10 Steps):  17%|███████████████████████▎                                                                                                                    | 1/6 [00:02<00:12,  2.48s/it]\u001b[A\n",
      "Validate (3984 / 10 Steps):  17%|███████████████████████▎                                                                                                                    | 1/6 [00:05<00:12,  2.48s/it]\u001b[A\n",
      "Validate (3984 / 10 Steps):  33%|██████████████████████████████████████████████▋                                                                                             | 2/6 [00:05<00:10,  2.56s/it]\u001b[A\n",
      "Validate (3984 / 10 Steps):  33%|██████████████████████████████████████████████▋                                                                                             | 2/6 [00:07<00:10,  2.56s/it]\u001b[A\n",
      "Validate (3984 / 10 Steps):  50%|██████████████████████████████████████████████████████████████████████                                                                      | 3/6 [00:07<00:06,  2.29s/it]\u001b[A\n",
      "Validate (3984 / 10 Steps):  50%|██████████████████████████████████████████████████████████████████████                                                                      | 3/6 [00:11<00:06,  2.29s/it]\u001b[A\n",
      "Validate (3984 / 10 Steps):  67%|█████████████████████████████████████████████████████████████████████████████████████████████▎                                              | 4/6 [00:11<00:06,  3.09s/it]\u001b[A\n",
      "Validate (3984 / 10 Steps):  67%|█████████████████████████████████████████████████████████████████████████████████████████████▎                                              | 4/6 [00:13<00:06,  3.09s/it]\u001b[A\n",
      "Validate (3984 / 10 Steps):  83%|████████████████████████████████████████████████████████████████████████████████████████████████████████████████████▋                       | 5/6 [00:13<00:02,  2.86s/it]\u001b[A\n",
      "Validate (3984 / 10 Steps):  83%|████████████████████████████████████████████████████████████████████████████████████████████████████████████████████▋                       | 5/6 [00:16<00:02,  2.86s/it]\u001b[A\n",
      "Validate (3984 / 10 Steps): 100%|████████████████████████████████████████████████████████████████████████████████████████████████████████████████████████████████████████████| 6/6 [00:16<00:00,  2.74s/it]\u001b[A\n",
      "Training (4000 / 25000 Steps) (loss=0.59810):  71%|█████████████████████████████████████████████████████████████████████████████████████                                   | 17/24 [00:29<00:40,  5.72s/it]"
     ]
    },
    {
     "name": "stdout",
     "output_type": "stream",
     "text": [
      "Model Was Not Saved ! Current Best Avg. Dice: 0.866954505443573 Current Avg. Dice: 0.8545084595680237\n"
     ]
    },
    {
     "name": "stderr",
     "output_type": "stream",
     "text": [
      "Training (4007 / 25000 Steps) (loss=0.62454): 100%|████████████████████████████████████████████████████████████████████████████████████████████████████████████████████████| 24/24 [00:34<00:00,  1.46s/it]\n",
      "Training (4031 / 25000 Steps) (loss=0.79252): 100%|████████████████████████████████████████████████████████████████████████████████████████████████████████████████████████| 24/24 [00:18<00:00,  1.30it/s]\n",
      "Training (4055 / 25000 Steps) (loss=0.63113): 100%|████████████████████████████████████████████████████████████████████████████████████████████████████████████████████████| 24/24 [00:18<00:00,  1.30it/s]\n",
      "Training (4079 / 25000 Steps) (loss=0.67869): 100%|████████████████████████████████████████████████████████████████████████████████████████████████████████████████████████| 24/24 [00:18<00:00,  1.29it/s]\n",
      "Training (4103 / 25000 Steps) (loss=0.69033): 100%|████████████████████████████████████████████████████████████████████████████████████████████████████████████████████████| 24/24 [00:18<00:00,  1.29it/s]\n",
      "Training (4127 / 25000 Steps) (loss=0.56214): 100%|████████████████████████████████████████████████████████████████████████████████████████████████████████████████████████| 24/24 [00:18<00:00,  1.29it/s]\n",
      "Training (4151 / 25000 Steps) (loss=0.48582): 100%|████████████████████████████████████████████████████████████████████████████████████████████████████████████████████████| 24/24 [00:18<00:00,  1.29it/s]\n",
      "Training (4175 / 25000 Steps) (loss=0.65808): 100%|████████████████████████████████████████████████████████████████████████████████████████████████████████████████████████| 24/24 [00:18<00:00,  1.29it/s]\n",
      "Training (4199 / 25000 Steps) (loss=0.73379): 100%|████████████████████████████████████████████████████████████████████████████████████████████████████████████████████████| 24/24 [00:18<00:00,  1.30it/s]\n",
      "Training (4223 / 25000 Steps) (loss=0.68311): 100%|████████████████████████████████████████████████████████████████████████████████████████████████████████████████████████| 24/24 [00:18<00:00,  1.30it/s]\n",
      "Training (4247 / 25000 Steps) (loss=0.65844): 100%|████████████████████████████████████████████████████████████████████████████████████████████████████████████████████████| 24/24 [00:18<00:00,  1.29it/s]\n",
      "Training (4271 / 25000 Steps) (loss=0.82993): 100%|████████████████████████████████████████████████████████████████████████████████████████████████████████████████████████| 24/24 [00:18<00:00,  1.29it/s]\n",
      "Training (4295 / 25000 Steps) (loss=0.56801): 100%|████████████████████████████████████████████████████████████████████████████████████████████████████████████████████████| 24/24 [00:18<00:00,  1.29it/s]\n",
      "Training (4319 / 25000 Steps) (loss=1.26876): 100%|████████████████████████████████████████████████████████████████████████████████████████████████████████████████████████| 24/24 [00:18<00:00,  1.30it/s]\n",
      "Training (4343 / 25000 Steps) (loss=0.69991): 100%|████████████████████████████████████████████████████████████████████████████████████████████████████████████████████████| 24/24 [00:18<00:00,  1.29it/s]\n",
      "Training (4367 / 25000 Steps) (loss=0.43954): 100%|████████████████████████████████████████████████████████████████████████████████████████████████████████████████████████| 24/24 [00:18<00:00,  1.30it/s]\n",
      "Training (4391 / 25000 Steps) (loss=0.67821): 100%|████████████████████████████████████████████████████████████████████████████████████████████████████████████████████████| 24/24 [00:18<00:00,  1.29it/s]\n",
      "Training (4415 / 25000 Steps) (loss=0.58311): 100%|████████████████████████████████████████████████████████████████████████████████████████████████████████████████████████| 24/24 [00:18<00:00,  1.30it/s]\n",
      "Training (4439 / 25000 Steps) (loss=0.71190): 100%|████████████████████████████████████████████████████████████████████████████████████████████████████████████████████████| 24/24 [00:18<00:00,  1.30it/s]\n",
      "Training (4463 / 25000 Steps) (loss=0.54924): 100%|████████████████████████████████████████████████████████████████████████████████████████████████████████████████████████| 24/24 [00:18<00:00,  1.29it/s]\n",
      "Training (4487 / 25000 Steps) (loss=0.65947): 100%|████████████████████████████████████████████████████████████████████████████████████████████████████████████████████████| 24/24 [00:18<00:00,  1.30it/s]\n",
      "Training (4500 / 25000 Steps) (loss=0.71711):  50%|████████████████████████████████████████████████████████████                                                            | 12/24 [00:10<00:09,  1.29it/s]\n",
      "Validate (X / X Steps) (dice=X.X):   0%|                                                                                                                                             | 0/6 [00:00<?, ?it/s]\u001b[A\n",
      "Validate (4488 / 10 Steps):   0%|                                                                                                                                                    | 0/6 [00:02<?, ?it/s]\u001b[A\n",
      "Validate (4488 / 10 Steps):  17%|███████████████████████▎                                                                                                                    | 1/6 [00:02<00:12,  2.49s/it]\u001b[A\n",
      "Validate (4488 / 10 Steps):  17%|███████████████████████▎                                                                                                                    | 1/6 [00:05<00:12,  2.49s/it]\u001b[A\n",
      "Validate (4488 / 10 Steps):  33%|██████████████████████████████████████████████▋                                                                                             | 2/6 [00:05<00:10,  2.56s/it]\u001b[A\n",
      "Validate (4488 / 10 Steps):  33%|██████████████████████████████████████████████▋                                                                                             | 2/6 [00:07<00:10,  2.56s/it]\u001b[A\n",
      "Validate (4488 / 10 Steps):  50%|██████████████████████████████████████████████████████████████████████                                                                      | 3/6 [00:07<00:06,  2.29s/it]\u001b[A\n",
      "Validate (4488 / 10 Steps):  50%|██████████████████████████████████████████████████████████████████████                                                                      | 3/6 [00:11<00:06,  2.29s/it]\u001b[A\n",
      "Validate (4488 / 10 Steps):  67%|█████████████████████████████████████████████████████████████████████████████████████████████▎                                              | 4/6 [00:11<00:06,  3.09s/it]\u001b[A\n",
      "Validate (4488 / 10 Steps):  67%|█████████████████████████████████████████████████████████████████████████████████████████████▎                                              | 4/6 [00:13<00:06,  3.09s/it]\u001b[A\n",
      "Validate (4488 / 10 Steps):  83%|████████████████████████████████████████████████████████████████████████████████████████████████████████████████████▋                       | 5/6 [00:13<00:02,  2.86s/it]\u001b[A\n",
      "Validate (4488 / 10 Steps):  83%|████████████████████████████████████████████████████████████████████████████████████████████████████████████████████▋                       | 5/6 [00:16<00:02,  2.86s/it]\u001b[A\n",
      "Validate (4488 / 10 Steps): 100%|████████████████████████████████████████████████████████████████████████████████████████████████████████████████████████████████████████████| 6/6 [00:16<00:00,  2.74s/it]\u001b[A\n",
      "Training (4500 / 25000 Steps) (loss=0.71711):  54%|█████████████████████████████████████████████████████████████████                                                       | 13/24 [00:26<01:04,  5.83s/it]"
     ]
    },
    {
     "name": "stdout",
     "output_type": "stream",
     "text": [
      "Model Was Saved ! Current Best Avg. Dice: 0.8674485683441162 Current Avg. Dice: 0.8674485683441162\n"
     ]
    },
    {
     "name": "stderr",
     "output_type": "stream",
     "text": [
      "Training (4511 / 25000 Steps) (loss=0.64919): 100%|████████████████████████████████████████████████████████████████████████████████████████████████████████████████████████| 24/24 [00:35<00:00,  1.47s/it]\n",
      "Training (4535 / 25000 Steps) (loss=0.63318): 100%|████████████████████████████████████████████████████████████████████████████████████████████████████████████████████████| 24/24 [00:18<00:00,  1.30it/s]\n",
      "Training (4559 / 25000 Steps) (loss=0.47278): 100%|████████████████████████████████████████████████████████████████████████████████████████████████████████████████████████| 24/24 [00:18<00:00,  1.29it/s]\n",
      "Training (4583 / 25000 Steps) (loss=0.57181): 100%|████████████████████████████████████████████████████████████████████████████████████████████████████████████████████████| 24/24 [00:18<00:00,  1.30it/s]\n",
      "Training (4607 / 25000 Steps) (loss=0.44854): 100%|████████████████████████████████████████████████████████████████████████████████████████████████████████████████████████| 24/24 [00:18<00:00,  1.30it/s]\n",
      "Training (4631 / 25000 Steps) (loss=0.39450): 100%|████████████████████████████████████████████████████████████████████████████████████████████████████████████████████████| 24/24 [00:18<00:00,  1.30it/s]\n",
      "Training (4655 / 25000 Steps) (loss=0.58441): 100%|████████████████████████████████████████████████████████████████████████████████████████████████████████████████████████| 24/24 [00:18<00:00,  1.29it/s]\n",
      "Training (4679 / 25000 Steps) (loss=0.50484): 100%|████████████████████████████████████████████████████████████████████████████████████████████████████████████████████████| 24/24 [00:18<00:00,  1.29it/s]\n",
      "Training (4703 / 25000 Steps) (loss=0.61449): 100%|████████████████████████████████████████████████████████████████████████████████████████████████████████████████████████| 24/24 [00:18<00:00,  1.29it/s]\n",
      "Training (4727 / 25000 Steps) (loss=0.66777): 100%|████████████████████████████████████████████████████████████████████████████████████████████████████████████████████████| 24/24 [00:18<00:00,  1.29it/s]\n",
      "Training (4751 / 25000 Steps) (loss=0.57475): 100%|████████████████████████████████████████████████████████████████████████████████████████████████████████████████████████| 24/24 [00:18<00:00,  1.30it/s]\n",
      "Training (4775 / 25000 Steps) (loss=0.73156): 100%|████████████████████████████████████████████████████████████████████████████████████████████████████████████████████████| 24/24 [00:18<00:00,  1.29it/s]\n",
      "Training (4799 / 25000 Steps) (loss=0.80550): 100%|████████████████████████████████████████████████████████████████████████████████████████████████████████████████████████| 24/24 [00:18<00:00,  1.29it/s]\n",
      "Training (4823 / 25000 Steps) (loss=0.56975): 100%|████████████████████████████████████████████████████████████████████████████████████████████████████████████████████████| 24/24 [00:18<00:00,  1.30it/s]\n",
      "Training (4847 / 25000 Steps) (loss=0.60812): 100%|████████████████████████████████████████████████████████████████████████████████████████████████████████████████████████| 24/24 [00:18<00:00,  1.30it/s]\n",
      "Training (4871 / 25000 Steps) (loss=0.45466): 100%|████████████████████████████████████████████████████████████████████████████████████████████████████████████████████████| 24/24 [00:18<00:00,  1.30it/s]\n",
      "Training (4895 / 25000 Steps) (loss=0.65118): 100%|████████████████████████████████████████████████████████████████████████████████████████████████████████████████████████| 24/24 [00:18<00:00,  1.29it/s]\n",
      "Training (4919 / 25000 Steps) (loss=0.62716): 100%|████████████████████████████████████████████████████████████████████████████████████████████████████████████████████████| 24/24 [00:18<00:00,  1.30it/s]\n",
      "Training (4943 / 25000 Steps) (loss=0.65783): 100%|████████████████████████████████████████████████████████████████████████████████████████████████████████████████████████| 24/24 [00:18<00:00,  1.30it/s]\n",
      "Training (4967 / 25000 Steps) (loss=1.40845): 100%|████████████████████████████████████████████████████████████████████████████████████████████████████████████████████████| 24/24 [00:18<00:00,  1.30it/s]\n",
      "Training (4991 / 25000 Steps) (loss=0.64564): 100%|████████████████████████████████████████████████████████████████████████████████████████████████████████████████████████| 24/24 [00:18<00:00,  1.30it/s]\n",
      "Training (5000 / 25000 Steps) (loss=0.61076):  33%|████████████████████████████████████████▎                                                                                | 8/24 [00:06<00:12,  1.30it/s]\n",
      "Validate (X / X Steps) (dice=X.X):   0%|                                                                                                                                             | 0/6 [00:00<?, ?it/s]\u001b[A\n",
      "Validate (4992 / 10 Steps):   0%|                                                                                                                                                    | 0/6 [00:02<?, ?it/s]\u001b[A\n",
      "Validate (4992 / 10 Steps):  17%|███████████████████████▎                                                                                                                    | 1/6 [00:02<00:12,  2.48s/it]\u001b[A\n",
      "Validate (4992 / 10 Steps):  17%|███████████████████████▎                                                                                                                    | 1/6 [00:05<00:12,  2.48s/it]\u001b[A\n",
      "Validate (4992 / 10 Steps):  33%|██████████████████████████████████████████████▋                                                                                             | 2/6 [00:05<00:10,  2.55s/it]\u001b[A\n",
      "Validate (4992 / 10 Steps):  33%|██████████████████████████████████████████████▋                                                                                             | 2/6 [00:07<00:10,  2.55s/it]\u001b[A\n",
      "Validate (4992 / 10 Steps):  50%|██████████████████████████████████████████████████████████████████████                                                                      | 3/6 [00:07<00:06,  2.29s/it]\u001b[A\n",
      "Validate (4992 / 10 Steps):  50%|██████████████████████████████████████████████████████████████████████                                                                      | 3/6 [00:11<00:06,  2.29s/it]\u001b[A\n",
      "Validate (4992 / 10 Steps):  67%|█████████████████████████████████████████████████████████████████████████████████████████████▎                                              | 4/6 [00:11<00:06,  3.10s/it]\u001b[A\n",
      "Validate (4992 / 10 Steps):  67%|█████████████████████████████████████████████████████████████████████████████████████████████▎                                              | 4/6 [00:13<00:06,  3.10s/it]\u001b[A\n",
      "Validate (4992 / 10 Steps):  83%|████████████████████████████████████████████████████████████████████████████████████████████████████████████████████▋                       | 5/6 [00:13<00:02,  2.87s/it]\u001b[A\n",
      "Validate (4992 / 10 Steps):  83%|████████████████████████████████████████████████████████████████████████████████████████████████████████████████████▋                       | 5/6 [00:16<00:02,  2.87s/it]\u001b[A\n",
      "Validate (4992 / 10 Steps): 100%|████████████████████████████████████████████████████████████████████████████████████████████████████████████████████████████████████████████| 6/6 [00:16<00:00,  2.74s/it]\u001b[A\n",
      "Training (5000 / 25000 Steps) (loss=0.61076):  38%|█████████████████████████████████████████████▍                                                                           | 9/24 [00:23<01:28,  5.91s/it]"
     ]
    },
    {
     "name": "stdout",
     "output_type": "stream",
     "text": [
      "Model Was Not Saved ! Current Best Avg. Dice: 0.8674485683441162 Current Avg. Dice: 0.8513612747192383\n"
     ]
    },
    {
     "name": "stderr",
     "output_type": "stream",
     "text": [
      "Training (5015 / 25000 Steps) (loss=0.51927): 100%|████████████████████████████████████████████████████████████████████████████████████████████████████████████████████████| 24/24 [00:34<00:00,  1.46s/it]\n",
      "Training (5039 / 25000 Steps) (loss=0.71263): 100%|████████████████████████████████████████████████████████████████████████████████████████████████████████████████████████| 24/24 [00:18<00:00,  1.29it/s]\n",
      "Training (5063 / 25000 Steps) (loss=0.51645): 100%|████████████████████████████████████████████████████████████████████████████████████████████████████████████████████████| 24/24 [00:18<00:00,  1.29it/s]\n",
      "Training (5087 / 25000 Steps) (loss=0.35243): 100%|████████████████████████████████████████████████████████████████████████████████████████████████████████████████████████| 24/24 [00:18<00:00,  1.29it/s]\n",
      "Training (5111 / 25000 Steps) (loss=0.63664): 100%|████████████████████████████████████████████████████████████████████████████████████████████████████████████████████████| 24/24 [00:18<00:00,  1.29it/s]\n",
      "Training (5135 / 25000 Steps) (loss=0.61150): 100%|████████████████████████████████████████████████████████████████████████████████████████████████████████████████████████| 24/24 [00:18<00:00,  1.30it/s]\n",
      "Training (5159 / 25000 Steps) (loss=0.52594): 100%|████████████████████████████████████████████████████████████████████████████████████████████████████████████████████████| 24/24 [00:18<00:00,  1.30it/s]\n",
      "Training (5183 / 25000 Steps) (loss=0.71165): 100%|████████████████████████████████████████████████████████████████████████████████████████████████████████████████████████| 24/24 [00:18<00:00,  1.30it/s]\n",
      "Training (5207 / 25000 Steps) (loss=0.41901): 100%|████████████████████████████████████████████████████████████████████████████████████████████████████████████████████████| 24/24 [00:18<00:00,  1.30it/s]\n",
      "Training (5231 / 25000 Steps) (loss=0.55039): 100%|████████████████████████████████████████████████████████████████████████████████████████████████████████████████████████| 24/24 [00:18<00:00,  1.29it/s]\n",
      "Training (5255 / 25000 Steps) (loss=0.59835): 100%|████████████████████████████████████████████████████████████████████████████████████████████████████████████████████████| 24/24 [00:18<00:00,  1.30it/s]\n",
      "Training (5279 / 25000 Steps) (loss=0.57644): 100%|████████████████████████████████████████████████████████████████████████████████████████████████████████████████████████| 24/24 [00:18<00:00,  1.29it/s]\n",
      "Training (5303 / 25000 Steps) (loss=0.70298): 100%|████████████████████████████████████████████████████████████████████████████████████████████████████████████████████████| 24/24 [00:18<00:00,  1.29it/s]\n",
      "Training (5327 / 25000 Steps) (loss=0.55284): 100%|████████████████████████████████████████████████████████████████████████████████████████████████████████████████████████| 24/24 [00:18<00:00,  1.29it/s]\n",
      "Training (5351 / 25000 Steps) (loss=0.55098): 100%|████████████████████████████████████████████████████████████████████████████████████████████████████████████████████████| 24/24 [00:18<00:00,  1.29it/s]\n",
      "Training (5375 / 25000 Steps) (loss=0.47861): 100%|████████████████████████████████████████████████████████████████████████████████████████████████████████████████████████| 24/24 [00:18<00:00,  1.29it/s]\n",
      "Training (5399 / 25000 Steps) (loss=0.85264): 100%|████████████████████████████████████████████████████████████████████████████████████████████████████████████████████████| 24/24 [00:18<00:00,  1.29it/s]\n",
      "Training (5423 / 25000 Steps) (loss=0.55917): 100%|████████████████████████████████████████████████████████████████████████████████████████████████████████████████████████| 24/24 [00:18<00:00,  1.29it/s]\n",
      "Training (5447 / 25000 Steps) (loss=0.60144): 100%|████████████████████████████████████████████████████████████████████████████████████████████████████████████████████████| 24/24 [00:18<00:00,  1.29it/s]\n",
      "Training (5471 / 25000 Steps) (loss=0.73423): 100%|████████████████████████████████████████████████████████████████████████████████████████████████████████████████████████| 24/24 [00:18<00:00,  1.30it/s]\n",
      "Training (5495 / 25000 Steps) (loss=0.61066): 100%|████████████████████████████████████████████████████████████████████████████████████████████████████████████████████████| 24/24 [00:18<00:00,  1.29it/s]\n",
      "Training (5500 / 25000 Steps) (loss=0.65267):  17%|████████████████████▏                                                                                                    | 4/24 [00:03<00:15,  1.29it/s]\n",
      "Validate (X / X Steps) (dice=X.X):   0%|                                                                                                                                             | 0/6 [00:00<?, ?it/s]\u001b[A\n",
      "Validate (5496 / 10 Steps):   0%|                                                                                                                                                    | 0/6 [00:02<?, ?it/s]\u001b[A\n",
      "Validate (5496 / 10 Steps):  17%|███████████████████████▎                                                                                                                    | 1/6 [00:02<00:12,  2.49s/it]\u001b[A\n",
      "Validate (5496 / 10 Steps):  17%|███████████████████████▎                                                                                                                    | 1/6 [00:05<00:12,  2.49s/it]\u001b[A\n",
      "Validate (5496 / 10 Steps):  33%|██████████████████████████████████████████████▋                                                                                             | 2/6 [00:05<00:10,  2.56s/it]\u001b[A\n",
      "Validate (5496 / 10 Steps):  33%|██████████████████████████████████████████████▋                                                                                             | 2/6 [00:07<00:10,  2.56s/it]\u001b[A\n",
      "Validate (5496 / 10 Steps):  50%|██████████████████████████████████████████████████████████████████████                                                                      | 3/6 [00:07<00:06,  2.28s/it]\u001b[A\n",
      "Validate (5496 / 10 Steps):  50%|██████████████████████████████████████████████████████████████████████                                                                      | 3/6 [00:11<00:06,  2.28s/it]\u001b[A\n",
      "Validate (5496 / 10 Steps):  67%|█████████████████████████████████████████████████████████████████████████████████████████████▎                                              | 4/6 [00:11<00:06,  3.09s/it]\u001b[A\n",
      "Validate (5496 / 10 Steps):  67%|█████████████████████████████████████████████████████████████████████████████████████████████▎                                              | 4/6 [00:13<00:06,  3.09s/it]\u001b[A\n",
      "Validate (5496 / 10 Steps):  83%|████████████████████████████████████████████████████████████████████████████████████████████████████████████████████▋                       | 5/6 [00:13<00:02,  2.86s/it]\u001b[A\n",
      "Validate (5496 / 10 Steps):  83%|████████████████████████████████████████████████████████████████████████████████████████████████████████████████████▋                       | 5/6 [00:16<00:02,  2.86s/it]\u001b[A\n",
      "Validate (5496 / 10 Steps): 100%|████████████████████████████████████████████████████████████████████████████████████████████████████████████████████████████████████████████| 6/6 [00:16<00:00,  2.74s/it]\u001b[A\n",
      "Training (5500 / 25000 Steps) (loss=0.65267):  21%|█████████████████████████▏                                                                                               | 5/24 [00:20<02:07,  6.70s/it]"
     ]
    },
    {
     "name": "stdout",
     "output_type": "stream",
     "text": [
      "Model Was Not Saved ! Current Best Avg. Dice: 0.8674485683441162 Current Avg. Dice: 0.8469637036323547\n"
     ]
    },
    {
     "name": "stderr",
     "output_type": "stream",
     "text": [
      "Training (5519 / 25000 Steps) (loss=0.63384): 100%|████████████████████████████████████████████████████████████████████████████████████████████████████████████████████████| 24/24 [00:34<00:00,  1.46s/it]\n",
      "Training (5543 / 25000 Steps) (loss=0.65853): 100%|████████████████████████████████████████████████████████████████████████████████████████████████████████████████████████| 24/24 [00:18<00:00,  1.30it/s]\n",
      "Training (5567 / 25000 Steps) (loss=0.74143): 100%|████████████████████████████████████████████████████████████████████████████████████████████████████████████████████████| 24/24 [00:18<00:00,  1.29it/s]\n",
      "Training (5591 / 25000 Steps) (loss=0.44068): 100%|████████████████████████████████████████████████████████████████████████████████████████████████████████████████████████| 24/24 [00:18<00:00,  1.29it/s]\n",
      "Training (5615 / 25000 Steps) (loss=0.73336): 100%|████████████████████████████████████████████████████████████████████████████████████████████████████████████████████████| 24/24 [00:18<00:00,  1.29it/s]\n",
      "Training (5639 / 25000 Steps) (loss=0.65092): 100%|████████████████████████████████████████████████████████████████████████████████████████████████████████████████████████| 24/24 [00:18<00:00,  1.30it/s]\n",
      "Training (5663 / 25000 Steps) (loss=0.53436): 100%|████████████████████████████████████████████████████████████████████████████████████████████████████████████████████████| 24/24 [00:18<00:00,  1.30it/s]\n",
      "Training (5687 / 25000 Steps) (loss=0.64472): 100%|████████████████████████████████████████████████████████████████████████████████████████████████████████████████████████| 24/24 [00:18<00:00,  1.29it/s]\n",
      "Training (5711 / 25000 Steps) (loss=0.75241): 100%|████████████████████████████████████████████████████████████████████████████████████████████████████████████████████████| 24/24 [00:18<00:00,  1.30it/s]\n",
      "Training (5735 / 25000 Steps) (loss=0.55583): 100%|████████████████████████████████████████████████████████████████████████████████████████████████████████████████████████| 24/24 [00:18<00:00,  1.29it/s]\n",
      "Training (5759 / 25000 Steps) (loss=0.71386): 100%|████████████████████████████████████████████████████████████████████████████████████████████████████████████████████████| 24/24 [00:18<00:00,  1.29it/s]\n",
      "Training (5783 / 25000 Steps) (loss=0.47803): 100%|████████████████████████████████████████████████████████████████████████████████████████████████████████████████████████| 24/24 [00:18<00:00,  1.29it/s]\n",
      "Training (5807 / 25000 Steps) (loss=0.52612): 100%|████████████████████████████████████████████████████████████████████████████████████████████████████████████████████████| 24/24 [00:18<00:00,  1.30it/s]\n",
      "Training (5831 / 25000 Steps) (loss=0.69252): 100%|████████████████████████████████████████████████████████████████████████████████████████████████████████████████████████| 24/24 [00:18<00:00,  1.30it/s]\n",
      "Training (5855 / 25000 Steps) (loss=0.71313): 100%|████████████████████████████████████████████████████████████████████████████████████████████████████████████████████████| 24/24 [00:18<00:00,  1.30it/s]\n",
      "Training (5879 / 25000 Steps) (loss=0.84280): 100%|████████████████████████████████████████████████████████████████████████████████████████████████████████████████████████| 24/24 [00:18<00:00,  1.30it/s]\n",
      "Training (5903 / 25000 Steps) (loss=0.56026): 100%|████████████████████████████████████████████████████████████████████████████████████████████████████████████████████████| 24/24 [00:18<00:00,  1.29it/s]\n",
      "Training (5927 / 25000 Steps) (loss=0.67332): 100%|████████████████████████████████████████████████████████████████████████████████████████████████████████████████████████| 24/24 [00:18<00:00,  1.29it/s]\n",
      "Training (5951 / 25000 Steps) (loss=0.68247): 100%|████████████████████████████████████████████████████████████████████████████████████████████████████████████████████████| 24/24 [00:18<00:00,  1.30it/s]\n",
      "Training (5975 / 25000 Steps) (loss=0.67059): 100%|████████████████████████████████████████████████████████████████████████████████████████████████████████████████████████| 24/24 [00:18<00:00,  1.30it/s]\n",
      "Training (5999 / 25000 Steps) (loss=0.62867): 100%|████████████████████████████████████████████████████████████████████████████████████████████████████████████████████████| 24/24 [00:18<00:00,  1.29it/s]\n",
      "Training (6000 / 25000 Steps) (loss=0.59293):   0%|                                                                                                                                 | 0/24 [00:00<?, ?it/s]\n",
      "Validate (X / X Steps) (dice=X.X):   0%|                                                                                                                                             | 0/6 [00:00<?, ?it/s]\u001b[A\n",
      "Validate (6000 / 10 Steps):   0%|                                                                                                                                                    | 0/6 [00:02<?, ?it/s]\u001b[A\n",
      "Validate (6000 / 10 Steps):  17%|███████████████████████▎                                                                                                                    | 1/6 [00:02<00:12,  2.49s/it]\u001b[A\n",
      "Validate (6000 / 10 Steps):  17%|███████████████████████▎                                                                                                                    | 1/6 [00:05<00:12,  2.49s/it]\u001b[A\n",
      "Validate (6000 / 10 Steps):  33%|██████████████████████████████████████████████▋                                                                                             | 2/6 [00:05<00:10,  2.56s/it]\u001b[A\n",
      "Validate (6000 / 10 Steps):  33%|██████████████████████████████████████████████▋                                                                                             | 2/6 [00:07<00:10,  2.56s/it]\u001b[A\n",
      "Validate (6000 / 10 Steps):  50%|██████████████████████████████████████████████████████████████████████                                                                      | 3/6 [00:07<00:06,  2.29s/it]\u001b[A\n",
      "Validate (6000 / 10 Steps):  50%|██████████████████████████████████████████████████████████████████████                                                                      | 3/6 [00:11<00:06,  2.29s/it]\u001b[A\n",
      "Validate (6000 / 10 Steps):  67%|█████████████████████████████████████████████████████████████████████████████████████████████▎                                              | 4/6 [00:11<00:06,  3.09s/it]\u001b[A\n",
      "Validate (6000 / 10 Steps):  67%|█████████████████████████████████████████████████████████████████████████████████████████████▎                                              | 4/6 [00:13<00:06,  3.09s/it]\u001b[A\n",
      "Validate (6000 / 10 Steps):  83%|████████████████████████████████████████████████████████████████████████████████████████████████████████████████████▋                       | 5/6 [00:13<00:02,  2.86s/it]\u001b[A\n",
      "Validate (6000 / 10 Steps):  83%|████████████████████████████████████████████████████████████████████████████████████████████████████████████████████▋                       | 5/6 [00:16<00:02,  2.86s/it]\u001b[A\n",
      "Validate (6000 / 10 Steps): 100%|████████████████████████████████████████████████████████████████████████████████████████████████████████████████████████████████████████████| 6/6 [00:16<00:00,  2.74s/it]\u001b[A\n",
      "Training (6000 / 25000 Steps) (loss=0.59293):   4%|█████                                                                                                                    | 1/24 [00:17<06:43, 17.53s/it]"
     ]
    },
    {
     "name": "stdout",
     "output_type": "stream",
     "text": [
      "Model Was Saved ! Current Best Avg. Dice: 0.8717462420463562 Current Avg. Dice: 0.8717462420463562\n"
     ]
    },
    {
     "name": "stderr",
     "output_type": "stream",
     "text": [
      "Training (6023 / 25000 Steps) (loss=0.61944): 100%|████████████████████████████████████████████████████████████████████████████████████████████████████████████████████████| 24/24 [00:35<00:00,  1.47s/it]\n",
      "Training (6047 / 25000 Steps) (loss=0.60808): 100%|████████████████████████████████████████████████████████████████████████████████████████████████████████████████████████| 24/24 [00:18<00:00,  1.29it/s]\n",
      "Training (6071 / 25000 Steps) (loss=0.58974): 100%|████████████████████████████████████████████████████████████████████████████████████████████████████████████████████████| 24/24 [00:18<00:00,  1.29it/s]\n",
      "Training (6095 / 25000 Steps) (loss=0.59448): 100%|████████████████████████████████████████████████████████████████████████████████████████████████████████████████████████| 24/24 [00:18<00:00,  1.30it/s]\n",
      "Training (6119 / 25000 Steps) (loss=0.39909): 100%|████████████████████████████████████████████████████████████████████████████████████████████████████████████████████████| 24/24 [00:18<00:00,  1.30it/s]\n",
      "Training (6143 / 25000 Steps) (loss=0.58376): 100%|████████████████████████████████████████████████████████████████████████████████████████████████████████████████████████| 24/24 [00:18<00:00,  1.29it/s]\n",
      "Training (6167 / 25000 Steps) (loss=0.69097): 100%|████████████████████████████████████████████████████████████████████████████████████████████████████████████████████████| 24/24 [00:18<00:00,  1.29it/s]\n",
      "Training (6191 / 25000 Steps) (loss=0.59981): 100%|████████████████████████████████████████████████████████████████████████████████████████████████████████████████████████| 24/24 [00:18<00:00,  1.29it/s]\n",
      "Training (6215 / 25000 Steps) (loss=0.67592): 100%|████████████████████████████████████████████████████████████████████████████████████████████████████████████████████████| 24/24 [00:18<00:00,  1.30it/s]\n",
      "Training (6239 / 25000 Steps) (loss=0.53744): 100%|████████████████████████████████████████████████████████████████████████████████████████████████████████████████████████| 24/24 [00:18<00:00,  1.29it/s]\n",
      "Training (6263 / 25000 Steps) (loss=0.70020): 100%|████████████████████████████████████████████████████████████████████████████████████████████████████████████████████████| 24/24 [00:18<00:00,  1.29it/s]\n",
      "Training (6287 / 25000 Steps) (loss=0.44391): 100%|████████████████████████████████████████████████████████████████████████████████████████████████████████████████████████| 24/24 [00:18<00:00,  1.30it/s]\n",
      "Training (6311 / 25000 Steps) (loss=0.66369): 100%|████████████████████████████████████████████████████████████████████████████████████████████████████████████████████████| 24/24 [00:18<00:00,  1.29it/s]\n",
      "Training (6335 / 25000 Steps) (loss=0.62866): 100%|████████████████████████████████████████████████████████████████████████████████████████████████████████████████████████| 24/24 [00:18<00:00,  1.30it/s]\n",
      "Training (6359 / 25000 Steps) (loss=0.62574): 100%|████████████████████████████████████████████████████████████████████████████████████████████████████████████████████████| 24/24 [00:18<00:00,  1.29it/s]\n",
      "Training (6383 / 25000 Steps) (loss=0.52855): 100%|████████████████████████████████████████████████████████████████████████████████████████████████████████████████████████| 24/24 [00:18<00:00,  1.30it/s]\n",
      "Training (6407 / 25000 Steps) (loss=0.62002): 100%|████████████████████████████████████████████████████████████████████████████████████████████████████████████████████████| 24/24 [00:18<00:00,  1.30it/s]\n",
      "Training (6431 / 25000 Steps) (loss=0.74700): 100%|████████████████████████████████████████████████████████████████████████████████████████████████████████████████████████| 24/24 [00:18<00:00,  1.30it/s]\n",
      "Training (6455 / 25000 Steps) (loss=0.71040): 100%|████████████████████████████████████████████████████████████████████████████████████████████████████████████████████████| 24/24 [00:18<00:00,  1.30it/s]\n",
      "Training (6479 / 25000 Steps) (loss=0.58432): 100%|████████████████████████████████████████████████████████████████████████████████████████████████████████████████████████| 24/24 [00:18<00:00,  1.30it/s]\n",
      "Training (6500 / 25000 Steps) (loss=0.79265):  83%|████████████████████████████████████████████████████████████████████████████████████████████████████                    | 20/24 [00:16<00:03,  1.30it/s]\n",
      "Validate (X / X Steps) (dice=X.X):   0%|                                                                                                                                             | 0/6 [00:00<?, ?it/s]\u001b[A\n",
      "Validate (6480 / 10 Steps):   0%|                                                                                                                                                    | 0/6 [00:02<?, ?it/s]\u001b[A\n",
      "Validate (6480 / 10 Steps):  17%|███████████████████████▎                                                                                                                    | 1/6 [00:02<00:12,  2.48s/it]\u001b[A\n",
      "Validate (6480 / 10 Steps):  17%|███████████████████████▎                                                                                                                    | 1/6 [00:05<00:12,  2.48s/it]\u001b[A\n",
      "Validate (6480 / 10 Steps):  33%|██████████████████████████████████████████████▋                                                                                             | 2/6 [00:05<00:10,  2.56s/it]\u001b[A\n",
      "Validate (6480 / 10 Steps):  33%|██████████████████████████████████████████████▋                                                                                             | 2/6 [00:07<00:10,  2.56s/it]\u001b[A\n",
      "Validate (6480 / 10 Steps):  50%|██████████████████████████████████████████████████████████████████████                                                                      | 3/6 [00:07<00:06,  2.29s/it]\u001b[A\n",
      "Validate (6480 / 10 Steps):  50%|██████████████████████████████████████████████████████████████████████                                                                      | 3/6 [00:11<00:06,  2.29s/it]\u001b[A\n",
      "Validate (6480 / 10 Steps):  67%|█████████████████████████████████████████████████████████████████████████████████████████████▎                                              | 4/6 [00:11<00:06,  3.10s/it]\u001b[A\n",
      "Validate (6480 / 10 Steps):  67%|█████████████████████████████████████████████████████████████████████████████████████████████▎                                              | 4/6 [00:13<00:06,  3.10s/it]\u001b[A\n",
      "Validate (6480 / 10 Steps):  83%|████████████████████████████████████████████████████████████████████████████████████████████████████████████████████▋                       | 5/6 [00:13<00:02,  2.87s/it]\u001b[A\n",
      "Validate (6480 / 10 Steps):  83%|████████████████████████████████████████████████████████████████████████████████████████████████████████████████████▋                       | 5/6 [00:16<00:02,  2.87s/it]\u001b[A\n",
      "Validate (6480 / 10 Steps): 100%|████████████████████████████████████████████████████████████████████████████████████████████████████████████████████████████████████████████| 6/6 [00:16<00:00,  2.74s/it]\u001b[A\n",
      "Training (6500 / 25000 Steps) (loss=0.79265):  88%|█████████████████████████████████████████████████████████████████████████████████████████████████████████               | 21/24 [00:32<00:17,  5.71s/it]"
     ]
    },
    {
     "name": "stdout",
     "output_type": "stream",
     "text": [
      "Model Was Not Saved ! Current Best Avg. Dice: 0.8717462420463562 Current Avg. Dice: 0.8663535118103027\n"
     ]
    },
    {
     "name": "stderr",
     "output_type": "stream",
     "text": [
      "Training (6503 / 25000 Steps) (loss=0.53946): 100%|████████████████████████████████████████████████████████████████████████████████████████████████████████████████████████| 24/24 [00:35<00:00,  1.46s/it]\n",
      "Training (6527 / 25000 Steps) (loss=0.47119): 100%|████████████████████████████████████████████████████████████████████████████████████████████████████████████████████████| 24/24 [00:18<00:00,  1.30it/s]\n",
      "Training (6551 / 25000 Steps) (loss=0.87614): 100%|████████████████████████████████████████████████████████████████████████████████████████████████████████████████████████| 24/24 [00:18<00:00,  1.30it/s]\n",
      "Training (6575 / 25000 Steps) (loss=0.82410): 100%|████████████████████████████████████████████████████████████████████████████████████████████████████████████████████████| 24/24 [00:18<00:00,  1.30it/s]\n",
      "Training (6599 / 25000 Steps) (loss=0.62645): 100%|████████████████████████████████████████████████████████████████████████████████████████████████████████████████████████| 24/24 [00:18<00:00,  1.30it/s]\n",
      "Training (6623 / 25000 Steps) (loss=0.75421): 100%|████████████████████████████████████████████████████████████████████████████████████████████████████████████████████████| 24/24 [00:18<00:00,  1.29it/s]\n",
      "Training (6647 / 25000 Steps) (loss=0.75976): 100%|████████████████████████████████████████████████████████████████████████████████████████████████████████████████████████| 24/24 [00:18<00:00,  1.29it/s]\n",
      "Training (6671 / 25000 Steps) (loss=0.64286): 100%|████████████████████████████████████████████████████████████████████████████████████████████████████████████████████████| 24/24 [00:18<00:00,  1.29it/s]\n",
      "Training (6695 / 25000 Steps) (loss=0.68849): 100%|████████████████████████████████████████████████████████████████████████████████████████████████████████████████████████| 24/24 [00:18<00:00,  1.29it/s]\n",
      "Training (6719 / 25000 Steps) (loss=0.29947): 100%|████████████████████████████████████████████████████████████████████████████████████████████████████████████████████████| 24/24 [00:18<00:00,  1.29it/s]\n",
      "Training (6743 / 25000 Steps) (loss=0.61305): 100%|████████████████████████████████████████████████████████████████████████████████████████████████████████████████████████| 24/24 [00:18<00:00,  1.29it/s]\n",
      "Training (6767 / 25000 Steps) (loss=0.77670): 100%|████████████████████████████████████████████████████████████████████████████████████████████████████████████████████████| 24/24 [00:18<00:00,  1.30it/s]\n",
      "Training (6791 / 25000 Steps) (loss=0.57396): 100%|████████████████████████████████████████████████████████████████████████████████████████████████████████████████████████| 24/24 [00:18<00:00,  1.29it/s]\n",
      "Training (6815 / 25000 Steps) (loss=0.66198): 100%|████████████████████████████████████████████████████████████████████████████████████████████████████████████████████████| 24/24 [00:18<00:00,  1.30it/s]\n",
      "Training (6839 / 25000 Steps) (loss=0.73516): 100%|████████████████████████████████████████████████████████████████████████████████████████████████████████████████████████| 24/24 [00:18<00:00,  1.29it/s]\n",
      "Training (6863 / 25000 Steps) (loss=0.68651): 100%|████████████████████████████████████████████████████████████████████████████████████████████████████████████████████████| 24/24 [00:18<00:00,  1.29it/s]\n",
      "Training (6887 / 25000 Steps) (loss=0.71702): 100%|████████████████████████████████████████████████████████████████████████████████████████████████████████████████████████| 24/24 [00:18<00:00,  1.29it/s]\n",
      "Training (6911 / 25000 Steps) (loss=0.71742): 100%|████████████████████████████████████████████████████████████████████████████████████████████████████████████████████████| 24/24 [00:18<00:00,  1.29it/s]\n",
      "Training (6935 / 25000 Steps) (loss=0.54211): 100%|████████████████████████████████████████████████████████████████████████████████████████████████████████████████████████| 24/24 [00:18<00:00,  1.29it/s]\n",
      "Training (6959 / 25000 Steps) (loss=0.54050): 100%|████████████████████████████████████████████████████████████████████████████████████████████████████████████████████████| 24/24 [00:18<00:00,  1.29it/s]\n",
      "Training (6983 / 25000 Steps) (loss=0.88117): 100%|████████████████████████████████████████████████████████████████████████████████████████████████████████████████████████| 24/24 [00:18<00:00,  1.29it/s]\n",
      "Training (7000 / 25000 Steps) (loss=0.69974):  67%|████████████████████████████████████████████████████████████████████████████████                                        | 16/24 [00:13<00:06,  1.30it/s]\n",
      "Validate (X / X Steps) (dice=X.X):   0%|                                                                                                                                             | 0/6 [00:00<?, ?it/s]\u001b[A\n",
      "Validate (6984 / 10 Steps):   0%|                                                                                                                                                    | 0/6 [00:02<?, ?it/s]\u001b[A\n",
      "Validate (6984 / 10 Steps):  17%|███████████████████████▎                                                                                                                    | 1/6 [00:02<00:12,  2.49s/it]\u001b[A\n",
      "Validate (6984 / 10 Steps):  17%|███████████████████████▎                                                                                                                    | 1/6 [00:05<00:12,  2.49s/it]\u001b[A\n",
      "Validate (6984 / 10 Steps):  33%|██████████████████████████████████████████████▋                                                                                             | 2/6 [00:05<00:10,  2.56s/it]\u001b[A\n",
      "Validate (6984 / 10 Steps):  33%|██████████████████████████████████████████████▋                                                                                             | 2/6 [00:07<00:10,  2.56s/it]\u001b[A\n",
      "Validate (6984 / 10 Steps):  50%|██████████████████████████████████████████████████████████████████████                                                                      | 3/6 [00:07<00:06,  2.28s/it]\u001b[A\n",
      "Validate (6984 / 10 Steps):  50%|██████████████████████████████████████████████████████████████████████                                                                      | 3/6 [00:11<00:06,  2.28s/it]\u001b[A\n",
      "Validate (6984 / 10 Steps):  67%|█████████████████████████████████████████████████████████████████████████████████████████████▎                                              | 4/6 [00:11<00:06,  3.09s/it]\u001b[A\n",
      "Validate (6984 / 10 Steps):  67%|█████████████████████████████████████████████████████████████████████████████████████████████▎                                              | 4/6 [00:13<00:06,  3.09s/it]\u001b[A\n",
      "Validate (6984 / 10 Steps):  83%|████████████████████████████████████████████████████████████████████████████████████████████████████████████████████▋                       | 5/6 [00:13<00:02,  2.86s/it]\u001b[A\n",
      "Validate (6984 / 10 Steps):  83%|████████████████████████████████████████████████████████████████████████████████████████████████████████████████████▋                       | 5/6 [00:16<00:02,  2.86s/it]\u001b[A\n",
      "Validate (6984 / 10 Steps): 100%|████████████████████████████████████████████████████████████████████████████████████████████████████████████████████████████████████████████| 6/6 [00:16<00:00,  2.74s/it]\u001b[A\n",
      "Training (7000 / 25000 Steps) (loss=0.69974):  71%|█████████████████████████████████████████████████████████████████████████████████████                                   | 17/24 [00:29<00:40,  5.72s/it]"
     ]
    },
    {
     "name": "stdout",
     "output_type": "stream",
     "text": [
      "Model Was Not Saved ! Current Best Avg. Dice: 0.8717462420463562 Current Avg. Dice: 0.8699983954429626\n"
     ]
    },
    {
     "name": "stderr",
     "output_type": "stream",
     "text": [
      "Training (7007 / 25000 Steps) (loss=0.67360): 100%|████████████████████████████████████████████████████████████████████████████████████████████████████████████████████████| 24/24 [00:34<00:00,  1.46s/it]\n",
      "Training (7031 / 25000 Steps) (loss=0.73909): 100%|████████████████████████████████████████████████████████████████████████████████████████████████████████████████████████| 24/24 [00:18<00:00,  1.30it/s]\n",
      "Training (7055 / 25000 Steps) (loss=0.55696): 100%|████████████████████████████████████████████████████████████████████████████████████████████████████████████████████████| 24/24 [00:18<00:00,  1.29it/s]\n",
      "Training (7079 / 25000 Steps) (loss=0.24174): 100%|████████████████████████████████████████████████████████████████████████████████████████████████████████████████████████| 24/24 [00:18<00:00,  1.29it/s]\n",
      "Training (7103 / 25000 Steps) (loss=0.60038): 100%|████████████████████████████████████████████████████████████████████████████████████████████████████████████████████████| 24/24 [00:18<00:00,  1.29it/s]\n",
      "Training (7127 / 25000 Steps) (loss=0.71405): 100%|████████████████████████████████████████████████████████████████████████████████████████████████████████████████████████| 24/24 [00:18<00:00,  1.29it/s]\n",
      "Training (7151 / 25000 Steps) (loss=0.54805): 100%|████████████████████████████████████████████████████████████████████████████████████████████████████████████████████████| 24/24 [00:18<00:00,  1.30it/s]\n",
      "Training (7175 / 25000 Steps) (loss=0.54556): 100%|████████████████████████████████████████████████████████████████████████████████████████████████████████████████████████| 24/24 [00:18<00:00,  1.30it/s]\n",
      "Training (7199 / 25000 Steps) (loss=0.62919): 100%|████████████████████████████████████████████████████████████████████████████████████████████████████████████████████████| 24/24 [00:18<00:00,  1.30it/s]\n",
      "Training (7223 / 25000 Steps) (loss=0.55774): 100%|████████████████████████████████████████████████████████████████████████████████████████████████████████████████████████| 24/24 [00:18<00:00,  1.29it/s]\n",
      "Training (7247 / 25000 Steps) (loss=0.53034): 100%|████████████████████████████████████████████████████████████████████████████████████████████████████████████████████████| 24/24 [00:18<00:00,  1.30it/s]\n",
      "Training (7271 / 25000 Steps) (loss=0.64292): 100%|████████████████████████████████████████████████████████████████████████████████████████████████████████████████████████| 24/24 [00:18<00:00,  1.30it/s]\n",
      "Training (7295 / 25000 Steps) (loss=0.42324): 100%|████████████████████████████████████████████████████████████████████████████████████████████████████████████████████████| 24/24 [00:18<00:00,  1.29it/s]\n",
      "Training (7319 / 25000 Steps) (loss=0.38944): 100%|████████████████████████████████████████████████████████████████████████████████████████████████████████████████████████| 24/24 [00:18<00:00,  1.30it/s]\n",
      "Training (7343 / 25000 Steps) (loss=0.45815): 100%|████████████████████████████████████████████████████████████████████████████████████████████████████████████████████████| 24/24 [00:18<00:00,  1.29it/s]\n",
      "Training (7367 / 25000 Steps) (loss=0.76411): 100%|████████████████████████████████████████████████████████████████████████████████████████████████████████████████████████| 24/24 [00:18<00:00,  1.30it/s]\n",
      "Training (7391 / 25000 Steps) (loss=0.50133): 100%|████████████████████████████████████████████████████████████████████████████████████████████████████████████████████████| 24/24 [00:18<00:00,  1.30it/s]\n",
      "Training (7415 / 25000 Steps) (loss=0.48791): 100%|████████████████████████████████████████████████████████████████████████████████████████████████████████████████████████| 24/24 [00:18<00:00,  1.29it/s]\n",
      "Training (7439 / 25000 Steps) (loss=0.56010): 100%|████████████████████████████████████████████████████████████████████████████████████████████████████████████████████████| 24/24 [00:18<00:00,  1.29it/s]\n",
      "Training (7463 / 25000 Steps) (loss=0.59564): 100%|████████████████████████████████████████████████████████████████████████████████████████████████████████████████████████| 24/24 [00:18<00:00,  1.29it/s]\n",
      "Training (7487 / 25000 Steps) (loss=0.77495): 100%|████████████████████████████████████████████████████████████████████████████████████████████████████████████████████████| 24/24 [00:18<00:00,  1.29it/s]\n",
      "Training (7500 / 25000 Steps) (loss=0.63802):  50%|████████████████████████████████████████████████████████████                                                            | 12/24 [00:10<00:09,  1.29it/s]\n",
      "Validate (X / X Steps) (dice=X.X):   0%|                                                                                                                                             | 0/6 [00:00<?, ?it/s]\u001b[A\n",
      "Validate (7488 / 10 Steps):   0%|                                                                                                                                                    | 0/6 [00:02<?, ?it/s]\u001b[A\n",
      "Validate (7488 / 10 Steps):  17%|███████████████████████▎                                                                                                                    | 1/6 [00:02<00:12,  2.49s/it]\u001b[A\n",
      "Validate (7488 / 10 Steps):  17%|███████████████████████▎                                                                                                                    | 1/6 [00:05<00:12,  2.49s/it]\u001b[A\n",
      "Validate (7488 / 10 Steps):  33%|██████████████████████████████████████████████▋                                                                                             | 2/6 [00:05<00:10,  2.56s/it]\u001b[A\n",
      "Validate (7488 / 10 Steps):  33%|██████████████████████████████████████████████▋                                                                                             | 2/6 [00:07<00:10,  2.56s/it]\u001b[A\n",
      "Validate (7488 / 10 Steps):  50%|██████████████████████████████████████████████████████████████████████                                                                      | 3/6 [00:07<00:06,  2.29s/it]\u001b[A\n",
      "Validate (7488 / 10 Steps):  50%|██████████████████████████████████████████████████████████████████████                                                                      | 3/6 [00:11<00:06,  2.29s/it]\u001b[A\n",
      "Validate (7488 / 10 Steps):  67%|█████████████████████████████████████████████████████████████████████████████████████████████▎                                              | 4/6 [00:11<00:06,  3.10s/it]\u001b[A\n",
      "Validate (7488 / 10 Steps):  67%|█████████████████████████████████████████████████████████████████████████████████████████████▎                                              | 4/6 [00:13<00:06,  3.10s/it]\u001b[A\n",
      "Validate (7488 / 10 Steps):  83%|████████████████████████████████████████████████████████████████████████████████████████████████████████████████████▋                       | 5/6 [00:13<00:02,  2.87s/it]\u001b[A\n",
      "Validate (7488 / 10 Steps):  83%|████████████████████████████████████████████████████████████████████████████████████████████████████████████████████▋                       | 5/6 [00:16<00:02,  2.87s/it]\u001b[A\n",
      "Validate (7488 / 10 Steps): 100%|████████████████████████████████████████████████████████████████████████████████████████████████████████████████████████████████████████████| 6/6 [00:16<00:00,  2.74s/it]\u001b[A\n",
      "Training (7500 / 25000 Steps) (loss=0.63802):  54%|█████████████████████████████████████████████████████████████████                                                       | 13/24 [00:26<01:04,  5.83s/it]"
     ]
    },
    {
     "name": "stdout",
     "output_type": "stream",
     "text": [
      "Model Was Saved ! Current Best Avg. Dice: 0.8773309588432312 Current Avg. Dice: 0.8773309588432312\n"
     ]
    },
    {
     "name": "stderr",
     "output_type": "stream",
     "text": [
      "Training (7511 / 25000 Steps) (loss=0.69606): 100%|████████████████████████████████████████████████████████████████████████████████████████████████████████████████████████| 24/24 [00:35<00:00,  1.47s/it]\n",
      "Training (7535 / 25000 Steps) (loss=0.75864): 100%|████████████████████████████████████████████████████████████████████████████████████████████████████████████████████████| 24/24 [00:18<00:00,  1.29it/s]\n",
      "Training (7559 / 25000 Steps) (loss=0.63532): 100%|████████████████████████████████████████████████████████████████████████████████████████████████████████████████████████| 24/24 [00:18<00:00,  1.29it/s]\n",
      "Training (7583 / 25000 Steps) (loss=0.64008): 100%|████████████████████████████████████████████████████████████████████████████████████████████████████████████████████████| 24/24 [00:18<00:00,  1.29it/s]\n",
      "Training (7607 / 25000 Steps) (loss=0.65042): 100%|████████████████████████████████████████████████████████████████████████████████████████████████████████████████████████| 24/24 [00:18<00:00,  1.29it/s]\n",
      "Training (7631 / 25000 Steps) (loss=0.64985): 100%|████████████████████████████████████████████████████████████████████████████████████████████████████████████████████████| 24/24 [00:18<00:00,  1.30it/s]\n",
      "Training (7655 / 25000 Steps) (loss=0.56312): 100%|████████████████████████████████████████████████████████████████████████████████████████████████████████████████████████| 24/24 [00:18<00:00,  1.29it/s]\n",
      "Training (7679 / 25000 Steps) (loss=0.38609): 100%|████████████████████████████████████████████████████████████████████████████████████████████████████████████████████████| 24/24 [00:18<00:00,  1.30it/s]\n",
      "Training (7703 / 25000 Steps) (loss=0.62301): 100%|████████████████████████████████████████████████████████████████████████████████████████████████████████████████████████| 24/24 [00:18<00:00,  1.30it/s]\n",
      "Training (7727 / 25000 Steps) (loss=0.47468): 100%|████████████████████████████████████████████████████████████████████████████████████████████████████████████████████████| 24/24 [00:18<00:00,  1.30it/s]\n",
      "Training (7751 / 25000 Steps) (loss=0.75321): 100%|████████████████████████████████████████████████████████████████████████████████████████████████████████████████████████| 24/24 [00:18<00:00,  1.29it/s]\n",
      "Training (7775 / 25000 Steps) (loss=0.63897): 100%|████████████████████████████████████████████████████████████████████████████████████████████████████████████████████████| 24/24 [00:18<00:00,  1.30it/s]\n",
      "Training (7799 / 25000 Steps) (loss=0.52882): 100%|████████████████████████████████████████████████████████████████████████████████████████████████████████████████████████| 24/24 [00:18<00:00,  1.29it/s]\n",
      "Training (7823 / 25000 Steps) (loss=0.56289): 100%|████████████████████████████████████████████████████████████████████████████████████████████████████████████████████████| 24/24 [00:18<00:00,  1.30it/s]\n",
      "Training (7847 / 25000 Steps) (loss=0.40465): 100%|████████████████████████████████████████████████████████████████████████████████████████████████████████████████████████| 24/24 [00:18<00:00,  1.29it/s]\n",
      "Training (7871 / 25000 Steps) (loss=0.72652): 100%|████████████████████████████████████████████████████████████████████████████████████████████████████████████████████████| 24/24 [00:18<00:00,  1.30it/s]\n",
      "Training (7895 / 25000 Steps) (loss=0.63018): 100%|████████████████████████████████████████████████████████████████████████████████████████████████████████████████████████| 24/24 [00:18<00:00,  1.30it/s]\n",
      "Training (7919 / 25000 Steps) (loss=0.73752): 100%|████████████████████████████████████████████████████████████████████████████████████████████████████████████████████████| 24/24 [00:18<00:00,  1.29it/s]\n",
      "Training (7943 / 25000 Steps) (loss=0.65346): 100%|████████████████████████████████████████████████████████████████████████████████████████████████████████████████████████| 24/24 [00:18<00:00,  1.29it/s]\n",
      "Training (7967 / 25000 Steps) (loss=0.40351): 100%|████████████████████████████████████████████████████████████████████████████████████████████████████████████████████████| 24/24 [00:18<00:00,  1.30it/s]\n",
      "Training (7991 / 25000 Steps) (loss=0.52059): 100%|████████████████████████████████████████████████████████████████████████████████████████████████████████████████████████| 24/24 [00:18<00:00,  1.29it/s]\n",
      "Training (8000 / 25000 Steps) (loss=0.52097):  33%|████████████████████████████████████████▎                                                                                | 8/24 [00:06<00:12,  1.29it/s]\n",
      "Validate (X / X Steps) (dice=X.X):   0%|                                                                                                                                             | 0/6 [00:00<?, ?it/s]\u001b[A\n",
      "Validate (7992 / 10 Steps):   0%|                                                                                                                                                    | 0/6 [00:02<?, ?it/s]\u001b[A\n",
      "Validate (7992 / 10 Steps):  17%|███████████████████████▎                                                                                                                    | 1/6 [00:02<00:12,  2.48s/it]\u001b[A\n",
      "Validate (7992 / 10 Steps):  17%|███████████████████████▎                                                                                                                    | 1/6 [00:05<00:12,  2.48s/it]\u001b[A\n",
      "Validate (7992 / 10 Steps):  33%|██████████████████████████████████████████████▋                                                                                             | 2/6 [00:05<00:10,  2.55s/it]\u001b[A\n",
      "Validate (7992 / 10 Steps):  33%|██████████████████████████████████████████████▋                                                                                             | 2/6 [00:07<00:10,  2.55s/it]\u001b[A\n",
      "Validate (7992 / 10 Steps):  50%|██████████████████████████████████████████████████████████████████████                                                                      | 3/6 [00:07<00:06,  2.28s/it]\u001b[A\n",
      "Validate (7992 / 10 Steps):  50%|██████████████████████████████████████████████████████████████████████                                                                      | 3/6 [00:11<00:06,  2.28s/it]\u001b[A\n",
      "Validate (7992 / 10 Steps):  67%|█████████████████████████████████████████████████████████████████████████████████████████████▎                                              | 4/6 [00:11<00:06,  3.09s/it]\u001b[A\n",
      "Validate (7992 / 10 Steps):  67%|█████████████████████████████████████████████████████████████████████████████████████████████▎                                              | 4/6 [00:13<00:06,  3.09s/it]\u001b[A\n",
      "Validate (7992 / 10 Steps):  83%|████████████████████████████████████████████████████████████████████████████████████████████████████████████████████▋                       | 5/6 [00:13<00:02,  2.86s/it]\u001b[A\n",
      "Validate (7992 / 10 Steps):  83%|████████████████████████████████████████████████████████████████████████████████████████████████████████████████████▋                       | 5/6 [00:16<00:02,  2.86s/it]\u001b[A\n",
      "Validate (7992 / 10 Steps): 100%|████████████████████████████████████████████████████████████████████████████████████████████████████████████████████████████████████████████| 6/6 [00:16<00:00,  2.74s/it]\u001b[A\n",
      "Training (8000 / 25000 Steps) (loss=0.52097):  38%|█████████████████████████████████████████████▍                                                                           | 9/24 [00:23<01:28,  5.91s/it]"
     ]
    },
    {
     "name": "stdout",
     "output_type": "stream",
     "text": [
      "Model Was Not Saved ! Current Best Avg. Dice: 0.8773309588432312 Current Avg. Dice: 0.866121232509613\n"
     ]
    },
    {
     "name": "stderr",
     "output_type": "stream",
     "text": [
      "Training (8015 / 25000 Steps) (loss=0.35473): 100%|████████████████████████████████████████████████████████████████████████████████████████████████████████████████████████| 24/24 [00:34<00:00,  1.46s/it]\n",
      "Training (8039 / 25000 Steps) (loss=0.47664): 100%|████████████████████████████████████████████████████████████████████████████████████████████████████████████████████████| 24/24 [00:18<00:00,  1.29it/s]\n",
      "Training (8063 / 25000 Steps) (loss=0.34608): 100%|████████████████████████████████████████████████████████████████████████████████████████████████████████████████████████| 24/24 [00:18<00:00,  1.30it/s]\n",
      "Training (8087 / 25000 Steps) (loss=0.68955): 100%|████████████████████████████████████████████████████████████████████████████████████████████████████████████████████████| 24/24 [00:18<00:00,  1.29it/s]\n",
      "Training (8111 / 25000 Steps) (loss=0.65070): 100%|████████████████████████████████████████████████████████████████████████████████████████████████████████████████████████| 24/24 [00:18<00:00,  1.29it/s]\n",
      "Training (8135 / 25000 Steps) (loss=0.66417): 100%|████████████████████████████████████████████████████████████████████████████████████████████████████████████████████████| 24/24 [00:18<00:00,  1.29it/s]\n",
      "Training (8159 / 25000 Steps) (loss=0.59184): 100%|████████████████████████████████████████████████████████████████████████████████████████████████████████████████████████| 24/24 [00:18<00:00,  1.29it/s]\n",
      "Training (8183 / 25000 Steps) (loss=0.65342): 100%|████████████████████████████████████████████████████████████████████████████████████████████████████████████████████████| 24/24 [00:18<00:00,  1.30it/s]\n",
      "Training (8207 / 25000 Steps) (loss=0.42476): 100%|████████████████████████████████████████████████████████████████████████████████████████████████████████████████████████| 24/24 [00:18<00:00,  1.30it/s]\n",
      "Training (8231 / 25000 Steps) (loss=0.58450): 100%|████████████████████████████████████████████████████████████████████████████████████████████████████████████████████████| 24/24 [00:18<00:00,  1.29it/s]\n",
      "Training (8255 / 25000 Steps) (loss=0.50917): 100%|████████████████████████████████████████████████████████████████████████████████████████████████████████████████████████| 24/24 [00:18<00:00,  1.30it/s]\n",
      "Training (8279 / 25000 Steps) (loss=0.59843): 100%|████████████████████████████████████████████████████████████████████████████████████████████████████████████████████████| 24/24 [00:18<00:00,  1.29it/s]\n",
      "Training (8303 / 25000 Steps) (loss=0.42588): 100%|████████████████████████████████████████████████████████████████████████████████████████████████████████████████████████| 24/24 [00:18<00:00,  1.30it/s]\n",
      "Training (8327 / 25000 Steps) (loss=0.76803): 100%|████████████████████████████████████████████████████████████████████████████████████████████████████████████████████████| 24/24 [00:18<00:00,  1.29it/s]\n",
      "Training (8351 / 25000 Steps) (loss=0.48167): 100%|████████████████████████████████████████████████████████████████████████████████████████████████████████████████████████| 24/24 [00:18<00:00,  1.30it/s]\n",
      "Training (8375 / 25000 Steps) (loss=0.67418): 100%|████████████████████████████████████████████████████████████████████████████████████████████████████████████████████████| 24/24 [00:18<00:00,  1.30it/s]\n",
      "Training (8399 / 25000 Steps) (loss=0.44393): 100%|████████████████████████████████████████████████████████████████████████████████████████████████████████████████████████| 24/24 [00:18<00:00,  1.29it/s]\n",
      "Training (8423 / 25000 Steps) (loss=0.42216): 100%|████████████████████████████████████████████████████████████████████████████████████████████████████████████████████████| 24/24 [00:18<00:00,  1.29it/s]\n",
      "Training (8447 / 25000 Steps) (loss=0.40410): 100%|████████████████████████████████████████████████████████████████████████████████████████████████████████████████████████| 24/24 [00:18<00:00,  1.30it/s]\n",
      "Training (8471 / 25000 Steps) (loss=0.72664): 100%|████████████████████████████████████████████████████████████████████████████████████████████████████████████████████████| 24/24 [00:18<00:00,  1.29it/s]\n",
      "Training (8495 / 25000 Steps) (loss=0.56174): 100%|████████████████████████████████████████████████████████████████████████████████████████████████████████████████████████| 24/24 [00:18<00:00,  1.29it/s]\n",
      "Training (8500 / 25000 Steps) (loss=0.65444):  17%|████████████████████▏                                                                                                    | 4/24 [00:03<00:15,  1.28it/s]\n",
      "Validate (X / X Steps) (dice=X.X):   0%|                                                                                                                                             | 0/6 [00:00<?, ?it/s]\u001b[A\n",
      "Validate (8496 / 10 Steps):   0%|                                                                                                                                                    | 0/6 [00:02<?, ?it/s]\u001b[A\n",
      "Validate (8496 / 10 Steps):  17%|███████████████████████▎                                                                                                                    | 1/6 [00:02<00:12,  2.48s/it]\u001b[A\n",
      "Validate (8496 / 10 Steps):  17%|███████████████████████▎                                                                                                                    | 1/6 [00:05<00:12,  2.48s/it]\u001b[A\n",
      "Validate (8496 / 10 Steps):  33%|██████████████████████████████████████████████▋                                                                                             | 2/6 [00:05<00:10,  2.56s/it]\u001b[A\n",
      "Validate (8496 / 10 Steps):  33%|██████████████████████████████████████████████▋                                                                                             | 2/6 [00:07<00:10,  2.56s/it]\u001b[A\n",
      "Validate (8496 / 10 Steps):  50%|██████████████████████████████████████████████████████████████████████                                                                      | 3/6 [00:07<00:06,  2.28s/it]\u001b[A\n",
      "Validate (8496 / 10 Steps):  50%|██████████████████████████████████████████████████████████████████████                                                                      | 3/6 [00:11<00:06,  2.28s/it]\u001b[A\n",
      "Validate (8496 / 10 Steps):  67%|█████████████████████████████████████████████████████████████████████████████████████████████▎                                              | 4/6 [00:11<00:06,  3.09s/it]\u001b[A\n",
      "Validate (8496 / 10 Steps):  67%|█████████████████████████████████████████████████████████████████████████████████████████████▎                                              | 4/6 [00:13<00:06,  3.09s/it]\u001b[A\n",
      "Validate (8496 / 10 Steps):  83%|████████████████████████████████████████████████████████████████████████████████████████████████████████████████████▋                       | 5/6 [00:13<00:02,  2.86s/it]\u001b[A\n",
      "Validate (8496 / 10 Steps):  83%|████████████████████████████████████████████████████████████████████████████████████████████████████████████████████▋                       | 5/6 [00:16<00:02,  2.86s/it]\u001b[A\n",
      "Validate (8496 / 10 Steps): 100%|████████████████████████████████████████████████████████████████████████████████████████████████████████████████████████████████████████████| 6/6 [00:16<00:00,  2.74s/it]\u001b[A\n",
      "Training (8500 / 25000 Steps) (loss=0.65444):  21%|█████████████████████████▏                                                                                               | 5/24 [00:20<02:07,  6.70s/it]"
     ]
    },
    {
     "name": "stdout",
     "output_type": "stream",
     "text": [
      "Model Was Not Saved ! Current Best Avg. Dice: 0.8773309588432312 Current Avg. Dice: 0.8466154932975769\n"
     ]
    },
    {
     "name": "stderr",
     "output_type": "stream",
     "text": [
      "Training (8519 / 25000 Steps) (loss=0.61611): 100%|████████████████████████████████████████████████████████████████████████████████████████████████████████████████████████| 24/24 [00:34<00:00,  1.46s/it]\n",
      "Training (8543 / 25000 Steps) (loss=0.66121): 100%|████████████████████████████████████████████████████████████████████████████████████████████████████████████████████████| 24/24 [00:18<00:00,  1.29it/s]\n",
      "Training (8567 / 25000 Steps) (loss=0.74545): 100%|████████████████████████████████████████████████████████████████████████████████████████████████████████████████████████| 24/24 [00:18<00:00,  1.29it/s]\n",
      "Training (8591 / 25000 Steps) (loss=0.62661): 100%|████████████████████████████████████████████████████████████████████████████████████████████████████████████████████████| 24/24 [00:18<00:00,  1.29it/s]\n",
      "Training (8615 / 25000 Steps) (loss=0.68530): 100%|████████████████████████████████████████████████████████████████████████████████████████████████████████████████████████| 24/24 [00:18<00:00,  1.29it/s]\n",
      "Training (8639 / 25000 Steps) (loss=0.67285): 100%|████████████████████████████████████████████████████████████████████████████████████████████████████████████████████████| 24/24 [00:18<00:00,  1.29it/s]\n",
      "Training (8663 / 25000 Steps) (loss=0.59341): 100%|████████████████████████████████████████████████████████████████████████████████████████████████████████████████████████| 24/24 [00:18<00:00,  1.30it/s]\n",
      "Training (8687 / 25000 Steps) (loss=0.57288): 100%|████████████████████████████████████████████████████████████████████████████████████████████████████████████████████████| 24/24 [00:18<00:00,  1.29it/s]\n",
      "Training (8711 / 25000 Steps) (loss=0.64302): 100%|████████████████████████████████████████████████████████████████████████████████████████████████████████████████████████| 24/24 [00:18<00:00,  1.30it/s]\n",
      "Training (8735 / 25000 Steps) (loss=0.45511): 100%|████████████████████████████████████████████████████████████████████████████████████████████████████████████████████████| 24/24 [00:18<00:00,  1.29it/s]\n",
      "Training (8759 / 25000 Steps) (loss=0.52978): 100%|████████████████████████████████████████████████████████████████████████████████████████████████████████████████████████| 24/24 [00:18<00:00,  1.29it/s]\n",
      "Training (8783 / 25000 Steps) (loss=0.66026): 100%|████████████████████████████████████████████████████████████████████████████████████████████████████████████████████████| 24/24 [00:18<00:00,  1.30it/s]\n",
      "Training (8807 / 25000 Steps) (loss=0.62620): 100%|████████████████████████████████████████████████████████████████████████████████████████████████████████████████████████| 24/24 [00:18<00:00,  1.30it/s]\n",
      "Training (8831 / 25000 Steps) (loss=0.53695): 100%|████████████████████████████████████████████████████████████████████████████████████████████████████████████████████████| 24/24 [00:18<00:00,  1.29it/s]\n",
      "Training (8855 / 25000 Steps) (loss=0.67753): 100%|████████████████████████████████████████████████████████████████████████████████████████████████████████████████████████| 24/24 [00:18<00:00,  1.29it/s]\n",
      "Training (8879 / 25000 Steps) (loss=0.56746): 100%|████████████████████████████████████████████████████████████████████████████████████████████████████████████████████████| 24/24 [00:18<00:00,  1.30it/s]\n",
      "Training (8903 / 25000 Steps) (loss=0.64860): 100%|████████████████████████████████████████████████████████████████████████████████████████████████████████████████████████| 24/24 [00:18<00:00,  1.30it/s]\n",
      "Training (8927 / 25000 Steps) (loss=0.77197): 100%|████████████████████████████████████████████████████████████████████████████████████████████████████████████████████████| 24/24 [00:18<00:00,  1.29it/s]\n",
      "Training (8951 / 25000 Steps) (loss=0.62851): 100%|████████████████████████████████████████████████████████████████████████████████████████████████████████████████████████| 24/24 [00:18<00:00,  1.29it/s]\n",
      "Training (8975 / 25000 Steps) (loss=0.61703): 100%|████████████████████████████████████████████████████████████████████████████████████████████████████████████████████████| 24/24 [00:18<00:00,  1.29it/s]\n",
      "Training (8999 / 25000 Steps) (loss=0.59251): 100%|████████████████████████████████████████████████████████████████████████████████████████████████████████████████████████| 24/24 [00:18<00:00,  1.29it/s]\n",
      "Training (9000 / 25000 Steps) (loss=0.33778):   0%|                                                                                                                                 | 0/24 [00:00<?, ?it/s]\n",
      "Validate (X / X Steps) (dice=X.X):   0%|                                                                                                                                             | 0/6 [00:00<?, ?it/s]\u001b[A\n",
      "Validate (9000 / 10 Steps):   0%|                                                                                                                                                    | 0/6 [00:02<?, ?it/s]\u001b[A\n",
      "Validate (9000 / 10 Steps):  17%|███████████████████████▎                                                                                                                    | 1/6 [00:02<00:12,  2.49s/it]\u001b[A\n",
      "Validate (9000 / 10 Steps):  17%|███████████████████████▎                                                                                                                    | 1/6 [00:05<00:12,  2.49s/it]\u001b[A\n",
      "Validate (9000 / 10 Steps):  33%|██████████████████████████████████████████████▋                                                                                             | 2/6 [00:05<00:10,  2.56s/it]\u001b[A\n",
      "Validate (9000 / 10 Steps):  33%|██████████████████████████████████████████████▋                                                                                             | 2/6 [00:07<00:10,  2.56s/it]\u001b[A\n",
      "Validate (9000 / 10 Steps):  50%|██████████████████████████████████████████████████████████████████████                                                                      | 3/6 [00:07<00:06,  2.29s/it]\u001b[A\n",
      "Validate (9000 / 10 Steps):  50%|██████████████████████████████████████████████████████████████████████                                                                      | 3/6 [00:11<00:06,  2.29s/it]\u001b[A\n",
      "Validate (9000 / 10 Steps):  67%|█████████████████████████████████████████████████████████████████████████████████████████████▎                                              | 4/6 [00:11<00:06,  3.09s/it]\u001b[A\n",
      "Validate (9000 / 10 Steps):  67%|█████████████████████████████████████████████████████████████████████████████████████████████▎                                              | 4/6 [00:13<00:06,  3.09s/it]\u001b[A\n",
      "Validate (9000 / 10 Steps):  83%|████████████████████████████████████████████████████████████████████████████████████████████████████████████████████▋                       | 5/6 [00:13<00:02,  2.86s/it]\u001b[A\n",
      "Validate (9000 / 10 Steps):  83%|████████████████████████████████████████████████████████████████████████████████████████████████████████████████████▋                       | 5/6 [00:16<00:02,  2.86s/it]\u001b[A\n",
      "Validate (9000 / 10 Steps): 100%|████████████████████████████████████████████████████████████████████████████████████████████████████████████████████████████████████████████| 6/6 [00:16<00:00,  2.74s/it]\u001b[A\n",
      "Training (9000 / 25000 Steps) (loss=0.33778):   4%|█████                                                                                                                    | 1/24 [00:17<06:43, 17.52s/it]"
     ]
    },
    {
     "name": "stdout",
     "output_type": "stream",
     "text": [
      "Model Was Saved ! Current Best Avg. Dice: 0.8841531276702881 Current Avg. Dice: 0.8841531276702881\n"
     ]
    },
    {
     "name": "stderr",
     "output_type": "stream",
     "text": [
      "Training (9023 / 25000 Steps) (loss=0.67362): 100%|████████████████████████████████████████████████████████████████████████████████████████████████████████████████████████| 24/24 [00:35<00:00,  1.47s/it]\n",
      "Training (9047 / 25000 Steps) (loss=0.34178): 100%|████████████████████████████████████████████████████████████████████████████████████████████████████████████████████████| 24/24 [00:18<00:00,  1.29it/s]\n",
      "Training (9071 / 25000 Steps) (loss=0.61348): 100%|████████████████████████████████████████████████████████████████████████████████████████████████████████████████████████| 24/24 [00:18<00:00,  1.29it/s]\n",
      "Training (9095 / 25000 Steps) (loss=0.74542): 100%|████████████████████████████████████████████████████████████████████████████████████████████████████████████████████████| 24/24 [00:18<00:00,  1.30it/s]\n",
      "Training (9119 / 25000 Steps) (loss=0.58421): 100%|████████████████████████████████████████████████████████████████████████████████████████████████████████████████████████| 24/24 [00:18<00:00,  1.29it/s]\n",
      "Training (9143 / 25000 Steps) (loss=0.92239): 100%|████████████████████████████████████████████████████████████████████████████████████████████████████████████████████████| 24/24 [00:18<00:00,  1.30it/s]\n",
      "Training (9167 / 25000 Steps) (loss=0.63617): 100%|████████████████████████████████████████████████████████████████████████████████████████████████████████████████████████| 24/24 [00:18<00:00,  1.29it/s]\n",
      "Training (9191 / 25000 Steps) (loss=0.56778): 100%|████████████████████████████████████████████████████████████████████████████████████████████████████████████████████████| 24/24 [00:18<00:00,  1.29it/s]\n",
      "Training (9215 / 25000 Steps) (loss=0.62286): 100%|████████████████████████████████████████████████████████████████████████████████████████████████████████████████████████| 24/24 [00:18<00:00,  1.30it/s]\n",
      "Training (9239 / 25000 Steps) (loss=0.52147): 100%|████████████████████████████████████████████████████████████████████████████████████████████████████████████████████████| 24/24 [00:18<00:00,  1.29it/s]\n",
      "Training (9263 / 25000 Steps) (loss=0.48220): 100%|████████████████████████████████████████████████████████████████████████████████████████████████████████████████████████| 24/24 [00:18<00:00,  1.30it/s]\n",
      "Training (9287 / 25000 Steps) (loss=0.45518): 100%|████████████████████████████████████████████████████████████████████████████████████████████████████████████████████████| 24/24 [00:18<00:00,  1.29it/s]\n",
      "Training (9311 / 25000 Steps) (loss=0.66439): 100%|████████████████████████████████████████████████████████████████████████████████████████████████████████████████████████| 24/24 [00:18<00:00,  1.30it/s]\n",
      "Training (9335 / 25000 Steps) (loss=0.66909): 100%|████████████████████████████████████████████████████████████████████████████████████████████████████████████████████████| 24/24 [00:18<00:00,  1.29it/s]\n",
      "Training (9359 / 25000 Steps) (loss=0.54019): 100%|████████████████████████████████████████████████████████████████████████████████████████████████████████████████████████| 24/24 [00:18<00:00,  1.29it/s]\n",
      "Training (9383 / 25000 Steps) (loss=0.57178): 100%|████████████████████████████████████████████████████████████████████████████████████████████████████████████████████████| 24/24 [00:18<00:00,  1.29it/s]\n",
      "Training (9407 / 25000 Steps) (loss=0.63868): 100%|████████████████████████████████████████████████████████████████████████████████████████████████████████████████████████| 24/24 [00:18<00:00,  1.29it/s]\n",
      "Training (9431 / 25000 Steps) (loss=0.40831): 100%|████████████████████████████████████████████████████████████████████████████████████████████████████████████████████████| 24/24 [00:18<00:00,  1.30it/s]\n",
      "Training (9455 / 25000 Steps) (loss=0.77121): 100%|████████████████████████████████████████████████████████████████████████████████████████████████████████████████████████| 24/24 [00:18<00:00,  1.29it/s]\n",
      "Training (9479 / 25000 Steps) (loss=0.47032): 100%|████████████████████████████████████████████████████████████████████████████████████████████████████████████████████████| 24/24 [00:18<00:00,  1.30it/s]\n",
      "Training (9500 / 25000 Steps) (loss=0.54423):  83%|████████████████████████████████████████████████████████████████████████████████████████████████████                    | 20/24 [00:16<00:03,  1.29it/s]\n",
      "Validate (X / X Steps) (dice=X.X):   0%|                                                                                                                                             | 0/6 [00:00<?, ?it/s]\u001b[A\n",
      "Validate (9480 / 10 Steps):   0%|                                                                                                                                                    | 0/6 [00:02<?, ?it/s]\u001b[A\n",
      "Validate (9480 / 10 Steps):  17%|███████████████████████▎                                                                                                                    | 1/6 [00:02<00:12,  2.47s/it]\u001b[A\n",
      "Validate (9480 / 10 Steps):  17%|███████████████████████▎                                                                                                                    | 1/6 [00:05<00:12,  2.47s/it]\u001b[A\n",
      "Validate (9480 / 10 Steps):  33%|██████████████████████████████████████████████▋                                                                                             | 2/6 [00:05<00:10,  2.55s/it]\u001b[A\n",
      "Validate (9480 / 10 Steps):  33%|██████████████████████████████████████████████▋                                                                                             | 2/6 [00:07<00:10,  2.55s/it]\u001b[A\n",
      "Validate (9480 / 10 Steps):  50%|██████████████████████████████████████████████████████████████████████                                                                      | 3/6 [00:07<00:06,  2.28s/it]\u001b[A\n",
      "Validate (9480 / 10 Steps):  50%|██████████████████████████████████████████████████████████████████████                                                                      | 3/6 [00:11<00:06,  2.28s/it]\u001b[A\n",
      "Validate (9480 / 10 Steps):  67%|█████████████████████████████████████████████████████████████████████████████████████████████▎                                              | 4/6 [00:11<00:06,  3.09s/it]\u001b[A\n",
      "Validate (9480 / 10 Steps):  67%|█████████████████████████████████████████████████████████████████████████████████████████████▎                                              | 4/6 [00:13<00:06,  3.09s/it]\u001b[A\n",
      "Validate (9480 / 10 Steps):  83%|████████████████████████████████████████████████████████████████████████████████████████████████████████████████████▋                       | 5/6 [00:13<00:02,  2.86s/it]\u001b[A\n",
      "Validate (9480 / 10 Steps):  83%|████████████████████████████████████████████████████████████████████████████████████████████████████████████████████▋                       | 5/6 [00:16<00:02,  2.86s/it]\u001b[A\n",
      "Validate (9480 / 10 Steps): 100%|████████████████████████████████████████████████████████████████████████████████████████████████████████████████████████████████████████████| 6/6 [00:16<00:00,  2.74s/it]\u001b[A\n",
      "Training (9500 / 25000 Steps) (loss=0.54423):  88%|█████████████████████████████████████████████████████████████████████████████████████████████████████████               | 21/24 [00:32<00:17,  5.79s/it]"
     ]
    },
    {
     "name": "stdout",
     "output_type": "stream",
     "text": [
      "Model Was Saved ! Current Best Avg. Dice: 0.8846213817596436 Current Avg. Dice: 0.8846213817596436\n"
     ]
    },
    {
     "name": "stderr",
     "output_type": "stream",
     "text": [
      "Training (9503 / 25000 Steps) (loss=0.35116): 100%|████████████████████████████████████████████████████████████████████████████████████████████████████████████████████████| 24/24 [00:35<00:00,  1.47s/it]\n",
      "Training (9527 / 25000 Steps) (loss=0.45990): 100%|████████████████████████████████████████████████████████████████████████████████████████████████████████████████████████| 24/24 [00:18<00:00,  1.30it/s]\n",
      "Training (9551 / 25000 Steps) (loss=0.63437): 100%|████████████████████████████████████████████████████████████████████████████████████████████████████████████████████████| 24/24 [00:18<00:00,  1.30it/s]\n",
      "Training (9575 / 25000 Steps) (loss=0.75741): 100%|████████████████████████████████████████████████████████████████████████████████████████████████████████████████████████| 24/24 [00:18<00:00,  1.30it/s]\n",
      "Training (9599 / 25000 Steps) (loss=0.44025): 100%|████████████████████████████████████████████████████████████████████████████████████████████████████████████████████████| 24/24 [00:18<00:00,  1.30it/s]\n",
      "Training (9623 / 25000 Steps) (loss=0.55203): 100%|████████████████████████████████████████████████████████████████████████████████████████████████████████████████████████| 24/24 [00:18<00:00,  1.29it/s]\n",
      "Training (9647 / 25000 Steps) (loss=0.45858): 100%|████████████████████████████████████████████████████████████████████████████████████████████████████████████████████████| 24/24 [00:18<00:00,  1.29it/s]\n",
      "Training (9671 / 25000 Steps) (loss=0.74137): 100%|████████████████████████████████████████████████████████████████████████████████████████████████████████████████████████| 24/24 [00:18<00:00,  1.30it/s]\n",
      "Training (9695 / 25000 Steps) (loss=0.54769): 100%|████████████████████████████████████████████████████████████████████████████████████████████████████████████████████████| 24/24 [00:18<00:00,  1.30it/s]\n",
      "Training (9719 / 25000 Steps) (loss=0.65965): 100%|████████████████████████████████████████████████████████████████████████████████████████████████████████████████████████| 24/24 [00:18<00:00,  1.30it/s]\n",
      "Training (9743 / 25000 Steps) (loss=0.64261): 100%|████████████████████████████████████████████████████████████████████████████████████████████████████████████████████████| 24/24 [00:18<00:00,  1.29it/s]\n",
      "Training (9767 / 25000 Steps) (loss=0.59708): 100%|████████████████████████████████████████████████████████████████████████████████████████████████████████████████████████| 24/24 [00:18<00:00,  1.29it/s]\n",
      "Training (9791 / 25000 Steps) (loss=0.45495): 100%|████████████████████████████████████████████████████████████████████████████████████████████████████████████████████████| 24/24 [00:18<00:00,  1.30it/s]\n",
      "Training (9815 / 25000 Steps) (loss=0.42515): 100%|████████████████████████████████████████████████████████████████████████████████████████████████████████████████████████| 24/24 [00:18<00:00,  1.30it/s]\n",
      "Training (9839 / 25000 Steps) (loss=0.62699): 100%|████████████████████████████████████████████████████████████████████████████████████████████████████████████████████████| 24/24 [00:18<00:00,  1.30it/s]\n",
      "Training (9863 / 25000 Steps) (loss=0.48402): 100%|████████████████████████████████████████████████████████████████████████████████████████████████████████████████████████| 24/24 [00:18<00:00,  1.29it/s]\n",
      "Training (9887 / 25000 Steps) (loss=0.48982): 100%|████████████████████████████████████████████████████████████████████████████████████████████████████████████████████████| 24/24 [00:18<00:00,  1.30it/s]\n",
      "Training (9911 / 25000 Steps) (loss=0.46413): 100%|████████████████████████████████████████████████████████████████████████████████████████████████████████████████████████| 24/24 [00:18<00:00,  1.30it/s]\n",
      "Training (9935 / 25000 Steps) (loss=0.69224): 100%|████████████████████████████████████████████████████████████████████████████████████████████████████████████████████████| 24/24 [00:18<00:00,  1.30it/s]\n",
      "Training (9959 / 25000 Steps) (loss=0.75449): 100%|████████████████████████████████████████████████████████████████████████████████████████████████████████████████████████| 24/24 [00:18<00:00,  1.29it/s]\n",
      "Training (9983 / 25000 Steps) (loss=0.48367): 100%|████████████████████████████████████████████████████████████████████████████████████████████████████████████████████████| 24/24 [00:18<00:00,  1.29it/s]\n",
      "Training (10000 / 25000 Steps) (loss=0.47965):  67%|███████████████████████████████████████████████████████████████████████████████▎                                       | 16/24 [00:13<00:06,  1.30it/s]\n",
      "Validate (X / X Steps) (dice=X.X):   0%|                                                                                                                                             | 0/6 [00:00<?, ?it/s]\u001b[A\n",
      "Validate (9984 / 10 Steps):   0%|                                                                                                                                                    | 0/6 [00:02<?, ?it/s]\u001b[A\n",
      "Validate (9984 / 10 Steps):  17%|███████████████████████▎                                                                                                                    | 1/6 [00:02<00:12,  2.48s/it]\u001b[A\n",
      "Validate (9984 / 10 Steps):  17%|███████████████████████▎                                                                                                                    | 1/6 [00:05<00:12,  2.48s/it]\u001b[A\n",
      "Validate (9984 / 10 Steps):  33%|██████████████████████████████████████████████▋                                                                                             | 2/6 [00:05<00:10,  2.55s/it]\u001b[A\n",
      "Validate (9984 / 10 Steps):  33%|██████████████████████████████████████████████▋                                                                                             | 2/6 [00:07<00:10,  2.55s/it]\u001b[A\n",
      "Validate (9984 / 10 Steps):  50%|██████████████████████████████████████████████████████████████████████                                                                      | 3/6 [00:07<00:06,  2.28s/it]\u001b[A\n",
      "Validate (9984 / 10 Steps):  50%|██████████████████████████████████████████████████████████████████████                                                                      | 3/6 [00:11<00:06,  2.28s/it]\u001b[A\n",
      "Validate (9984 / 10 Steps):  67%|█████████████████████████████████████████████████████████████████████████████████████████████▎                                              | 4/6 [00:11<00:06,  3.09s/it]\u001b[A\n",
      "Validate (9984 / 10 Steps):  67%|█████████████████████████████████████████████████████████████████████████████████████████████▎                                              | 4/6 [00:13<00:06,  3.09s/it]\u001b[A\n",
      "Validate (9984 / 10 Steps):  83%|████████████████████████████████████████████████████████████████████████████████████████████████████████████████████▋                       | 5/6 [00:13<00:02,  2.86s/it]\u001b[A\n",
      "Validate (9984 / 10 Steps):  83%|████████████████████████████████████████████████████████████████████████████████████████████████████████████████████▋                       | 5/6 [00:16<00:02,  2.86s/it]\u001b[A\n",
      "Validate (9984 / 10 Steps): 100%|████████████████████████████████████████████████████████████████████████████████████████████████████████████████████████████████████████████| 6/6 [00:16<00:00,  2.74s/it]\u001b[A\n",
      "Training (10000 / 25000 Steps) (loss=0.47965):  71%|████████████████████████████████████████████████████████████████████████████████████▎                                  | 17/24 [00:29<00:39,  5.71s/it]"
     ]
    },
    {
     "name": "stdout",
     "output_type": "stream",
     "text": [
      "Model Was Not Saved ! Current Best Avg. Dice: 0.8846213817596436 Current Avg. Dice: 0.8768989443778992\n"
     ]
    },
    {
     "name": "stderr",
     "output_type": "stream",
     "text": [
      "Training (10007 / 25000 Steps) (loss=0.46194): 100%|███████████████████████████████████████████████████████████████████████████████████████████████████████████████████████| 24/24 [00:34<00:00,  1.46s/it]\n",
      "Training (10031 / 25000 Steps) (loss=0.45485): 100%|███████████████████████████████████████████████████████████████████████████████████████████████████████████████████████| 24/24 [00:18<00:00,  1.30it/s]\n",
      "Training (10055 / 25000 Steps) (loss=0.50459): 100%|███████████████████████████████████████████████████████████████████████████████████████████████████████████████████████| 24/24 [00:18<00:00,  1.30it/s]\n",
      "Training (10079 / 25000 Steps) (loss=0.60260): 100%|███████████████████████████████████████████████████████████████████████████████████████████████████████████████████████| 24/24 [00:18<00:00,  1.30it/s]\n",
      "Training (10103 / 25000 Steps) (loss=0.72222): 100%|███████████████████████████████████████████████████████████████████████████████████████████████████████████████████████| 24/24 [00:18<00:00,  1.30it/s]\n",
      "Training (10127 / 25000 Steps) (loss=0.51902): 100%|███████████████████████████████████████████████████████████████████████████████████████████████████████████████████████| 24/24 [00:18<00:00,  1.30it/s]\n",
      "Training (10151 / 25000 Steps) (loss=0.37222): 100%|███████████████████████████████████████████████████████████████████████████████████████████████████████████████████████| 24/24 [00:18<00:00,  1.29it/s]\n",
      "Training (10175 / 25000 Steps) (loss=0.71403): 100%|███████████████████████████████████████████████████████████████████████████████████████████████████████████████████████| 24/24 [00:18<00:00,  1.30it/s]\n",
      "Training (10199 / 25000 Steps) (loss=0.69923): 100%|███████████████████████████████████████████████████████████████████████████████████████████████████████████████████████| 24/24 [00:18<00:00,  1.30it/s]\n",
      "Training (10223 / 25000 Steps) (loss=0.37746): 100%|███████████████████████████████████████████████████████████████████████████████████████████████████████████████████████| 24/24 [00:18<00:00,  1.30it/s]\n",
      "Training (10247 / 25000 Steps) (loss=0.56728): 100%|███████████████████████████████████████████████████████████████████████████████████████████████████████████████████████| 24/24 [00:18<00:00,  1.29it/s]\n",
      "Training (10271 / 25000 Steps) (loss=0.79127): 100%|███████████████████████████████████████████████████████████████████████████████████████████████████████████████████████| 24/24 [00:18<00:00,  1.30it/s]\n",
      "Training (10295 / 25000 Steps) (loss=0.57548): 100%|███████████████████████████████████████████████████████████████████████████████████████████████████████████████████████| 24/24 [00:18<00:00,  1.29it/s]\n",
      "Training (10319 / 25000 Steps) (loss=0.73834): 100%|███████████████████████████████████████████████████████████████████████████████████████████████████████████████████████| 24/24 [00:18<00:00,  1.29it/s]\n",
      "Training (10343 / 25000 Steps) (loss=0.46869): 100%|███████████████████████████████████████████████████████████████████████████████████████████████████████████████████████| 24/24 [00:18<00:00,  1.29it/s]\n",
      "Training (10367 / 25000 Steps) (loss=0.50653): 100%|███████████████████████████████████████████████████████████████████████████████████████████████████████████████████████| 24/24 [00:18<00:00,  1.29it/s]\n",
      "Training (10391 / 25000 Steps) (loss=0.74263): 100%|███████████████████████████████████████████████████████████████████████████████████████████████████████████████████████| 24/24 [00:18<00:00,  1.30it/s]\n",
      "Training (10415 / 25000 Steps) (loss=0.58408): 100%|███████████████████████████████████████████████████████████████████████████████████████████████████████████████████████| 24/24 [00:18<00:00,  1.29it/s]\n",
      "Training (10439 / 25000 Steps) (loss=0.63975): 100%|███████████████████████████████████████████████████████████████████████████████████████████████████████████████████████| 24/24 [00:18<00:00,  1.29it/s]\n",
      "Training (10463 / 25000 Steps) (loss=0.59953): 100%|███████████████████████████████████████████████████████████████████████████████████████████████████████████████████████| 24/24 [00:18<00:00,  1.30it/s]\n",
      "Training (10487 / 25000 Steps) (loss=0.66634): 100%|███████████████████████████████████████████████████████████████████████████████████████████████████████████████████████| 24/24 [00:18<00:00,  1.30it/s]\n",
      "Training (10500 / 25000 Steps) (loss=0.55882):  50%|███████████████████████████████████████████████████████████▌                                                           | 12/24 [00:10<00:09,  1.30it/s]\n",
      "Validate (X / X Steps) (dice=X.X):   0%|                                                                                                                                             | 0/6 [00:00<?, ?it/s]\u001b[A\n",
      "Validate (10488 / 10 Steps):   0%|                                                                                                                                                   | 0/6 [00:02<?, ?it/s]\u001b[A\n",
      "Validate (10488 / 10 Steps):  17%|███████████████████████▏                                                                                                                   | 1/6 [00:02<00:12,  2.48s/it]\u001b[A\n",
      "Validate (10488 / 10 Steps):  17%|███████████████████████▏                                                                                                                   | 1/6 [00:05<00:12,  2.48s/it]\u001b[A\n",
      "Validate (10488 / 10 Steps):  33%|██████████████████████████████████████████████▎                                                                                            | 2/6 [00:05<00:10,  2.56s/it]\u001b[A\n",
      "Validate (10488 / 10 Steps):  33%|██████████████████████████████████████████████▎                                                                                            | 2/6 [00:07<00:10,  2.56s/it]\u001b[A\n",
      "Validate (10488 / 10 Steps):  50%|█████████████████████████████████████████████████████████████████████▌                                                                     | 3/6 [00:07<00:06,  2.28s/it]\u001b[A\n",
      "Validate (10488 / 10 Steps):  50%|█████████████████████████████████████████████████████████████████████▌                                                                     | 3/6 [00:11<00:06,  2.28s/it]\u001b[A\n",
      "Validate (10488 / 10 Steps):  67%|████████████████████████████████████████████████████████████████████████████████████████████▋                                              | 4/6 [00:11<00:06,  3.09s/it]\u001b[A\n",
      "Validate (10488 / 10 Steps):  67%|████████████████████████████████████████████████████████████████████████████████████████████▋                                              | 4/6 [00:13<00:06,  3.09s/it]\u001b[A\n",
      "Validate (10488 / 10 Steps):  83%|███████████████████████████████████████████████████████████████████████████████████████████████████████████████████▊                       | 5/6 [00:13<00:02,  2.87s/it]\u001b[A\n",
      "Validate (10488 / 10 Steps):  83%|███████████████████████████████████████████████████████████████████████████████████████████████████████████████████▊                       | 5/6 [00:16<00:02,  2.87s/it]\u001b[A\n",
      "Validate (10488 / 10 Steps): 100%|███████████████████████████████████████████████████████████████████████████████████████████████████████████████████████████████████████████| 6/6 [00:16<00:00,  2.74s/it]\u001b[A\n",
      "Training (10500 / 25000 Steps) (loss=0.55882):  54%|████████████████████████████████████████████████████████████████▍                                                      | 13/24 [00:26<01:03,  5.76s/it]"
     ]
    },
    {
     "name": "stdout",
     "output_type": "stream",
     "text": [
      "Model Was Not Saved ! Current Best Avg. Dice: 0.8846213817596436 Current Avg. Dice: 0.8753502368927002\n"
     ]
    },
    {
     "name": "stderr",
     "output_type": "stream",
     "text": [
      "Training (10511 / 25000 Steps) (loss=0.65397): 100%|███████████████████████████████████████████████████████████████████████████████████████████████████████████████████████| 24/24 [00:35<00:00,  1.46s/it]\n",
      "Training (10535 / 25000 Steps) (loss=0.57997): 100%|███████████████████████████████████████████████████████████████████████████████████████████████████████████████████████| 24/24 [00:18<00:00,  1.29it/s]\n",
      "Training (10559 / 25000 Steps) (loss=0.59294): 100%|███████████████████████████████████████████████████████████████████████████████████████████████████████████████████████| 24/24 [00:18<00:00,  1.29it/s]\n",
      "Training (10583 / 25000 Steps) (loss=0.58812): 100%|███████████████████████████████████████████████████████████████████████████████████████████████████████████████████████| 24/24 [00:18<00:00,  1.29it/s]\n",
      "Training (10607 / 25000 Steps) (loss=0.58540): 100%|███████████████████████████████████████████████████████████████████████████████████████████████████████████████████████| 24/24 [00:18<00:00,  1.29it/s]\n",
      "Training (10631 / 25000 Steps) (loss=0.58511): 100%|███████████████████████████████████████████████████████████████████████████████████████████████████████████████████████| 24/24 [00:18<00:00,  1.29it/s]\n",
      "Training (10655 / 25000 Steps) (loss=0.73182): 100%|███████████████████████████████████████████████████████████████████████████████████████████████████████████████████████| 24/24 [00:18<00:00,  1.30it/s]\n",
      "Training (10679 / 25000 Steps) (loss=0.64637): 100%|███████████████████████████████████████████████████████████████████████████████████████████████████████████████████████| 24/24 [00:18<00:00,  1.30it/s]\n",
      "Training (10703 / 25000 Steps) (loss=0.55312): 100%|███████████████████████████████████████████████████████████████████████████████████████████████████████████████████████| 24/24 [00:18<00:00,  1.29it/s]\n",
      "Training (10727 / 25000 Steps) (loss=0.45154): 100%|███████████████████████████████████████████████████████████████████████████████████████████████████████████████████████| 24/24 [00:18<00:00,  1.29it/s]\n",
      "Training (10751 / 25000 Steps) (loss=0.42687): 100%|███████████████████████████████████████████████████████████████████████████████████████████████████████████████████████| 24/24 [00:18<00:00,  1.30it/s]\n",
      "Training (10775 / 25000 Steps) (loss=0.37282): 100%|███████████████████████████████████████████████████████████████████████████████████████████████████████████████████████| 24/24 [00:18<00:00,  1.29it/s]\n",
      "Training (10799 / 25000 Steps) (loss=0.35640): 100%|███████████████████████████████████████████████████████████████████████████████████████████████████████████████████████| 24/24 [00:18<00:00,  1.29it/s]\n",
      "Training (10823 / 25000 Steps) (loss=0.44149): 100%|███████████████████████████████████████████████████████████████████████████████████████████████████████████████████████| 24/24 [00:18<00:00,  1.29it/s]\n",
      "Training (10847 / 25000 Steps) (loss=0.45378): 100%|███████████████████████████████████████████████████████████████████████████████████████████████████████████████████████| 24/24 [00:18<00:00,  1.29it/s]\n",
      "Training (10871 / 25000 Steps) (loss=0.66686): 100%|███████████████████████████████████████████████████████████████████████████████████████████████████████████████████████| 24/24 [00:18<00:00,  1.29it/s]\n",
      "Training (10895 / 25000 Steps) (loss=0.49900): 100%|███████████████████████████████████████████████████████████████████████████████████████████████████████████████████████| 24/24 [00:18<00:00,  1.29it/s]\n",
      "Training (10919 / 25000 Steps) (loss=0.50173): 100%|███████████████████████████████████████████████████████████████████████████████████████████████████████████████████████| 24/24 [00:18<00:00,  1.30it/s]\n",
      "Training (10943 / 25000 Steps) (loss=0.69666): 100%|███████████████████████████████████████████████████████████████████████████████████████████████████████████████████████| 24/24 [00:18<00:00,  1.29it/s]\n",
      "Training (10967 / 25000 Steps) (loss=0.40018): 100%|███████████████████████████████████████████████████████████████████████████████████████████████████████████████████████| 24/24 [00:18<00:00,  1.30it/s]\n",
      "Training (10991 / 25000 Steps) (loss=0.64830): 100%|███████████████████████████████████████████████████████████████████████████████████████████████████████████████████████| 24/24 [00:18<00:00,  1.30it/s]\n",
      "Training (11000 / 25000 Steps) (loss=0.45397):  33%|████████████████████████████████████████                                                                                | 8/24 [00:06<00:12,  1.30it/s]\n",
      "Validate (X / X Steps) (dice=X.X):   0%|                                                                                                                                             | 0/6 [00:00<?, ?it/s]\u001b[A\n",
      "Validate (10992 / 10 Steps):   0%|                                                                                                                                                   | 0/6 [00:02<?, ?it/s]\u001b[A\n",
      "Validate (10992 / 10 Steps):  17%|███████████████████████▏                                                                                                                   | 1/6 [00:02<00:12,  2.49s/it]\u001b[A\n",
      "Validate (10992 / 10 Steps):  17%|███████████████████████▏                                                                                                                   | 1/6 [00:05<00:12,  2.49s/it]\u001b[A\n",
      "Validate (10992 / 10 Steps):  33%|██████████████████████████████████████████████▎                                                                                            | 2/6 [00:05<00:10,  2.56s/it]\u001b[A\n",
      "Validate (10992 / 10 Steps):  33%|██████████████████████████████████████████████▎                                                                                            | 2/6 [00:07<00:10,  2.56s/it]\u001b[A\n",
      "Validate (10992 / 10 Steps):  50%|█████████████████████████████████████████████████████████████████████▌                                                                     | 3/6 [00:07<00:06,  2.29s/it]\u001b[A\n",
      "Validate (10992 / 10 Steps):  50%|█████████████████████████████████████████████████████████████████████▌                                                                     | 3/6 [00:11<00:06,  2.29s/it]\u001b[A\n",
      "Validate (10992 / 10 Steps):  67%|████████████████████████████████████████████████████████████████████████████████████████████▋                                              | 4/6 [00:11<00:06,  3.10s/it]\u001b[A\n",
      "Validate (10992 / 10 Steps):  67%|████████████████████████████████████████████████████████████████████████████████████████████▋                                              | 4/6 [00:13<00:06,  3.10s/it]\u001b[A\n",
      "Validate (10992 / 10 Steps):  83%|███████████████████████████████████████████████████████████████████████████████████████████████████████████████████▊                       | 5/6 [00:13<00:02,  2.87s/it]\u001b[A\n",
      "Validate (10992 / 10 Steps):  83%|███████████████████████████████████████████████████████████████████████████████████████████████████████████████████▊                       | 5/6 [00:16<00:02,  2.87s/it]\u001b[A\n",
      "Validate (10992 / 10 Steps): 100%|███████████████████████████████████████████████████████████████████████████████████████████████████████████████████████████████████████████| 6/6 [00:16<00:00,  2.74s/it]\u001b[A\n",
      "Training (11000 / 25000 Steps) (loss=0.45397):  38%|█████████████████████████████████████████████                                                                           | 9/24 [00:23<01:28,  5.92s/it]"
     ]
    },
    {
     "name": "stdout",
     "output_type": "stream",
     "text": [
      "Model Was Not Saved ! Current Best Avg. Dice: 0.8846213817596436 Current Avg. Dice: 0.8751470446586609\n"
     ]
    },
    {
     "name": "stderr",
     "output_type": "stream",
     "text": [
      "Training (11015 / 25000 Steps) (loss=0.60394): 100%|███████████████████████████████████████████████████████████████████████████████████████████████████████████████████████| 24/24 [00:34<00:00,  1.46s/it]\n",
      "Training (11039 / 25000 Steps) (loss=0.61557): 100%|███████████████████████████████████████████████████████████████████████████████████████████████████████████████████████| 24/24 [00:18<00:00,  1.30it/s]\n",
      "Training (11063 / 25000 Steps) (loss=0.45767): 100%|███████████████████████████████████████████████████████████████████████████████████████████████████████████████████████| 24/24 [00:18<00:00,  1.29it/s]\n",
      "Training (11087 / 25000 Steps) (loss=0.54185): 100%|███████████████████████████████████████████████████████████████████████████████████████████████████████████████████████| 24/24 [00:18<00:00,  1.29it/s]\n",
      "Training (11111 / 25000 Steps) (loss=0.47095): 100%|███████████████████████████████████████████████████████████████████████████████████████████████████████████████████████| 24/24 [00:18<00:00,  1.30it/s]\n",
      "Training (11135 / 25000 Steps) (loss=0.56956): 100%|███████████████████████████████████████████████████████████████████████████████████████████████████████████████████████| 24/24 [00:18<00:00,  1.29it/s]\n",
      "Training (11159 / 25000 Steps) (loss=0.55556): 100%|███████████████████████████████████████████████████████████████████████████████████████████████████████████████████████| 24/24 [00:18<00:00,  1.29it/s]\n",
      "Training (11183 / 25000 Steps) (loss=0.63239): 100%|███████████████████████████████████████████████████████████████████████████████████████████████████████████████████████| 24/24 [00:18<00:00,  1.29it/s]\n",
      "Training (11207 / 25000 Steps) (loss=0.48606): 100%|███████████████████████████████████████████████████████████████████████████████████████████████████████████████████████| 24/24 [00:18<00:00,  1.29it/s]\n",
      "Training (11231 / 25000 Steps) (loss=0.57533): 100%|███████████████████████████████████████████████████████████████████████████████████████████████████████████████████████| 24/24 [00:18<00:00,  1.29it/s]\n",
      "Training (11255 / 25000 Steps) (loss=0.48395): 100%|███████████████████████████████████████████████████████████████████████████████████████████████████████████████████████| 24/24 [00:18<00:00,  1.30it/s]\n",
      "Training (11279 / 25000 Steps) (loss=0.39187): 100%|███████████████████████████████████████████████████████████████████████████████████████████████████████████████████████| 24/24 [00:18<00:00,  1.30it/s]\n",
      "Training (11303 / 25000 Steps) (loss=0.42751): 100%|███████████████████████████████████████████████████████████████████████████████████████████████████████████████████████| 24/24 [00:18<00:00,  1.30it/s]\n",
      "Training (11327 / 25000 Steps) (loss=0.74134): 100%|███████████████████████████████████████████████████████████████████████████████████████████████████████████████████████| 24/24 [00:18<00:00,  1.29it/s]\n",
      "Training (11351 / 25000 Steps) (loss=0.52528): 100%|███████████████████████████████████████████████████████████████████████████████████████████████████████████████████████| 24/24 [00:18<00:00,  1.29it/s]\n",
      "Training (11375 / 25000 Steps) (loss=0.44815): 100%|███████████████████████████████████████████████████████████████████████████████████████████████████████████████████████| 24/24 [00:18<00:00,  1.30it/s]\n",
      "Training (11399 / 25000 Steps) (loss=0.60149): 100%|███████████████████████████████████████████████████████████████████████████████████████████████████████████████████████| 24/24 [00:18<00:00,  1.30it/s]\n",
      "Training (11423 / 25000 Steps) (loss=0.41779): 100%|███████████████████████████████████████████████████████████████████████████████████████████████████████████████████████| 24/24 [00:18<00:00,  1.30it/s]\n",
      "Training (11447 / 25000 Steps) (loss=0.48834): 100%|███████████████████████████████████████████████████████████████████████████████████████████████████████████████████████| 24/24 [00:18<00:00,  1.30it/s]\n",
      "Training (11471 / 25000 Steps) (loss=0.56422): 100%|███████████████████████████████████████████████████████████████████████████████████████████████████████████████████████| 24/24 [00:18<00:00,  1.30it/s]\n",
      "Training (11495 / 25000 Steps) (loss=0.71439): 100%|███████████████████████████████████████████████████████████████████████████████████████████████████████████████████████| 24/24 [00:18<00:00,  1.29it/s]\n",
      "Training (11500 / 25000 Steps) (loss=0.67378):  17%|████████████████████                                                                                                    | 4/24 [00:03<00:15,  1.29it/s]\n",
      "Validate (X / X Steps) (dice=X.X):   0%|                                                                                                                                             | 0/6 [00:00<?, ?it/s]\u001b[A\n",
      "Validate (11496 / 10 Steps):   0%|                                                                                                                                                   | 0/6 [00:02<?, ?it/s]\u001b[A\n",
      "Validate (11496 / 10 Steps):  17%|███████████████████████▏                                                                                                                   | 1/6 [00:02<00:12,  2.48s/it]\u001b[A\n",
      "Validate (11496 / 10 Steps):  17%|███████████████████████▏                                                                                                                   | 1/6 [00:05<00:12,  2.48s/it]\u001b[A\n",
      "Validate (11496 / 10 Steps):  33%|██████████████████████████████████████████████▎                                                                                            | 2/6 [00:05<00:10,  2.56s/it]\u001b[A\n",
      "Validate (11496 / 10 Steps):  33%|██████████████████████████████████████████████▎                                                                                            | 2/6 [00:07<00:10,  2.56s/it]\u001b[A\n",
      "Validate (11496 / 10 Steps):  50%|█████████████████████████████████████████████████████████████████████▌                                                                     | 3/6 [00:07<00:06,  2.28s/it]\u001b[A\n",
      "Validate (11496 / 10 Steps):  50%|█████████████████████████████████████████████████████████████████████▌                                                                     | 3/6 [00:11<00:06,  2.28s/it]\u001b[A\n",
      "Validate (11496 / 10 Steps):  67%|████████████████████████████████████████████████████████████████████████████████████████████▋                                              | 4/6 [00:11<00:06,  3.09s/it]\u001b[A\n",
      "Validate (11496 / 10 Steps):  67%|████████████████████████████████████████████████████████████████████████████████████████████▋                                              | 4/6 [00:13<00:06,  3.09s/it]\u001b[A\n",
      "Validate (11496 / 10 Steps):  83%|███████████████████████████████████████████████████████████████████████████████████████████████████████████████████▊                       | 5/6 [00:13<00:02,  2.86s/it]\u001b[A\n",
      "Validate (11496 / 10 Steps):  83%|███████████████████████████████████████████████████████████████████████████████████████████████████████████████████▊                       | 5/6 [00:16<00:02,  2.86s/it]\u001b[A\n",
      "Validate (11496 / 10 Steps): 100%|███████████████████████████████████████████████████████████████████████████████████████████████████████████████████████████████████████████| 6/6 [00:16<00:00,  2.74s/it]\u001b[A\n",
      "Training (11500 / 25000 Steps) (loss=0.67378):  21%|█████████████████████████                                                                                               | 5/24 [00:20<02:07,  6.70s/it]"
     ]
    },
    {
     "name": "stdout",
     "output_type": "stream",
     "text": [
      "Model Was Not Saved ! Current Best Avg. Dice: 0.8846213817596436 Current Avg. Dice: 0.8684468865394592\n"
     ]
    },
    {
     "name": "stderr",
     "output_type": "stream",
     "text": [
      "Training (11519 / 25000 Steps) (loss=0.39144): 100%|███████████████████████████████████████████████████████████████████████████████████████████████████████████████████████| 24/24 [00:34<00:00,  1.46s/it]\n",
      "Training (11543 / 25000 Steps) (loss=0.40956): 100%|███████████████████████████████████████████████████████████████████████████████████████████████████████████████████████| 24/24 [00:18<00:00,  1.30it/s]\n",
      "Training (11567 / 25000 Steps) (loss=0.50467): 100%|███████████████████████████████████████████████████████████████████████████████████████████████████████████████████████| 24/24 [00:18<00:00,  1.29it/s]\n",
      "Training (11591 / 25000 Steps) (loss=0.62732): 100%|███████████████████████████████████████████████████████████████████████████████████████████████████████████████████████| 24/24 [00:18<00:00,  1.30it/s]\n",
      "Training (11615 / 25000 Steps) (loss=0.67749): 100%|███████████████████████████████████████████████████████████████████████████████████████████████████████████████████████| 24/24 [00:18<00:00,  1.29it/s]\n",
      "Training (11639 / 25000 Steps) (loss=0.82602): 100%|███████████████████████████████████████████████████████████████████████████████████████████████████████████████████████| 24/24 [00:18<00:00,  1.30it/s]\n",
      "Training (11663 / 25000 Steps) (loss=0.60984): 100%|███████████████████████████████████████████████████████████████████████████████████████████████████████████████████████| 24/24 [00:18<00:00,  1.29it/s]\n",
      "Training (11687 / 25000 Steps) (loss=0.56162): 100%|███████████████████████████████████████████████████████████████████████████████████████████████████████████████████████| 24/24 [00:18<00:00,  1.29it/s]\n",
      "Training (11711 / 25000 Steps) (loss=0.59151): 100%|███████████████████████████████████████████████████████████████████████████████████████████████████████████████████████| 24/24 [00:18<00:00,  1.30it/s]\n",
      "Training (11735 / 25000 Steps) (loss=0.52010): 100%|███████████████████████████████████████████████████████████████████████████████████████████████████████████████████████| 24/24 [00:18<00:00,  1.30it/s]\n",
      "Training (11759 / 25000 Steps) (loss=0.51124): 100%|███████████████████████████████████████████████████████████████████████████████████████████████████████████████████████| 24/24 [00:18<00:00,  1.29it/s]\n",
      "Training (11783 / 25000 Steps) (loss=0.58484): 100%|███████████████████████████████████████████████████████████████████████████████████████████████████████████████████████| 24/24 [00:18<00:00,  1.30it/s]\n",
      "Training (11807 / 25000 Steps) (loss=0.35917): 100%|███████████████████████████████████████████████████████████████████████████████████████████████████████████████████████| 24/24 [00:18<00:00,  1.30it/s]\n",
      "Training (11831 / 25000 Steps) (loss=0.56261): 100%|███████████████████████████████████████████████████████████████████████████████████████████████████████████████████████| 24/24 [00:18<00:00,  1.29it/s]\n",
      "Training (11855 / 25000 Steps) (loss=0.38457): 100%|███████████████████████████████████████████████████████████████████████████████████████████████████████████████████████| 24/24 [00:18<00:00,  1.30it/s]\n",
      "Training (11879 / 25000 Steps) (loss=0.52246): 100%|███████████████████████████████████████████████████████████████████████████████████████████████████████████████████████| 24/24 [00:18<00:00,  1.30it/s]\n",
      "Training (11903 / 25000 Steps) (loss=0.42821): 100%|███████████████████████████████████████████████████████████████████████████████████████████████████████████████████████| 24/24 [00:18<00:00,  1.30it/s]\n",
      "Training (11927 / 25000 Steps) (loss=1.15981): 100%|███████████████████████████████████████████████████████████████████████████████████████████████████████████████████████| 24/24 [00:18<00:00,  1.29it/s]\n",
      "Training (11951 / 25000 Steps) (loss=0.55326): 100%|███████████████████████████████████████████████████████████████████████████████████████████████████████████████████████| 24/24 [00:18<00:00,  1.30it/s]\n",
      "Training (11975 / 25000 Steps) (loss=0.74209): 100%|███████████████████████████████████████████████████████████████████████████████████████████████████████████████████████| 24/24 [00:18<00:00,  1.29it/s]\n",
      "Training (11999 / 25000 Steps) (loss=0.46936): 100%|███████████████████████████████████████████████████████████████████████████████████████████████████████████████████████| 24/24 [00:18<00:00,  1.29it/s]\n",
      "Training (12000 / 25000 Steps) (loss=0.61576):   0%|                                                                                                                                | 0/24 [00:00<?, ?it/s]\n",
      "Validate (X / X Steps) (dice=X.X):   0%|                                                                                                                                             | 0/6 [00:00<?, ?it/s]\u001b[A\n",
      "Validate (12000 / 10 Steps):   0%|                                                                                                                                                   | 0/6 [00:02<?, ?it/s]\u001b[A\n",
      "Validate (12000 / 10 Steps):  17%|███████████████████████▏                                                                                                                   | 1/6 [00:02<00:12,  2.50s/it]\u001b[A\n",
      "Validate (12000 / 10 Steps):  17%|███████████████████████▏                                                                                                                   | 1/6 [00:05<00:12,  2.50s/it]\u001b[A\n",
      "Validate (12000 / 10 Steps):  33%|██████████████████████████████████████████████▎                                                                                            | 2/6 [00:05<00:10,  2.57s/it]\u001b[A\n",
      "Validate (12000 / 10 Steps):  33%|██████████████████████████████████████████████▎                                                                                            | 2/6 [00:07<00:10,  2.57s/it]\u001b[A\n",
      "Validate (12000 / 10 Steps):  50%|█████████████████████████████████████████████████████████████████████▌                                                                     | 3/6 [00:07<00:06,  2.29s/it]\u001b[A\n",
      "Validate (12000 / 10 Steps):  50%|█████████████████████████████████████████████████████████████████████▌                                                                     | 3/6 [00:11<00:06,  2.29s/it]\u001b[A\n",
      "Validate (12000 / 10 Steps):  67%|████████████████████████████████████████████████████████████████████████████████████████████▋                                              | 4/6 [00:11<00:06,  3.10s/it]\u001b[A\n",
      "Validate (12000 / 10 Steps):  67%|████████████████████████████████████████████████████████████████████████████████████████████▋                                              | 4/6 [00:13<00:06,  3.10s/it]\u001b[A\n",
      "Validate (12000 / 10 Steps):  83%|███████████████████████████████████████████████████████████████████████████████████████████████████████████████████▊                       | 5/6 [00:13<00:02,  2.87s/it]\u001b[A\n",
      "Validate (12000 / 10 Steps):  83%|███████████████████████████████████████████████████████████████████████████████████████████████████████████████████▊                       | 5/6 [00:16<00:02,  2.87s/it]\u001b[A\n",
      "Validate (12000 / 10 Steps): 100%|███████████████████████████████████████████████████████████████████████████████████████████████████████████████████████████████████████████| 6/6 [00:16<00:00,  2.74s/it]\u001b[A\n",
      "Training (12000 / 25000 Steps) (loss=0.61576):   4%|█████                                                                                                                   | 1/24 [00:17<06:37, 17.27s/it]"
     ]
    },
    {
     "name": "stdout",
     "output_type": "stream",
     "text": [
      "Model Was Not Saved ! Current Best Avg. Dice: 0.8846213817596436 Current Avg. Dice: 0.8790395259857178\n"
     ]
    },
    {
     "name": "stderr",
     "output_type": "stream",
     "text": [
      "Training (12023 / 25000 Steps) (loss=0.61242): 100%|███████████████████████████████████████████████████████████████████████████████████████████████████████████████████████| 24/24 [00:34<00:00,  1.46s/it]\n",
      "Training (12047 / 25000 Steps) (loss=0.34091): 100%|███████████████████████████████████████████████████████████████████████████████████████████████████████████████████████| 24/24 [00:18<00:00,  1.29it/s]\n",
      "Training (12071 / 25000 Steps) (loss=0.76037): 100%|███████████████████████████████████████████████████████████████████████████████████████████████████████████████████████| 24/24 [00:18<00:00,  1.30it/s]\n",
      "Training (12095 / 25000 Steps) (loss=0.48209): 100%|███████████████████████████████████████████████████████████████████████████████████████████████████████████████████████| 24/24 [00:18<00:00,  1.29it/s]\n",
      "Training (12119 / 25000 Steps) (loss=0.54341): 100%|███████████████████████████████████████████████████████████████████████████████████████████████████████████████████████| 24/24 [00:18<00:00,  1.29it/s]\n",
      "Training (12143 / 25000 Steps) (loss=0.33886): 100%|███████████████████████████████████████████████████████████████████████████████████████████████████████████████████████| 24/24 [00:18<00:00,  1.29it/s]\n",
      "Training (12167 / 25000 Steps) (loss=0.39757): 100%|███████████████████████████████████████████████████████████████████████████████████████████████████████████████████████| 24/24 [00:18<00:00,  1.29it/s]\n",
      "Training (12191 / 25000 Steps) (loss=0.62751): 100%|███████████████████████████████████████████████████████████████████████████████████████████████████████████████████████| 24/24 [00:18<00:00,  1.30it/s]\n",
      "Training (12215 / 25000 Steps) (loss=0.70166): 100%|███████████████████████████████████████████████████████████████████████████████████████████████████████████████████████| 24/24 [00:18<00:00,  1.30it/s]\n",
      "Training (12239 / 25000 Steps) (loss=0.58091): 100%|███████████████████████████████████████████████████████████████████████████████████████████████████████████████████████| 24/24 [00:18<00:00,  1.30it/s]\n",
      "Training (12263 / 25000 Steps) (loss=0.61338): 100%|███████████████████████████████████████████████████████████████████████████████████████████████████████████████████████| 24/24 [00:18<00:00,  1.30it/s]\n",
      "Training (12287 / 25000 Steps) (loss=0.69942): 100%|███████████████████████████████████████████████████████████████████████████████████████████████████████████████████████| 24/24 [00:18<00:00,  1.29it/s]\n",
      "Training (12311 / 25000 Steps) (loss=0.70907): 100%|███████████████████████████████████████████████████████████████████████████████████████████████████████████████████████| 24/24 [00:18<00:00,  1.29it/s]\n",
      "Training (12335 / 25000 Steps) (loss=0.46437): 100%|███████████████████████████████████████████████████████████████████████████████████████████████████████████████████████| 24/24 [00:18<00:00,  1.30it/s]\n",
      "Training (12359 / 25000 Steps) (loss=0.59086): 100%|███████████████████████████████████████████████████████████████████████████████████████████████████████████████████████| 24/24 [00:18<00:00,  1.29it/s]\n",
      "Training (12383 / 25000 Steps) (loss=0.52313): 100%|███████████████████████████████████████████████████████████████████████████████████████████████████████████████████████| 24/24 [00:18<00:00,  1.29it/s]\n",
      "Training (12407 / 25000 Steps) (loss=0.77656): 100%|███████████████████████████████████████████████████████████████████████████████████████████████████████████████████████| 24/24 [00:18<00:00,  1.29it/s]\n",
      "Training (12431 / 25000 Steps) (loss=0.55032): 100%|███████████████████████████████████████████████████████████████████████████████████████████████████████████████████████| 24/24 [00:18<00:00,  1.29it/s]\n",
      "Training (12455 / 25000 Steps) (loss=0.70096): 100%|███████████████████████████████████████████████████████████████████████████████████████████████████████████████████████| 24/24 [00:18<00:00,  1.29it/s]\n",
      "Training (12479 / 25000 Steps) (loss=0.52661): 100%|███████████████████████████████████████████████████████████████████████████████████████████████████████████████████████| 24/24 [00:18<00:00,  1.29it/s]\n",
      "Training (12500 / 25000 Steps) (loss=0.38523):  83%|███████████████████████████████████████████████████████████████████████████████████████████████████▏                   | 20/24 [00:16<00:03,  1.30it/s]\n",
      "Validate (X / X Steps) (dice=X.X):   0%|                                                                                                                                             | 0/6 [00:00<?, ?it/s]\u001b[A\n",
      "Validate (12480 / 10 Steps):   0%|                                                                                                                                                   | 0/6 [00:02<?, ?it/s]\u001b[A\n",
      "Validate (12480 / 10 Steps):  17%|███████████████████████▏                                                                                                                   | 1/6 [00:02<00:12,  2.49s/it]\u001b[A\n",
      "Validate (12480 / 10 Steps):  17%|███████████████████████▏                                                                                                                   | 1/6 [00:05<00:12,  2.49s/it]\u001b[A\n",
      "Validate (12480 / 10 Steps):  33%|██████████████████████████████████████████████▎                                                                                            | 2/6 [00:05<00:10,  2.56s/it]\u001b[A\n",
      "Validate (12480 / 10 Steps):  33%|██████████████████████████████████████████████▎                                                                                            | 2/6 [00:07<00:10,  2.56s/it]\u001b[A\n",
      "Validate (12480 / 10 Steps):  50%|█████████████████████████████████████████████████████████████████████▌                                                                     | 3/6 [00:07<00:06,  2.28s/it]\u001b[A\n",
      "Validate (12480 / 10 Steps):  50%|█████████████████████████████████████████████████████████████████████▌                                                                     | 3/6 [00:11<00:06,  2.28s/it]\u001b[A\n",
      "Validate (12480 / 10 Steps):  67%|████████████████████████████████████████████████████████████████████████████████████████████▋                                              | 4/6 [00:11<00:06,  3.09s/it]\u001b[A\n",
      "Validate (12480 / 10 Steps):  67%|████████████████████████████████████████████████████████████████████████████████████████████▋                                              | 4/6 [00:13<00:06,  3.09s/it]\u001b[A\n",
      "Validate (12480 / 10 Steps):  83%|███████████████████████████████████████████████████████████████████████████████████████████████████████████████████▊                       | 5/6 [00:13<00:02,  2.86s/it]\u001b[A\n",
      "Validate (12480 / 10 Steps):  83%|███████████████████████████████████████████████████████████████████████████████████████████████████████████████████▊                       | 5/6 [00:16<00:02,  2.86s/it]\u001b[A\n",
      "Validate (12480 / 10 Steps): 100%|███████████████████████████████████████████████████████████████████████████████████████████████████████████████████████████████████████████| 6/6 [00:16<00:00,  2.74s/it]\u001b[A\n",
      "Training (12500 / 25000 Steps) (loss=0.38523):  88%|████████████████████████████████████████████████████████████████████████████████████████████████████████▏              | 21/24 [00:32<00:17,  5.78s/it]"
     ]
    },
    {
     "name": "stdout",
     "output_type": "stream",
     "text": [
      "Model Was Saved ! Current Best Avg. Dice: 0.886927604675293 Current Avg. Dice: 0.886927604675293\n"
     ]
    },
    {
     "name": "stderr",
     "output_type": "stream",
     "text": [
      "Training (12503 / 25000 Steps) (loss=0.66806): 100%|███████████████████████████████████████████████████████████████████████████████████████████████████████████████████████| 24/24 [00:35<00:00,  1.47s/it]\n",
      "Training (12527 / 25000 Steps) (loss=0.66503): 100%|███████████████████████████████████████████████████████████████████████████████████████████████████████████████████████| 24/24 [00:18<00:00,  1.30it/s]\n",
      "Training (12551 / 25000 Steps) (loss=0.83056): 100%|███████████████████████████████████████████████████████████████████████████████████████████████████████████████████████| 24/24 [00:18<00:00,  1.29it/s]\n",
      "Training (12575 / 25000 Steps) (loss=0.52610): 100%|███████████████████████████████████████████████████████████████████████████████████████████████████████████████████████| 24/24 [00:18<00:00,  1.30it/s]\n",
      "Training (12599 / 25000 Steps) (loss=0.53892): 100%|███████████████████████████████████████████████████████████████████████████████████████████████████████████████████████| 24/24 [00:18<00:00,  1.30it/s]\n",
      "Training (12623 / 25000 Steps) (loss=0.56352): 100%|███████████████████████████████████████████████████████████████████████████████████████████████████████████████████████| 24/24 [00:18<00:00,  1.30it/s]\n",
      "Training (12647 / 25000 Steps) (loss=0.43020): 100%|███████████████████████████████████████████████████████████████████████████████████████████████████████████████████████| 24/24 [00:18<00:00,  1.30it/s]\n",
      "Training (12671 / 25000 Steps) (loss=0.38795): 100%|███████████████████████████████████████████████████████████████████████████████████████████████████████████████████████| 24/24 [00:18<00:00,  1.29it/s]\n",
      "Training (12695 / 25000 Steps) (loss=0.61533): 100%|███████████████████████████████████████████████████████████████████████████████████████████████████████████████████████| 24/24 [00:18<00:00,  1.29it/s]\n",
      "Training (12719 / 25000 Steps) (loss=0.69331): 100%|███████████████████████████████████████████████████████████████████████████████████████████████████████████████████████| 24/24 [00:18<00:00,  1.30it/s]\n",
      "Training (12743 / 25000 Steps) (loss=0.74520): 100%|███████████████████████████████████████████████████████████████████████████████████████████████████████████████████████| 24/24 [00:18<00:00,  1.30it/s]\n",
      "Training (12767 / 25000 Steps) (loss=0.53987): 100%|███████████████████████████████████████████████████████████████████████████████████████████████████████████████████████| 24/24 [00:18<00:00,  1.30it/s]\n",
      "Training (12791 / 25000 Steps) (loss=0.40522): 100%|███████████████████████████████████████████████████████████████████████████████████████████████████████████████████████| 24/24 [00:18<00:00,  1.29it/s]\n",
      "Training (12815 / 25000 Steps) (loss=0.73279): 100%|███████████████████████████████████████████████████████████████████████████████████████████████████████████████████████| 24/24 [00:18<00:00,  1.29it/s]\n",
      "Training (12839 / 25000 Steps) (loss=0.41782): 100%|███████████████████████████████████████████████████████████████████████████████████████████████████████████████████████| 24/24 [00:18<00:00,  1.29it/s]\n",
      "Training (12863 / 25000 Steps) (loss=0.64779): 100%|███████████████████████████████████████████████████████████████████████████████████████████████████████████████████████| 24/24 [00:18<00:00,  1.29it/s]\n",
      "Training (12887 / 25000 Steps) (loss=0.80699): 100%|███████████████████████████████████████████████████████████████████████████████████████████████████████████████████████| 24/24 [00:18<00:00,  1.29it/s]\n",
      "Training (12911 / 25000 Steps) (loss=0.46923): 100%|███████████████████████████████████████████████████████████████████████████████████████████████████████████████████████| 24/24 [00:18<00:00,  1.29it/s]\n",
      "Training (12935 / 25000 Steps) (loss=0.51160): 100%|███████████████████████████████████████████████████████████████████████████████████████████████████████████████████████| 24/24 [00:18<00:00,  1.29it/s]\n",
      "Training (12959 / 25000 Steps) (loss=0.51217): 100%|███████████████████████████████████████████████████████████████████████████████████████████████████████████████████████| 24/24 [00:18<00:00,  1.30it/s]\n",
      "Training (12983 / 25000 Steps) (loss=0.73365): 100%|███████████████████████████████████████████████████████████████████████████████████████████████████████████████████████| 24/24 [00:18<00:00,  1.29it/s]\n",
      "Training (13000 / 25000 Steps) (loss=0.60692):  67%|███████████████████████████████████████████████████████████████████████████████▎                                       | 16/24 [00:13<00:06,  1.30it/s]\n",
      "Validate (X / X Steps) (dice=X.X):   0%|                                                                                                                                             | 0/6 [00:00<?, ?it/s]\u001b[A\n",
      "Validate (12984 / 10 Steps):   0%|                                                                                                                                                   | 0/6 [00:02<?, ?it/s]\u001b[A\n",
      "Validate (12984 / 10 Steps):  17%|███████████████████████▏                                                                                                                   | 1/6 [00:02<00:12,  2.50s/it]\u001b[A\n",
      "Validate (12984 / 10 Steps):  17%|███████████████████████▏                                                                                                                   | 1/6 [00:05<00:12,  2.50s/it]\u001b[A\n",
      "Validate (12984 / 10 Steps):  33%|██████████████████████████████████████████████▎                                                                                            | 2/6 [00:05<00:10,  2.56s/it]\u001b[A\n",
      "Validate (12984 / 10 Steps):  33%|██████████████████████████████████████████████▎                                                                                            | 2/6 [00:07<00:10,  2.56s/it]\u001b[A\n",
      "Validate (12984 / 10 Steps):  50%|█████████████████████████████████████████████████████████████████████▌                                                                     | 3/6 [00:07<00:06,  2.29s/it]\u001b[A\n",
      "Validate (12984 / 10 Steps):  50%|█████████████████████████████████████████████████████████████████████▌                                                                     | 3/6 [00:11<00:06,  2.29s/it]\u001b[A\n",
      "Validate (12984 / 10 Steps):  67%|████████████████████████████████████████████████████████████████████████████████████████████▋                                              | 4/6 [00:11<00:06,  3.09s/it]\u001b[A\n",
      "Validate (12984 / 10 Steps):  67%|████████████████████████████████████████████████████████████████████████████████████████████▋                                              | 4/6 [00:13<00:06,  3.09s/it]\u001b[A\n",
      "Validate (12984 / 10 Steps):  83%|███████████████████████████████████████████████████████████████████████████████████████████████████████████████████▊                       | 5/6 [00:13<00:02,  2.86s/it]\u001b[A\n",
      "Validate (12984 / 10 Steps):  83%|███████████████████████████████████████████████████████████████████████████████████████████████████████████████████▊                       | 5/6 [00:16<00:02,  2.86s/it]\u001b[A\n",
      "Validate (12984 / 10 Steps): 100%|███████████████████████████████████████████████████████████████████████████████████████████████████████████████████████████████████████████| 6/6 [00:16<00:00,  2.74s/it]\u001b[A\n",
      "Training (13000 / 25000 Steps) (loss=0.60692):  71%|████████████████████████████████████████████████████████████████████████████████████▎                                  | 17/24 [00:29<00:40,  5.72s/it]"
     ]
    },
    {
     "name": "stdout",
     "output_type": "stream",
     "text": [
      "Model Was Not Saved ! Current Best Avg. Dice: 0.886927604675293 Current Avg. Dice: 0.8841531872749329\n"
     ]
    },
    {
     "name": "stderr",
     "output_type": "stream",
     "text": [
      "Training (13007 / 25000 Steps) (loss=0.47256): 100%|███████████████████████████████████████████████████████████████████████████████████████████████████████████████████████| 24/24 [00:34<00:00,  1.46s/it]\n",
      "Training (13031 / 25000 Steps) (loss=0.49812): 100%|███████████████████████████████████████████████████████████████████████████████████████████████████████████████████████| 24/24 [00:18<00:00,  1.30it/s]\n",
      "Training (13055 / 25000 Steps) (loss=0.76507): 100%|███████████████████████████████████████████████████████████████████████████████████████████████████████████████████████| 24/24 [00:18<00:00,  1.29it/s]\n",
      "Training (13079 / 25000 Steps) (loss=0.63926): 100%|███████████████████████████████████████████████████████████████████████████████████████████████████████████████████████| 24/24 [00:18<00:00,  1.29it/s]\n",
      "Training (13103 / 25000 Steps) (loss=0.54377): 100%|███████████████████████████████████████████████████████████████████████████████████████████████████████████████████████| 24/24 [00:18<00:00,  1.29it/s]\n",
      "Training (13127 / 25000 Steps) (loss=0.56558): 100%|███████████████████████████████████████████████████████████████████████████████████████████████████████████████████████| 24/24 [00:18<00:00,  1.29it/s]\n",
      "Training (13151 / 25000 Steps) (loss=0.60942): 100%|███████████████████████████████████████████████████████████████████████████████████████████████████████████████████████| 24/24 [00:18<00:00,  1.30it/s]\n",
      "Training (13175 / 25000 Steps) (loss=0.36314): 100%|███████████████████████████████████████████████████████████████████████████████████████████████████████████████████████| 24/24 [00:18<00:00,  1.29it/s]\n",
      "Training (13199 / 25000 Steps) (loss=0.62535): 100%|███████████████████████████████████████████████████████████████████████████████████████████████████████████████████████| 24/24 [00:18<00:00,  1.29it/s]\n",
      "Training (13223 / 25000 Steps) (loss=0.42679): 100%|███████████████████████████████████████████████████████████████████████████████████████████████████████████████████████| 24/24 [00:18<00:00,  1.30it/s]\n",
      "Training (13247 / 25000 Steps) (loss=0.21478): 100%|███████████████████████████████████████████████████████████████████████████████████████████████████████████████████████| 24/24 [00:18<00:00,  1.30it/s]\n",
      "Training (13271 / 25000 Steps) (loss=0.38245): 100%|███████████████████████████████████████████████████████████████████████████████████████████████████████████████████████| 24/24 [00:18<00:00,  1.29it/s]\n",
      "Training (13295 / 25000 Steps) (loss=0.68699): 100%|███████████████████████████████████████████████████████████████████████████████████████████████████████████████████████| 24/24 [00:18<00:00,  1.30it/s]\n",
      "Training (13319 / 25000 Steps) (loss=0.70015): 100%|███████████████████████████████████████████████████████████████████████████████████████████████████████████████████████| 24/24 [00:18<00:00,  1.29it/s]\n",
      "Training (13343 / 25000 Steps) (loss=0.58722): 100%|███████████████████████████████████████████████████████████████████████████████████████████████████████████████████████| 24/24 [00:18<00:00,  1.30it/s]\n",
      "Training (13367 / 25000 Steps) (loss=0.48056): 100%|███████████████████████████████████████████████████████████████████████████████████████████████████████████████████████| 24/24 [00:18<00:00,  1.29it/s]\n",
      "Training (13391 / 25000 Steps) (loss=0.70433): 100%|███████████████████████████████████████████████████████████████████████████████████████████████████████████████████████| 24/24 [00:18<00:00,  1.30it/s]\n",
      "Training (13415 / 25000 Steps) (loss=0.39217): 100%|███████████████████████████████████████████████████████████████████████████████████████████████████████████████████████| 24/24 [00:18<00:00,  1.30it/s]\n",
      "Training (13439 / 25000 Steps) (loss=0.71862): 100%|███████████████████████████████████████████████████████████████████████████████████████████████████████████████████████| 24/24 [00:18<00:00,  1.29it/s]\n",
      "Training (13463 / 25000 Steps) (loss=0.72924): 100%|███████████████████████████████████████████████████████████████████████████████████████████████████████████████████████| 24/24 [00:18<00:00,  1.30it/s]\n",
      "Training (13487 / 25000 Steps) (loss=0.66290): 100%|███████████████████████████████████████████████████████████████████████████████████████████████████████████████████████| 24/24 [00:18<00:00,  1.29it/s]\n",
      "Training (13500 / 25000 Steps) (loss=0.54590):  50%|███████████████████████████████████████████████████████████▌                                                           | 12/24 [00:10<00:09,  1.30it/s]\n",
      "Validate (X / X Steps) (dice=X.X):   0%|                                                                                                                                             | 0/6 [00:00<?, ?it/s]\u001b[A\n",
      "Validate (13488 / 10 Steps):   0%|                                                                                                                                                   | 0/6 [00:02<?, ?it/s]\u001b[A\n",
      "Validate (13488 / 10 Steps):  17%|███████████████████████▏                                                                                                                   | 1/6 [00:02<00:12,  2.47s/it]\u001b[A\n",
      "Validate (13488 / 10 Steps):  17%|███████████████████████▏                                                                                                                   | 1/6 [00:05<00:12,  2.47s/it]\u001b[A\n",
      "Validate (13488 / 10 Steps):  33%|██████████████████████████████████████████████▎                                                                                            | 2/6 [00:05<00:10,  2.55s/it]\u001b[A\n",
      "Validate (13488 / 10 Steps):  33%|██████████████████████████████████████████████▎                                                                                            | 2/6 [00:07<00:10,  2.55s/it]\u001b[A\n",
      "Validate (13488 / 10 Steps):  50%|█████████████████████████████████████████████████████████████████████▌                                                                     | 3/6 [00:07<00:06,  2.28s/it]\u001b[A\n",
      "Validate (13488 / 10 Steps):  50%|█████████████████████████████████████████████████████████████████████▌                                                                     | 3/6 [00:11<00:06,  2.28s/it]\u001b[A\n",
      "Validate (13488 / 10 Steps):  67%|████████████████████████████████████████████████████████████████████████████████████████████▋                                              | 4/6 [00:11<00:06,  3.08s/it]\u001b[A\n",
      "Validate (13488 / 10 Steps):  67%|████████████████████████████████████████████████████████████████████████████████████████████▋                                              | 4/6 [00:13<00:06,  3.08s/it]\u001b[A\n",
      "Validate (13488 / 10 Steps):  83%|███████████████████████████████████████████████████████████████████████████████████████████████████████████████████▊                       | 5/6 [00:13<00:02,  2.86s/it]\u001b[A\n",
      "Validate (13488 / 10 Steps):  83%|███████████████████████████████████████████████████████████████████████████████████████████████████████████████████▊                       | 5/6 [00:16<00:02,  2.86s/it]\u001b[A\n",
      "Validate (13488 / 10 Steps): 100%|███████████████████████████████████████████████████████████████████████████████████████████████████████████████████████████████████████████| 6/6 [00:16<00:00,  2.73s/it]\u001b[A\n",
      "Training (13500 / 25000 Steps) (loss=0.54590):  54%|████████████████████████████████████████████████████████████████▍                                                      | 13/24 [00:26<01:03,  5.74s/it]"
     ]
    },
    {
     "name": "stdout",
     "output_type": "stream",
     "text": [
      "Model Was Not Saved ! Current Best Avg. Dice: 0.886927604675293 Current Avg. Dice: 0.8751886487007141\n"
     ]
    },
    {
     "name": "stderr",
     "output_type": "stream",
     "text": [
      "Training (13511 / 25000 Steps) (loss=0.66008): 100%|███████████████████████████████████████████████████████████████████████████████████████████████████████████████████████| 24/24 [00:34<00:00,  1.46s/it]\n",
      "Training (13535 / 25000 Steps) (loss=0.67585): 100%|███████████████████████████████████████████████████████████████████████████████████████████████████████████████████████| 24/24 [00:18<00:00,  1.30it/s]\n",
      "Training (13559 / 25000 Steps) (loss=0.60842): 100%|███████████████████████████████████████████████████████████████████████████████████████████████████████████████████████| 24/24 [00:18<00:00,  1.29it/s]\n",
      "Training (13583 / 25000 Steps) (loss=0.33064): 100%|███████████████████████████████████████████████████████████████████████████████████████████████████████████████████████| 24/24 [00:18<00:00,  1.29it/s]\n",
      "Training (13607 / 25000 Steps) (loss=0.55828): 100%|███████████████████████████████████████████████████████████████████████████████████████████████████████████████████████| 24/24 [00:18<00:00,  1.29it/s]\n",
      "Training (13631 / 25000 Steps) (loss=0.55696): 100%|███████████████████████████████████████████████████████████████████████████████████████████████████████████████████████| 24/24 [00:18<00:00,  1.30it/s]\n",
      "Training (13655 / 25000 Steps) (loss=0.61553): 100%|███████████████████████████████████████████████████████████████████████████████████████████████████████████████████████| 24/24 [00:18<00:00,  1.29it/s]\n",
      "Training (13679 / 25000 Steps) (loss=0.53823): 100%|███████████████████████████████████████████████████████████████████████████████████████████████████████████████████████| 24/24 [00:18<00:00,  1.30it/s]\n",
      "Training (13703 / 25000 Steps) (loss=0.49104): 100%|███████████████████████████████████████████████████████████████████████████████████████████████████████████████████████| 24/24 [00:18<00:00,  1.30it/s]\n",
      "Training (13727 / 25000 Steps) (loss=0.56749): 100%|███████████████████████████████████████████████████████████████████████████████████████████████████████████████████████| 24/24 [00:18<00:00,  1.30it/s]\n",
      "Training (13751 / 25000 Steps) (loss=0.65347): 100%|███████████████████████████████████████████████████████████████████████████████████████████████████████████████████████| 24/24 [00:18<00:00,  1.30it/s]\n",
      "Training (13775 / 25000 Steps) (loss=0.41215): 100%|███████████████████████████████████████████████████████████████████████████████████████████████████████████████████████| 24/24 [00:18<00:00,  1.29it/s]\n",
      "Training (13799 / 25000 Steps) (loss=0.46442): 100%|███████████████████████████████████████████████████████████████████████████████████████████████████████████████████████| 24/24 [00:18<00:00,  1.29it/s]\n",
      "Training (13823 / 25000 Steps) (loss=0.45357): 100%|███████████████████████████████████████████████████████████████████████████████████████████████████████████████████████| 24/24 [00:18<00:00,  1.30it/s]\n",
      "Training (13847 / 25000 Steps) (loss=0.62180): 100%|███████████████████████████████████████████████████████████████████████████████████████████████████████████████████████| 24/24 [00:18<00:00,  1.30it/s]\n",
      "Training (13871 / 25000 Steps) (loss=0.48247): 100%|███████████████████████████████████████████████████████████████████████████████████████████████████████████████████████| 24/24 [00:18<00:00,  1.30it/s]\n",
      "Training (13895 / 25000 Steps) (loss=0.59520): 100%|███████████████████████████████████████████████████████████████████████████████████████████████████████████████████████| 24/24 [00:18<00:00,  1.29it/s]\n",
      "Training (13919 / 25000 Steps) (loss=0.58649): 100%|███████████████████████████████████████████████████████████████████████████████████████████████████████████████████████| 24/24 [00:18<00:00,  1.29it/s]\n",
      "Training (13943 / 25000 Steps) (loss=0.40224): 100%|███████████████████████████████████████████████████████████████████████████████████████████████████████████████████████| 24/24 [00:18<00:00,  1.30it/s]\n",
      "Training (13967 / 25000 Steps) (loss=0.45536): 100%|███████████████████████████████████████████████████████████████████████████████████████████████████████████████████████| 24/24 [00:18<00:00,  1.30it/s]\n",
      "Training (13991 / 25000 Steps) (loss=0.75520): 100%|███████████████████████████████████████████████████████████████████████████████████████████████████████████████████████| 24/24 [00:18<00:00,  1.30it/s]\n",
      "Training (14000 / 25000 Steps) (loss=0.66411):  33%|████████████████████████████████████████                                                                                | 8/24 [00:06<00:12,  1.30it/s]\n",
      "Validate (X / X Steps) (dice=X.X):   0%|                                                                                                                                             | 0/6 [00:00<?, ?it/s]\u001b[A\n",
      "Validate (13992 / 10 Steps):   0%|                                                                                                                                                   | 0/6 [00:02<?, ?it/s]\u001b[A\n",
      "Validate (13992 / 10 Steps):  17%|███████████████████████▏                                                                                                                   | 1/6 [00:02<00:12,  2.48s/it]\u001b[A\n",
      "Validate (13992 / 10 Steps):  17%|███████████████████████▏                                                                                                                   | 1/6 [00:05<00:12,  2.48s/it]\u001b[A\n",
      "Validate (13992 / 10 Steps):  33%|██████████████████████████████████████████████▎                                                                                            | 2/6 [00:05<00:10,  2.56s/it]\u001b[A\n",
      "Validate (13992 / 10 Steps):  33%|██████████████████████████████████████████████▎                                                                                            | 2/6 [00:07<00:10,  2.56s/it]\u001b[A\n",
      "Validate (13992 / 10 Steps):  50%|█████████████████████████████████████████████████████████████████████▌                                                                     | 3/6 [00:07<00:06,  2.28s/it]\u001b[A\n",
      "Validate (13992 / 10 Steps):  50%|█████████████████████████████████████████████████████████████████████▌                                                                     | 3/6 [00:11<00:06,  2.28s/it]\u001b[A\n",
      "Validate (13992 / 10 Steps):  67%|████████████████████████████████████████████████████████████████████████████████████████████▋                                              | 4/6 [00:11<00:06,  3.09s/it]\u001b[A\n",
      "Validate (13992 / 10 Steps):  67%|████████████████████████████████████████████████████████████████████████████████████████████▋                                              | 4/6 [00:13<00:06,  3.09s/it]\u001b[A\n",
      "Validate (13992 / 10 Steps):  83%|███████████████████████████████████████████████████████████████████████████████████████████████████████████████████▊                       | 5/6 [00:13<00:02,  2.86s/it]\u001b[A\n",
      "Validate (13992 / 10 Steps):  83%|███████████████████████████████████████████████████████████████████████████████████████████████████████████████████▊                       | 5/6 [00:16<00:02,  2.86s/it]\u001b[A\n",
      "Validate (13992 / 10 Steps): 100%|███████████████████████████████████████████████████████████████████████████████████████████████████████████████████████████████████████████| 6/6 [00:16<00:00,  2.74s/it]\u001b[A\n",
      "Training (14000 / 25000 Steps) (loss=0.66411):  38%|█████████████████████████████████████████████                                                                           | 9/24 [00:23<01:28,  5.91s/it]"
     ]
    },
    {
     "name": "stdout",
     "output_type": "stream",
     "text": [
      "Model Was Not Saved ! Current Best Avg. Dice: 0.886927604675293 Current Avg. Dice: 0.8799362182617188\n"
     ]
    },
    {
     "name": "stderr",
     "output_type": "stream",
     "text": [
      "Training (14015 / 25000 Steps) (loss=0.39187): 100%|███████████████████████████████████████████████████████████████████████████████████████████████████████████████████████| 24/24 [00:34<00:00,  1.46s/it]\n",
      "Training (14039 / 25000 Steps) (loss=0.46476): 100%|███████████████████████████████████████████████████████████████████████████████████████████████████████████████████████| 24/24 [00:18<00:00,  1.29it/s]\n",
      "Training (14063 / 25000 Steps) (loss=0.38053): 100%|███████████████████████████████████████████████████████████████████████████████████████████████████████████████████████| 24/24 [00:18<00:00,  1.29it/s]\n",
      "Training (14087 / 25000 Steps) (loss=0.56227): 100%|███████████████████████████████████████████████████████████████████████████████████████████████████████████████████████| 24/24 [00:18<00:00,  1.30it/s]\n",
      "Training (14111 / 25000 Steps) (loss=0.48459): 100%|███████████████████████████████████████████████████████████████████████████████████████████████████████████████████████| 24/24 [00:18<00:00,  1.30it/s]\n",
      "Training (14135 / 25000 Steps) (loss=0.42769): 100%|███████████████████████████████████████████████████████████████████████████████████████████████████████████████████████| 24/24 [00:18<00:00,  1.30it/s]\n",
      "Training (14159 / 25000 Steps) (loss=0.70176): 100%|███████████████████████████████████████████████████████████████████████████████████████████████████████████████████████| 24/24 [00:18<00:00,  1.29it/s]\n",
      "Training (14183 / 25000 Steps) (loss=0.34130): 100%|███████████████████████████████████████████████████████████████████████████████████████████████████████████████████████| 24/24 [00:18<00:00,  1.30it/s]\n",
      "Training (14207 / 25000 Steps) (loss=0.55771): 100%|███████████████████████████████████████████████████████████████████████████████████████████████████████████████████████| 24/24 [00:18<00:00,  1.29it/s]\n",
      "Training (14231 / 25000 Steps) (loss=0.79927): 100%|███████████████████████████████████████████████████████████████████████████████████████████████████████████████████████| 24/24 [00:18<00:00,  1.29it/s]\n",
      "Training (14255 / 25000 Steps) (loss=0.79179): 100%|███████████████████████████████████████████████████████████████████████████████████████████████████████████████████████| 24/24 [00:18<00:00,  1.30it/s]\n",
      "Training (14279 / 25000 Steps) (loss=0.54698): 100%|███████████████████████████████████████████████████████████████████████████████████████████████████████████████████████| 24/24 [00:18<00:00,  1.30it/s]\n",
      "Training (14303 / 25000 Steps) (loss=0.62572): 100%|███████████████████████████████████████████████████████████████████████████████████████████████████████████████████████| 24/24 [00:18<00:00,  1.29it/s]\n",
      "Training (14327 / 25000 Steps) (loss=0.60886): 100%|███████████████████████████████████████████████████████████████████████████████████████████████████████████████████████| 24/24 [00:18<00:00,  1.29it/s]\n",
      "Training (14351 / 25000 Steps) (loss=0.61466): 100%|███████████████████████████████████████████████████████████████████████████████████████████████████████████████████████| 24/24 [00:18<00:00,  1.29it/s]\n",
      "Training (14375 / 25000 Steps) (loss=0.42850): 100%|███████████████████████████████████████████████████████████████████████████████████████████████████████████████████████| 24/24 [00:18<00:00,  1.29it/s]\n",
      "Training (14399 / 25000 Steps) (loss=0.53712): 100%|███████████████████████████████████████████████████████████████████████████████████████████████████████████████████████| 24/24 [00:18<00:00,  1.30it/s]\n",
      "Training (14423 / 25000 Steps) (loss=0.55131): 100%|███████████████████████████████████████████████████████████████████████████████████████████████████████████████████████| 24/24 [00:18<00:00,  1.30it/s]\n",
      "Training (14447 / 25000 Steps) (loss=0.53426): 100%|███████████████████████████████████████████████████████████████████████████████████████████████████████████████████████| 24/24 [00:18<00:00,  1.30it/s]\n",
      "Training (14471 / 25000 Steps) (loss=0.49488): 100%|███████████████████████████████████████████████████████████████████████████████████████████████████████████████████████| 24/24 [00:18<00:00,  1.29it/s]\n",
      "Training (14495 / 25000 Steps) (loss=0.59235): 100%|███████████████████████████████████████████████████████████████████████████████████████████████████████████████████████| 24/24 [00:18<00:00,  1.29it/s]\n",
      "Training (14500 / 25000 Steps) (loss=0.53015):  17%|████████████████████                                                                                                    | 4/24 [00:03<00:15,  1.28it/s]\n",
      "Validate (X / X Steps) (dice=X.X):   0%|                                                                                                                                             | 0/6 [00:00<?, ?it/s]\u001b[A\n",
      "Validate (14496 / 10 Steps):   0%|                                                                                                                                                   | 0/6 [00:02<?, ?it/s]\u001b[A\n",
      "Validate (14496 / 10 Steps):  17%|███████████████████████▏                                                                                                                   | 1/6 [00:02<00:12,  2.48s/it]\u001b[A\n",
      "Validate (14496 / 10 Steps):  17%|███████████████████████▏                                                                                                                   | 1/6 [00:05<00:12,  2.48s/it]\u001b[A\n",
      "Validate (14496 / 10 Steps):  33%|██████████████████████████████████████████████▎                                                                                            | 2/6 [00:05<00:10,  2.55s/it]\u001b[A\n",
      "Validate (14496 / 10 Steps):  33%|██████████████████████████████████████████████▎                                                                                            | 2/6 [00:07<00:10,  2.55s/it]\u001b[A\n",
      "Validate (14496 / 10 Steps):  50%|█████████████████████████████████████████████████████████████████████▌                                                                     | 3/6 [00:07<00:06,  2.28s/it]\u001b[A\n",
      "Validate (14496 / 10 Steps):  50%|█████████████████████████████████████████████████████████████████████▌                                                                     | 3/6 [00:11<00:06,  2.28s/it]\u001b[A\n",
      "Validate (14496 / 10 Steps):  67%|████████████████████████████████████████████████████████████████████████████████████████████▋                                              | 4/6 [00:11<00:06,  3.09s/it]\u001b[A\n",
      "Validate (14496 / 10 Steps):  67%|████████████████████████████████████████████████████████████████████████████████████████████▋                                              | 4/6 [00:13<00:06,  3.09s/it]\u001b[A\n",
      "Validate (14496 / 10 Steps):  83%|███████████████████████████████████████████████████████████████████████████████████████████████████████████████████▊                       | 5/6 [00:13<00:02,  2.86s/it]\u001b[A\n",
      "Validate (14496 / 10 Steps):  83%|███████████████████████████████████████████████████████████████████████████████████████████████████████████████████▊                       | 5/6 [00:16<00:02,  2.86s/it]\u001b[A\n",
      "Validate (14496 / 10 Steps): 100%|███████████████████████████████████████████████████████████████████████████████████████████████████████████████████████████████████████████| 6/6 [00:16<00:00,  2.74s/it]\u001b[A\n",
      "Training (14500 / 25000 Steps) (loss=0.53015):  21%|█████████████████████████                                                                                               | 5/24 [00:20<02:09,  6.80s/it]"
     ]
    },
    {
     "name": "stdout",
     "output_type": "stream",
     "text": [
      "Model Was Saved ! Current Best Avg. Dice: 0.8875536322593689 Current Avg. Dice: 0.8875536322593689\n"
     ]
    },
    {
     "name": "stderr",
     "output_type": "stream",
     "text": [
      "Training (14519 / 25000 Steps) (loss=0.72099): 100%|███████████████████████████████████████████████████████████████████████████████████████████████████████████████████████| 24/24 [00:35<00:00,  1.47s/it]\n",
      "Training (14543 / 25000 Steps) (loss=0.37648): 100%|███████████████████████████████████████████████████████████████████████████████████████████████████████████████████████| 24/24 [00:18<00:00,  1.29it/s]\n",
      "Training (14567 / 25000 Steps) (loss=0.35944): 100%|███████████████████████████████████████████████████████████████████████████████████████████████████████████████████████| 24/24 [00:18<00:00,  1.30it/s]\n",
      "Training (14591 / 25000 Steps) (loss=0.39755): 100%|███████████████████████████████████████████████████████████████████████████████████████████████████████████████████████| 24/24 [00:18<00:00,  1.29it/s]\n",
      "Training (14615 / 25000 Steps) (loss=0.65835): 100%|███████████████████████████████████████████████████████████████████████████████████████████████████████████████████████| 24/24 [00:18<00:00,  1.29it/s]\n",
      "Training (14639 / 25000 Steps) (loss=0.29116): 100%|███████████████████████████████████████████████████████████████████████████████████████████████████████████████████████| 24/24 [00:18<00:00,  1.30it/s]\n",
      "Training (14663 / 25000 Steps) (loss=0.38705): 100%|███████████████████████████████████████████████████████████████████████████████████████████████████████████████████████| 24/24 [00:18<00:00,  1.29it/s]\n",
      "Training (14687 / 25000 Steps) (loss=0.49437): 100%|███████████████████████████████████████████████████████████████████████████████████████████████████████████████████████| 24/24 [00:18<00:00,  1.30it/s]\n",
      "Training (14711 / 25000 Steps) (loss=0.56821): 100%|███████████████████████████████████████████████████████████████████████████████████████████████████████████████████████| 24/24 [00:18<00:00,  1.30it/s]\n",
      "Training (14735 / 25000 Steps) (loss=0.46779): 100%|███████████████████████████████████████████████████████████████████████████████████████████████████████████████████████| 24/24 [00:18<00:00,  1.29it/s]\n",
      "Training (14759 / 25000 Steps) (loss=0.87803): 100%|███████████████████████████████████████████████████████████████████████████████████████████████████████████████████████| 24/24 [00:18<00:00,  1.30it/s]\n",
      "Training (14783 / 25000 Steps) (loss=0.59583): 100%|███████████████████████████████████████████████████████████████████████████████████████████████████████████████████████| 24/24 [00:18<00:00,  1.30it/s]\n",
      "Training (14807 / 25000 Steps) (loss=0.40292): 100%|███████████████████████████████████████████████████████████████████████████████████████████████████████████████████████| 24/24 [00:18<00:00,  1.30it/s]\n",
      "Training (14831 / 25000 Steps) (loss=0.41579): 100%|███████████████████████████████████████████████████████████████████████████████████████████████████████████████████████| 24/24 [00:18<00:00,  1.29it/s]\n",
      "Training (14855 / 25000 Steps) (loss=0.42614): 100%|███████████████████████████████████████████████████████████████████████████████████████████████████████████████████████| 24/24 [00:18<00:00,  1.30it/s]\n",
      "Training (14879 / 25000 Steps) (loss=0.38936): 100%|███████████████████████████████████████████████████████████████████████████████████████████████████████████████████████| 24/24 [00:18<00:00,  1.30it/s]\n",
      "Training (14903 / 25000 Steps) (loss=0.62077): 100%|███████████████████████████████████████████████████████████████████████████████████████████████████████████████████████| 24/24 [00:18<00:00,  1.29it/s]\n",
      "Training (14927 / 25000 Steps) (loss=0.42138): 100%|███████████████████████████████████████████████████████████████████████████████████████████████████████████████████████| 24/24 [00:18<00:00,  1.29it/s]\n",
      "Training (14951 / 25000 Steps) (loss=0.65723): 100%|███████████████████████████████████████████████████████████████████████████████████████████████████████████████████████| 24/24 [00:18<00:00,  1.30it/s]\n",
      "Training (14975 / 25000 Steps) (loss=0.55025): 100%|███████████████████████████████████████████████████████████████████████████████████████████████████████████████████████| 24/24 [00:18<00:00,  1.29it/s]\n",
      "Training (14999 / 25000 Steps) (loss=0.53470): 100%|███████████████████████████████████████████████████████████████████████████████████████████████████████████████████████| 24/24 [00:18<00:00,  1.29it/s]\n",
      "Training (15000 / 25000 Steps) (loss=0.39355):   0%|                                                                                                                                | 0/24 [00:00<?, ?it/s]\n",
      "Validate (X / X Steps) (dice=X.X):   0%|                                                                                                                                             | 0/6 [00:00<?, ?it/s]\u001b[A\n",
      "Validate (15000 / 10 Steps):   0%|                                                                                                                                                   | 0/6 [00:02<?, ?it/s]\u001b[A\n",
      "Validate (15000 / 10 Steps):  17%|███████████████████████▏                                                                                                                   | 1/6 [00:02<00:12,  2.48s/it]\u001b[A\n",
      "Validate (15000 / 10 Steps):  17%|███████████████████████▏                                                                                                                   | 1/6 [00:05<00:12,  2.48s/it]\u001b[A\n",
      "Validate (15000 / 10 Steps):  33%|██████████████████████████████████████████████▎                                                                                            | 2/6 [00:05<00:10,  2.56s/it]\u001b[A\n",
      "Validate (15000 / 10 Steps):  33%|██████████████████████████████████████████████▎                                                                                            | 2/6 [00:07<00:10,  2.56s/it]\u001b[A\n",
      "Validate (15000 / 10 Steps):  50%|█████████████████████████████████████████████████████████████████████▌                                                                     | 3/6 [00:07<00:06,  2.28s/it]\u001b[A\n",
      "Validate (15000 / 10 Steps):  50%|█████████████████████████████████████████████████████████████████████▌                                                                     | 3/6 [00:11<00:06,  2.28s/it]\u001b[A\n",
      "Validate (15000 / 10 Steps):  67%|████████████████████████████████████████████████████████████████████████████████████████████▋                                              | 4/6 [00:11<00:06,  3.09s/it]\u001b[A\n",
      "Validate (15000 / 10 Steps):  67%|████████████████████████████████████████████████████████████████████████████████████████████▋                                              | 4/6 [00:13<00:06,  3.09s/it]\u001b[A\n",
      "Validate (15000 / 10 Steps):  83%|███████████████████████████████████████████████████████████████████████████████████████████████████████████████████▊                       | 5/6 [00:13<00:02,  2.86s/it]\u001b[A\n",
      "Validate (15000 / 10 Steps):  83%|███████████████████████████████████████████████████████████████████████████████████████████████████████████████████▊                       | 5/6 [00:16<00:02,  2.86s/it]\u001b[A\n",
      "Validate (15000 / 10 Steps): 100%|███████████████████████████████████████████████████████████████████████████████████████████████████████████████████████████████████████████| 6/6 [00:16<00:00,  2.74s/it]\u001b[A\n",
      "Training (15000 / 25000 Steps) (loss=0.39355):   4%|█████                                                                                                                   | 1/24 [00:17<06:36, 17.24s/it]"
     ]
    },
    {
     "name": "stdout",
     "output_type": "stream",
     "text": [
      "Model Was Not Saved ! Current Best Avg. Dice: 0.8875536322593689 Current Avg. Dice: 0.8784987330436707\n"
     ]
    },
    {
     "name": "stderr",
     "output_type": "stream",
     "text": [
      "Training (15023 / 25000 Steps) (loss=0.47038): 100%|███████████████████████████████████████████████████████████████████████████████████████████████████████████████████████| 24/24 [00:34<00:00,  1.46s/it]\n",
      "Training (15047 / 25000 Steps) (loss=0.39115): 100%|███████████████████████████████████████████████████████████████████████████████████████████████████████████████████████| 24/24 [00:18<00:00,  1.30it/s]\n",
      "Training (15071 / 25000 Steps) (loss=0.50689): 100%|███████████████████████████████████████████████████████████████████████████████████████████████████████████████████████| 24/24 [00:18<00:00,  1.30it/s]\n",
      "Training (15095 / 25000 Steps) (loss=0.55774): 100%|███████████████████████████████████████████████████████████████████████████████████████████████████████████████████████| 24/24 [00:18<00:00,  1.30it/s]\n",
      "Training (15119 / 25000 Steps) (loss=0.44687): 100%|███████████████████████████████████████████████████████████████████████████████████████████████████████████████████████| 24/24 [00:18<00:00,  1.29it/s]\n",
      "Training (15143 / 25000 Steps) (loss=0.49262): 100%|███████████████████████████████████████████████████████████████████████████████████████████████████████████████████████| 24/24 [00:18<00:00,  1.30it/s]\n",
      "Training (15167 / 25000 Steps) (loss=0.69223): 100%|███████████████████████████████████████████████████████████████████████████████████████████████████████████████████████| 24/24 [00:18<00:00,  1.29it/s]\n",
      "Training (15191 / 25000 Steps) (loss=0.52360): 100%|███████████████████████████████████████████████████████████████████████████████████████████████████████████████████████| 24/24 [00:18<00:00,  1.29it/s]\n",
      "Training (15215 / 25000 Steps) (loss=0.46087): 100%|███████████████████████████████████████████████████████████████████████████████████████████████████████████████████████| 24/24 [00:18<00:00,  1.29it/s]\n",
      "Training (15239 / 25000 Steps) (loss=0.76794): 100%|███████████████████████████████████████████████████████████████████████████████████████████████████████████████████████| 24/24 [00:18<00:00,  1.29it/s]\n",
      "Training (15263 / 25000 Steps) (loss=0.60158): 100%|███████████████████████████████████████████████████████████████████████████████████████████████████████████████████████| 24/24 [00:18<00:00,  1.29it/s]\n",
      "Training (15287 / 25000 Steps) (loss=0.36770): 100%|███████████████████████████████████████████████████████████████████████████████████████████████████████████████████████| 24/24 [00:18<00:00,  1.29it/s]\n",
      "Training (15311 / 25000 Steps) (loss=0.51927): 100%|███████████████████████████████████████████████████████████████████████████████████████████████████████████████████████| 24/24 [00:18<00:00,  1.30it/s]\n",
      "Training (15335 / 25000 Steps) (loss=0.59888): 100%|███████████████████████████████████████████████████████████████████████████████████████████████████████████████████████| 24/24 [00:18<00:00,  1.30it/s]\n",
      "Training (15359 / 25000 Steps) (loss=0.62660): 100%|███████████████████████████████████████████████████████████████████████████████████████████████████████████████████████| 24/24 [00:18<00:00,  1.30it/s]\n",
      "Training (15383 / 25000 Steps) (loss=0.73617): 100%|███████████████████████████████████████████████████████████████████████████████████████████████████████████████████████| 24/24 [00:18<00:00,  1.29it/s]\n",
      "Training (15407 / 25000 Steps) (loss=0.36156): 100%|███████████████████████████████████████████████████████████████████████████████████████████████████████████████████████| 24/24 [00:18<00:00,  1.29it/s]\n",
      "Training (15431 / 25000 Steps) (loss=0.84007): 100%|███████████████████████████████████████████████████████████████████████████████████████████████████████████████████████| 24/24 [00:18<00:00,  1.29it/s]\n",
      "Training (15455 / 25000 Steps) (loss=0.59158): 100%|███████████████████████████████████████████████████████████████████████████████████████████████████████████████████████| 24/24 [00:18<00:00,  1.29it/s]\n",
      "Training (15479 / 25000 Steps) (loss=0.59513): 100%|███████████████████████████████████████████████████████████████████████████████████████████████████████████████████████| 24/24 [00:18<00:00,  1.30it/s]\n",
      "Training (15500 / 25000 Steps) (loss=0.48987):  83%|███████████████████████████████████████████████████████████████████████████████████████████████████▏                   | 20/24 [00:16<00:03,  1.30it/s]\n",
      "Validate (X / X Steps) (dice=X.X):   0%|                                                                                                                                             | 0/6 [00:00<?, ?it/s]\u001b[A\n",
      "Validate (15480 / 10 Steps):   0%|                                                                                                                                                   | 0/6 [00:02<?, ?it/s]\u001b[A\n",
      "Validate (15480 / 10 Steps):  17%|███████████████████████▏                                                                                                                   | 1/6 [00:02<00:12,  2.49s/it]\u001b[A\n",
      "Validate (15480 / 10 Steps):  17%|███████████████████████▏                                                                                                                   | 1/6 [00:05<00:12,  2.49s/it]\u001b[A\n",
      "Validate (15480 / 10 Steps):  33%|██████████████████████████████████████████████▎                                                                                            | 2/6 [00:05<00:10,  2.56s/it]\u001b[A\n",
      "Validate (15480 / 10 Steps):  33%|██████████████████████████████████████████████▎                                                                                            | 2/6 [00:07<00:10,  2.56s/it]\u001b[A\n",
      "Validate (15480 / 10 Steps):  50%|█████████████████████████████████████████████████████████████████████▌                                                                     | 3/6 [00:07<00:06,  2.28s/it]\u001b[A\n",
      "Validate (15480 / 10 Steps):  50%|█████████████████████████████████████████████████████████████████████▌                                                                     | 3/6 [00:11<00:06,  2.28s/it]\u001b[A\n",
      "Validate (15480 / 10 Steps):  67%|████████████████████████████████████████████████████████████████████████████████████████████▋                                              | 4/6 [00:11<00:06,  3.09s/it]\u001b[A\n",
      "Validate (15480 / 10 Steps):  67%|████████████████████████████████████████████████████████████████████████████████████████████▋                                              | 4/6 [00:13<00:06,  3.09s/it]\u001b[A\n",
      "Validate (15480 / 10 Steps):  83%|███████████████████████████████████████████████████████████████████████████████████████████████████████████████████▊                       | 5/6 [00:13<00:02,  2.86s/it]\u001b[A\n",
      "Validate (15480 / 10 Steps):  83%|███████████████████████████████████████████████████████████████████████████████████████████████████████████████████▊                       | 5/6 [00:16<00:02,  2.86s/it]\u001b[A\n",
      "Validate (15480 / 10 Steps): 100%|███████████████████████████████████████████████████████████████████████████████████████████████████████████████████████████████████████████| 6/6 [00:16<00:00,  2.74s/it]\u001b[A\n",
      "Training (15500 / 25000 Steps) (loss=0.48987):  88%|████████████████████████████████████████████████████████████████████████████████████████████████████████▏              | 21/24 [00:32<00:17,  5.71s/it]"
     ]
    },
    {
     "name": "stdout",
     "output_type": "stream",
     "text": [
      "Model Was Not Saved ! Current Best Avg. Dice: 0.8875536322593689 Current Avg. Dice: 0.8741874694824219\n"
     ]
    },
    {
     "name": "stderr",
     "output_type": "stream",
     "text": [
      "Training (15503 / 25000 Steps) (loss=0.43258): 100%|███████████████████████████████████████████████████████████████████████████████████████████████████████████████████████| 24/24 [00:34<00:00,  1.46s/it]\n",
      "Training (15527 / 25000 Steps) (loss=0.48572): 100%|███████████████████████████████████████████████████████████████████████████████████████████████████████████████████████| 24/24 [00:18<00:00,  1.30it/s]\n",
      "Training (15551 / 25000 Steps) (loss=0.39632): 100%|███████████████████████████████████████████████████████████████████████████████████████████████████████████████████████| 24/24 [00:18<00:00,  1.29it/s]\n",
      "Training (15575 / 25000 Steps) (loss=0.63763): 100%|███████████████████████████████████████████████████████████████████████████████████████████████████████████████████████| 24/24 [00:18<00:00,  1.30it/s]\n",
      "Training (15599 / 25000 Steps) (loss=0.63460): 100%|███████████████████████████████████████████████████████████████████████████████████████████████████████████████████████| 24/24 [00:18<00:00,  1.29it/s]\n",
      "Training (15623 / 25000 Steps) (loss=0.45496): 100%|███████████████████████████████████████████████████████████████████████████████████████████████████████████████████████| 24/24 [00:18<00:00,  1.30it/s]\n",
      "Training (15647 / 25000 Steps) (loss=0.63799): 100%|███████████████████████████████████████████████████████████████████████████████████████████████████████████████████████| 24/24 [00:18<00:00,  1.29it/s]\n",
      "Training (15671 / 25000 Steps) (loss=0.43352): 100%|███████████████████████████████████████████████████████████████████████████████████████████████████████████████████████| 24/24 [00:18<00:00,  1.30it/s]\n",
      "Training (15695 / 25000 Steps) (loss=0.30468): 100%|███████████████████████████████████████████████████████████████████████████████████████████████████████████████████████| 24/24 [00:18<00:00,  1.30it/s]\n",
      "Training (15719 / 25000 Steps) (loss=0.53686): 100%|███████████████████████████████████████████████████████████████████████████████████████████████████████████████████████| 24/24 [00:18<00:00,  1.29it/s]\n",
      "Training (15743 / 25000 Steps) (loss=0.73117): 100%|███████████████████████████████████████████████████████████████████████████████████████████████████████████████████████| 24/24 [00:18<00:00,  1.30it/s]\n",
      "Training (15767 / 25000 Steps) (loss=0.72386): 100%|███████████████████████████████████████████████████████████████████████████████████████████████████████████████████████| 24/24 [00:18<00:00,  1.30it/s]\n",
      "Training (15791 / 25000 Steps) (loss=0.54814): 100%|███████████████████████████████████████████████████████████████████████████████████████████████████████████████████████| 24/24 [00:18<00:00,  1.30it/s]\n",
      "Training (15815 / 25000 Steps) (loss=0.59454): 100%|███████████████████████████████████████████████████████████████████████████████████████████████████████████████████████| 24/24 [00:18<00:00,  1.29it/s]\n",
      "Training (15839 / 25000 Steps) (loss=0.46353): 100%|███████████████████████████████████████████████████████████████████████████████████████████████████████████████████████| 24/24 [00:18<00:00,  1.29it/s]\n",
      "Training (15863 / 25000 Steps) (loss=0.66876): 100%|███████████████████████████████████████████████████████████████████████████████████████████████████████████████████████| 24/24 [00:18<00:00,  1.29it/s]\n",
      "Training (15887 / 25000 Steps) (loss=0.57183): 100%|███████████████████████████████████████████████████████████████████████████████████████████████████████████████████████| 24/24 [00:18<00:00,  1.30it/s]\n",
      "Training (15911 / 25000 Steps) (loss=0.43986): 100%|███████████████████████████████████████████████████████████████████████████████████████████████████████████████████████| 24/24 [00:18<00:00,  1.30it/s]\n",
      "Training (15935 / 25000 Steps) (loss=0.57241): 100%|███████████████████████████████████████████████████████████████████████████████████████████████████████████████████████| 24/24 [00:18<00:00,  1.29it/s]\n",
      "Training (15959 / 25000 Steps) (loss=0.64026): 100%|███████████████████████████████████████████████████████████████████████████████████████████████████████████████████████| 24/24 [00:18<00:00,  1.30it/s]\n",
      "Training (15983 / 25000 Steps) (loss=0.62815): 100%|███████████████████████████████████████████████████████████████████████████████████████████████████████████████████████| 24/24 [00:18<00:00,  1.30it/s]\n",
      "Training (16000 / 25000 Steps) (loss=0.49921):  67%|███████████████████████████████████████████████████████████████████████████████▎                                       | 16/24 [00:13<00:06,  1.30it/s]\n",
      "Validate (X / X Steps) (dice=X.X):   0%|                                                                                                                                             | 0/6 [00:00<?, ?it/s]\u001b[A\n",
      "Validate (15984 / 10 Steps):   0%|                                                                                                                                                   | 0/6 [00:02<?, ?it/s]\u001b[A\n",
      "Validate (15984 / 10 Steps):  17%|███████████████████████▏                                                                                                                   | 1/6 [00:02<00:12,  2.50s/it]\u001b[A\n",
      "Validate (15984 / 10 Steps):  17%|███████████████████████▏                                                                                                                   | 1/6 [00:05<00:12,  2.50s/it]\u001b[A\n",
      "Validate (15984 / 10 Steps):  33%|██████████████████████████████████████████████▎                                                                                            | 2/6 [00:05<00:10,  2.57s/it]\u001b[A\n",
      "Validate (15984 / 10 Steps):  33%|██████████████████████████████████████████████▎                                                                                            | 2/6 [00:07<00:10,  2.57s/it]\u001b[A\n",
      "Validate (15984 / 10 Steps):  50%|█████████████████████████████████████████████████████████████████████▌                                                                     | 3/6 [00:07<00:06,  2.29s/it]\u001b[A\n",
      "Validate (15984 / 10 Steps):  50%|█████████████████████████████████████████████████████████████████████▌                                                                     | 3/6 [00:11<00:06,  2.29s/it]\u001b[A\n",
      "Validate (15984 / 10 Steps):  67%|████████████████████████████████████████████████████████████████████████████████████████████▋                                              | 4/6 [00:11<00:06,  3.09s/it]\u001b[A\n",
      "Validate (15984 / 10 Steps):  67%|████████████████████████████████████████████████████████████████████████████████████████████▋                                              | 4/6 [00:13<00:06,  3.09s/it]\u001b[A\n",
      "Validate (15984 / 10 Steps):  83%|███████████████████████████████████████████████████████████████████████████████████████████████████████████████████▊                       | 5/6 [00:13<00:02,  2.86s/it]\u001b[A\n",
      "Validate (15984 / 10 Steps):  83%|███████████████████████████████████████████████████████████████████████████████████████████████████████████████████▊                       | 5/6 [00:16<00:02,  2.86s/it]\u001b[A\n",
      "Validate (15984 / 10 Steps): 100%|███████████████████████████████████████████████████████████████████████████████████████████████████████████████████████████████████████████| 6/6 [00:16<00:00,  2.74s/it]\u001b[A\n",
      "Training (16000 / 25000 Steps) (loss=0.49921):  71%|████████████████████████████████████████████████████████████████████████████████████▎                                  | 17/24 [00:29<00:40,  5.72s/it]"
     ]
    },
    {
     "name": "stdout",
     "output_type": "stream",
     "text": [
      "Model Was Not Saved ! Current Best Avg. Dice: 0.8875536322593689 Current Avg. Dice: 0.692659854888916\n"
     ]
    },
    {
     "name": "stderr",
     "output_type": "stream",
     "text": [
      "Training (16007 / 25000 Steps) (loss=0.71020): 100%|███████████████████████████████████████████████████████████████████████████████████████████████████████████████████████| 24/24 [00:34<00:00,  1.46s/it]\n",
      "Training (16031 / 25000 Steps) (loss=0.46740): 100%|███████████████████████████████████████████████████████████████████████████████████████████████████████████████████████| 24/24 [00:18<00:00,  1.29it/s]\n",
      "Training (16055 / 25000 Steps) (loss=0.56222): 100%|███████████████████████████████████████████████████████████████████████████████████████████████████████████████████████| 24/24 [00:18<00:00,  1.30it/s]\n",
      "Training (16079 / 25000 Steps) (loss=0.63017): 100%|███████████████████████████████████████████████████████████████████████████████████████████████████████████████████████| 24/24 [00:18<00:00,  1.29it/s]\n",
      "Training (16103 / 25000 Steps) (loss=0.77706): 100%|███████████████████████████████████████████████████████████████████████████████████████████████████████████████████████| 24/24 [00:18<00:00,  1.29it/s]\n",
      "Training (16127 / 25000 Steps) (loss=0.45234): 100%|███████████████████████████████████████████████████████████████████████████████████████████████████████████████████████| 24/24 [00:18<00:00,  1.30it/s]\n",
      "Training (16151 / 25000 Steps) (loss=0.58316): 100%|███████████████████████████████████████████████████████████████████████████████████████████████████████████████████████| 24/24 [00:18<00:00,  1.30it/s]\n",
      "Training (16175 / 25000 Steps) (loss=0.61625): 100%|███████████████████████████████████████████████████████████████████████████████████████████████████████████████████████| 24/24 [00:18<00:00,  1.29it/s]\n",
      "Training (16199 / 25000 Steps) (loss=0.56262): 100%|███████████████████████████████████████████████████████████████████████████████████████████████████████████████████████| 24/24 [00:18<00:00,  1.29it/s]\n",
      "Training (16223 / 25000 Steps) (loss=0.56015): 100%|███████████████████████████████████████████████████████████████████████████████████████████████████████████████████████| 24/24 [00:18<00:00,  1.29it/s]\n",
      "Training (16247 / 25000 Steps) (loss=0.55391): 100%|███████████████████████████████████████████████████████████████████████████████████████████████████████████████████████| 24/24 [00:18<00:00,  1.30it/s]\n",
      "Training (16271 / 25000 Steps) (loss=0.54654): 100%|███████████████████████████████████████████████████████████████████████████████████████████████████████████████████████| 24/24 [00:18<00:00,  1.30it/s]\n",
      "Training (16295 / 25000 Steps) (loss=0.45883): 100%|███████████████████████████████████████████████████████████████████████████████████████████████████████████████████████| 24/24 [00:18<00:00,  1.29it/s]\n",
      "Training (16319 / 25000 Steps) (loss=0.61007): 100%|███████████████████████████████████████████████████████████████████████████████████████████████████████████████████████| 24/24 [00:18<00:00,  1.30it/s]\n",
      "Training (16343 / 25000 Steps) (loss=0.52335): 100%|███████████████████████████████████████████████████████████████████████████████████████████████████████████████████████| 24/24 [00:18<00:00,  1.30it/s]\n",
      "Training (16367 / 25000 Steps) (loss=0.46845): 100%|███████████████████████████████████████████████████████████████████████████████████████████████████████████████████████| 24/24 [00:18<00:00,  1.30it/s]\n",
      "Training (16391 / 25000 Steps) (loss=0.51478): 100%|███████████████████████████████████████████████████████████████████████████████████████████████████████████████████████| 24/24 [00:18<00:00,  1.29it/s]\n",
      "Training (16415 / 25000 Steps) (loss=0.59161): 100%|███████████████████████████████████████████████████████████████████████████████████████████████████████████████████████| 24/24 [00:18<00:00,  1.30it/s]\n",
      "Training (16439 / 25000 Steps) (loss=0.64267): 100%|███████████████████████████████████████████████████████████████████████████████████████████████████████████████████████| 24/24 [00:18<00:00,  1.30it/s]\n",
      "Training (16463 / 25000 Steps) (loss=0.64259): 100%|███████████████████████████████████████████████████████████████████████████████████████████████████████████████████████| 24/24 [00:18<00:00,  1.30it/s]\n",
      "Training (16487 / 25000 Steps) (loss=0.43084): 100%|███████████████████████████████████████████████████████████████████████████████████████████████████████████████████████| 24/24 [00:18<00:00,  1.29it/s]\n",
      "Training (16500 / 25000 Steps) (loss=0.51297):  50%|███████████████████████████████████████████████████████████▌                                                           | 12/24 [00:10<00:09,  1.30it/s]\n",
      "Validate (X / X Steps) (dice=X.X):   0%|                                                                                                                                             | 0/6 [00:00<?, ?it/s]\u001b[A\n",
      "Validate (16488 / 10 Steps):   0%|                                                                                                                                                   | 0/6 [00:02<?, ?it/s]\u001b[A\n",
      "Validate (16488 / 10 Steps):  17%|███████████████████████▏                                                                                                                   | 1/6 [00:02<00:12,  2.48s/it]\u001b[A\n",
      "Validate (16488 / 10 Steps):  17%|███████████████████████▏                                                                                                                   | 1/6 [00:05<00:12,  2.48s/it]\u001b[A\n",
      "Validate (16488 / 10 Steps):  33%|██████████████████████████████████████████████▎                                                                                            | 2/6 [00:05<00:10,  2.55s/it]\u001b[A\n",
      "Validate (16488 / 10 Steps):  33%|██████████████████████████████████████████████▎                                                                                            | 2/6 [00:07<00:10,  2.55s/it]\u001b[A\n",
      "Validate (16488 / 10 Steps):  50%|█████████████████████████████████████████████████████████████████████▌                                                                     | 3/6 [00:07<00:06,  2.28s/it]\u001b[A\n",
      "Validate (16488 / 10 Steps):  50%|█████████████████████████████████████████████████████████████████████▌                                                                     | 3/6 [00:11<00:06,  2.28s/it]\u001b[A\n",
      "Validate (16488 / 10 Steps):  67%|████████████████████████████████████████████████████████████████████████████████████████████▋                                              | 4/6 [00:11<00:06,  3.09s/it]\u001b[A\n",
      "Validate (16488 / 10 Steps):  67%|████████████████████████████████████████████████████████████████████████████████████████████▋                                              | 4/6 [00:13<00:06,  3.09s/it]\u001b[A\n",
      "Validate (16488 / 10 Steps):  83%|███████████████████████████████████████████████████████████████████████████████████████████████████████████████████▊                       | 5/6 [00:13<00:02,  2.86s/it]\u001b[A\n",
      "Validate (16488 / 10 Steps):  83%|███████████████████████████████████████████████████████████████████████████████████████████████████████████████████▊                       | 5/6 [00:16<00:02,  2.86s/it]\u001b[A\n",
      "Validate (16488 / 10 Steps): 100%|███████████████████████████████████████████████████████████████████████████████████████████████████████████████████████████████████████████| 6/6 [00:16<00:00,  2.74s/it]\u001b[A\n",
      "Training (16500 / 25000 Steps) (loss=0.51297):  54%|████████████████████████████████████████████████████████████████▍                                                      | 13/24 [00:26<01:03,  5.75s/it]"
     ]
    },
    {
     "name": "stdout",
     "output_type": "stream",
     "text": [
      "Model Was Not Saved ! Current Best Avg. Dice: 0.8875536322593689 Current Avg. Dice: 0.8595048785209656\n"
     ]
    },
    {
     "name": "stderr",
     "output_type": "stream",
     "text": [
      "Training (16511 / 25000 Steps) (loss=0.68927): 100%|███████████████████████████████████████████████████████████████████████████████████████████████████████████████████████| 24/24 [00:34<00:00,  1.46s/it]\n",
      "Training (16535 / 25000 Steps) (loss=0.76332): 100%|███████████████████████████████████████████████████████████████████████████████████████████████████████████████████████| 24/24 [00:18<00:00,  1.29it/s]\n",
      "Training (16559 / 25000 Steps) (loss=0.51244): 100%|███████████████████████████████████████████████████████████████████████████████████████████████████████████████████████| 24/24 [00:18<00:00,  1.29it/s]\n",
      "Training (16583 / 25000 Steps) (loss=0.67033): 100%|███████████████████████████████████████████████████████████████████████████████████████████████████████████████████████| 24/24 [00:18<00:00,  1.29it/s]\n",
      "Training (16607 / 25000 Steps) (loss=0.74000): 100%|███████████████████████████████████████████████████████████████████████████████████████████████████████████████████████| 24/24 [00:18<00:00,  1.29it/s]\n",
      "Training (16631 / 25000 Steps) (loss=0.35760): 100%|███████████████████████████████████████████████████████████████████████████████████████████████████████████████████████| 24/24 [00:18<00:00,  1.29it/s]\n",
      "Training (16655 / 25000 Steps) (loss=0.37935): 100%|███████████████████████████████████████████████████████████████████████████████████████████████████████████████████████| 24/24 [00:18<00:00,  1.29it/s]\n",
      "Training (16679 / 25000 Steps) (loss=0.33982): 100%|███████████████████████████████████████████████████████████████████████████████████████████████████████████████████████| 24/24 [00:18<00:00,  1.29it/s]\n",
      "Training (16703 / 25000 Steps) (loss=0.42964): 100%|███████████████████████████████████████████████████████████████████████████████████████████████████████████████████████| 24/24 [00:18<00:00,  1.30it/s]\n",
      "Training (16727 / 25000 Steps) (loss=0.62643): 100%|███████████████████████████████████████████████████████████████████████████████████████████████████████████████████████| 24/24 [00:18<00:00,  1.30it/s]\n",
      "Training (16751 / 25000 Steps) (loss=0.57716): 100%|███████████████████████████████████████████████████████████████████████████████████████████████████████████████████████| 24/24 [00:18<00:00,  1.29it/s]\n",
      "Training (16775 / 25000 Steps) (loss=0.41960): 100%|███████████████████████████████████████████████████████████████████████████████████████████████████████████████████████| 24/24 [00:18<00:00,  1.29it/s]\n",
      "Training (16799 / 25000 Steps) (loss=0.54551): 100%|███████████████████████████████████████████████████████████████████████████████████████████████████████████████████████| 24/24 [00:18<00:00,  1.30it/s]\n",
      "Training (16823 / 25000 Steps) (loss=0.58256): 100%|███████████████████████████████████████████████████████████████████████████████████████████████████████████████████████| 24/24 [00:18<00:00,  1.30it/s]\n",
      "Training (16847 / 25000 Steps) (loss=0.56400): 100%|███████████████████████████████████████████████████████████████████████████████████████████████████████████████████████| 24/24 [00:18<00:00,  1.30it/s]\n",
      "Training (16871 / 25000 Steps) (loss=0.51871): 100%|███████████████████████████████████████████████████████████████████████████████████████████████████████████████████████| 24/24 [00:18<00:00,  1.30it/s]\n",
      "Training (16895 / 25000 Steps) (loss=0.59220): 100%|███████████████████████████████████████████████████████████████████████████████████████████████████████████████████████| 24/24 [00:18<00:00,  1.29it/s]\n",
      "Training (16919 / 25000 Steps) (loss=0.76116): 100%|███████████████████████████████████████████████████████████████████████████████████████████████████████████████████████| 24/24 [00:18<00:00,  1.30it/s]\n",
      "Training (16943 / 25000 Steps) (loss=0.51388): 100%|███████████████████████████████████████████████████████████████████████████████████████████████████████████████████████| 24/24 [00:18<00:00,  1.30it/s]\n",
      "Training (16967 / 25000 Steps) (loss=0.40450): 100%|███████████████████████████████████████████████████████████████████████████████████████████████████████████████████████| 24/24 [00:18<00:00,  1.30it/s]\n",
      "Training (16991 / 25000 Steps) (loss=0.54121): 100%|███████████████████████████████████████████████████████████████████████████████████████████████████████████████████████| 24/24 [00:18<00:00,  1.29it/s]\n",
      "Training (17000 / 25000 Steps) (loss=0.59310):  33%|████████████████████████████████████████                                                                                | 8/24 [00:06<00:12,  1.29it/s]\n",
      "Validate (X / X Steps) (dice=X.X):   0%|                                                                                                                                             | 0/6 [00:00<?, ?it/s]\u001b[A\n",
      "Validate (16992 / 10 Steps):   0%|                                                                                                                                                   | 0/6 [00:02<?, ?it/s]\u001b[A\n",
      "Validate (16992 / 10 Steps):  17%|███████████████████████▏                                                                                                                   | 1/6 [00:02<00:12,  2.49s/it]\u001b[A\n",
      "Validate (16992 / 10 Steps):  17%|███████████████████████▏                                                                                                                   | 1/6 [00:05<00:12,  2.49s/it]\u001b[A\n",
      "Validate (16992 / 10 Steps):  33%|██████████████████████████████████████████████▎                                                                                            | 2/6 [00:05<00:10,  2.56s/it]\u001b[A\n",
      "Validate (16992 / 10 Steps):  33%|██████████████████████████████████████████████▎                                                                                            | 2/6 [00:07<00:10,  2.56s/it]\u001b[A\n",
      "Validate (16992 / 10 Steps):  50%|█████████████████████████████████████████████████████████████████████▌                                                                     | 3/6 [00:07<00:06,  2.28s/it]\u001b[A\n",
      "Validate (16992 / 10 Steps):  50%|█████████████████████████████████████████████████████████████████████▌                                                                     | 3/6 [00:11<00:06,  2.28s/it]\u001b[A\n",
      "Validate (16992 / 10 Steps):  67%|████████████████████████████████████████████████████████████████████████████████████████████▋                                              | 4/6 [00:11<00:06,  3.09s/it]\u001b[A\n",
      "Validate (16992 / 10 Steps):  67%|████████████████████████████████████████████████████████████████████████████████████████████▋                                              | 4/6 [00:13<00:06,  3.09s/it]\u001b[A\n",
      "Validate (16992 / 10 Steps):  83%|███████████████████████████████████████████████████████████████████████████████████████████████████████████████████▊                       | 5/6 [00:13<00:02,  2.86s/it]\u001b[A\n",
      "Validate (16992 / 10 Steps):  83%|███████████████████████████████████████████████████████████████████████████████████████████████████████████████████▊                       | 5/6 [00:16<00:02,  2.86s/it]\u001b[A\n",
      "Validate (16992 / 10 Steps): 100%|███████████████████████████████████████████████████████████████████████████████████████████████████████████████████████████████████████████| 6/6 [00:16<00:00,  2.74s/it]\u001b[A\n",
      "Training (17000 / 25000 Steps) (loss=0.59310):  38%|█████████████████████████████████████████████                                                                           | 9/24 [00:23<01:29,  6.00s/it]"
     ]
    },
    {
     "name": "stdout",
     "output_type": "stream",
     "text": [
      "Model Was Saved ! Current Best Avg. Dice: 0.8940108418464661 Current Avg. Dice: 0.8940108418464661\n"
     ]
    },
    {
     "name": "stderr",
     "output_type": "stream",
     "text": [
      "Training (17015 / 25000 Steps) (loss=0.54287): 100%|███████████████████████████████████████████████████████████████████████████████████████████████████████████████████████| 24/24 [00:35<00:00,  1.47s/it]\n",
      "Training (17039 / 25000 Steps) (loss=0.34279): 100%|███████████████████████████████████████████████████████████████████████████████████████████████████████████████████████| 24/24 [00:18<00:00,  1.30it/s]\n",
      "Training (17063 / 25000 Steps) (loss=0.47960): 100%|███████████████████████████████████████████████████████████████████████████████████████████████████████████████████████| 24/24 [00:18<00:00,  1.30it/s]\n",
      "Training (17087 / 25000 Steps) (loss=0.52189): 100%|███████████████████████████████████████████████████████████████████████████████████████████████████████████████████████| 24/24 [00:18<00:00,  1.30it/s]\n",
      "Training (17111 / 25000 Steps) (loss=0.58904): 100%|███████████████████████████████████████████████████████████████████████████████████████████████████████████████████████| 24/24 [00:18<00:00,  1.30it/s]\n",
      "Training (17135 / 25000 Steps) (loss=0.46871): 100%|███████████████████████████████████████████████████████████████████████████████████████████████████████████████████████| 24/24 [00:18<00:00,  1.29it/s]\n",
      "Training (17159 / 25000 Steps) (loss=0.50267): 100%|███████████████████████████████████████████████████████████████████████████████████████████████████████████████████████| 24/24 [00:18<00:00,  1.30it/s]\n",
      "Training (17183 / 25000 Steps) (loss=0.63566): 100%|███████████████████████████████████████████████████████████████████████████████████████████████████████████████████████| 24/24 [00:18<00:00,  1.29it/s]\n",
      "Training (17207 / 25000 Steps) (loss=0.56231): 100%|███████████████████████████████████████████████████████████████████████████████████████████████████████████████████████| 24/24 [00:18<00:00,  1.30it/s]\n",
      "Training (17231 / 25000 Steps) (loss=0.52679): 100%|███████████████████████████████████████████████████████████████████████████████████████████████████████████████████████| 24/24 [00:18<00:00,  1.30it/s]\n",
      "Training (17255 / 25000 Steps) (loss=0.69834): 100%|███████████████████████████████████████████████████████████████████████████████████████████████████████████████████████| 24/24 [00:18<00:00,  1.30it/s]\n",
      "Training (17279 / 25000 Steps) (loss=0.37124): 100%|███████████████████████████████████████████████████████████████████████████████████████████████████████████████████████| 24/24 [00:18<00:00,  1.29it/s]\n",
      "Training (17303 / 25000 Steps) (loss=0.67723): 100%|███████████████████████████████████████████████████████████████████████████████████████████████████████████████████████| 24/24 [00:18<00:00,  1.29it/s]\n",
      "Training (17327 / 25000 Steps) (loss=0.59706): 100%|███████████████████████████████████████████████████████████████████████████████████████████████████████████████████████| 24/24 [00:18<00:00,  1.30it/s]\n",
      "Training (17351 / 25000 Steps) (loss=0.38992): 100%|███████████████████████████████████████████████████████████████████████████████████████████████████████████████████████| 24/24 [00:18<00:00,  1.30it/s]\n",
      "Training (17375 / 25000 Steps) (loss=0.37841): 100%|███████████████████████████████████████████████████████████████████████████████████████████████████████████████████████| 24/24 [00:18<00:00,  1.30it/s]\n",
      "Training (17399 / 25000 Steps) (loss=0.68101): 100%|███████████████████████████████████████████████████████████████████████████████████████████████████████████████████████| 24/24 [00:18<00:00,  1.29it/s]\n",
      "Training (17423 / 25000 Steps) (loss=0.49725): 100%|███████████████████████████████████████████████████████████████████████████████████████████████████████████████████████| 24/24 [00:18<00:00,  1.29it/s]\n",
      "Training (17447 / 25000 Steps) (loss=0.64538): 100%|███████████████████████████████████████████████████████████████████████████████████████████████████████████████████████| 24/24 [00:18<00:00,  1.30it/s]\n",
      "Training (17471 / 25000 Steps) (loss=0.72440): 100%|███████████████████████████████████████████████████████████████████████████████████████████████████████████████████████| 24/24 [00:18<00:00,  1.29it/s]\n",
      "Training (17495 / 25000 Steps) (loss=0.54321): 100%|███████████████████████████████████████████████████████████████████████████████████████████████████████████████████████| 24/24 [00:18<00:00,  1.30it/s]\n",
      "Training (17500 / 25000 Steps) (loss=0.36686):  17%|████████████████████                                                                                                    | 4/24 [00:03<00:15,  1.29it/s]\n",
      "Validate (X / X Steps) (dice=X.X):   0%|                                                                                                                                             | 0/6 [00:00<?, ?it/s]\u001b[A\n",
      "Validate (17496 / 10 Steps):   0%|                                                                                                                                                   | 0/6 [00:02<?, ?it/s]\u001b[A\n",
      "Validate (17496 / 10 Steps):  17%|███████████████████████▏                                                                                                                   | 1/6 [00:02<00:12,  2.49s/it]\u001b[A\n",
      "Validate (17496 / 10 Steps):  17%|███████████████████████▏                                                                                                                   | 1/6 [00:05<00:12,  2.49s/it]\u001b[A\n",
      "Validate (17496 / 10 Steps):  33%|██████████████████████████████████████████████▎                                                                                            | 2/6 [00:05<00:10,  2.56s/it]\u001b[A\n",
      "Validate (17496 / 10 Steps):  33%|██████████████████████████████████████████████▎                                                                                            | 2/6 [00:07<00:10,  2.56s/it]\u001b[A\n",
      "Validate (17496 / 10 Steps):  50%|█████████████████████████████████████████████████████████████████████▌                                                                     | 3/6 [00:07<00:06,  2.29s/it]\u001b[A\n",
      "Validate (17496 / 10 Steps):  50%|█████████████████████████████████████████████████████████████████████▌                                                                     | 3/6 [00:11<00:06,  2.29s/it]\u001b[A\n",
      "Validate (17496 / 10 Steps):  67%|████████████████████████████████████████████████████████████████████████████████████████████▋                                              | 4/6 [00:11<00:06,  3.09s/it]\u001b[A\n",
      "Validate (17496 / 10 Steps):  67%|████████████████████████████████████████████████████████████████████████████████████████████▋                                              | 4/6 [00:13<00:06,  3.09s/it]\u001b[A\n",
      "Validate (17496 / 10 Steps):  83%|███████████████████████████████████████████████████████████████████████████████████████████████████████████████████▊                       | 5/6 [00:13<00:02,  2.86s/it]\u001b[A\n",
      "Validate (17496 / 10 Steps):  83%|███████████████████████████████████████████████████████████████████████████████████████████████████████████████████▊                       | 5/6 [00:16<00:02,  2.86s/it]\u001b[A\n",
      "Validate (17496 / 10 Steps): 100%|███████████████████████████████████████████████████████████████████████████████████████████████████████████████████████████████████████████| 6/6 [00:16<00:00,  2.74s/it]\u001b[A\n",
      "Training (17500 / 25000 Steps) (loss=0.36686):  21%|█████████████████████████                                                                                               | 5/24 [00:20<02:07,  6.70s/it]"
     ]
    },
    {
     "name": "stdout",
     "output_type": "stream",
     "text": [
      "Model Was Not Saved ! Current Best Avg. Dice: 0.8940108418464661 Current Avg. Dice: 0.8803021311759949\n"
     ]
    },
    {
     "name": "stderr",
     "output_type": "stream",
     "text": [
      "Training (17519 / 25000 Steps) (loss=0.37944): 100%|███████████████████████████████████████████████████████████████████████████████████████████████████████████████████████| 24/24 [00:35<00:00,  1.46s/it]\n",
      "Training (17543 / 25000 Steps) (loss=0.65360): 100%|███████████████████████████████████████████████████████████████████████████████████████████████████████████████████████| 24/24 [00:18<00:00,  1.30it/s]\n",
      "Training (17567 / 25000 Steps) (loss=0.46519): 100%|███████████████████████████████████████████████████████████████████████████████████████████████████████████████████████| 24/24 [00:18<00:00,  1.30it/s]\n",
      "Training (17591 / 25000 Steps) (loss=0.68103): 100%|███████████████████████████████████████████████████████████████████████████████████████████████████████████████████████| 24/24 [00:18<00:00,  1.29it/s]\n",
      "Training (17615 / 25000 Steps) (loss=0.68929): 100%|███████████████████████████████████████████████████████████████████████████████████████████████████████████████████████| 24/24 [00:18<00:00,  1.29it/s]\n",
      "Training (17639 / 25000 Steps) (loss=0.33799): 100%|███████████████████████████████████████████████████████████████████████████████████████████████████████████████████████| 24/24 [00:18<00:00,  1.29it/s]\n",
      "Training (17663 / 25000 Steps) (loss=0.53838): 100%|███████████████████████████████████████████████████████████████████████████████████████████████████████████████████████| 24/24 [00:18<00:00,  1.29it/s]\n",
      "Training (17687 / 25000 Steps) (loss=0.51780): 100%|███████████████████████████████████████████████████████████████████████████████████████████████████████████████████████| 24/24 [00:18<00:00,  1.29it/s]\n",
      "Training (17711 / 25000 Steps) (loss=0.38443): 100%|███████████████████████████████████████████████████████████████████████████████████████████████████████████████████████| 24/24 [00:18<00:00,  1.30it/s]\n",
      "Training (17735 / 25000 Steps) (loss=0.38599): 100%|███████████████████████████████████████████████████████████████████████████████████████████████████████████████████████| 24/24 [00:18<00:00,  1.30it/s]\n",
      "Training (17759 / 25000 Steps) (loss=0.33261): 100%|███████████████████████████████████████████████████████████████████████████████████████████████████████████████████████| 24/24 [00:18<00:00,  1.30it/s]\n",
      "Training (17783 / 25000 Steps) (loss=0.50260): 100%|███████████████████████████████████████████████████████████████████████████████████████████████████████████████████████| 24/24 [00:18<00:00,  1.30it/s]\n",
      "Training (17807 / 25000 Steps) (loss=0.59686): 100%|███████████████████████████████████████████████████████████████████████████████████████████████████████████████████████| 24/24 [00:18<00:00,  1.30it/s]\n",
      "Training (17831 / 25000 Steps) (loss=0.42159): 100%|███████████████████████████████████████████████████████████████████████████████████████████████████████████████████████| 24/24 [00:18<00:00,  1.30it/s]\n",
      "Training (17855 / 25000 Steps) (loss=0.46406): 100%|███████████████████████████████████████████████████████████████████████████████████████████████████████████████████████| 24/24 [00:18<00:00,  1.30it/s]\n",
      "Training (17879 / 25000 Steps) (loss=0.49598): 100%|███████████████████████████████████████████████████████████████████████████████████████████████████████████████████████| 24/24 [00:18<00:00,  1.29it/s]\n",
      "Training (17903 / 25000 Steps) (loss=0.51925): 100%|███████████████████████████████████████████████████████████████████████████████████████████████████████████████████████| 24/24 [00:18<00:00,  1.29it/s]\n",
      "Training (17927 / 25000 Steps) (loss=0.54453): 100%|███████████████████████████████████████████████████████████████████████████████████████████████████████████████████████| 24/24 [00:18<00:00,  1.29it/s]\n",
      "Training (17951 / 25000 Steps) (loss=0.42532): 100%|███████████████████████████████████████████████████████████████████████████████████████████████████████████████████████| 24/24 [00:18<00:00,  1.29it/s]\n",
      "Training (17975 / 25000 Steps) (loss=0.56402): 100%|███████████████████████████████████████████████████████████████████████████████████████████████████████████████████████| 24/24 [00:18<00:00,  1.30it/s]\n",
      "Training (17999 / 25000 Steps) (loss=0.74688): 100%|███████████████████████████████████████████████████████████████████████████████████████████████████████████████████████| 24/24 [00:18<00:00,  1.29it/s]\n",
      "Training (18000 / 25000 Steps) (loss=0.69253):   0%|                                                                                                                                | 0/24 [00:00<?, ?it/s]\n",
      "Validate (X / X Steps) (dice=X.X):   0%|                                                                                                                                             | 0/6 [00:00<?, ?it/s]\u001b[A\n",
      "Validate (18000 / 10 Steps):   0%|                                                                                                                                                   | 0/6 [00:02<?, ?it/s]\u001b[A\n",
      "Validate (18000 / 10 Steps):  17%|███████████████████████▏                                                                                                                   | 1/6 [00:02<00:12,  2.49s/it]\u001b[A\n",
      "Validate (18000 / 10 Steps):  17%|███████████████████████▏                                                                                                                   | 1/6 [00:05<00:12,  2.49s/it]\u001b[A\n",
      "Validate (18000 / 10 Steps):  33%|██████████████████████████████████████████████▎                                                                                            | 2/6 [00:05<00:10,  2.57s/it]\u001b[A\n",
      "Validate (18000 / 10 Steps):  33%|██████████████████████████████████████████████▎                                                                                            | 2/6 [00:07<00:10,  2.57s/it]\u001b[A\n",
      "Validate (18000 / 10 Steps):  50%|█████████████████████████████████████████████████████████████████████▌                                                                     | 3/6 [00:07<00:06,  2.29s/it]\u001b[A\n",
      "Validate (18000 / 10 Steps):  50%|█████████████████████████████████████████████████████████████████████▌                                                                     | 3/6 [00:11<00:06,  2.29s/it]\u001b[A\n",
      "Validate (18000 / 10 Steps):  67%|████████████████████████████████████████████████████████████████████████████████████████████▋                                              | 4/6 [00:11<00:06,  3.09s/it]\u001b[A\n",
      "Validate (18000 / 10 Steps):  67%|████████████████████████████████████████████████████████████████████████████████████████████▋                                              | 4/6 [00:13<00:06,  3.09s/it]\u001b[A\n",
      "Validate (18000 / 10 Steps):  83%|███████████████████████████████████████████████████████████████████████████████████████████████████████████████████▊                       | 5/6 [00:13<00:02,  2.87s/it]\u001b[A\n",
      "Validate (18000 / 10 Steps):  83%|███████████████████████████████████████████████████████████████████████████████████████████████████████████████████▊                       | 5/6 [00:16<00:02,  2.87s/it]\u001b[A\n",
      "Validate (18000 / 10 Steps): 100%|███████████████████████████████████████████████████████████████████████████████████████████████████████████████████████████████████████████| 6/6 [00:16<00:00,  2.74s/it]\u001b[A\n",
      "Training (18000 / 25000 Steps) (loss=0.69253):   4%|█████                                                                                                                   | 1/24 [00:17<06:37, 17.30s/it]"
     ]
    },
    {
     "name": "stdout",
     "output_type": "stream",
     "text": [
      "Model Was Not Saved ! Current Best Avg. Dice: 0.8940108418464661 Current Avg. Dice: 0.8416362404823303\n"
     ]
    },
    {
     "name": "stderr",
     "output_type": "stream",
     "text": [
      "Training (18023 / 25000 Steps) (loss=0.42858): 100%|███████████████████████████████████████████████████████████████████████████████████████████████████████████████████████| 24/24 [00:34<00:00,  1.46s/it]\n",
      "Training (18047 / 25000 Steps) (loss=0.48353): 100%|███████████████████████████████████████████████████████████████████████████████████████████████████████████████████████| 24/24 [00:18<00:00,  1.29it/s]\n",
      "Training (18071 / 25000 Steps) (loss=0.57599): 100%|███████████████████████████████████████████████████████████████████████████████████████████████████████████████████████| 24/24 [00:18<00:00,  1.29it/s]\n",
      "Training (18095 / 25000 Steps) (loss=0.36199): 100%|███████████████████████████████████████████████████████████████████████████████████████████████████████████████████████| 24/24 [00:18<00:00,  1.30it/s]\n",
      "Training (18119 / 25000 Steps) (loss=0.65888): 100%|███████████████████████████████████████████████████████████████████████████████████████████████████████████████████████| 24/24 [00:18<00:00,  1.30it/s]\n",
      "Training (18143 / 25000 Steps) (loss=0.49193): 100%|███████████████████████████████████████████████████████████████████████████████████████████████████████████████████████| 24/24 [00:18<00:00,  1.29it/s]\n",
      "Training (18167 / 25000 Steps) (loss=0.77324): 100%|███████████████████████████████████████████████████████████████████████████████████████████████████████████████████████| 24/24 [00:18<00:00,  1.29it/s]\n",
      "Training (18191 / 25000 Steps) (loss=0.82465): 100%|███████████████████████████████████████████████████████████████████████████████████████████████████████████████████████| 24/24 [00:18<00:00,  1.30it/s]\n",
      "Training (18215 / 25000 Steps) (loss=0.57659): 100%|███████████████████████████████████████████████████████████████████████████████████████████████████████████████████████| 24/24 [00:18<00:00,  1.29it/s]\n",
      "Training (18239 / 25000 Steps) (loss=0.47843): 100%|███████████████████████████████████████████████████████████████████████████████████████████████████████████████████████| 24/24 [00:18<00:00,  1.29it/s]\n",
      "Training (18263 / 25000 Steps) (loss=0.69543): 100%|███████████████████████████████████████████████████████████████████████████████████████████████████████████████████████| 24/24 [00:18<00:00,  1.30it/s]\n",
      "Training (18287 / 25000 Steps) (loss=0.77370): 100%|███████████████████████████████████████████████████████████████████████████████████████████████████████████████████████| 24/24 [00:18<00:00,  1.30it/s]\n",
      "Training (18311 / 25000 Steps) (loss=0.41843): 100%|███████████████████████████████████████████████████████████████████████████████████████████████████████████████████████| 24/24 [00:18<00:00,  1.29it/s]\n",
      "Training (18335 / 25000 Steps) (loss=0.51904): 100%|███████████████████████████████████████████████████████████████████████████████████████████████████████████████████████| 24/24 [00:18<00:00,  1.29it/s]\n",
      "Training (18359 / 25000 Steps) (loss=0.48638): 100%|███████████████████████████████████████████████████████████████████████████████████████████████████████████████████████| 24/24 [00:18<00:00,  1.29it/s]\n",
      "Training (18383 / 25000 Steps) (loss=0.73461): 100%|███████████████████████████████████████████████████████████████████████████████████████████████████████████████████████| 24/24 [00:18<00:00,  1.29it/s]\n",
      "Training (18407 / 25000 Steps) (loss=0.57116): 100%|███████████████████████████████████████████████████████████████████████████████████████████████████████████████████████| 24/24 [00:18<00:00,  1.30it/s]\n",
      "Training (18431 / 25000 Steps) (loss=0.52186): 100%|███████████████████████████████████████████████████████████████████████████████████████████████████████████████████████| 24/24 [00:18<00:00,  1.30it/s]\n",
      "Training (18455 / 25000 Steps) (loss=0.67745): 100%|███████████████████████████████████████████████████████████████████████████████████████████████████████████████████████| 24/24 [00:18<00:00,  1.30it/s]\n",
      "Training (18479 / 25000 Steps) (loss=0.51739): 100%|███████████████████████████████████████████████████████████████████████████████████████████████████████████████████████| 24/24 [00:18<00:00,  1.30it/s]\n",
      "Training (18500 / 25000 Steps) (loss=0.69074):  83%|███████████████████████████████████████████████████████████████████████████████████████████████████▏                   | 20/24 [00:16<00:03,  1.29it/s]\n",
      "Validate (X / X Steps) (dice=X.X):   0%|                                                                                                                                             | 0/6 [00:00<?, ?it/s]\u001b[A\n",
      "Validate (18480 / 10 Steps):   0%|                                                                                                                                                   | 0/6 [00:02<?, ?it/s]\u001b[A\n",
      "Validate (18480 / 10 Steps):  17%|███████████████████████▏                                                                                                                   | 1/6 [00:02<00:12,  2.48s/it]\u001b[A\n",
      "Validate (18480 / 10 Steps):  17%|███████████████████████▏                                                                                                                   | 1/6 [00:05<00:12,  2.48s/it]\u001b[A\n",
      "Validate (18480 / 10 Steps):  33%|██████████████████████████████████████████████▎                                                                                            | 2/6 [00:05<00:10,  2.56s/it]\u001b[A\n",
      "Validate (18480 / 10 Steps):  33%|██████████████████████████████████████████████▎                                                                                            | 2/6 [00:07<00:10,  2.56s/it]\u001b[A\n",
      "Validate (18480 / 10 Steps):  50%|█████████████████████████████████████████████████████████████████████▌                                                                     | 3/6 [00:07<00:06,  2.29s/it]\u001b[A\n",
      "Validate (18480 / 10 Steps):  50%|█████████████████████████████████████████████████████████████████████▌                                                                     | 3/6 [00:11<00:06,  2.29s/it]\u001b[A\n",
      "Validate (18480 / 10 Steps):  67%|████████████████████████████████████████████████████████████████████████████████████████████▋                                              | 4/6 [00:11<00:06,  3.09s/it]\u001b[A\n",
      "Validate (18480 / 10 Steps):  67%|████████████████████████████████████████████████████████████████████████████████████████████▋                                              | 4/6 [00:13<00:06,  3.09s/it]\u001b[A\n",
      "Validate (18480 / 10 Steps):  83%|███████████████████████████████████████████████████████████████████████████████████████████████████████████████████▊                       | 5/6 [00:13<00:02,  2.86s/it]\u001b[A\n",
      "Validate (18480 / 10 Steps):  83%|███████████████████████████████████████████████████████████████████████████████████████████████████████████████████▊                       | 5/6 [00:16<00:02,  2.86s/it]\u001b[A\n",
      "Validate (18480 / 10 Steps): 100%|███████████████████████████████████████████████████████████████████████████████████████████████████████████████████████████████████████████| 6/6 [00:16<00:00,  2.74s/it]\u001b[A\n",
      "Training (18500 / 25000 Steps) (loss=0.69074):  88%|████████████████████████████████████████████████████████████████████████████████████████████████████████▏              | 21/24 [00:32<00:17,  5.71s/it]"
     ]
    },
    {
     "name": "stdout",
     "output_type": "stream",
     "text": [
      "Model Was Not Saved ! Current Best Avg. Dice: 0.8940108418464661 Current Avg. Dice: 0.866579532623291\n"
     ]
    },
    {
     "name": "stderr",
     "output_type": "stream",
     "text": [
      "Training (18503 / 25000 Steps) (loss=0.33579): 100%|███████████████████████████████████████████████████████████████████████████████████████████████████████████████████████| 24/24 [00:34<00:00,  1.46s/it]\n",
      "Training (18527 / 25000 Steps) (loss=0.51708): 100%|███████████████████████████████████████████████████████████████████████████████████████████████████████████████████████| 24/24 [00:18<00:00,  1.29it/s]\n",
      "Training (18551 / 25000 Steps) (loss=0.37250): 100%|███████████████████████████████████████████████████████████████████████████████████████████████████████████████████████| 24/24 [00:18<00:00,  1.30it/s]\n",
      "Training (18575 / 25000 Steps) (loss=0.39003): 100%|███████████████████████████████████████████████████████████████████████████████████████████████████████████████████████| 24/24 [00:18<00:00,  1.29it/s]\n",
      "Training (18599 / 25000 Steps) (loss=0.57493): 100%|███████████████████████████████████████████████████████████████████████████████████████████████████████████████████████| 24/24 [00:18<00:00,  1.29it/s]\n",
      "Training (18623 / 25000 Steps) (loss=0.39647): 100%|███████████████████████████████████████████████████████████████████████████████████████████████████████████████████████| 24/24 [00:18<00:00,  1.29it/s]\n",
      "Training (18647 / 25000 Steps) (loss=0.59086): 100%|███████████████████████████████████████████████████████████████████████████████████████████████████████████████████████| 24/24 [00:18<00:00,  1.29it/s]\n",
      "Training (18671 / 25000 Steps) (loss=0.38994): 100%|███████████████████████████████████████████████████████████████████████████████████████████████████████████████████████| 24/24 [00:18<00:00,  1.30it/s]\n",
      "Training (18695 / 25000 Steps) (loss=0.44418): 100%|███████████████████████████████████████████████████████████████████████████████████████████████████████████████████████| 24/24 [00:18<00:00,  1.29it/s]\n",
      "Training (18719 / 25000 Steps) (loss=0.40446): 100%|███████████████████████████████████████████████████████████████████████████████████████████████████████████████████████| 24/24 [00:18<00:00,  1.29it/s]\n",
      "Training (18743 / 25000 Steps) (loss=0.83026): 100%|███████████████████████████████████████████████████████████████████████████████████████████████████████████████████████| 24/24 [00:18<00:00,  1.30it/s]\n",
      "Training (18767 / 25000 Steps) (loss=0.34027): 100%|███████████████████████████████████████████████████████████████████████████████████████████████████████████████████████| 24/24 [00:18<00:00,  1.30it/s]\n",
      "Training (18791 / 25000 Steps) (loss=0.43619): 100%|███████████████████████████████████████████████████████████████████████████████████████████████████████████████████████| 24/24 [00:18<00:00,  1.29it/s]\n",
      "Training (18815 / 25000 Steps) (loss=0.31375): 100%|███████████████████████████████████████████████████████████████████████████████████████████████████████████████████████| 24/24 [00:18<00:00,  1.29it/s]\n",
      "Training (18839 / 25000 Steps) (loss=0.33111): 100%|███████████████████████████████████████████████████████████████████████████████████████████████████████████████████████| 24/24 [00:18<00:00,  1.29it/s]\n",
      "Training (18863 / 25000 Steps) (loss=0.48407): 100%|███████████████████████████████████████████████████████████████████████████████████████████████████████████████████████| 24/24 [00:18<00:00,  1.30it/s]\n",
      "Training (18887 / 25000 Steps) (loss=0.54249): 100%|███████████████████████████████████████████████████████████████████████████████████████████████████████████████████████| 24/24 [00:18<00:00,  1.29it/s]\n",
      "Training (18911 / 25000 Steps) (loss=0.55354): 100%|███████████████████████████████████████████████████████████████████████████████████████████████████████████████████████| 24/24 [00:18<00:00,  1.30it/s]\n",
      "Training (18935 / 25000 Steps) (loss=0.66141): 100%|███████████████████████████████████████████████████████████████████████████████████████████████████████████████████████| 24/24 [00:18<00:00,  1.29it/s]\n",
      "Training (18959 / 25000 Steps) (loss=0.55081): 100%|███████████████████████████████████████████████████████████████████████████████████████████████████████████████████████| 24/24 [00:18<00:00,  1.29it/s]\n",
      "Training (18983 / 25000 Steps) (loss=0.69429): 100%|███████████████████████████████████████████████████████████████████████████████████████████████████████████████████████| 24/24 [00:18<00:00,  1.30it/s]\n",
      "Training (19000 / 25000 Steps) (loss=0.45297):  67%|███████████████████████████████████████████████████████████████████████████████▎                                       | 16/24 [00:13<00:06,  1.30it/s]\n",
      "Validate (X / X Steps) (dice=X.X):   0%|                                                                                                                                             | 0/6 [00:00<?, ?it/s]\u001b[A\n",
      "Validate (18984 / 10 Steps):   0%|                                                                                                                                                   | 0/6 [00:02<?, ?it/s]\u001b[A\n",
      "Validate (18984 / 10 Steps):  17%|███████████████████████▏                                                                                                                   | 1/6 [00:02<00:12,  2.48s/it]\u001b[A\n",
      "Validate (18984 / 10 Steps):  17%|███████████████████████▏                                                                                                                   | 1/6 [00:05<00:12,  2.48s/it]\u001b[A\n",
      "Validate (18984 / 10 Steps):  33%|██████████████████████████████████████████████▎                                                                                            | 2/6 [00:05<00:10,  2.56s/it]\u001b[A\n",
      "Validate (18984 / 10 Steps):  33%|██████████████████████████████████████████████▎                                                                                            | 2/6 [00:07<00:10,  2.56s/it]\u001b[A\n",
      "Validate (18984 / 10 Steps):  50%|█████████████████████████████████████████████████████████████████████▌                                                                     | 3/6 [00:07<00:06,  2.28s/it]\u001b[A\n",
      "Validate (18984 / 10 Steps):  50%|█████████████████████████████████████████████████████████████████████▌                                                                     | 3/6 [00:11<00:06,  2.28s/it]\u001b[A\n",
      "Validate (18984 / 10 Steps):  67%|████████████████████████████████████████████████████████████████████████████████████████████▋                                              | 4/6 [00:11<00:06,  3.09s/it]\u001b[A\n",
      "Validate (18984 / 10 Steps):  67%|████████████████████████████████████████████████████████████████████████████████████████████▋                                              | 4/6 [00:13<00:06,  3.09s/it]\u001b[A\n",
      "Validate (18984 / 10 Steps):  83%|███████████████████████████████████████████████████████████████████████████████████████████████████████████████████▊                       | 5/6 [00:13<00:02,  2.86s/it]\u001b[A\n",
      "Validate (18984 / 10 Steps):  83%|███████████████████████████████████████████████████████████████████████████████████████████████████████████████████▊                       | 5/6 [00:16<00:02,  2.86s/it]\u001b[A\n",
      "Validate (18984 / 10 Steps): 100%|███████████████████████████████████████████████████████████████████████████████████████████████████████████████████████████████████████████| 6/6 [00:16<00:00,  2.74s/it]\u001b[A\n",
      "Training (19000 / 25000 Steps) (loss=0.45297):  71%|████████████████████████████████████████████████████████████████████████████████████▎                                  | 17/24 [00:29<00:39,  5.71s/it]"
     ]
    },
    {
     "name": "stdout",
     "output_type": "stream",
     "text": [
      "Model Was Not Saved ! Current Best Avg. Dice: 0.8940108418464661 Current Avg. Dice: 0.8867091536521912\n"
     ]
    },
    {
     "name": "stderr",
     "output_type": "stream",
     "text": [
      "Training (19007 / 25000 Steps) (loss=0.51110): 100%|███████████████████████████████████████████████████████████████████████████████████████████████████████████████████████| 24/24 [00:34<00:00,  1.46s/it]\n",
      "Training (19031 / 25000 Steps) (loss=0.60590): 100%|███████████████████████████████████████████████████████████████████████████████████████████████████████████████████████| 24/24 [00:18<00:00,  1.30it/s]\n",
      "Training (19055 / 25000 Steps) (loss=0.56073): 100%|███████████████████████████████████████████████████████████████████████████████████████████████████████████████████████| 24/24 [00:18<00:00,  1.29it/s]\n",
      "Training (19079 / 25000 Steps) (loss=0.73096): 100%|███████████████████████████████████████████████████████████████████████████████████████████████████████████████████████| 24/24 [00:18<00:00,  1.29it/s]\n",
      "Training (19103 / 25000 Steps) (loss=0.55037): 100%|███████████████████████████████████████████████████████████████████████████████████████████████████████████████████████| 24/24 [00:18<00:00,  1.30it/s]\n",
      "Training (19127 / 25000 Steps) (loss=0.75073): 100%|███████████████████████████████████████████████████████████████████████████████████████████████████████████████████████| 24/24 [00:18<00:00,  1.29it/s]\n",
      "Training (19151 / 25000 Steps) (loss=0.42432): 100%|███████████████████████████████████████████████████████████████████████████████████████████████████████████████████████| 24/24 [00:18<00:00,  1.30it/s]\n",
      "Training (19175 / 25000 Steps) (loss=0.71014): 100%|███████████████████████████████████████████████████████████████████████████████████████████████████████████████████████| 24/24 [00:18<00:00,  1.30it/s]\n",
      "Training (19199 / 25000 Steps) (loss=0.44212): 100%|███████████████████████████████████████████████████████████████████████████████████████████████████████████████████████| 24/24 [00:18<00:00,  1.29it/s]\n",
      "Training (19223 / 25000 Steps) (loss=0.51913): 100%|███████████████████████████████████████████████████████████████████████████████████████████████████████████████████████| 24/24 [00:18<00:00,  1.30it/s]\n",
      "Training (19247 / 25000 Steps) (loss=0.45396): 100%|███████████████████████████████████████████████████████████████████████████████████████████████████████████████████████| 24/24 [00:18<00:00,  1.30it/s]\n",
      "Training (19271 / 25000 Steps) (loss=0.83149): 100%|███████████████████████████████████████████████████████████████████████████████████████████████████████████████████████| 24/24 [00:18<00:00,  1.30it/s]\n",
      "Training (19295 / 25000 Steps) (loss=0.42645): 100%|███████████████████████████████████████████████████████████████████████████████████████████████████████████████████████| 24/24 [00:18<00:00,  1.30it/s]\n",
      "Training (19319 / 25000 Steps) (loss=0.44562): 100%|███████████████████████████████████████████████████████████████████████████████████████████████████████████████████████| 24/24 [00:18<00:00,  1.29it/s]\n",
      "Training (19343 / 25000 Steps) (loss=0.53778): 100%|███████████████████████████████████████████████████████████████████████████████████████████████████████████████████████| 24/24 [00:18<00:00,  1.30it/s]\n",
      "Training (19367 / 25000 Steps) (loss=0.66406): 100%|███████████████████████████████████████████████████████████████████████████████████████████████████████████████████████| 24/24 [00:18<00:00,  1.30it/s]\n",
      "Training (19391 / 25000 Steps) (loss=0.43360): 100%|███████████████████████████████████████████████████████████████████████████████████████████████████████████████████████| 24/24 [00:18<00:00,  1.30it/s]\n",
      "Training (19415 / 25000 Steps) (loss=0.38781): 100%|███████████████████████████████████████████████████████████████████████████████████████████████████████████████████████| 24/24 [00:18<00:00,  1.29it/s]\n",
      "Training (19439 / 25000 Steps) (loss=0.48572): 100%|███████████████████████████████████████████████████████████████████████████████████████████████████████████████████████| 24/24 [00:18<00:00,  1.29it/s]\n",
      "Training (19463 / 25000 Steps) (loss=0.45485): 100%|███████████████████████████████████████████████████████████████████████████████████████████████████████████████████████| 24/24 [00:18<00:00,  1.30it/s]\n",
      "Training (19487 / 25000 Steps) (loss=0.64077): 100%|███████████████████████████████████████████████████████████████████████████████████████████████████████████████████████| 24/24 [00:18<00:00,  1.30it/s]\n",
      "Training (19500 / 25000 Steps) (loss=0.54947):  50%|███████████████████████████████████████████████████████████▌                                                           | 12/24 [00:10<00:09,  1.29it/s]\n",
      "Validate (X / X Steps) (dice=X.X):   0%|                                                                                                                                             | 0/6 [00:00<?, ?it/s]\u001b[A\n",
      "Validate (19488 / 10 Steps):   0%|                                                                                                                                                   | 0/6 [00:02<?, ?it/s]\u001b[A\n",
      "Validate (19488 / 10 Steps):  17%|███████████████████████▏                                                                                                                   | 1/6 [00:02<00:12,  2.49s/it]\u001b[A\n",
      "Validate (19488 / 10 Steps):  17%|███████████████████████▏                                                                                                                   | 1/6 [00:05<00:12,  2.49s/it]\u001b[A\n",
      "Validate (19488 / 10 Steps):  33%|██████████████████████████████████████████████▎                                                                                            | 2/6 [00:05<00:10,  2.56s/it]\u001b[A\n",
      "Validate (19488 / 10 Steps):  33%|██████████████████████████████████████████████▎                                                                                            | 2/6 [00:07<00:10,  2.56s/it]\u001b[A\n",
      "Validate (19488 / 10 Steps):  50%|█████████████████████████████████████████████████████████████████████▌                                                                     | 3/6 [00:07<00:06,  2.29s/it]\u001b[A\n",
      "Validate (19488 / 10 Steps):  50%|█████████████████████████████████████████████████████████████████████▌                                                                     | 3/6 [00:11<00:06,  2.29s/it]\u001b[A\n",
      "Validate (19488 / 10 Steps):  67%|████████████████████████████████████████████████████████████████████████████████████████████▋                                              | 4/6 [00:11<00:06,  3.09s/it]\u001b[A\n",
      "Validate (19488 / 10 Steps):  67%|████████████████████████████████████████████████████████████████████████████████████████████▋                                              | 4/6 [00:13<00:06,  3.09s/it]\u001b[A\n",
      "Validate (19488 / 10 Steps):  83%|███████████████████████████████████████████████████████████████████████████████████████████████████████████████████▊                       | 5/6 [00:13<00:02,  2.86s/it]\u001b[A\n",
      "Validate (19488 / 10 Steps):  83%|███████████████████████████████████████████████████████████████████████████████████████████████████████████████████▊                       | 5/6 [00:16<00:02,  2.86s/it]\u001b[A\n",
      "Validate (19488 / 10 Steps): 100%|███████████████████████████████████████████████████████████████████████████████████████████████████████████████████████████████████████████| 6/6 [00:16<00:00,  2.74s/it]\u001b[A\n",
      "Training (19500 / 25000 Steps) (loss=0.54947):  54%|████████████████████████████████████████████████████████████████▍                                                      | 13/24 [00:26<01:03,  5.76s/it]"
     ]
    },
    {
     "name": "stdout",
     "output_type": "stream",
     "text": [
      "Model Was Not Saved ! Current Best Avg. Dice: 0.8940108418464661 Current Avg. Dice: 0.8787217140197754\n"
     ]
    },
    {
     "name": "stderr",
     "output_type": "stream",
     "text": [
      "Training (19511 / 25000 Steps) (loss=0.51691): 100%|███████████████████████████████████████████████████████████████████████████████████████████████████████████████████████| 24/24 [00:34<00:00,  1.46s/it]\n",
      "Training (19535 / 25000 Steps) (loss=0.39499): 100%|███████████████████████████████████████████████████████████████████████████████████████████████████████████████████████| 24/24 [00:18<00:00,  1.29it/s]\n",
      "Training (19559 / 25000 Steps) (loss=0.73110): 100%|███████████████████████████████████████████████████████████████████████████████████████████████████████████████████████| 24/24 [00:18<00:00,  1.29it/s]\n",
      "Training (19583 / 25000 Steps) (loss=0.51612): 100%|███████████████████████████████████████████████████████████████████████████████████████████████████████████████████████| 24/24 [00:18<00:00,  1.29it/s]\n",
      "Training (19607 / 25000 Steps) (loss=0.65363): 100%|███████████████████████████████████████████████████████████████████████████████████████████████████████████████████████| 24/24 [00:18<00:00,  1.30it/s]\n",
      "Training (19631 / 25000 Steps) (loss=0.58470): 100%|███████████████████████████████████████████████████████████████████████████████████████████████████████████████████████| 24/24 [00:18<00:00,  1.29it/s]\n",
      "Training (19655 / 25000 Steps) (loss=0.46043): 100%|███████████████████████████████████████████████████████████████████████████████████████████████████████████████████████| 24/24 [00:18<00:00,  1.29it/s]\n",
      "Training (19679 / 25000 Steps) (loss=0.57591): 100%|███████████████████████████████████████████████████████████████████████████████████████████████████████████████████████| 24/24 [00:18<00:00,  1.30it/s]\n",
      "Training (19703 / 25000 Steps) (loss=0.41007): 100%|███████████████████████████████████████████████████████████████████████████████████████████████████████████████████████| 24/24 [00:18<00:00,  1.29it/s]\n",
      "Training (19727 / 25000 Steps) (loss=0.55751): 100%|███████████████████████████████████████████████████████████████████████████████████████████████████████████████████████| 24/24 [00:18<00:00,  1.29it/s]\n",
      "Training (19751 / 25000 Steps) (loss=0.43461): 100%|███████████████████████████████████████████████████████████████████████████████████████████████████████████████████████| 24/24 [00:18<00:00,  1.30it/s]\n",
      "Training (19775 / 25000 Steps) (loss=0.30299): 100%|███████████████████████████████████████████████████████████████████████████████████████████████████████████████████████| 24/24 [00:18<00:00,  1.29it/s]\n",
      "Training (19799 / 25000 Steps) (loss=0.68159): 100%|███████████████████████████████████████████████████████████████████████████████████████████████████████████████████████| 24/24 [00:18<00:00,  1.30it/s]\n",
      "Training (19823 / 25000 Steps) (loss=0.55462): 100%|███████████████████████████████████████████████████████████████████████████████████████████████████████████████████████| 24/24 [00:18<00:00,  1.30it/s]\n",
      "Training (19847 / 25000 Steps) (loss=0.53862): 100%|███████████████████████████████████████████████████████████████████████████████████████████████████████████████████████| 24/24 [00:18<00:00,  1.30it/s]\n",
      "Training (19871 / 25000 Steps) (loss=0.70874): 100%|███████████████████████████████████████████████████████████████████████████████████████████████████████████████████████| 24/24 [00:18<00:00,  1.29it/s]\n",
      "Training (19895 / 25000 Steps) (loss=0.64467): 100%|███████████████████████████████████████████████████████████████████████████████████████████████████████████████████████| 24/24 [00:18<00:00,  1.30it/s]\n",
      "Training (19919 / 25000 Steps) (loss=0.64218): 100%|███████████████████████████████████████████████████████████████████████████████████████████████████████████████████████| 24/24 [00:18<00:00,  1.30it/s]\n",
      "Training (19943 / 25000 Steps) (loss=0.70238): 100%|███████████████████████████████████████████████████████████████████████████████████████████████████████████████████████| 24/24 [00:18<00:00,  1.29it/s]\n",
      "Training (19967 / 25000 Steps) (loss=0.50542): 100%|███████████████████████████████████████████████████████████████████████████████████████████████████████████████████████| 24/24 [00:18<00:00,  1.30it/s]\n",
      "Training (19991 / 25000 Steps) (loss=0.59851): 100%|███████████████████████████████████████████████████████████████████████████████████████████████████████████████████████| 24/24 [00:18<00:00,  1.29it/s]\n",
      "Training (20000 / 25000 Steps) (loss=0.39135):  33%|████████████████████████████████████████                                                                                | 8/24 [00:06<00:12,  1.30it/s]\n",
      "Validate (X / X Steps) (dice=X.X):   0%|                                                                                                                                             | 0/6 [00:00<?, ?it/s]\u001b[A\n",
      "Validate (19992 / 10 Steps):   0%|                                                                                                                                                   | 0/6 [00:02<?, ?it/s]\u001b[A\n",
      "Validate (19992 / 10 Steps):  17%|███████████████████████▏                                                                                                                   | 1/6 [00:02<00:12,  2.48s/it]\u001b[A\n",
      "Validate (19992 / 10 Steps):  17%|███████████████████████▏                                                                                                                   | 1/6 [00:05<00:12,  2.48s/it]\u001b[A\n",
      "Validate (19992 / 10 Steps):  33%|██████████████████████████████████████████████▎                                                                                            | 2/6 [00:05<00:10,  2.55s/it]\u001b[A\n",
      "Validate (19992 / 10 Steps):  33%|██████████████████████████████████████████████▎                                                                                            | 2/6 [00:07<00:10,  2.55s/it]\u001b[A\n",
      "Validate (19992 / 10 Steps):  50%|█████████████████████████████████████████████████████████████████████▌                                                                     | 3/6 [00:07<00:06,  2.28s/it]\u001b[A\n",
      "Validate (19992 / 10 Steps):  50%|█████████████████████████████████████████████████████████████████████▌                                                                     | 3/6 [00:11<00:06,  2.28s/it]\u001b[A\n",
      "Validate (19992 / 10 Steps):  67%|████████████████████████████████████████████████████████████████████████████████████████████▋                                              | 4/6 [00:11<00:06,  3.09s/it]\u001b[A\n",
      "Validate (19992 / 10 Steps):  67%|████████████████████████████████████████████████████████████████████████████████████████████▋                                              | 4/6 [00:13<00:06,  3.09s/it]\u001b[A\n",
      "Validate (19992 / 10 Steps):  83%|███████████████████████████████████████████████████████████████████████████████████████████████████████████████████▊                       | 5/6 [00:13<00:02,  2.86s/it]\u001b[A\n",
      "Validate (19992 / 10 Steps):  83%|███████████████████████████████████████████████████████████████████████████████████████████████████████████████████▊                       | 5/6 [00:16<00:02,  2.86s/it]\u001b[A\n",
      "Validate (19992 / 10 Steps): 100%|███████████████████████████████████████████████████████████████████████████████████████████████████████████████████████████████████████████| 6/6 [00:16<00:00,  2.74s/it]\u001b[A\n",
      "Training (20000 / 25000 Steps) (loss=0.39135):  38%|█████████████████████████████████████████████                                                                           | 9/24 [00:23<01:28,  5.91s/it]"
     ]
    },
    {
     "name": "stdout",
     "output_type": "stream",
     "text": [
      "Model Was Not Saved ! Current Best Avg. Dice: 0.8940108418464661 Current Avg. Dice: 0.884223461151123\n"
     ]
    },
    {
     "name": "stderr",
     "output_type": "stream",
     "text": [
      "Training (20015 / 25000 Steps) (loss=0.59247): 100%|███████████████████████████████████████████████████████████████████████████████████████████████████████████████████████| 24/24 [00:34<00:00,  1.46s/it]\n",
      "Training (20039 / 25000 Steps) (loss=0.48517): 100%|███████████████████████████████████████████████████████████████████████████████████████████████████████████████████████| 24/24 [00:18<00:00,  1.30it/s]\n",
      "Training (20063 / 25000 Steps) (loss=0.54456): 100%|███████████████████████████████████████████████████████████████████████████████████████████████████████████████████████| 24/24 [00:18<00:00,  1.29it/s]\n",
      "Training (20087 / 25000 Steps) (loss=0.52528): 100%|███████████████████████████████████████████████████████████████████████████████████████████████████████████████████████| 24/24 [00:18<00:00,  1.30it/s]\n",
      "Training (20111 / 25000 Steps) (loss=0.70828): 100%|███████████████████████████████████████████████████████████████████████████████████████████████████████████████████████| 24/24 [00:18<00:00,  1.29it/s]\n",
      "Training (20135 / 25000 Steps) (loss=0.42824): 100%|███████████████████████████████████████████████████████████████████████████████████████████████████████████████████████| 24/24 [00:18<00:00,  1.29it/s]\n",
      "Training (20159 / 25000 Steps) (loss=0.60471): 100%|███████████████████████████████████████████████████████████████████████████████████████████████████████████████████████| 24/24 [00:18<00:00,  1.29it/s]\n",
      "Training (20183 / 25000 Steps) (loss=0.68341): 100%|███████████████████████████████████████████████████████████████████████████████████████████████████████████████████████| 24/24 [00:18<00:00,  1.29it/s]\n",
      "Training (20207 / 25000 Steps) (loss=0.57423): 100%|███████████████████████████████████████████████████████████████████████████████████████████████████████████████████████| 24/24 [00:18<00:00,  1.29it/s]\n",
      "Training (20231 / 25000 Steps) (loss=0.46053): 100%|███████████████████████████████████████████████████████████████████████████████████████████████████████████████████████| 24/24 [00:18<00:00,  1.29it/s]\n",
      "Training (20255 / 25000 Steps) (loss=0.43285): 100%|███████████████████████████████████████████████████████████████████████████████████████████████████████████████████████| 24/24 [00:18<00:00,  1.29it/s]\n",
      "Training (20279 / 25000 Steps) (loss=0.57897): 100%|███████████████████████████████████████████████████████████████████████████████████████████████████████████████████████| 24/24 [00:18<00:00,  1.30it/s]\n",
      "Training (20303 / 25000 Steps) (loss=0.43339): 100%|███████████████████████████████████████████████████████████████████████████████████████████████████████████████████████| 24/24 [00:18<00:00,  1.30it/s]\n",
      "Training (20327 / 25000 Steps) (loss=0.57709): 100%|███████████████████████████████████████████████████████████████████████████████████████████████████████████████████████| 24/24 [00:18<00:00,  1.30it/s]\n",
      "Training (20351 / 25000 Steps) (loss=0.30003): 100%|███████████████████████████████████████████████████████████████████████████████████████████████████████████████████████| 24/24 [00:18<00:00,  1.29it/s]\n",
      "Training (20375 / 25000 Steps) (loss=0.45586): 100%|███████████████████████████████████████████████████████████████████████████████████████████████████████████████████████| 24/24 [00:18<00:00,  1.29it/s]\n",
      "Training (20399 / 25000 Steps) (loss=0.32069): 100%|███████████████████████████████████████████████████████████████████████████████████████████████████████████████████████| 24/24 [00:18<00:00,  1.30it/s]\n",
      "Training (20423 / 25000 Steps) (loss=0.51566): 100%|███████████████████████████████████████████████████████████████████████████████████████████████████████████████████████| 24/24 [00:18<00:00,  1.29it/s]\n",
      "Training (20447 / 25000 Steps) (loss=0.57257): 100%|███████████████████████████████████████████████████████████████████████████████████████████████████████████████████████| 24/24 [00:18<00:00,  1.29it/s]\n",
      "Training (20471 / 25000 Steps) (loss=0.50443): 100%|███████████████████████████████████████████████████████████████████████████████████████████████████████████████████████| 24/24 [00:18<00:00,  1.30it/s]\n",
      "Training (20495 / 25000 Steps) (loss=0.63867): 100%|███████████████████████████████████████████████████████████████████████████████████████████████████████████████████████| 24/24 [00:18<00:00,  1.29it/s]\n",
      "Training (20500 / 25000 Steps) (loss=0.50113):  17%|████████████████████                                                                                                    | 4/24 [00:03<00:15,  1.28it/s]\n",
      "Validate (X / X Steps) (dice=X.X):   0%|                                                                                                                                             | 0/6 [00:00<?, ?it/s]\u001b[A\n",
      "Validate (20496 / 10 Steps):   0%|                                                                                                                                                   | 0/6 [00:02<?, ?it/s]\u001b[A\n",
      "Validate (20496 / 10 Steps):  17%|███████████████████████▏                                                                                                                   | 1/6 [00:02<00:12,  2.48s/it]\u001b[A\n",
      "Validate (20496 / 10 Steps):  17%|███████████████████████▏                                                                                                                   | 1/6 [00:05<00:12,  2.48s/it]\u001b[A\n",
      "Validate (20496 / 10 Steps):  33%|██████████████████████████████████████████████▎                                                                                            | 2/6 [00:05<00:10,  2.55s/it]\u001b[A\n",
      "Validate (20496 / 10 Steps):  33%|██████████████████████████████████████████████▎                                                                                            | 2/6 [00:07<00:10,  2.55s/it]\u001b[A\n",
      "Validate (20496 / 10 Steps):  50%|█████████████████████████████████████████████████████████████████████▌                                                                     | 3/6 [00:07<00:06,  2.28s/it]\u001b[A\n",
      "Validate (20496 / 10 Steps):  50%|█████████████████████████████████████████████████████████████████████▌                                                                     | 3/6 [00:11<00:06,  2.28s/it]\u001b[A\n",
      "Validate (20496 / 10 Steps):  67%|████████████████████████████████████████████████████████████████████████████████████████████▋                                              | 4/6 [00:11<00:06,  3.09s/it]\u001b[A\n",
      "Validate (20496 / 10 Steps):  67%|████████████████████████████████████████████████████████████████████████████████████████████▋                                              | 4/6 [00:13<00:06,  3.09s/it]\u001b[A\n",
      "Validate (20496 / 10 Steps):  83%|███████████████████████████████████████████████████████████████████████████████████████████████████████████████████▊                       | 5/6 [00:13<00:02,  2.86s/it]\u001b[A\n",
      "Validate (20496 / 10 Steps):  83%|███████████████████████████████████████████████████████████████████████████████████████████████████████████████████▊                       | 5/6 [00:16<00:02,  2.86s/it]\u001b[A\n",
      "Validate (20496 / 10 Steps): 100%|███████████████████████████████████████████████████████████████████████████████████████████████████████████████████████████████████████████| 6/6 [00:16<00:00,  2.74s/it]\u001b[A\n",
      "Training (20500 / 25000 Steps) (loss=0.50113):  21%|█████████████████████████                                                                                               | 5/24 [00:20<02:07,  6.70s/it]"
     ]
    },
    {
     "name": "stdout",
     "output_type": "stream",
     "text": [
      "Model Was Not Saved ! Current Best Avg. Dice: 0.8940108418464661 Current Avg. Dice: 0.8937652707099915\n"
     ]
    },
    {
     "name": "stderr",
     "output_type": "stream",
     "text": [
      "Training (20519 / 25000 Steps) (loss=0.72414): 100%|███████████████████████████████████████████████████████████████████████████████████████████████████████████████████████| 24/24 [00:34<00:00,  1.46s/it]\n",
      "Training (20543 / 25000 Steps) (loss=0.38038): 100%|███████████████████████████████████████████████████████████████████████████████████████████████████████████████████████| 24/24 [00:18<00:00,  1.29it/s]\n",
      "Training (20567 / 25000 Steps) (loss=0.67588): 100%|███████████████████████████████████████████████████████████████████████████████████████████████████████████████████████| 24/24 [00:18<00:00,  1.29it/s]\n",
      "Training (20591 / 25000 Steps) (loss=0.64718): 100%|███████████████████████████████████████████████████████████████████████████████████████████████████████████████████████| 24/24 [00:18<00:00,  1.30it/s]\n",
      "Training (20615 / 25000 Steps) (loss=0.41706): 100%|███████████████████████████████████████████████████████████████████████████████████████████████████████████████████████| 24/24 [00:18<00:00,  1.29it/s]\n",
      "Training (20639 / 25000 Steps) (loss=0.77530): 100%|███████████████████████████████████████████████████████████████████████████████████████████████████████████████████████| 24/24 [00:18<00:00,  1.29it/s]\n",
      "Training (20663 / 25000 Steps) (loss=0.40771): 100%|███████████████████████████████████████████████████████████████████████████████████████████████████████████████████████| 24/24 [00:18<00:00,  1.29it/s]\n",
      "Training (20687 / 25000 Steps) (loss=0.65781): 100%|███████████████████████████████████████████████████████████████████████████████████████████████████████████████████████| 24/24 [00:18<00:00,  1.30it/s]\n",
      "Training (20711 / 25000 Steps) (loss=0.59740): 100%|███████████████████████████████████████████████████████████████████████████████████████████████████████████████████████| 24/24 [00:18<00:00,  1.29it/s]\n",
      "Training (20735 / 25000 Steps) (loss=0.46498): 100%|███████████████████████████████████████████████████████████████████████████████████████████████████████████████████████| 24/24 [00:18<00:00,  1.29it/s]\n",
      "Training (20759 / 25000 Steps) (loss=0.66759): 100%|███████████████████████████████████████████████████████████████████████████████████████████████████████████████████████| 24/24 [00:18<00:00,  1.29it/s]\n",
      "Training (20783 / 25000 Steps) (loss=0.52565): 100%|███████████████████████████████████████████████████████████████████████████████████████████████████████████████████████| 24/24 [00:18<00:00,  1.29it/s]\n",
      "Training (20807 / 25000 Steps) (loss=0.51629): 100%|███████████████████████████████████████████████████████████████████████████████████████████████████████████████████████| 24/24 [00:18<00:00,  1.29it/s]\n",
      "Training (20831 / 25000 Steps) (loss=0.56453): 100%|███████████████████████████████████████████████████████████████████████████████████████████████████████████████████████| 24/24 [00:18<00:00,  1.29it/s]\n",
      "Training (20855 / 25000 Steps) (loss=0.59133): 100%|███████████████████████████████████████████████████████████████████████████████████████████████████████████████████████| 24/24 [00:18<00:00,  1.30it/s]\n",
      "Training (20879 / 25000 Steps) (loss=1.26494): 100%|███████████████████████████████████████████████████████████████████████████████████████████████████████████████████████| 24/24 [00:18<00:00,  1.29it/s]\n",
      "Training (20903 / 25000 Steps) (loss=0.50042): 100%|███████████████████████████████████████████████████████████████████████████████████████████████████████████████████████| 24/24 [00:18<00:00,  1.29it/s]\n",
      "Training (20927 / 25000 Steps) (loss=0.51835): 100%|███████████████████████████████████████████████████████████████████████████████████████████████████████████████████████| 24/24 [00:18<00:00,  1.29it/s]\n",
      "Training (20951 / 25000 Steps) (loss=0.58682): 100%|███████████████████████████████████████████████████████████████████████████████████████████████████████████████████████| 24/24 [00:18<00:00,  1.30it/s]\n",
      "Training (20975 / 25000 Steps) (loss=0.51745): 100%|███████████████████████████████████████████████████████████████████████████████████████████████████████████████████████| 24/24 [00:18<00:00,  1.30it/s]\n",
      "Training (20999 / 25000 Steps) (loss=0.45616): 100%|███████████████████████████████████████████████████████████████████████████████████████████████████████████████████████| 24/24 [00:18<00:00,  1.30it/s]\n",
      "Training (21000 / 25000 Steps) (loss=0.66998):   0%|                                                                                                                                | 0/24 [00:00<?, ?it/s]\n",
      "Validate (X / X Steps) (dice=X.X):   0%|                                                                                                                                             | 0/6 [00:00<?, ?it/s]\u001b[A\n",
      "Validate (21000 / 10 Steps):   0%|                                                                                                                                                   | 0/6 [00:02<?, ?it/s]\u001b[A\n",
      "Validate (21000 / 10 Steps):  17%|███████████████████████▏                                                                                                                   | 1/6 [00:02<00:12,  2.49s/it]\u001b[A\n",
      "Validate (21000 / 10 Steps):  17%|███████████████████████▏                                                                                                                   | 1/6 [00:05<00:12,  2.49s/it]\u001b[A\n",
      "Validate (21000 / 10 Steps):  33%|██████████████████████████████████████████████▎                                                                                            | 2/6 [00:05<00:10,  2.56s/it]\u001b[A\n",
      "Validate (21000 / 10 Steps):  33%|██████████████████████████████████████████████▎                                                                                            | 2/6 [00:07<00:10,  2.56s/it]\u001b[A\n",
      "Validate (21000 / 10 Steps):  50%|█████████████████████████████████████████████████████████████████████▌                                                                     | 3/6 [00:07<00:06,  2.29s/it]\u001b[A\n",
      "Validate (21000 / 10 Steps):  50%|█████████████████████████████████████████████████████████████████████▌                                                                     | 3/6 [00:11<00:06,  2.29s/it]\u001b[A\n",
      "Validate (21000 / 10 Steps):  67%|████████████████████████████████████████████████████████████████████████████████████████████▋                                              | 4/6 [00:11<00:06,  3.10s/it]\u001b[A\n",
      "Validate (21000 / 10 Steps):  67%|████████████████████████████████████████████████████████████████████████████████████████████▋                                              | 4/6 [00:13<00:06,  3.10s/it]\u001b[A\n",
      "Validate (21000 / 10 Steps):  83%|███████████████████████████████████████████████████████████████████████████████████████████████████████████████████▊                       | 5/6 [00:13<00:02,  2.87s/it]\u001b[A\n",
      "Validate (21000 / 10 Steps):  83%|███████████████████████████████████████████████████████████████████████████████████████████████████████████████████▊                       | 5/6 [00:16<00:02,  2.87s/it]\u001b[A\n",
      "Validate (21000 / 10 Steps): 100%|███████████████████████████████████████████████████████████████████████████████████████████████████████████████████████████████████████████| 6/6 [00:16<00:00,  2.75s/it]\u001b[A\n",
      "Training (21000 / 25000 Steps) (loss=0.66998):   4%|█████                                                                                                                   | 1/24 [00:17<06:37, 17.30s/it]"
     ]
    },
    {
     "name": "stdout",
     "output_type": "stream",
     "text": [
      "Model Was Not Saved ! Current Best Avg. Dice: 0.8940108418464661 Current Avg. Dice: 0.8886790871620178\n"
     ]
    },
    {
     "name": "stderr",
     "output_type": "stream",
     "text": [
      "Training (21023 / 25000 Steps) (loss=0.38949): 100%|███████████████████████████████████████████████████████████████████████████████████████████████████████████████████████| 24/24 [00:35<00:00,  1.46s/it]\n",
      "Training (21047 / 25000 Steps) (loss=0.48175): 100%|███████████████████████████████████████████████████████████████████████████████████████████████████████████████████████| 24/24 [00:18<00:00,  1.29it/s]\n",
      "Training (21071 / 25000 Steps) (loss=0.51020): 100%|███████████████████████████████████████████████████████████████████████████████████████████████████████████████████████| 24/24 [00:18<00:00,  1.29it/s]\n",
      "Training (21095 / 25000 Steps) (loss=0.40635): 100%|███████████████████████████████████████████████████████████████████████████████████████████████████████████████████████| 24/24 [00:18<00:00,  1.30it/s]\n",
      "Training (21119 / 25000 Steps) (loss=0.58693): 100%|███████████████████████████████████████████████████████████████████████████████████████████████████████████████████████| 24/24 [00:18<00:00,  1.29it/s]\n",
      "Training (21143 / 25000 Steps) (loss=0.63882): 100%|███████████████████████████████████████████████████████████████████████████████████████████████████████████████████████| 24/24 [00:18<00:00,  1.29it/s]\n",
      "Training (21167 / 25000 Steps) (loss=1.11072): 100%|███████████████████████████████████████████████████████████████████████████████████████████████████████████████████████| 24/24 [00:18<00:00,  1.29it/s]\n",
      "Training (21191 / 25000 Steps) (loss=0.37817): 100%|███████████████████████████████████████████████████████████████████████████████████████████████████████████████████████| 24/24 [00:18<00:00,  1.29it/s]\n",
      "Training (21215 / 25000 Steps) (loss=0.53266): 100%|███████████████████████████████████████████████████████████████████████████████████████████████████████████████████████| 24/24 [00:18<00:00,  1.30it/s]\n",
      "Training (21239 / 25000 Steps) (loss=0.46601): 100%|███████████████████████████████████████████████████████████████████████████████████████████████████████████████████████| 24/24 [00:18<00:00,  1.30it/s]\n",
      "Training (21263 / 25000 Steps) (loss=0.46020): 100%|███████████████████████████████████████████████████████████████████████████████████████████████████████████████████████| 24/24 [00:18<00:00,  1.29it/s]\n",
      "Training (21287 / 25000 Steps) (loss=0.55894): 100%|███████████████████████████████████████████████████████████████████████████████████████████████████████████████████████| 24/24 [00:18<00:00,  1.30it/s]\n",
      "Training (21311 / 25000 Steps) (loss=0.34588): 100%|███████████████████████████████████████████████████████████████████████████████████████████████████████████████████████| 24/24 [00:18<00:00,  1.30it/s]\n",
      "Training (21335 / 25000 Steps) (loss=0.64035): 100%|███████████████████████████████████████████████████████████████████████████████████████████████████████████████████████| 24/24 [00:18<00:00,  1.30it/s]\n",
      "Training (21359 / 25000 Steps) (loss=0.70945): 100%|███████████████████████████████████████████████████████████████████████████████████████████████████████████████████████| 24/24 [00:18<00:00,  1.29it/s]\n",
      "Training (21383 / 25000 Steps) (loss=0.66570): 100%|███████████████████████████████████████████████████████████████████████████████████████████████████████████████████████| 24/24 [00:18<00:00,  1.29it/s]\n",
      "Training (21407 / 25000 Steps) (loss=0.38480): 100%|███████████████████████████████████████████████████████████████████████████████████████████████████████████████████████| 24/24 [00:18<00:00,  1.29it/s]\n",
      "Training (21431 / 25000 Steps) (loss=0.47747): 100%|███████████████████████████████████████████████████████████████████████████████████████████████████████████████████████| 24/24 [00:18<00:00,  1.29it/s]\n",
      "Training (21455 / 25000 Steps) (loss=0.44766): 100%|███████████████████████████████████████████████████████████████████████████████████████████████████████████████████████| 24/24 [00:18<00:00,  1.30it/s]\n",
      "Training (21479 / 25000 Steps) (loss=0.42408): 100%|███████████████████████████████████████████████████████████████████████████████████████████████████████████████████████| 24/24 [00:18<00:00,  1.30it/s]\n",
      "Training (21500 / 25000 Steps) (loss=0.58510):  83%|███████████████████████████████████████████████████████████████████████████████████████████████████▏                   | 20/24 [00:16<00:03,  1.30it/s]\n",
      "Validate (X / X Steps) (dice=X.X):   0%|                                                                                                                                             | 0/6 [00:00<?, ?it/s]\u001b[A\n",
      "Validate (21480 / 10 Steps):   0%|                                                                                                                                                   | 0/6 [00:02<?, ?it/s]\u001b[A\n",
      "Validate (21480 / 10 Steps):  17%|███████████████████████▏                                                                                                                   | 1/6 [00:02<00:12,  2.49s/it]\u001b[A\n",
      "Validate (21480 / 10 Steps):  17%|███████████████████████▏                                                                                                                   | 1/6 [00:05<00:12,  2.49s/it]\u001b[A\n",
      "Validate (21480 / 10 Steps):  33%|██████████████████████████████████████████████▎                                                                                            | 2/6 [00:05<00:10,  2.57s/it]\u001b[A\n",
      "Validate (21480 / 10 Steps):  33%|██████████████████████████████████████████████▎                                                                                            | 2/6 [00:07<00:10,  2.57s/it]\u001b[A\n",
      "Validate (21480 / 10 Steps):  50%|█████████████████████████████████████████████████████████████████████▌                                                                     | 3/6 [00:07<00:06,  2.29s/it]\u001b[A\n",
      "Validate (21480 / 10 Steps):  50%|█████████████████████████████████████████████████████████████████████▌                                                                     | 3/6 [00:11<00:06,  2.29s/it]\u001b[A\n",
      "Validate (21480 / 10 Steps):  67%|████████████████████████████████████████████████████████████████████████████████████████████▋                                              | 4/6 [00:11<00:06,  3.11s/it]\u001b[A\n",
      "Validate (21480 / 10 Steps):  67%|████████████████████████████████████████████████████████████████████████████████████████████▋                                              | 4/6 [00:13<00:06,  3.11s/it]\u001b[A\n",
      "Validate (21480 / 10 Steps):  83%|███████████████████████████████████████████████████████████████████████████████████████████████████████████████████▊                       | 5/6 [00:13<00:02,  2.88s/it]\u001b[A\n",
      "Validate (21480 / 10 Steps):  83%|███████████████████████████████████████████████████████████████████████████████████████████████████████████████████▊                       | 5/6 [00:16<00:02,  2.88s/it]\u001b[A\n",
      "Validate (21480 / 10 Steps): 100%|███████████████████████████████████████████████████████████████████████████████████████████████████████████████████████████████████████████| 6/6 [00:16<00:00,  2.75s/it]\u001b[A\n",
      "Training (21500 / 25000 Steps) (loss=0.58510):  88%|████████████████████████████████████████████████████████████████████████████████████████████████████████▏              | 21/24 [00:32<00:17,  5.73s/it]"
     ]
    },
    {
     "name": "stdout",
     "output_type": "stream",
     "text": [
      "Model Was Not Saved ! Current Best Avg. Dice: 0.8940108418464661 Current Avg. Dice: 0.8853932023048401\n"
     ]
    },
    {
     "name": "stderr",
     "output_type": "stream",
     "text": [
      "Training (21503 / 25000 Steps) (loss=0.25176): 100%|███████████████████████████████████████████████████████████████████████████████████████████████████████████████████████| 24/24 [00:35<00:00,  1.46s/it]\n",
      "Training (21527 / 25000 Steps) (loss=0.51751): 100%|███████████████████████████████████████████████████████████████████████████████████████████████████████████████████████| 24/24 [00:18<00:00,  1.30it/s]\n",
      "Training (21551 / 25000 Steps) (loss=0.34779): 100%|███████████████████████████████████████████████████████████████████████████████████████████████████████████████████████| 24/24 [00:18<00:00,  1.29it/s]\n",
      "Training (21575 / 25000 Steps) (loss=0.63714): 100%|███████████████████████████████████████████████████████████████████████████████████████████████████████████████████████| 24/24 [00:18<00:00,  1.29it/s]\n",
      "Training (21599 / 25000 Steps) (loss=0.56246): 100%|███████████████████████████████████████████████████████████████████████████████████████████████████████████████████████| 24/24 [00:18<00:00,  1.29it/s]\n",
      "Training (21623 / 25000 Steps) (loss=0.49102): 100%|███████████████████████████████████████████████████████████████████████████████████████████████████████████████████████| 24/24 [00:18<00:00,  1.29it/s]\n",
      "Training (21647 / 25000 Steps) (loss=0.54871): 100%|███████████████████████████████████████████████████████████████████████████████████████████████████████████████████████| 24/24 [00:18<00:00,  1.29it/s]\n",
      "Training (21671 / 25000 Steps) (loss=0.51257): 100%|███████████████████████████████████████████████████████████████████████████████████████████████████████████████████████| 24/24 [00:18<00:00,  1.29it/s]\n",
      "Training (21695 / 25000 Steps) (loss=0.59131): 100%|███████████████████████████████████████████████████████████████████████████████████████████████████████████████████████| 24/24 [00:18<00:00,  1.29it/s]\n",
      "Training (21719 / 25000 Steps) (loss=0.55552): 100%|███████████████████████████████████████████████████████████████████████████████████████████████████████████████████████| 24/24 [00:18<00:00,  1.29it/s]\n",
      "Training (21743 / 25000 Steps) (loss=0.80293): 100%|███████████████████████████████████████████████████████████████████████████████████████████████████████████████████████| 24/24 [00:18<00:00,  1.29it/s]\n",
      "Training (21767 / 25000 Steps) (loss=0.39573): 100%|███████████████████████████████████████████████████████████████████████████████████████████████████████████████████████| 24/24 [00:18<00:00,  1.30it/s]\n",
      "Training (21791 / 25000 Steps) (loss=0.54483): 100%|███████████████████████████████████████████████████████████████████████████████████████████████████████████████████████| 24/24 [00:18<00:00,  1.29it/s]\n",
      "Training (21815 / 25000 Steps) (loss=0.64879): 100%|███████████████████████████████████████████████████████████████████████████████████████████████████████████████████████| 24/24 [00:18<00:00,  1.29it/s]\n",
      "Training (21839 / 25000 Steps) (loss=0.55661): 100%|███████████████████████████████████████████████████████████████████████████████████████████████████████████████████████| 24/24 [00:18<00:00,  1.30it/s]\n",
      "Training (21863 / 25000 Steps) (loss=0.53566): 100%|███████████████████████████████████████████████████████████████████████████████████████████████████████████████████████| 24/24 [00:18<00:00,  1.29it/s]\n",
      "Training (21887 / 25000 Steps) (loss=0.44693): 100%|███████████████████████████████████████████████████████████████████████████████████████████████████████████████████████| 24/24 [00:18<00:00,  1.29it/s]\n",
      "Training (21911 / 25000 Steps) (loss=0.52040): 100%|███████████████████████████████████████████████████████████████████████████████████████████████████████████████████████| 24/24 [00:18<00:00,  1.29it/s]\n",
      "Training (21935 / 25000 Steps) (loss=0.36241): 100%|███████████████████████████████████████████████████████████████████████████████████████████████████████████████████████| 24/24 [00:18<00:00,  1.29it/s]\n",
      "Training (21959 / 25000 Steps) (loss=0.43506): 100%|███████████████████████████████████████████████████████████████████████████████████████████████████████████████████████| 24/24 [00:18<00:00,  1.30it/s]\n",
      "Training (21983 / 25000 Steps) (loss=0.67717): 100%|███████████████████████████████████████████████████████████████████████████████████████████████████████████████████████| 24/24 [00:18<00:00,  1.29it/s]\n",
      "Training (22000 / 25000 Steps) (loss=0.48685):  67%|███████████████████████████████████████████████████████████████████████████████▎                                       | 16/24 [00:13<00:06,  1.30it/s]\n",
      "Validate (X / X Steps) (dice=X.X):   0%|                                                                                                                                             | 0/6 [00:00<?, ?it/s]\u001b[A\n",
      "Validate (21984 / 10 Steps):   0%|                                                                                                                                                   | 0/6 [00:02<?, ?it/s]\u001b[A\n",
      "Validate (21984 / 10 Steps):  17%|███████████████████████▏                                                                                                                   | 1/6 [00:02<00:12,  2.49s/it]\u001b[A\n",
      "Validate (21984 / 10 Steps):  17%|███████████████████████▏                                                                                                                   | 1/6 [00:05<00:12,  2.49s/it]\u001b[A\n",
      "Validate (21984 / 10 Steps):  33%|██████████████████████████████████████████████▎                                                                                            | 2/6 [00:05<00:10,  2.56s/it]\u001b[A\n",
      "Validate (21984 / 10 Steps):  33%|██████████████████████████████████████████████▎                                                                                            | 2/6 [00:07<00:10,  2.56s/it]\u001b[A\n",
      "Validate (21984 / 10 Steps):  50%|█████████████████████████████████████████████████████████████████████▌                                                                     | 3/6 [00:07<00:06,  2.28s/it]\u001b[A\n",
      "Validate (21984 / 10 Steps):  50%|█████████████████████████████████████████████████████████████████████▌                                                                     | 3/6 [00:11<00:06,  2.28s/it]\u001b[A\n",
      "Validate (21984 / 10 Steps):  67%|████████████████████████████████████████████████████████████████████████████████████████████▋                                              | 4/6 [00:11<00:06,  3.09s/it]\u001b[A\n",
      "Validate (21984 / 10 Steps):  67%|████████████████████████████████████████████████████████████████████████████████████████████▋                                              | 4/6 [00:13<00:06,  3.09s/it]\u001b[A\n",
      "Validate (21984 / 10 Steps):  83%|███████████████████████████████████████████████████████████████████████████████████████████████████████████████████▊                       | 5/6 [00:13<00:02,  2.86s/it]\u001b[A\n",
      "Validate (21984 / 10 Steps):  83%|███████████████████████████████████████████████████████████████████████████████████████████████████████████████████▊                       | 5/6 [00:16<00:02,  2.86s/it]\u001b[A\n",
      "Validate (21984 / 10 Steps): 100%|███████████████████████████████████████████████████████████████████████████████████████████████████████████████████████████████████████████| 6/6 [00:16<00:00,  2.74s/it]\u001b[A\n",
      "Training (22000 / 25000 Steps) (loss=0.48685):  71%|████████████████████████████████████████████████████████████████████████████████████▎                                  | 17/24 [00:29<00:39,  5.71s/it]"
     ]
    },
    {
     "name": "stdout",
     "output_type": "stream",
     "text": [
      "Model Was Not Saved ! Current Best Avg. Dice: 0.8940108418464661 Current Avg. Dice: 0.8910703659057617\n"
     ]
    },
    {
     "name": "stderr",
     "output_type": "stream",
     "text": [
      "Training (22007 / 25000 Steps) (loss=0.49486): 100%|███████████████████████████████████████████████████████████████████████████████████████████████████████████████████████| 24/24 [00:35<00:00,  1.46s/it]\n",
      "Training (22031 / 25000 Steps) (loss=0.41733): 100%|███████████████████████████████████████████████████████████████████████████████████████████████████████████████████████| 24/24 [00:18<00:00,  1.30it/s]\n",
      "Training (22055 / 25000 Steps) (loss=0.69931): 100%|███████████████████████████████████████████████████████████████████████████████████████████████████████████████████████| 24/24 [00:18<00:00,  1.29it/s]\n",
      "Training (22079 / 25000 Steps) (loss=0.48059): 100%|███████████████████████████████████████████████████████████████████████████████████████████████████████████████████████| 24/24 [00:18<00:00,  1.30it/s]\n",
      "Training (22103 / 25000 Steps) (loss=0.51362): 100%|███████████████████████████████████████████████████████████████████████████████████████████████████████████████████████| 24/24 [00:18<00:00,  1.29it/s]\n",
      "Training (22127 / 25000 Steps) (loss=0.52232): 100%|███████████████████████████████████████████████████████████████████████████████████████████████████████████████████████| 24/24 [00:18<00:00,  1.29it/s]\n",
      "Training (22151 / 25000 Steps) (loss=0.41813): 100%|███████████████████████████████████████████████████████████████████████████████████████████████████████████████████████| 24/24 [00:18<00:00,  1.29it/s]\n",
      "Training (22175 / 25000 Steps) (loss=0.49884): 100%|███████████████████████████████████████████████████████████████████████████████████████████████████████████████████████| 24/24 [00:18<00:00,  1.30it/s]\n",
      "Training (22199 / 25000 Steps) (loss=0.51983): 100%|███████████████████████████████████████████████████████████████████████████████████████████████████████████████████████| 24/24 [00:18<00:00,  1.29it/s]\n",
      "Training (22223 / 25000 Steps) (loss=0.60805): 100%|███████████████████████████████████████████████████████████████████████████████████████████████████████████████████████| 24/24 [00:18<00:00,  1.30it/s]\n",
      "Training (22247 / 25000 Steps) (loss=0.40719): 100%|███████████████████████████████████████████████████████████████████████████████████████████████████████████████████████| 24/24 [00:18<00:00,  1.30it/s]\n",
      "Training (22271 / 25000 Steps) (loss=0.51775): 100%|███████████████████████████████████████████████████████████████████████████████████████████████████████████████████████| 24/24 [00:18<00:00,  1.29it/s]\n",
      "Training (22295 / 25000 Steps) (loss=0.36903): 100%|███████████████████████████████████████████████████████████████████████████████████████████████████████████████████████| 24/24 [00:18<00:00,  1.29it/s]\n",
      "Training (22319 / 25000 Steps) (loss=0.71595): 100%|███████████████████████████████████████████████████████████████████████████████████████████████████████████████████████| 24/24 [00:18<00:00,  1.29it/s]\n",
      "Training (22343 / 25000 Steps) (loss=0.61969): 100%|███████████████████████████████████████████████████████████████████████████████████████████████████████████████████████| 24/24 [00:18<00:00,  1.29it/s]\n",
      "Training (22367 / 25000 Steps) (loss=0.49736): 100%|███████████████████████████████████████████████████████████████████████████████████████████████████████████████████████| 24/24 [00:18<00:00,  1.30it/s]\n",
      "Training (22391 / 25000 Steps) (loss=0.48435): 100%|███████████████████████████████████████████████████████████████████████████████████████████████████████████████████████| 24/24 [00:18<00:00,  1.30it/s]\n",
      "Training (22415 / 25000 Steps) (loss=0.61253): 100%|███████████████████████████████████████████████████████████████████████████████████████████████████████████████████████| 24/24 [00:18<00:00,  1.30it/s]\n",
      "Training (22439 / 25000 Steps) (loss=0.38060): 100%|███████████████████████████████████████████████████████████████████████████████████████████████████████████████████████| 24/24 [00:18<00:00,  1.29it/s]\n",
      "Training (22463 / 25000 Steps) (loss=0.41118): 100%|███████████████████████████████████████████████████████████████████████████████████████████████████████████████████████| 24/24 [00:18<00:00,  1.30it/s]\n",
      "Training (22487 / 25000 Steps) (loss=0.52068): 100%|███████████████████████████████████████████████████████████████████████████████████████████████████████████████████████| 24/24 [00:18<00:00,  1.30it/s]\n",
      "Training (22500 / 25000 Steps) (loss=0.47648):  50%|███████████████████████████████████████████████████████████▌                                                           | 12/24 [00:10<00:09,  1.29it/s]\n",
      "Validate (X / X Steps) (dice=X.X):   0%|                                                                                                                                             | 0/6 [00:00<?, ?it/s]\u001b[A\n",
      "Validate (22488 / 10 Steps):   0%|                                                                                                                                                   | 0/6 [00:02<?, ?it/s]\u001b[A\n",
      "Validate (22488 / 10 Steps):  17%|███████████████████████▏                                                                                                                   | 1/6 [00:02<00:12,  2.49s/it]\u001b[A\n",
      "Validate (22488 / 10 Steps):  17%|███████████████████████▏                                                                                                                   | 1/6 [00:05<00:12,  2.49s/it]\u001b[A\n",
      "Validate (22488 / 10 Steps):  33%|██████████████████████████████████████████████▎                                                                                            | 2/6 [00:05<00:10,  2.56s/it]\u001b[A\n",
      "Validate (22488 / 10 Steps):  33%|██████████████████████████████████████████████▎                                                                                            | 2/6 [00:07<00:10,  2.56s/it]\u001b[A\n",
      "Validate (22488 / 10 Steps):  50%|█████████████████████████████████████████████████████████████████████▌                                                                     | 3/6 [00:07<00:06,  2.29s/it]\u001b[A\n",
      "Validate (22488 / 10 Steps):  50%|█████████████████████████████████████████████████████████████████████▌                                                                     | 3/6 [00:11<00:06,  2.29s/it]\u001b[A\n",
      "Validate (22488 / 10 Steps):  67%|████████████████████████████████████████████████████████████████████████████████████████████▋                                              | 4/6 [00:11<00:06,  3.09s/it]\u001b[A\n",
      "Validate (22488 / 10 Steps):  67%|████████████████████████████████████████████████████████████████████████████████████████████▋                                              | 4/6 [00:13<00:06,  3.09s/it]\u001b[A\n",
      "Validate (22488 / 10 Steps):  83%|███████████████████████████████████████████████████████████████████████████████████████████████████████████████████▊                       | 5/6 [00:13<00:02,  2.86s/it]\u001b[A\n",
      "Validate (22488 / 10 Steps):  83%|███████████████████████████████████████████████████████████████████████████████████████████████████████████████████▊                       | 5/6 [00:16<00:02,  2.86s/it]\u001b[A\n",
      "Validate (22488 / 10 Steps): 100%|███████████████████████████████████████████████████████████████████████████████████████████████████████████████████████████████████████████| 6/6 [00:16<00:00,  2.74s/it]\u001b[A\n",
      "Training (22500 / 25000 Steps) (loss=0.47648):  54%|████████████████████████████████████████████████████████████████▍                                                      | 13/24 [00:26<01:03,  5.76s/it]"
     ]
    },
    {
     "name": "stdout",
     "output_type": "stream",
     "text": [
      "Model Was Not Saved ! Current Best Avg. Dice: 0.8940108418464661 Current Avg. Dice: 0.8937798142433167\n"
     ]
    },
    {
     "name": "stderr",
     "output_type": "stream",
     "text": [
      "Training (22511 / 25000 Steps) (loss=0.73500): 100%|███████████████████████████████████████████████████████████████████████████████████████████████████████████████████████| 24/24 [00:35<00:00,  1.46s/it]\n",
      "Training (22535 / 25000 Steps) (loss=0.42691): 100%|███████████████████████████████████████████████████████████████████████████████████████████████████████████████████████| 24/24 [00:18<00:00,  1.30it/s]\n",
      "Training (22559 / 25000 Steps) (loss=0.50246): 100%|███████████████████████████████████████████████████████████████████████████████████████████████████████████████████████| 24/24 [00:18<00:00,  1.30it/s]\n",
      "Training (22583 / 25000 Steps) (loss=0.66551): 100%|███████████████████████████████████████████████████████████████████████████████████████████████████████████████████████| 24/24 [00:18<00:00,  1.29it/s]\n",
      "Training (22607 / 25000 Steps) (loss=0.50834): 100%|███████████████████████████████████████████████████████████████████████████████████████████████████████████████████████| 24/24 [00:18<00:00,  1.30it/s]\n",
      "Training (22631 / 25000 Steps) (loss=0.58233): 100%|███████████████████████████████████████████████████████████████████████████████████████████████████████████████████████| 24/24 [00:18<00:00,  1.30it/s]\n",
      "Training (22655 / 25000 Steps) (loss=0.58917): 100%|███████████████████████████████████████████████████████████████████████████████████████████████████████████████████████| 24/24 [00:18<00:00,  1.30it/s]\n",
      "Training (22679 / 25000 Steps) (loss=0.57620): 100%|███████████████████████████████████████████████████████████████████████████████████████████████████████████████████████| 24/24 [00:18<00:00,  1.29it/s]\n",
      "Training (22703 / 25000 Steps) (loss=0.27922): 100%|███████████████████████████████████████████████████████████████████████████████████████████████████████████████████████| 24/24 [00:18<00:00,  1.29it/s]\n",
      "Training (22727 / 25000 Steps) (loss=0.42813): 100%|███████████████████████████████████████████████████████████████████████████████████████████████████████████████████████| 24/24 [00:18<00:00,  1.30it/s]\n",
      "Training (22751 / 25000 Steps) (loss=0.65415): 100%|███████████████████████████████████████████████████████████████████████████████████████████████████████████████████████| 24/24 [00:18<00:00,  1.30it/s]\n",
      "Training (22775 / 25000 Steps) (loss=0.51666): 100%|███████████████████████████████████████████████████████████████████████████████████████████████████████████████████████| 24/24 [00:18<00:00,  1.29it/s]\n",
      "Training (22799 / 25000 Steps) (loss=0.57433): 100%|███████████████████████████████████████████████████████████████████████████████████████████████████████████████████████| 24/24 [00:18<00:00,  1.29it/s]\n",
      "Training (22823 / 25000 Steps) (loss=0.48970): 100%|███████████████████████████████████████████████████████████████████████████████████████████████████████████████████████| 24/24 [00:18<00:00,  1.29it/s]\n",
      "Training (22847 / 25000 Steps) (loss=0.48819): 100%|███████████████████████████████████████████████████████████████████████████████████████████████████████████████████████| 24/24 [00:18<00:00,  1.30it/s]\n",
      "Training (22871 / 25000 Steps) (loss=0.37763): 100%|███████████████████████████████████████████████████████████████████████████████████████████████████████████████████████| 24/24 [00:18<00:00,  1.29it/s]\n",
      "Training (22895 / 25000 Steps) (loss=0.34762): 100%|███████████████████████████████████████████████████████████████████████████████████████████████████████████████████████| 24/24 [00:18<00:00,  1.29it/s]\n",
      "Training (22919 / 25000 Steps) (loss=0.42154): 100%|███████████████████████████████████████████████████████████████████████████████████████████████████████████████████████| 24/24 [00:18<00:00,  1.29it/s]\n",
      "Training (22943 / 25000 Steps) (loss=0.41165): 100%|███████████████████████████████████████████████████████████████████████████████████████████████████████████████████████| 24/24 [00:18<00:00,  1.30it/s]\n",
      "Training (22967 / 25000 Steps) (loss=0.51589): 100%|███████████████████████████████████████████████████████████████████████████████████████████████████████████████████████| 24/24 [00:18<00:00,  1.30it/s]\n",
      "Training (22991 / 25000 Steps) (loss=0.60685): 100%|███████████████████████████████████████████████████████████████████████████████████████████████████████████████████████| 24/24 [00:18<00:00,  1.30it/s]\n",
      "Training (23000 / 25000 Steps) (loss=0.33121):  33%|████████████████████████████████████████                                                                                | 8/24 [00:06<00:12,  1.29it/s]\n",
      "Validate (X / X Steps) (dice=X.X):   0%|                                                                                                                                             | 0/6 [00:00<?, ?it/s]\u001b[A\n",
      "Validate (22992 / 10 Steps):   0%|                                                                                                                                                   | 0/6 [00:02<?, ?it/s]\u001b[A\n",
      "Validate (22992 / 10 Steps):  17%|███████████████████████▏                                                                                                                   | 1/6 [00:02<00:12,  2.48s/it]\u001b[A\n",
      "Validate (22992 / 10 Steps):  17%|███████████████████████▏                                                                                                                   | 1/6 [00:05<00:12,  2.48s/it]\u001b[A\n",
      "Validate (22992 / 10 Steps):  33%|██████████████████████████████████████████████▎                                                                                            | 2/6 [00:05<00:10,  2.56s/it]\u001b[A\n",
      "Validate (22992 / 10 Steps):  33%|██████████████████████████████████████████████▎                                                                                            | 2/6 [00:07<00:10,  2.56s/it]\u001b[A\n",
      "Validate (22992 / 10 Steps):  50%|█████████████████████████████████████████████████████████████████████▌                                                                     | 3/6 [00:07<00:06,  2.29s/it]\u001b[A\n",
      "Validate (22992 / 10 Steps):  50%|█████████████████████████████████████████████████████████████████████▌                                                                     | 3/6 [00:11<00:06,  2.29s/it]\u001b[A\n",
      "Validate (22992 / 10 Steps):  67%|████████████████████████████████████████████████████████████████████████████████████████████▋                                              | 4/6 [00:11<00:06,  3.09s/it]\u001b[A\n",
      "Validate (22992 / 10 Steps):  67%|████████████████████████████████████████████████████████████████████████████████████████████▋                                              | 4/6 [00:13<00:06,  3.09s/it]\u001b[A\n",
      "Validate (22992 / 10 Steps):  83%|███████████████████████████████████████████████████████████████████████████████████████████████████████████████████▊                       | 5/6 [00:13<00:02,  2.86s/it]\u001b[A\n",
      "Validate (22992 / 10 Steps):  83%|███████████████████████████████████████████████████████████████████████████████████████████████████████████████████▊                       | 5/6 [00:16<00:02,  2.86s/it]\u001b[A\n",
      "Validate (22992 / 10 Steps): 100%|███████████████████████████████████████████████████████████████████████████████████████████████████████████████████████████████████████████| 6/6 [00:16<00:00,  2.74s/it]\u001b[A\n",
      "Training (23000 / 25000 Steps) (loss=0.33121):  38%|█████████████████████████████████████████████                                                                           | 9/24 [00:23<01:28,  5.91s/it]"
     ]
    },
    {
     "name": "stdout",
     "output_type": "stream",
     "text": [
      "Model Was Not Saved ! Current Best Avg. Dice: 0.8940108418464661 Current Avg. Dice: 0.8862664103507996\n"
     ]
    },
    {
     "name": "stderr",
     "output_type": "stream",
     "text": [
      "Training (23015 / 25000 Steps) (loss=0.51746): 100%|███████████████████████████████████████████████████████████████████████████████████████████████████████████████████████| 24/24 [00:34<00:00,  1.46s/it]\n",
      "Training (23039 / 25000 Steps) (loss=0.44659): 100%|███████████████████████████████████████████████████████████████████████████████████████████████████████████████████████| 24/24 [00:18<00:00,  1.29it/s]\n",
      "Training (23063 / 25000 Steps) (loss=0.67629): 100%|███████████████████████████████████████████████████████████████████████████████████████████████████████████████████████| 24/24 [00:18<00:00,  1.30it/s]\n",
      "Training (23087 / 25000 Steps) (loss=0.59111): 100%|███████████████████████████████████████████████████████████████████████████████████████████████████████████████████████| 24/24 [00:18<00:00,  1.29it/s]\n",
      "Training (23111 / 25000 Steps) (loss=0.60067): 100%|███████████████████████████████████████████████████████████████████████████████████████████████████████████████████████| 24/24 [00:18<00:00,  1.30it/s]\n",
      "Training (23135 / 25000 Steps) (loss=0.61454): 100%|███████████████████████████████████████████████████████████████████████████████████████████████████████████████████████| 24/24 [00:18<00:00,  1.29it/s]\n",
      "Training (23159 / 25000 Steps) (loss=0.54910): 100%|███████████████████████████████████████████████████████████████████████████████████████████████████████████████████████| 24/24 [00:18<00:00,  1.29it/s]\n",
      "Training (23183 / 25000 Steps) (loss=0.57155): 100%|███████████████████████████████████████████████████████████████████████████████████████████████████████████████████████| 24/24 [00:18<00:00,  1.30it/s]\n",
      "Training (23207 / 25000 Steps) (loss=0.44179): 100%|███████████████████████████████████████████████████████████████████████████████████████████████████████████████████████| 24/24 [00:18<00:00,  1.29it/s]\n",
      "Training (23231 / 25000 Steps) (loss=0.29367): 100%|███████████████████████████████████████████████████████████████████████████████████████████████████████████████████████| 24/24 [00:18<00:00,  1.29it/s]\n",
      "Training (23255 / 25000 Steps) (loss=0.62648): 100%|███████████████████████████████████████████████████████████████████████████████████████████████████████████████████████| 24/24 [00:18<00:00,  1.29it/s]\n",
      "Training (23279 / 25000 Steps) (loss=0.74778): 100%|███████████████████████████████████████████████████████████████████████████████████████████████████████████████████████| 24/24 [00:18<00:00,  1.30it/s]\n",
      "Training (23303 / 25000 Steps) (loss=0.79606): 100%|███████████████████████████████████████████████████████████████████████████████████████████████████████████████████████| 24/24 [00:18<00:00,  1.30it/s]\n",
      "Training (23327 / 25000 Steps) (loss=0.44064): 100%|███████████████████████████████████████████████████████████████████████████████████████████████████████████████████████| 24/24 [00:18<00:00,  1.29it/s]\n",
      "Training (23351 / 25000 Steps) (loss=0.52219): 100%|███████████████████████████████████████████████████████████████████████████████████████████████████████████████████████| 24/24 [00:18<00:00,  1.30it/s]\n",
      "Training (23375 / 25000 Steps) (loss=0.66375): 100%|███████████████████████████████████████████████████████████████████████████████████████████████████████████████████████| 24/24 [00:18<00:00,  1.30it/s]\n",
      "Training (23399 / 25000 Steps) (loss=0.33127): 100%|███████████████████████████████████████████████████████████████████████████████████████████████████████████████████████| 24/24 [00:18<00:00,  1.30it/s]\n",
      "Training (23423 / 25000 Steps) (loss=0.65594): 100%|███████████████████████████████████████████████████████████████████████████████████████████████████████████████████████| 24/24 [00:18<00:00,  1.29it/s]\n",
      "Training (23447 / 25000 Steps) (loss=0.55422): 100%|███████████████████████████████████████████████████████████████████████████████████████████████████████████████████████| 24/24 [00:18<00:00,  1.29it/s]\n",
      "Training (23471 / 25000 Steps) (loss=0.23900): 100%|███████████████████████████████████████████████████████████████████████████████████████████████████████████████████████| 24/24 [00:18<00:00,  1.30it/s]\n",
      "Training (23495 / 25000 Steps) (loss=0.67055): 100%|███████████████████████████████████████████████████████████████████████████████████████████████████████████████████████| 24/24 [00:18<00:00,  1.30it/s]\n",
      "Training (23500 / 25000 Steps) (loss=0.42989):  17%|████████████████████                                                                                                    | 4/24 [00:03<00:15,  1.29it/s]\n",
      "Validate (X / X Steps) (dice=X.X):   0%|                                                                                                                                             | 0/6 [00:00<?, ?it/s]\u001b[A\n",
      "Validate (23496 / 10 Steps):   0%|                                                                                                                                                   | 0/6 [00:02<?, ?it/s]\u001b[A\n",
      "Validate (23496 / 10 Steps):  17%|███████████████████████▏                                                                                                                   | 1/6 [00:02<00:12,  2.48s/it]\u001b[A\n",
      "Validate (23496 / 10 Steps):  17%|███████████████████████▏                                                                                                                   | 1/6 [00:05<00:12,  2.48s/it]\u001b[A\n",
      "Validate (23496 / 10 Steps):  33%|██████████████████████████████████████████████▎                                                                                            | 2/6 [00:05<00:10,  2.55s/it]\u001b[A\n",
      "Validate (23496 / 10 Steps):  33%|██████████████████████████████████████████████▎                                                                                            | 2/6 [00:07<00:10,  2.55s/it]\u001b[A\n",
      "Validate (23496 / 10 Steps):  50%|█████████████████████████████████████████████████████████████████████▌                                                                     | 3/6 [00:07<00:06,  2.28s/it]\u001b[A\n",
      "Validate (23496 / 10 Steps):  50%|█████████████████████████████████████████████████████████████████████▌                                                                     | 3/6 [00:11<00:06,  2.28s/it]\u001b[A\n",
      "Validate (23496 / 10 Steps):  67%|████████████████████████████████████████████████████████████████████████████████████████████▋                                              | 4/6 [00:11<00:06,  3.09s/it]\u001b[A\n",
      "Validate (23496 / 10 Steps):  67%|████████████████████████████████████████████████████████████████████████████████████████████▋                                              | 4/6 [00:13<00:06,  3.09s/it]\u001b[A\n",
      "Validate (23496 / 10 Steps):  83%|███████████████████████████████████████████████████████████████████████████████████████████████████████████████████▊                       | 5/6 [00:13<00:02,  2.86s/it]\u001b[A\n",
      "Validate (23496 / 10 Steps):  83%|███████████████████████████████████████████████████████████████████████████████████████████████████████████████████▊                       | 5/6 [00:16<00:02,  2.86s/it]\u001b[A\n",
      "Validate (23496 / 10 Steps): 100%|███████████████████████████████████████████████████████████████████████████████████████████████████████████████████████████████████████████| 6/6 [00:16<00:00,  2.74s/it]\u001b[A\n",
      "Training (23500 / 25000 Steps) (loss=0.42989):  21%|█████████████████████████                                                                                               | 5/24 [00:20<02:09,  6.79s/it]"
     ]
    },
    {
     "name": "stdout",
     "output_type": "stream",
     "text": [
      "Model Was Saved ! Current Best Avg. Dice: 0.894230842590332 Current Avg. Dice: 0.894230842590332\n"
     ]
    },
    {
     "name": "stderr",
     "output_type": "stream",
     "text": [
      "Training (23519 / 25000 Steps) (loss=0.46147): 100%|███████████████████████████████████████████████████████████████████████████████████████████████████████████████████████| 24/24 [00:35<00:00,  1.47s/it]\n",
      "Training (23543 / 25000 Steps) (loss=0.57739): 100%|███████████████████████████████████████████████████████████████████████████████████████████████████████████████████████| 24/24 [00:18<00:00,  1.30it/s]\n",
      "Training (23567 / 25000 Steps) (loss=0.71934): 100%|███████████████████████████████████████████████████████████████████████████████████████████████████████████████████████| 24/24 [00:18<00:00,  1.29it/s]\n",
      "Training (23591 / 25000 Steps) (loss=0.49919): 100%|███████████████████████████████████████████████████████████████████████████████████████████████████████████████████████| 24/24 [00:18<00:00,  1.30it/s]\n",
      "Training (23615 / 25000 Steps) (loss=0.69095): 100%|███████████████████████████████████████████████████████████████████████████████████████████████████████████████████████| 24/24 [00:18<00:00,  1.29it/s]\n",
      "Training (23639 / 25000 Steps) (loss=0.77817): 100%|███████████████████████████████████████████████████████████████████████████████████████████████████████████████████████| 24/24 [00:18<00:00,  1.29it/s]\n",
      "Training (23663 / 25000 Steps) (loss=0.59319): 100%|███████████████████████████████████████████████████████████████████████████████████████████████████████████████████████| 24/24 [00:18<00:00,  1.29it/s]\n",
      "Training (23687 / 25000 Steps) (loss=0.50582): 100%|███████████████████████████████████████████████████████████████████████████████████████████████████████████████████████| 24/24 [00:18<00:00,  1.29it/s]\n",
      "Training (23711 / 25000 Steps) (loss=0.74560): 100%|███████████████████████████████████████████████████████████████████████████████████████████████████████████████████████| 24/24 [00:18<00:00,  1.29it/s]\n",
      "Training (23735 / 25000 Steps) (loss=0.44039): 100%|███████████████████████████████████████████████████████████████████████████████████████████████████████████████████████| 24/24 [00:18<00:00,  1.30it/s]\n",
      "Training (23759 / 25000 Steps) (loss=0.54469): 100%|███████████████████████████████████████████████████████████████████████████████████████████████████████████████████████| 24/24 [00:18<00:00,  1.29it/s]\n",
      "Training (23783 / 25000 Steps) (loss=0.45589): 100%|███████████████████████████████████████████████████████████████████████████████████████████████████████████████████████| 24/24 [00:18<00:00,  1.30it/s]\n",
      "Training (23807 / 25000 Steps) (loss=0.63243): 100%|███████████████████████████████████████████████████████████████████████████████████████████████████████████████████████| 24/24 [00:18<00:00,  1.29it/s]\n",
      "Training (23831 / 25000 Steps) (loss=0.31028): 100%|███████████████████████████████████████████████████████████████████████████████████████████████████████████████████████| 24/24 [00:18<00:00,  1.29it/s]\n",
      "Training (23855 / 25000 Steps) (loss=0.47887): 100%|███████████████████████████████████████████████████████████████████████████████████████████████████████████████████████| 24/24 [00:18<00:00,  1.30it/s]\n",
      "Training (23879 / 25000 Steps) (loss=0.69718): 100%|███████████████████████████████████████████████████████████████████████████████████████████████████████████████████████| 24/24 [00:18<00:00,  1.29it/s]\n",
      "Training (23903 / 25000 Steps) (loss=0.50259): 100%|███████████████████████████████████████████████████████████████████████████████████████████████████████████████████████| 24/24 [00:18<00:00,  1.29it/s]\n",
      "Training (23927 / 25000 Steps) (loss=0.52083): 100%|███████████████████████████████████████████████████████████████████████████████████████████████████████████████████████| 24/24 [00:18<00:00,  1.30it/s]\n",
      "Training (23951 / 25000 Steps) (loss=0.59346): 100%|███████████████████████████████████████████████████████████████████████████████████████████████████████████████████████| 24/24 [00:18<00:00,  1.30it/s]\n",
      "Training (23975 / 25000 Steps) (loss=0.36768): 100%|███████████████████████████████████████████████████████████████████████████████████████████████████████████████████████| 24/24 [00:18<00:00,  1.29it/s]\n",
      "Training (23999 / 25000 Steps) (loss=0.45260): 100%|███████████████████████████████████████████████████████████████████████████████████████████████████████████████████████| 24/24 [00:18<00:00,  1.29it/s]\n",
      "Training (24000 / 25000 Steps) (loss=0.60820):   0%|                                                                                                                                | 0/24 [00:00<?, ?it/s]\n",
      "Validate (X / X Steps) (dice=X.X):   0%|                                                                                                                                             | 0/6 [00:00<?, ?it/s]\u001b[A\n",
      "Validate (24000 / 10 Steps):   0%|                                                                                                                                                   | 0/6 [00:02<?, ?it/s]\u001b[A\n",
      "Validate (24000 / 10 Steps):  17%|███████████████████████▏                                                                                                                   | 1/6 [00:02<00:12,  2.49s/it]\u001b[A\n",
      "Validate (24000 / 10 Steps):  17%|███████████████████████▏                                                                                                                   | 1/6 [00:05<00:12,  2.49s/it]\u001b[A\n",
      "Validate (24000 / 10 Steps):  33%|██████████████████████████████████████████████▎                                                                                            | 2/6 [00:05<00:10,  2.56s/it]\u001b[A\n",
      "Validate (24000 / 10 Steps):  33%|██████████████████████████████████████████████▎                                                                                            | 2/6 [00:07<00:10,  2.56s/it]\u001b[A\n",
      "Validate (24000 / 10 Steps):  50%|█████████████████████████████████████████████████████████████████████▌                                                                     | 3/6 [00:07<00:06,  2.29s/it]\u001b[A\n",
      "Validate (24000 / 10 Steps):  50%|█████████████████████████████████████████████████████████████████████▌                                                                     | 3/6 [00:11<00:06,  2.29s/it]\u001b[A\n",
      "Validate (24000 / 10 Steps):  67%|████████████████████████████████████████████████████████████████████████████████████████████▋                                              | 4/6 [00:11<00:06,  3.10s/it]\u001b[A\n",
      "Validate (24000 / 10 Steps):  67%|████████████████████████████████████████████████████████████████████████████████████████████▋                                              | 4/6 [00:13<00:06,  3.10s/it]\u001b[A\n",
      "Validate (24000 / 10 Steps):  83%|███████████████████████████████████████████████████████████████████████████████████████████████████████████████████▊                       | 5/6 [00:13<00:02,  2.86s/it]\u001b[A\n",
      "Validate (24000 / 10 Steps):  83%|███████████████████████████████████████████████████████████████████████████████████████████████████████████████████▊                       | 5/6 [00:16<00:02,  2.86s/it]\u001b[A\n",
      "Validate (24000 / 10 Steps): 100%|███████████████████████████████████████████████████████████████████████████████████████████████████████████████████████████████████████████| 6/6 [00:16<00:00,  2.74s/it]\u001b[A\n",
      "Training (24000 / 25000 Steps) (loss=0.60820):   4%|█████                                                                                                                   | 1/24 [00:17<06:43, 17.55s/it]"
     ]
    },
    {
     "name": "stdout",
     "output_type": "stream",
     "text": [
      "Model Was Saved ! Current Best Avg. Dice: 0.8945345282554626 Current Avg. Dice: 0.8945345282554626\n"
     ]
    },
    {
     "name": "stderr",
     "output_type": "stream",
     "text": [
      "Training (24023 / 25000 Steps) (loss=0.51874): 100%|███████████████████████████████████████████████████████████████████████████████████████████████████████████████████████| 24/24 [00:35<00:00,  1.47s/it]\n",
      "Training (24047 / 25000 Steps) (loss=0.49555): 100%|███████████████████████████████████████████████████████████████████████████████████████████████████████████████████████| 24/24 [00:18<00:00,  1.29it/s]\n",
      "Training (24071 / 25000 Steps) (loss=0.42083): 100%|███████████████████████████████████████████████████████████████████████████████████████████████████████████████████████| 24/24 [00:18<00:00,  1.29it/s]\n",
      "Training (24095 / 25000 Steps) (loss=0.50228): 100%|███████████████████████████████████████████████████████████████████████████████████████████████████████████████████████| 24/24 [00:18<00:00,  1.30it/s]\n",
      "Training (24119 / 25000 Steps) (loss=0.52386): 100%|███████████████████████████████████████████████████████████████████████████████████████████████████████████████████████| 24/24 [00:18<00:00,  1.30it/s]\n",
      "Training (24143 / 25000 Steps) (loss=0.45925): 100%|███████████████████████████████████████████████████████████████████████████████████████████████████████████████████████| 24/24 [00:18<00:00,  1.29it/s]\n",
      "Training (24167 / 25000 Steps) (loss=0.35978): 100%|███████████████████████████████████████████████████████████████████████████████████████████████████████████████████████| 24/24 [00:18<00:00,  1.29it/s]\n",
      "Training (24191 / 25000 Steps) (loss=0.45719): 100%|███████████████████████████████████████████████████████████████████████████████████████████████████████████████████████| 24/24 [00:18<00:00,  1.29it/s]\n",
      "Training (24215 / 25000 Steps) (loss=0.63931): 100%|███████████████████████████████████████████████████████████████████████████████████████████████████████████████████████| 24/24 [00:18<00:00,  1.30it/s]\n",
      "Training (24239 / 25000 Steps) (loss=0.73540): 100%|███████████████████████████████████████████████████████████████████████████████████████████████████████████████████████| 24/24 [00:18<00:00,  1.30it/s]\n",
      "Training (24263 / 25000 Steps) (loss=0.68306): 100%|███████████████████████████████████████████████████████████████████████████████████████████████████████████████████████| 24/24 [00:18<00:00,  1.29it/s]\n",
      "Training (24287 / 25000 Steps) (loss=0.43605): 100%|███████████████████████████████████████████████████████████████████████████████████████████████████████████████████████| 24/24 [00:18<00:00,  1.29it/s]\n",
      "Training (24311 / 25000 Steps) (loss=0.59899): 100%|███████████████████████████████████████████████████████████████████████████████████████████████████████████████████████| 24/24 [00:18<00:00,  1.29it/s]\n",
      "Training (24335 / 25000 Steps) (loss=0.31752): 100%|███████████████████████████████████████████████████████████████████████████████████████████████████████████████████████| 24/24 [00:18<00:00,  1.30it/s]\n",
      "Training (24359 / 25000 Steps) (loss=0.37492): 100%|███████████████████████████████████████████████████████████████████████████████████████████████████████████████████████| 24/24 [00:18<00:00,  1.30it/s]\n",
      "Training (24383 / 25000 Steps) (loss=0.39788): 100%|███████████████████████████████████████████████████████████████████████████████████████████████████████████████████████| 24/24 [00:18<00:00,  1.29it/s]\n",
      "Training (24407 / 25000 Steps) (loss=0.67455): 100%|███████████████████████████████████████████████████████████████████████████████████████████████████████████████████████| 24/24 [00:18<00:00,  1.29it/s]\n",
      "Training (24431 / 25000 Steps) (loss=0.62190): 100%|███████████████████████████████████████████████████████████████████████████████████████████████████████████████████████| 24/24 [00:18<00:00,  1.29it/s]\n",
      "Training (24455 / 25000 Steps) (loss=0.57149): 100%|███████████████████████████████████████████████████████████████████████████████████████████████████████████████████████| 24/24 [00:18<00:00,  1.29it/s]\n",
      "Training (24479 / 25000 Steps) (loss=0.49333): 100%|███████████████████████████████████████████████████████████████████████████████████████████████████████████████████████| 24/24 [00:18<00:00,  1.29it/s]\n",
      "Training (24500 / 25000 Steps) (loss=0.32440):  83%|███████████████████████████████████████████████████████████████████████████████████████████████████▏                   | 20/24 [00:16<00:03,  1.30it/s]\n",
      "Validate (X / X Steps) (dice=X.X):   0%|                                                                                                                                             | 0/6 [00:00<?, ?it/s]\u001b[A\n",
      "Validate (24480 / 10 Steps):   0%|                                                                                                                                                   | 0/6 [00:02<?, ?it/s]\u001b[A\n",
      "Validate (24480 / 10 Steps):  17%|███████████████████████▏                                                                                                                   | 1/6 [00:02<00:12,  2.48s/it]\u001b[A\n",
      "Validate (24480 / 10 Steps):  17%|███████████████████████▏                                                                                                                   | 1/6 [00:05<00:12,  2.48s/it]\u001b[A\n",
      "Validate (24480 / 10 Steps):  33%|██████████████████████████████████████████████▎                                                                                            | 2/6 [00:05<00:10,  2.56s/it]\u001b[A\n",
      "Validate (24480 / 10 Steps):  33%|██████████████████████████████████████████████▎                                                                                            | 2/6 [00:07<00:10,  2.56s/it]\u001b[A\n",
      "Validate (24480 / 10 Steps):  50%|█████████████████████████████████████████████████████████████████████▌                                                                     | 3/6 [00:07<00:06,  2.28s/it]\u001b[A\n",
      "Validate (24480 / 10 Steps):  50%|█████████████████████████████████████████████████████████████████████▌                                                                     | 3/6 [00:11<00:06,  2.28s/it]\u001b[A\n",
      "Validate (24480 / 10 Steps):  67%|████████████████████████████████████████████████████████████████████████████████████████████▋                                              | 4/6 [00:11<00:06,  3.09s/it]\u001b[A\n",
      "Validate (24480 / 10 Steps):  67%|████████████████████████████████████████████████████████████████████████████████████████████▋                                              | 4/6 [00:13<00:06,  3.09s/it]\u001b[A\n",
      "Validate (24480 / 10 Steps):  83%|███████████████████████████████████████████████████████████████████████████████████████████████████████████████████▊                       | 5/6 [00:13<00:02,  2.86s/it]\u001b[A\n",
      "Validate (24480 / 10 Steps):  83%|███████████████████████████████████████████████████████████████████████████████████████████████████████████████████▊                       | 5/6 [00:16<00:02,  2.86s/it]\u001b[A\n",
      "Validate (24480 / 10 Steps): 100%|███████████████████████████████████████████████████████████████████████████████████████████████████████████████████████████████████████████| 6/6 [00:16<00:00,  2.74s/it]\u001b[A\n",
      "Training (24500 / 25000 Steps) (loss=0.32440):  88%|████████████████████████████████████████████████████████████████████████████████████████████████████████▏              | 21/24 [00:32<00:17,  5.70s/it]"
     ]
    },
    {
     "name": "stdout",
     "output_type": "stream",
     "text": [
      "Model Was Not Saved ! Current Best Avg. Dice: 0.8945345282554626 Current Avg. Dice: 0.8866097331047058\n"
     ]
    },
    {
     "name": "stderr",
     "output_type": "stream",
     "text": [
      "Training (24503 / 25000 Steps) (loss=0.66227): 100%|███████████████████████████████████████████████████████████████████████████████████████████████████████████████████████| 24/24 [00:34<00:00,  1.46s/it]\n",
      "Training (24527 / 25000 Steps) (loss=0.77646): 100%|███████████████████████████████████████████████████████████████████████████████████████████████████████████████████████| 24/24 [00:18<00:00,  1.29it/s]\n",
      "Training (24551 / 25000 Steps) (loss=0.59122): 100%|███████████████████████████████████████████████████████████████████████████████████████████████████████████████████████| 24/24 [00:18<00:00,  1.30it/s]\n",
      "Training (24575 / 25000 Steps) (loss=0.75066): 100%|███████████████████████████████████████████████████████████████████████████████████████████████████████████████████████| 24/24 [00:18<00:00,  1.30it/s]\n",
      "Training (24599 / 25000 Steps) (loss=0.57451): 100%|███████████████████████████████████████████████████████████████████████████████████████████████████████████████████████| 24/24 [00:18<00:00,  1.30it/s]\n",
      "Training (24623 / 25000 Steps) (loss=0.43422): 100%|███████████████████████████████████████████████████████████████████████████████████████████████████████████████████████| 24/24 [00:18<00:00,  1.30it/s]\n",
      "Training (24647 / 25000 Steps) (loss=0.58699): 100%|███████████████████████████████████████████████████████████████████████████████████████████████████████████████████████| 24/24 [00:18<00:00,  1.30it/s]\n",
      "Training (24671 / 25000 Steps) (loss=0.85214): 100%|███████████████████████████████████████████████████████████████████████████████████████████████████████████████████████| 24/24 [00:18<00:00,  1.29it/s]\n",
      "Training (24695 / 25000 Steps) (loss=0.53530): 100%|███████████████████████████████████████████████████████████████████████████████████████████████████████████████████████| 24/24 [00:18<00:00,  1.29it/s]\n",
      "Training (24719 / 25000 Steps) (loss=0.65497): 100%|███████████████████████████████████████████████████████████████████████████████████████████████████████████████████████| 24/24 [00:18<00:00,  1.30it/s]\n",
      "Training (24743 / 25000 Steps) (loss=0.62037): 100%|███████████████████████████████████████████████████████████████████████████████████████████████████████████████████████| 24/24 [00:18<00:00,  1.30it/s]\n",
      "Training (24767 / 25000 Steps) (loss=0.44083): 100%|███████████████████████████████████████████████████████████████████████████████████████████████████████████████████████| 24/24 [00:18<00:00,  1.29it/s]\n",
      "Training (24791 / 25000 Steps) (loss=0.62808): 100%|███████████████████████████████████████████████████████████████████████████████████████████████████████████████████████| 24/24 [00:18<00:00,  1.29it/s]\n",
      "Training (24815 / 25000 Steps) (loss=0.63254): 100%|███████████████████████████████████████████████████████████████████████████████████████████████████████████████████████| 24/24 [00:18<00:00,  1.30it/s]\n",
      "Training (24839 / 25000 Steps) (loss=0.49421): 100%|███████████████████████████████████████████████████████████████████████████████████████████████████████████████████████| 24/24 [00:18<00:00,  1.29it/s]\n",
      "Training (24863 / 25000 Steps) (loss=0.59653): 100%|███████████████████████████████████████████████████████████████████████████████████████████████████████████████████████| 24/24 [00:18<00:00,  1.29it/s]\n",
      "Training (24887 / 25000 Steps) (loss=0.29479): 100%|███████████████████████████████████████████████████████████████████████████████████████████████████████████████████████| 24/24 [00:18<00:00,  1.29it/s]\n",
      "Training (24911 / 25000 Steps) (loss=0.43419): 100%|███████████████████████████████████████████████████████████████████████████████████████████████████████████████████████| 24/24 [00:18<00:00,  1.30it/s]\n",
      "Training (24935 / 25000 Steps) (loss=0.42670): 100%|███████████████████████████████████████████████████████████████████████████████████████████████████████████████████████| 24/24 [00:18<00:00,  1.29it/s]\n",
      "Training (24959 / 25000 Steps) (loss=0.45842): 100%|███████████████████████████████████████████████████████████████████████████████████████████████████████████████████████| 24/24 [00:18<00:00,  1.30it/s]\n",
      "Training (24983 / 25000 Steps) (loss=0.51795): 100%|███████████████████████████████████████████████████████████████████████████████████████████████████████████████████████| 24/24 [00:18<00:00,  1.30it/s]\n",
      "Training (25000 / 25000 Steps) (loss=0.51512):  67%|███████████████████████████████████████████████████████████████████████████████▎                                       | 16/24 [00:13<00:06,  1.30it/s]\n",
      "Validate (X / X Steps) (dice=X.X):   0%|                                                                                                                                             | 0/6 [00:00<?, ?it/s]\u001b[A\n",
      "Validate (24984 / 10 Steps):   0%|                                                                                                                                                   | 0/6 [00:02<?, ?it/s]\u001b[A\n",
      "Validate (24984 / 10 Steps):  17%|███████████████████████▏                                                                                                                   | 1/6 [00:02<00:12,  2.49s/it]\u001b[A\n",
      "Validate (24984 / 10 Steps):  17%|███████████████████████▏                                                                                                                   | 1/6 [00:05<00:12,  2.49s/it]\u001b[A\n",
      "Validate (24984 / 10 Steps):  33%|██████████████████████████████████████████████▎                                                                                            | 2/6 [00:05<00:10,  2.56s/it]\u001b[A\n",
      "Validate (24984 / 10 Steps):  33%|██████████████████████████████████████████████▎                                                                                            | 2/6 [00:07<00:10,  2.56s/it]\u001b[A\n",
      "Validate (24984 / 10 Steps):  50%|█████████████████████████████████████████████████████████████████████▌                                                                     | 3/6 [00:07<00:06,  2.29s/it]\u001b[A\n",
      "Validate (24984 / 10 Steps):  50%|█████████████████████████████████████████████████████████████████████▌                                                                     | 3/6 [00:11<00:06,  2.29s/it]\u001b[A\n",
      "Validate (24984 / 10 Steps):  67%|████████████████████████████████████████████████████████████████████████████████████████████▋                                              | 4/6 [00:11<00:06,  3.09s/it]\u001b[A\n",
      "Validate (24984 / 10 Steps):  67%|████████████████████████████████████████████████████████████████████████████████████████████▋                                              | 4/6 [00:13<00:06,  3.09s/it]\u001b[A\n",
      "Validate (24984 / 10 Steps):  83%|███████████████████████████████████████████████████████████████████████████████████████████████████████████████████▊                       | 5/6 [00:13<00:02,  2.86s/it]\u001b[A\n",
      "Validate (24984 / 10 Steps):  83%|███████████████████████████████████████████████████████████████████████████████████████████████████████████████████▊                       | 5/6 [00:16<00:02,  2.86s/it]\u001b[A\n",
      "Validate (24984 / 10 Steps): 100%|███████████████████████████████████████████████████████████████████████████████████████████████████████████████████████████████████████████| 6/6 [00:16<00:00,  2.74s/it]\u001b[A\n",
      "Training (25000 / 25000 Steps) (loss=0.51512):  71%|████████████████████████████████████████████████████████████████████████████████████▎                                  | 17/24 [00:29<00:40,  5.79s/it]"
     ]
    },
    {
     "name": "stdout",
     "output_type": "stream",
     "text": [
      "Model Was Saved ! Current Best Avg. Dice: 0.8947315216064453 Current Avg. Dice: 0.8947315216064453\n"
     ]
    },
    {
     "name": "stderr",
     "output_type": "stream",
     "text": [
      "Training (25007 / 25000 Steps) (loss=0.43094): 100%|███████████████████████████████████████████████████████████████████████████████████████████████████████████████████████| 24/24 [00:35<00:00,  1.47s/it]\n"
     ]
    },
    {
     "data": {
      "text/plain": [
       "<All keys matched successfully>"
      ]
     },
     "execution_count": 11,
     "metadata": {},
     "output_type": "execute_result"
    }
   ],
   "source": [
    "max_iterations = 25000#30000\n",
    "eval_num = 500\n",
    "post_label = AsDiscrete(to_onehot=8)\n",
    "post_pred = AsDiscrete(argmax=True, to_onehot=8)\n",
    "dice_metric = DiceMetric(include_background=True, reduction=\"mean\", get_not_nans=False)\n",
    "global_step = 0\n",
    "dice_val_best = 0.0\n",
    "global_step_best = 0\n",
    "epoch_loss_values = []\n",
    "metric_values = []\n",
    "while global_step < max_iterations:\n",
    "    global_step, dice_val_best, global_step_best = train(global_step, train_loader, dice_val_best, global_step_best)\n",
    "model.load_state_dict(torch.load(os.path.join(root_dir, \"best_metric_model.pth\")))"
   ]
  },
  {
   "cell_type": "code",
   "execution_count": 12,
   "id": "ade58b44",
   "metadata": {},
   "outputs": [
    {
     "name": "stdout",
     "output_type": "stream",
     "text": [
      "train completed, best_metric: 0.8947 at iteration: 25000\n"
     ]
    }
   ],
   "source": [
    "print(f\"train completed, best_metric: {dice_val_best:.4f} \" f\"at iteration: {global_step_best}\")"
   ]
  },
  {
   "cell_type": "code",
   "execution_count": 13,
   "id": "e004143b",
   "metadata": {},
   "outputs": [
    {
     "data": {
      "image/png": "[encoded data removed]",
      "text/plain": [
       "<Figure size 1200x600 with 2 Axes>"
      ]
     },
     "metadata": {},
     "output_type": "display_data"
    }
   ],
   "source": [
    "plt.figure(\"train\", (12, 6))\n",
    "plt.subplot(1, 2, 1)\n",
    "plt.title(\"Iteration Average Loss\")\n",
    "x = [eval_num * (i + 1) for i in range(len(epoch_loss_values))]\n",
    "y = epoch_loss_values\n",
    "plt.xlabel(\"Iteration\")\n",
    "plt.plot(x, y)\n",
    "plt.subplot(1, 2, 2)\n",
    "plt.title(\"Val Mean Dice\")\n",
    "x = [eval_num * (i + 1) for i in range(len(metric_values))]\n",
    "y = metric_values\n",
    "plt.xlabel(\"Iteration\")\n",
    "plt.plot(x, y)\n",
    "plt.show()"
   ]
  },
  {
   "cell_type": "code",
   "execution_count": null,
   "id": "e26c3e3b",
   "metadata": {},
   "outputs": [],
   "source": [
    "#inference on majei"
   ]
  },
  {
   "cell_type": "code",
   "execution_count": 7,
   "id": "66d3b912",
   "metadata": {},
   "outputs": [
    {
     "name": "stdout",
     "output_type": "stream",
     "text": [
      "MONAI version: 1.1.0\n",
      "Numpy version: 1.21.6\n",
      "Pytorch version: 1.13.1+cu117\n",
      "MONAI flags: HAS_EXT = False, USE_COMPILED = False, USE_META_DICT = False\n",
      "MONAI rev id: a2ec3752f54bfc3b40e7952234fbeb5452ed63e3\n",
      "MONAI __file__: /home/user/anaconda3/envs/kevin/lib/python3.7/site-packages/monai/__init__.py\n",
      "\n",
      "Optional dependencies:\n",
      "Pytorch Ignite version: NOT INSTALLED or UNKNOWN VERSION.\n",
      "Nibabel version: 4.0.2\n",
      "scikit-image version: 0.19.3\n",
      "Pillow version: 9.4.0\n",
      "Tensorboard version: 2.11.2\n",
      "gdown version: 4.7.1\n",
      "TorchVision version: 0.14.1+cu117\n",
      "tqdm version: 4.65.0\n",
      "lmdb version: NOT INSTALLED or UNKNOWN VERSION.\n",
      "psutil version: 5.9.0\n",
      "pandas version: 1.3.5\n",
      "einops version: 0.6.1\n",
      "transformers version: NOT INSTALLED or UNKNOWN VERSION.\n",
      "mlflow version: NOT INSTALLED or UNKNOWN VERSION.\n",
      "pynrrd version: NOT INSTALLED or UNKNOWN VERSION.\n",
      "\n",
      "For details about installing the optional dependencies, please visit:\n",
      "    https://docs.monai.io/en/latest/installation.html#installing-the-recommended-dependencies\n",
      "\n"
     ]
    }
   ],
   "source": [
    "#导入用到得module\n",
    "import os\n",
    "import shutil\n",
    "import numpy as np\n",
    "import itk\n",
    "from PIL import Image\n",
    "import tempfile\n",
    "from monai.data import ITKReader, PILReader\n",
    "from monai.transforms import (\n",
    "    LoadImage, LoadImaged, EnsureChannelFirstd,\n",
    "    Resized, EnsureTyped, Compose,Invertd,AsDiscreted, SaveImaged,\n",
    ")\n",
    "from monai.handlers.utils import from_engine\n",
    "\n",
    "from monai.config import print_config\n",
    "\n",
    "print_config()\n"
   ]
  },
  {
   "cell_type": "code",
   "execution_count": 8,
   "id": "f5c7882a",
   "metadata": {},
   "outputs": [],
   "source": [
    "# split_json = \"dataset_0.json\"\n",
    "# data_dir = \"/home/user/Documents/unetr/research-contributions/UNETR/BTCV/dataset/dataset0/\"\n",
    "from monai.inferers import sliding_window_inference\n",
    "from monai.data import NiftiSaver\n",
    "\n",
    "device = torch.device(\"cuda:0\")\n"
   ]
  },
  {
   "cell_type": "code",
   "execution_count": 9,
   "id": "085cad1a",
   "metadata": {},
   "outputs": [
    {
     "name": "stderr",
     "output_type": "stream",
     "text": [
      "Loading dataset: 100%|████████████████████████| 100/100 [01:30<00:00,  1.10it/s]\n"
     ]
    }
   ],
   "source": [
    "# data_dir='/home/user/Documents/unetr/research-contributions/UNETR/BTCV/dataset/MMH_0503/'\n",
    "data_dir='/home/user/Documents/unetr/research-contributions/UNETR/BTCV/dataset/dataset1/'\n",
    "split_json = \"dataset_inf.json\"\n",
    "datasets = data_dir + split_json\n",
    "\n",
    "test_files = load_decathlon_datalist(datasets, True, \"validation\")\n",
    "\n",
    "test_transforms = Compose(\n",
    "    [\n",
    "        LoadImaged(keys=[\"image\"]),\n",
    "        EnsureChannelFirstd(keys=[\"image\"]),\n",
    "        Orientationd(keys=[\"image\"], axcodes=\"RAS\"),\n",
    "        Spacingd(\n",
    "            keys=[\"image\"],\n",
    "            pixdim=(1.5, 1.5, 2.0),\n",
    "            mode=(\"bilinear\"),\n",
    "        ),\n",
    "        ScaleIntensityRanged(keys=[\"image\"], a_min=-175, a_max=250, b_min=0.0, b_max=1.0, clip=True),\n",
    "        CropForegroundd(keys=[\"image\"], source_key=\"image\"),\n",
    "    ]\n",
    ")\n",
    "\n",
    "post_transforms = Compose(\n",
    "    [\n",
    "        Invertd(\n",
    "            keys=\"pred\",\n",
    "            transform=test_transforms,\n",
    "            orig_keys=\"image\",\n",
    "            meta_keys=\"pred_meta_dict\",\n",
    "            orig_meta_keys=\"image_meta_dict\",\n",
    "            meta_key_postfix=\"meta_dict\",\n",
    "            nearest_interp=False,\n",
    "            to_tensor=True,\n",
    "        ),\n",
    "        AsDiscreted(keys=\"pred\", argmax=True),\n",
    "        SaveImaged(keys=\"pred\", meta_keys=\"pred_meta_dict\", output_dir=\"/media/user/2tb/dataset/wordpred/swin_unetr\", output_postfix=\"\", resample=False),\n",
    "    ]\n",
    ")\n",
    "\n",
    "# test_ds = CacheDataset(data=test_files, transform=test_transforms, cache_num=114, cache_rate=1.0, num_workers=4)\n",
    "test_ds = CacheDataset(data=test_files, transform=test_transforms, num_workers=4)\n",
    "test_loader = ThreadDataLoader(test_ds, num_workers=0, batch_size=1)\n",
    "\n",
    "# data = transform(img_path).to(device)"
   ]
  },
  {
   "cell_type": "code",
   "execution_count": 10,
   "id": "395639b9",
   "metadata": {},
   "outputs": [],
   "source": [
    "model = SwinUNETR(\n",
    "    img_size=(96, 96, 96),\n",
    "    in_channels=1,\n",
    "    out_channels=8,\n",
    "    feature_size=48,\n",
    "    use_checkpoint=True,\n",
    ").to(device)"
   ]
  },
  {
   "cell_type": "code",
   "execution_count": 12,
   "id": "4e341d58",
   "metadata": {},
   "outputs": [
    {
     "name": "stderr",
     "output_type": "stream",
     "text": [
      "None of the inputs have requires_grad=True. Gradients will be None\n"
     ]
    },
    {
     "ename": "RuntimeError",
     "evalue": "applying transform <monai.transforms.post.dictionary.Invertd object at 0x7fe93da9c250>",
     "output_type": "error",
     "traceback": [
      "\u001b[0;31m---------------------------------------------------------------------------\u001b[0m",
      "\u001b[0;31mOutOfMemoryError\u001b[0m                          Traceback (most recent call last)",
      "\u001b[0;32m~/anaconda3/envs/kevin/lib/python3.7/site-packages/monai/transforms/transform.py\u001b[0m in \u001b[0;36mapply_transform\u001b[0;34m(transform, data, map_items, unpack_items, log_stats)\u001b[0m\n\u001b[1;32m    101\u001b[0m             \u001b[0;32mreturn\u001b[0m \u001b[0;34m[\u001b[0m\u001b[0m_apply_transform\u001b[0m\u001b[0;34m(\u001b[0m\u001b[0mtransform\u001b[0m\u001b[0;34m,\u001b[0m \u001b[0mitem\u001b[0m\u001b[0;34m,\u001b[0m \u001b[0munpack_items\u001b[0m\u001b[0;34m)\u001b[0m \u001b[0;32mfor\u001b[0m \u001b[0mitem\u001b[0m \u001b[0;32min\u001b[0m \u001b[0mdata\u001b[0m\u001b[0;34m]\u001b[0m\u001b[0;34m\u001b[0m\u001b[0;34m\u001b[0m\u001b[0m\n\u001b[0;32m--> 102\u001b[0;31m         \u001b[0;32mreturn\u001b[0m \u001b[0m_apply_transform\u001b[0m\u001b[0;34m(\u001b[0m\u001b[0mtransform\u001b[0m\u001b[0;34m,\u001b[0m \u001b[0mdata\u001b[0m\u001b[0;34m,\u001b[0m \u001b[0munpack_items\u001b[0m\u001b[0;34m)\u001b[0m\u001b[0;34m\u001b[0m\u001b[0;34m\u001b[0m\u001b[0m\n\u001b[0m\u001b[1;32m    103\u001b[0m     \u001b[0;32mexcept\u001b[0m \u001b[0mException\u001b[0m \u001b[0;32mas\u001b[0m \u001b[0me\u001b[0m\u001b[0;34m:\u001b[0m\u001b[0;34m\u001b[0m\u001b[0;34m\u001b[0m\u001b[0m\n",
      "\u001b[0;32m~/anaconda3/envs/kevin/lib/python3.7/site-packages/monai/transforms/transform.py\u001b[0m in \u001b[0;36m_apply_transform\u001b[0;34m(transform, parameters, unpack_parameters)\u001b[0m\n\u001b[1;32m     65\u001b[0m \u001b[0;34m\u001b[0m\u001b[0m\n\u001b[0;32m---> 66\u001b[0;31m     \u001b[0;32mreturn\u001b[0m \u001b[0mtransform\u001b[0m\u001b[0;34m(\u001b[0m\u001b[0mparameters\u001b[0m\u001b[0;34m)\u001b[0m\u001b[0;34m\u001b[0m\u001b[0;34m\u001b[0m\u001b[0m\n\u001b[0m\u001b[1;32m     67\u001b[0m \u001b[0;34m\u001b[0m\u001b[0m\n",
      "\u001b[0;32m~/anaconda3/envs/kevin/lib/python3.7/site-packages/monai/transforms/spatial/dictionary.py\u001b[0m in \u001b[0;36minverse\u001b[0;34m(self, data)\u001b[0m\n\u001b[1;32m    428\u001b[0m         \u001b[0;32mfor\u001b[0m \u001b[0mkey\u001b[0m \u001b[0;32min\u001b[0m \u001b[0mself\u001b[0m\u001b[0;34m.\u001b[0m\u001b[0mkey_iterator\u001b[0m\u001b[0;34m(\u001b[0m\u001b[0md\u001b[0m\u001b[0;34m)\u001b[0m\u001b[0;34m:\u001b[0m\u001b[0;34m\u001b[0m\u001b[0;34m\u001b[0m\u001b[0m\n\u001b[0;32m--> 429\u001b[0;31m             \u001b[0md\u001b[0m\u001b[0;34m[\u001b[0m\u001b[0mkey\u001b[0m\u001b[0;34m]\u001b[0m \u001b[0;34m=\u001b[0m \u001b[0mself\u001b[0m\u001b[0;34m.\u001b[0m\u001b[0mspacing_transform\u001b[0m\u001b[0;34m.\u001b[0m\u001b[0minverse\u001b[0m\u001b[0;34m(\u001b[0m\u001b[0md\u001b[0m\u001b[0;34m[\u001b[0m\u001b[0mkey\u001b[0m\u001b[0;34m]\u001b[0m\u001b[0;34m)\u001b[0m\u001b[0;34m\u001b[0m\u001b[0;34m\u001b[0m\u001b[0m\n\u001b[0m\u001b[1;32m    430\u001b[0m         \u001b[0;32mreturn\u001b[0m \u001b[0md\u001b[0m\u001b[0;34m\u001b[0m\u001b[0;34m\u001b[0m\u001b[0m\n",
      "\u001b[0;32m~/anaconda3/envs/kevin/lib/python3.7/site-packages/monai/transforms/spatial/array.py\u001b[0m in \u001b[0;36minverse\u001b[0;34m(self, data)\u001b[0m\n\u001b[1;32m    619\u001b[0m     \u001b[0;32mdef\u001b[0m \u001b[0minverse\u001b[0m\u001b[0;34m(\u001b[0m\u001b[0mself\u001b[0m\u001b[0;34m,\u001b[0m \u001b[0mdata\u001b[0m\u001b[0;34m:\u001b[0m \u001b[0mtorch\u001b[0m\u001b[0;34m.\u001b[0m\u001b[0mTensor\u001b[0m\u001b[0;34m)\u001b[0m \u001b[0;34m->\u001b[0m \u001b[0mtorch\u001b[0m\u001b[0;34m.\u001b[0m\u001b[0mTensor\u001b[0m\u001b[0;34m:\u001b[0m\u001b[0;34m\u001b[0m\u001b[0;34m\u001b[0m\u001b[0m\n\u001b[0;32m--> 620\u001b[0;31m         \u001b[0;32mreturn\u001b[0m \u001b[0mself\u001b[0m\u001b[0;34m.\u001b[0m\u001b[0msp_resample\u001b[0m\u001b[0;34m.\u001b[0m\u001b[0minverse\u001b[0m\u001b[0;34m(\u001b[0m\u001b[0mdata\u001b[0m\u001b[0;34m)\u001b[0m\u001b[0;34m\u001b[0m\u001b[0;34m\u001b[0m\u001b[0m\n\u001b[0m\u001b[1;32m    621\u001b[0m \u001b[0;34m\u001b[0m\u001b[0m\n",
      "\u001b[0;32m~/anaconda3/envs/kevin/lib/python3.7/site-packages/monai/transforms/spatial/array.py\u001b[0m in \u001b[0;36minverse\u001b[0;34m(self, data)\u001b[0m\n\u001b[1;32m    336\u001b[0m             \u001b[0;31m# we can't use `self.__call__` in case a child class calls this inverse.\u001b[0m\u001b[0;34m\u001b[0m\u001b[0;34m\u001b[0m\u001b[0;34m\u001b[0m\u001b[0m\n\u001b[0;32m--> 337\u001b[0;31m             \u001b[0mout\u001b[0m\u001b[0;34m:\u001b[0m \u001b[0mtorch\u001b[0m\u001b[0;34m.\u001b[0m\u001b[0mTensor\u001b[0m \u001b[0;34m=\u001b[0m \u001b[0mSpatialResample\u001b[0m\u001b[0;34m.\u001b[0m\u001b[0m__call__\u001b[0m\u001b[0;34m(\u001b[0m\u001b[0mself\u001b[0m\u001b[0;34m,\u001b[0m \u001b[0mdata\u001b[0m\u001b[0;34m,\u001b[0m \u001b[0;34m**\u001b[0m\u001b[0mkw_args\u001b[0m\u001b[0;34m)\u001b[0m\u001b[0;34m\u001b[0m\u001b[0;34m\u001b[0m\u001b[0m\n\u001b[0m\u001b[1;32m    338\u001b[0m         \u001b[0;32mreturn\u001b[0m \u001b[0mout\u001b[0m\u001b[0;34m\u001b[0m\u001b[0;34m\u001b[0m\u001b[0m\n",
      "\u001b[0;32m~/anaconda3/envs/kevin/lib/python3.7/site-packages/monai/utils/deprecate_utils.py\u001b[0m in \u001b[0;36m_wrapper\u001b[0;34m(*args, **kwargs)\u001b[0m\n\u001b[1;32m    220\u001b[0m \u001b[0;34m\u001b[0m\u001b[0m\n\u001b[0;32m--> 221\u001b[0;31m             \u001b[0;32mreturn\u001b[0m \u001b[0mfunc\u001b[0m\u001b[0;34m(\u001b[0m\u001b[0;34m*\u001b[0m\u001b[0margs\u001b[0m\u001b[0;34m,\u001b[0m \u001b[0;34m**\u001b[0m\u001b[0mkwargs\u001b[0m\u001b[0;34m)\u001b[0m\u001b[0;34m\u001b[0m\u001b[0;34m\u001b[0m\u001b[0m\n\u001b[0m\u001b[1;32m    222\u001b[0m \u001b[0;34m\u001b[0m\u001b[0m\n",
      "\u001b[0;32m~/anaconda3/envs/kevin/lib/python3.7/site-packages/monai/transforms/spatial/array.py\u001b[0m in \u001b[0;36m__call__\u001b[0;34m(self, img, src_affine, dst_affine, spatial_size, mode, padding_mode, align_corners, dtype)\u001b[0m\n\u001b[1;32m    314\u001b[0m             )\n\u001b[0;32m--> 315\u001b[0;31m             \u001b[0mimg\u001b[0m \u001b[0;34m=\u001b[0m \u001b[0maffine_xform\u001b[0m\u001b[0;34m(\u001b[0m\u001b[0mimg\u001b[0m\u001b[0;34m.\u001b[0m\u001b[0munsqueeze\u001b[0m\u001b[0;34m(\u001b[0m\u001b[0;36m0\u001b[0m\u001b[0;34m)\u001b[0m\u001b[0;34m,\u001b[0m \u001b[0mtheta\u001b[0m\u001b[0;34m=\u001b[0m\u001b[0mxform\u001b[0m\u001b[0;34m,\u001b[0m \u001b[0mspatial_size\u001b[0m\u001b[0;34m=\u001b[0m\u001b[0mspatial_size\u001b[0m\u001b[0;34m)\u001b[0m\u001b[0;34m.\u001b[0m\u001b[0msqueeze\u001b[0m\u001b[0;34m(\u001b[0m\u001b[0;36m0\u001b[0m\u001b[0;34m)\u001b[0m\u001b[0;34m\u001b[0m\u001b[0;34m\u001b[0m\u001b[0m\n\u001b[0m\u001b[1;32m    316\u001b[0m         \u001b[0;32mif\u001b[0m \u001b[0madditional_dims\u001b[0m\u001b[0;34m:\u001b[0m\u001b[0;34m\u001b[0m\u001b[0;34m\u001b[0m\u001b[0m\n",
      "\u001b[0;32m~/anaconda3/envs/kevin/lib/python3.7/site-packages/torch/nn/modules/module.py\u001b[0m in \u001b[0;36m_call_impl\u001b[0;34m(self, *input, **kwargs)\u001b[0m\n\u001b[1;32m   1193\u001b[0m                 or _global_forward_hooks or _global_forward_pre_hooks):\n\u001b[0;32m-> 1194\u001b[0;31m             \u001b[0;32mreturn\u001b[0m \u001b[0mforward_call\u001b[0m\u001b[0;34m(\u001b[0m\u001b[0;34m*\u001b[0m\u001b[0minput\u001b[0m\u001b[0;34m,\u001b[0m \u001b[0;34m**\u001b[0m\u001b[0mkwargs\u001b[0m\u001b[0;34m)\u001b[0m\u001b[0;34m\u001b[0m\u001b[0;34m\u001b[0m\u001b[0m\n\u001b[0m\u001b[1;32m   1195\u001b[0m         \u001b[0;31m# Do not call functions when jit is used\u001b[0m\u001b[0;34m\u001b[0m\u001b[0;34m\u001b[0m\u001b[0;34m\u001b[0m\u001b[0m\n",
      "\u001b[0;32m~/anaconda3/envs/kevin/lib/python3.7/site-packages/monai/networks/layers/spatial_transforms.py\u001b[0m in \u001b[0;36mforward\u001b[0;34m(self, src, theta, spatial_size)\u001b[0m\n\u001b[1;32m    580\u001b[0m             \u001b[0mpadding_mode\u001b[0m\u001b[0;34m=\u001b[0m\u001b[0mself\u001b[0m\u001b[0;34m.\u001b[0m\u001b[0mpadding_mode\u001b[0m\u001b[0;34m,\u001b[0m\u001b[0;34m\u001b[0m\u001b[0;34m\u001b[0m\u001b[0m\n\u001b[0;32m--> 581\u001b[0;31m             \u001b[0malign_corners\u001b[0m\u001b[0;34m=\u001b[0m\u001b[0mself\u001b[0m\u001b[0;34m.\u001b[0m\u001b[0malign_corners\u001b[0m\u001b[0;34m,\u001b[0m\u001b[0;34m\u001b[0m\u001b[0;34m\u001b[0m\u001b[0m\n\u001b[0m\u001b[1;32m    582\u001b[0m         )\n",
      "\u001b[0;32m~/anaconda3/envs/kevin/lib/python3.7/site-packages/torch/nn/functional.py\u001b[0m in \u001b[0;36mgrid_sample\u001b[0;34m(input, grid, mode, padding_mode, align_corners)\u001b[0m\n\u001b[1;32m   4197\u001b[0m         return handle_torch_function(\n\u001b[0;32m-> 4198\u001b[0;31m             \u001b[0mgrid_sample\u001b[0m\u001b[0;34m,\u001b[0m \u001b[0;34m(\u001b[0m\u001b[0minput\u001b[0m\u001b[0;34m,\u001b[0m \u001b[0mgrid\u001b[0m\u001b[0;34m)\u001b[0m\u001b[0;34m,\u001b[0m \u001b[0minput\u001b[0m\u001b[0;34m,\u001b[0m \u001b[0mgrid\u001b[0m\u001b[0;34m,\u001b[0m \u001b[0mmode\u001b[0m\u001b[0;34m=\u001b[0m\u001b[0mmode\u001b[0m\u001b[0;34m,\u001b[0m \u001b[0mpadding_mode\u001b[0m\u001b[0;34m=\u001b[0m\u001b[0mpadding_mode\u001b[0m\u001b[0;34m,\u001b[0m \u001b[0malign_corners\u001b[0m\u001b[0;34m=\u001b[0m\u001b[0malign_corners\u001b[0m\u001b[0;34m\u001b[0m\u001b[0;34m\u001b[0m\u001b[0m\n\u001b[0m\u001b[1;32m   4199\u001b[0m         )\n",
      "\u001b[0;32m~/anaconda3/envs/kevin/lib/python3.7/site-packages/torch/overrides.py\u001b[0m in \u001b[0;36mhandle_torch_function\u001b[0;34m(public_api, relevant_args, *args, **kwargs)\u001b[0m\n\u001b[1;32m   1533\u001b[0m         \u001b[0;31m# implementations can do equality/identity comparisons.\u001b[0m\u001b[0;34m\u001b[0m\u001b[0;34m\u001b[0m\u001b[0;34m\u001b[0m\u001b[0m\n\u001b[0;32m-> 1534\u001b[0;31m         \u001b[0mresult\u001b[0m \u001b[0;34m=\u001b[0m \u001b[0mtorch_func_method\u001b[0m\u001b[0;34m(\u001b[0m\u001b[0mpublic_api\u001b[0m\u001b[0;34m,\u001b[0m \u001b[0mtypes\u001b[0m\u001b[0;34m,\u001b[0m \u001b[0margs\u001b[0m\u001b[0;34m,\u001b[0m \u001b[0mkwargs\u001b[0m\u001b[0;34m)\u001b[0m\u001b[0;34m\u001b[0m\u001b[0;34m\u001b[0m\u001b[0m\n\u001b[0m\u001b[1;32m   1535\u001b[0m \u001b[0;34m\u001b[0m\u001b[0m\n",
      "\u001b[0;32m~/anaconda3/envs/kevin/lib/python3.7/site-packages/monai/data/meta_tensor.py\u001b[0m in \u001b[0;36m__torch_function__\u001b[0;34m(cls, func, types, args, kwargs)\u001b[0m\n\u001b[1;32m    267\u001b[0m             \u001b[0mkwargs\u001b[0m \u001b[0;34m=\u001b[0m \u001b[0;34m{\u001b[0m\u001b[0;34m}\u001b[0m\u001b[0;34m\u001b[0m\u001b[0;34m\u001b[0m\u001b[0m\n\u001b[0;32m--> 268\u001b[0;31m         \u001b[0mret\u001b[0m \u001b[0;34m=\u001b[0m \u001b[0msuper\u001b[0m\u001b[0;34m(\u001b[0m\u001b[0;34m)\u001b[0m\u001b[0;34m.\u001b[0m\u001b[0m__torch_function__\u001b[0m\u001b[0;34m(\u001b[0m\u001b[0mfunc\u001b[0m\u001b[0;34m,\u001b[0m \u001b[0mtypes\u001b[0m\u001b[0;34m,\u001b[0m \u001b[0margs\u001b[0m\u001b[0;34m,\u001b[0m \u001b[0mkwargs\u001b[0m\u001b[0;34m)\u001b[0m\u001b[0;34m\u001b[0m\u001b[0;34m\u001b[0m\u001b[0m\n\u001b[0m\u001b[1;32m    269\u001b[0m         \u001b[0;31m# if `out` has been used as argument, metadata is not copied, nothing to do.\u001b[0m\u001b[0;34m\u001b[0m\u001b[0;34m\u001b[0m\u001b[0;34m\u001b[0m\u001b[0m\n",
      "\u001b[0;32m~/anaconda3/envs/kevin/lib/python3.7/site-packages/torch/_tensor.py\u001b[0m in \u001b[0;36m__torch_function__\u001b[0;34m(cls, func, types, args, kwargs)\u001b[0m\n\u001b[1;32m   1278\u001b[0m         \u001b[0;32mwith\u001b[0m \u001b[0m_C\u001b[0m\u001b[0;34m.\u001b[0m\u001b[0mDisableTorchFunction\u001b[0m\u001b[0;34m(\u001b[0m\u001b[0;34m)\u001b[0m\u001b[0;34m:\u001b[0m\u001b[0;34m\u001b[0m\u001b[0;34m\u001b[0m\u001b[0m\n\u001b[0;32m-> 1279\u001b[0;31m             \u001b[0mret\u001b[0m \u001b[0;34m=\u001b[0m \u001b[0mfunc\u001b[0m\u001b[0;34m(\u001b[0m\u001b[0;34m*\u001b[0m\u001b[0margs\u001b[0m\u001b[0;34m,\u001b[0m \u001b[0;34m**\u001b[0m\u001b[0mkwargs\u001b[0m\u001b[0;34m)\u001b[0m\u001b[0;34m\u001b[0m\u001b[0;34m\u001b[0m\u001b[0m\n\u001b[0m\u001b[1;32m   1280\u001b[0m             \u001b[0;32mif\u001b[0m \u001b[0mfunc\u001b[0m \u001b[0;32min\u001b[0m \u001b[0mget_default_nowrap_functions\u001b[0m\u001b[0;34m(\u001b[0m\u001b[0;34m)\u001b[0m\u001b[0;34m:\u001b[0m\u001b[0;34m\u001b[0m\u001b[0;34m\u001b[0m\u001b[0m\n",
      "\u001b[0;32m~/anaconda3/envs/kevin/lib/python3.7/site-packages/torch/nn/functional.py\u001b[0m in \u001b[0;36mgrid_sample\u001b[0;34m(input, grid, mode, padding_mode, align_corners)\u001b[0m\n\u001b[1;32m   4234\u001b[0m \u001b[0;34m\u001b[0m\u001b[0m\n\u001b[0;32m-> 4235\u001b[0;31m     \u001b[0;32mreturn\u001b[0m \u001b[0mtorch\u001b[0m\u001b[0;34m.\u001b[0m\u001b[0mgrid_sampler\u001b[0m\u001b[0;34m(\u001b[0m\u001b[0minput\u001b[0m\u001b[0;34m,\u001b[0m \u001b[0mgrid\u001b[0m\u001b[0;34m,\u001b[0m \u001b[0mmode_enum\u001b[0m\u001b[0;34m,\u001b[0m \u001b[0mpadding_mode_enum\u001b[0m\u001b[0;34m,\u001b[0m \u001b[0malign_corners\u001b[0m\u001b[0;34m)\u001b[0m\u001b[0;34m\u001b[0m\u001b[0;34m\u001b[0m\u001b[0m\n\u001b[0m\u001b[1;32m   4236\u001b[0m \u001b[0;34m\u001b[0m\u001b[0m\n",
      "\u001b[0;31mOutOfMemoryError\u001b[0m: CUDA out of memory. Tried to allocate 5.36 GiB (GPU 0; 23.64 GiB total capacity; 8.71 GiB already allocated; 4.51 GiB free; 14.66 GiB reserved in total by PyTorch) If reserved memory is >> allocated memory try setting max_split_size_mb to avoid fragmentation.  See documentation for Memory Management and PYTORCH_CUDA_ALLOC_CONF",
      "\nThe above exception was the direct cause of the following exception:\n",
      "\u001b[0;31mRuntimeError\u001b[0m                              Traceback (most recent call last)",
      "\u001b[0;32m~/anaconda3/envs/kevin/lib/python3.7/site-packages/monai/transforms/transform.py\u001b[0m in \u001b[0;36mapply_transform\u001b[0;34m(transform, data, map_items, unpack_items, log_stats)\u001b[0m\n\u001b[1;32m    101\u001b[0m             \u001b[0;32mreturn\u001b[0m \u001b[0;34m[\u001b[0m\u001b[0m_apply_transform\u001b[0m\u001b[0;34m(\u001b[0m\u001b[0mtransform\u001b[0m\u001b[0;34m,\u001b[0m \u001b[0mitem\u001b[0m\u001b[0;34m,\u001b[0m \u001b[0munpack_items\u001b[0m\u001b[0;34m)\u001b[0m \u001b[0;32mfor\u001b[0m \u001b[0mitem\u001b[0m \u001b[0;32min\u001b[0m \u001b[0mdata\u001b[0m\u001b[0;34m]\u001b[0m\u001b[0;34m\u001b[0m\u001b[0;34m\u001b[0m\u001b[0m\n\u001b[0;32m--> 102\u001b[0;31m         \u001b[0;32mreturn\u001b[0m \u001b[0m_apply_transform\u001b[0m\u001b[0;34m(\u001b[0m\u001b[0mtransform\u001b[0m\u001b[0;34m,\u001b[0m \u001b[0mdata\u001b[0m\u001b[0;34m,\u001b[0m \u001b[0munpack_items\u001b[0m\u001b[0;34m)\u001b[0m\u001b[0;34m\u001b[0m\u001b[0;34m\u001b[0m\u001b[0m\n\u001b[0m\u001b[1;32m    103\u001b[0m     \u001b[0;32mexcept\u001b[0m \u001b[0mException\u001b[0m \u001b[0;32mas\u001b[0m \u001b[0me\u001b[0m\u001b[0;34m:\u001b[0m\u001b[0;34m\u001b[0m\u001b[0;34m\u001b[0m\u001b[0m\n",
      "\u001b[0;32m~/anaconda3/envs/kevin/lib/python3.7/site-packages/monai/transforms/transform.py\u001b[0m in \u001b[0;36m_apply_transform\u001b[0;34m(transform, parameters, unpack_parameters)\u001b[0m\n\u001b[1;32m     65\u001b[0m \u001b[0;34m\u001b[0m\u001b[0m\n\u001b[0;32m---> 66\u001b[0;31m     \u001b[0;32mreturn\u001b[0m \u001b[0mtransform\u001b[0m\u001b[0;34m(\u001b[0m\u001b[0mparameters\u001b[0m\u001b[0;34m)\u001b[0m\u001b[0;34m\u001b[0m\u001b[0;34m\u001b[0m\u001b[0m\n\u001b[0m\u001b[1;32m     67\u001b[0m \u001b[0;34m\u001b[0m\u001b[0m\n",
      "\u001b[0;32m~/anaconda3/envs/kevin/lib/python3.7/site-packages/monai/transforms/post/dictionary.py\u001b[0m in \u001b[0;36m__call__\u001b[0;34m(self, data)\u001b[0m\n\u001b[1;32m    700\u001b[0m             \u001b[0;32mwith\u001b[0m \u001b[0mallow_missing_keys_mode\u001b[0m\u001b[0;34m(\u001b[0m\u001b[0mself\u001b[0m\u001b[0;34m.\u001b[0m\u001b[0mtransform\u001b[0m\u001b[0;34m)\u001b[0m\u001b[0;34m:\u001b[0m  \u001b[0;31m# type: ignore\u001b[0m\u001b[0;34m\u001b[0m\u001b[0;34m\u001b[0m\u001b[0m\n\u001b[0;32m--> 701\u001b[0;31m                 \u001b[0minverted\u001b[0m \u001b[0;34m=\u001b[0m \u001b[0mself\u001b[0m\u001b[0;34m.\u001b[0m\u001b[0mtransform\u001b[0m\u001b[0;34m.\u001b[0m\u001b[0minverse\u001b[0m\u001b[0;34m(\u001b[0m\u001b[0minput_dict\u001b[0m\u001b[0;34m)\u001b[0m\u001b[0;34m\u001b[0m\u001b[0;34m\u001b[0m\u001b[0m\n\u001b[0m\u001b[1;32m    702\u001b[0m \u001b[0;34m\u001b[0m\u001b[0m\n",
      "\u001b[0;32m~/anaconda3/envs/kevin/lib/python3.7/site-packages/monai/transforms/compose.py\u001b[0m in \u001b[0;36minverse\u001b[0;34m(self, data)\u001b[0m\n\u001b[1;32m    183\u001b[0m         \u001b[0;32mfor\u001b[0m \u001b[0mt\u001b[0m \u001b[0;32min\u001b[0m \u001b[0mreversed\u001b[0m\u001b[0;34m(\u001b[0m\u001b[0minvertible_transforms\u001b[0m\u001b[0;34m)\u001b[0m\u001b[0;34m:\u001b[0m\u001b[0;34m\u001b[0m\u001b[0;34m\u001b[0m\u001b[0m\n\u001b[0;32m--> 184\u001b[0;31m             \u001b[0mdata\u001b[0m \u001b[0;34m=\u001b[0m \u001b[0mapply_transform\u001b[0m\u001b[0;34m(\u001b[0m\u001b[0mt\u001b[0m\u001b[0;34m.\u001b[0m\u001b[0minverse\u001b[0m\u001b[0;34m,\u001b[0m \u001b[0mdata\u001b[0m\u001b[0;34m,\u001b[0m \u001b[0mself\u001b[0m\u001b[0;34m.\u001b[0m\u001b[0mmap_items\u001b[0m\u001b[0;34m,\u001b[0m \u001b[0mself\u001b[0m\u001b[0;34m.\u001b[0m\u001b[0munpack_items\u001b[0m\u001b[0;34m,\u001b[0m \u001b[0mself\u001b[0m\u001b[0;34m.\u001b[0m\u001b[0mlog_stats\u001b[0m\u001b[0;34m)\u001b[0m\u001b[0;34m\u001b[0m\u001b[0;34m\u001b[0m\u001b[0m\n\u001b[0m\u001b[1;32m    185\u001b[0m         \u001b[0;32mreturn\u001b[0m \u001b[0mdata\u001b[0m\u001b[0;34m\u001b[0m\u001b[0;34m\u001b[0m\u001b[0m\n",
      "\u001b[0;32m~/anaconda3/envs/kevin/lib/python3.7/site-packages/monai/transforms/transform.py\u001b[0m in \u001b[0;36mapply_transform\u001b[0;34m(transform, data, map_items, unpack_items, log_stats)\u001b[0m\n\u001b[1;32m    128\u001b[0m                 \u001b[0m_log_stats\u001b[0m\u001b[0;34m(\u001b[0m\u001b[0mdata\u001b[0m\u001b[0;34m=\u001b[0m\u001b[0mdata\u001b[0m\u001b[0;34m)\u001b[0m\u001b[0;34m\u001b[0m\u001b[0;34m\u001b[0m\u001b[0m\n\u001b[0;32m--> 129\u001b[0;31m         \u001b[0;32mraise\u001b[0m \u001b[0mRuntimeError\u001b[0m\u001b[0;34m(\u001b[0m\u001b[0;34mf\"applying transform {transform}\"\u001b[0m\u001b[0;34m)\u001b[0m \u001b[0;32mfrom\u001b[0m \u001b[0me\u001b[0m\u001b[0;34m\u001b[0m\u001b[0;34m\u001b[0m\u001b[0m\n\u001b[0m\u001b[1;32m    130\u001b[0m \u001b[0;34m\u001b[0m\u001b[0m\n",
      "\u001b[0;31mRuntimeError\u001b[0m: applying transform <bound method Spacingd.inverse of <monai.transforms.spatial.dictionary.Spacingd object at 0x7fe89a1c6f50>>",
      "\nThe above exception was the direct cause of the following exception:\n",
      "\u001b[0;31mRuntimeError\u001b[0m                              Traceback (most recent call last)",
      "\u001b[0;32m/tmp/ipykernel_2834233/2264498425.py\u001b[0m in \u001b[0;36m<module>\u001b[0;34m\u001b[0m\n\u001b[1;32m     28\u001b[0m         \u001b[0mtest_data\u001b[0m\u001b[0;34m[\u001b[0m\u001b[0;34m\"pred\"\u001b[0m\u001b[0;34m]\u001b[0m \u001b[0;34m=\u001b[0m \u001b[0msliding_window_inference\u001b[0m\u001b[0;34m(\u001b[0m\u001b[0mtest_inputs\u001b[0m\u001b[0;34m,\u001b[0m \u001b[0;34m(\u001b[0m\u001b[0;36m96\u001b[0m\u001b[0;34m,\u001b[0m\u001b[0;36m96\u001b[0m\u001b[0;34m,\u001b[0m\u001b[0;36m96\u001b[0m\u001b[0;34m)\u001b[0m\u001b[0;34m,\u001b[0m \u001b[0;36m4\u001b[0m\u001b[0;34m,\u001b[0m \u001b[0mmodel\u001b[0m\u001b[0;34m)\u001b[0m\u001b[0;34m\u001b[0m\u001b[0;34m\u001b[0m\u001b[0m\n\u001b[1;32m     29\u001b[0m \u001b[0;34m\u001b[0m\u001b[0m\n\u001b[0;32m---> 30\u001b[0;31m         \u001b[0mtest_data\u001b[0m \u001b[0;34m=\u001b[0m \u001b[0;34m[\u001b[0m\u001b[0mpost_transforms\u001b[0m\u001b[0;34m(\u001b[0m\u001b[0mi\u001b[0m\u001b[0;34m)\u001b[0m \u001b[0;32mfor\u001b[0m \u001b[0mi\u001b[0m \u001b[0;32min\u001b[0m \u001b[0mdecollate_batch\u001b[0m\u001b[0;34m(\u001b[0m\u001b[0mtest_data\u001b[0m\u001b[0;34m)\u001b[0m\u001b[0;34m]\u001b[0m\u001b[0;34m\u001b[0m\u001b[0;34m\u001b[0m\u001b[0m\n\u001b[0m\u001b[1;32m     31\u001b[0m         \u001b[0mtest_output\u001b[0m \u001b[0;34m=\u001b[0m \u001b[0mfrom_engine\u001b[0m\u001b[0;34m(\u001b[0m\u001b[0;34m[\u001b[0m\u001b[0;34m\"pred\"\u001b[0m\u001b[0;34m]\u001b[0m\u001b[0;34m)\u001b[0m\u001b[0;34m(\u001b[0m\u001b[0mtest_data\u001b[0m\u001b[0;34m)\u001b[0m\u001b[0;34m\u001b[0m\u001b[0;34m\u001b[0m\u001b[0m\n",
      "\u001b[0;32m/tmp/ipykernel_2834233/2264498425.py\u001b[0m in \u001b[0;36m<listcomp>\u001b[0;34m(.0)\u001b[0m\n\u001b[1;32m     28\u001b[0m         \u001b[0mtest_data\u001b[0m\u001b[0;34m[\u001b[0m\u001b[0;34m\"pred\"\u001b[0m\u001b[0;34m]\u001b[0m \u001b[0;34m=\u001b[0m \u001b[0msliding_window_inference\u001b[0m\u001b[0;34m(\u001b[0m\u001b[0mtest_inputs\u001b[0m\u001b[0;34m,\u001b[0m \u001b[0;34m(\u001b[0m\u001b[0;36m96\u001b[0m\u001b[0;34m,\u001b[0m\u001b[0;36m96\u001b[0m\u001b[0;34m,\u001b[0m\u001b[0;36m96\u001b[0m\u001b[0;34m)\u001b[0m\u001b[0;34m,\u001b[0m \u001b[0;36m4\u001b[0m\u001b[0;34m,\u001b[0m \u001b[0mmodel\u001b[0m\u001b[0;34m)\u001b[0m\u001b[0;34m\u001b[0m\u001b[0;34m\u001b[0m\u001b[0m\n\u001b[1;32m     29\u001b[0m \u001b[0;34m\u001b[0m\u001b[0m\n\u001b[0;32m---> 30\u001b[0;31m         \u001b[0mtest_data\u001b[0m \u001b[0;34m=\u001b[0m \u001b[0;34m[\u001b[0m\u001b[0mpost_transforms\u001b[0m\u001b[0;34m(\u001b[0m\u001b[0mi\u001b[0m\u001b[0;34m)\u001b[0m \u001b[0;32mfor\u001b[0m \u001b[0mi\u001b[0m \u001b[0;32min\u001b[0m \u001b[0mdecollate_batch\u001b[0m\u001b[0;34m(\u001b[0m\u001b[0mtest_data\u001b[0m\u001b[0;34m)\u001b[0m\u001b[0;34m]\u001b[0m\u001b[0;34m\u001b[0m\u001b[0;34m\u001b[0m\u001b[0m\n\u001b[0m\u001b[1;32m     31\u001b[0m         \u001b[0mtest_output\u001b[0m \u001b[0;34m=\u001b[0m \u001b[0mfrom_engine\u001b[0m\u001b[0;34m(\u001b[0m\u001b[0;34m[\u001b[0m\u001b[0;34m\"pred\"\u001b[0m\u001b[0;34m]\u001b[0m\u001b[0;34m)\u001b[0m\u001b[0;34m(\u001b[0m\u001b[0mtest_data\u001b[0m\u001b[0;34m)\u001b[0m\u001b[0;34m\u001b[0m\u001b[0;34m\u001b[0m\u001b[0m\n",
      "\u001b[0;32m~/anaconda3/envs/kevin/lib/python3.7/site-packages/monai/transforms/compose.py\u001b[0m in \u001b[0;36m__call__\u001b[0;34m(self, input_)\u001b[0m\n\u001b[1;32m    172\u001b[0m     \u001b[0;32mdef\u001b[0m \u001b[0m__call__\u001b[0m\u001b[0;34m(\u001b[0m\u001b[0mself\u001b[0m\u001b[0;34m,\u001b[0m \u001b[0minput_\u001b[0m\u001b[0;34m)\u001b[0m\u001b[0;34m:\u001b[0m\u001b[0;34m\u001b[0m\u001b[0;34m\u001b[0m\u001b[0m\n\u001b[1;32m    173\u001b[0m         \u001b[0;32mfor\u001b[0m \u001b[0m_transform\u001b[0m \u001b[0;32min\u001b[0m \u001b[0mself\u001b[0m\u001b[0;34m.\u001b[0m\u001b[0mtransforms\u001b[0m\u001b[0;34m:\u001b[0m\u001b[0;34m\u001b[0m\u001b[0;34m\u001b[0m\u001b[0m\n\u001b[0;32m--> 174\u001b[0;31m             \u001b[0minput_\u001b[0m \u001b[0;34m=\u001b[0m \u001b[0mapply_transform\u001b[0m\u001b[0;34m(\u001b[0m\u001b[0m_transform\u001b[0m\u001b[0;34m,\u001b[0m \u001b[0minput_\u001b[0m\u001b[0;34m,\u001b[0m \u001b[0mself\u001b[0m\u001b[0;34m.\u001b[0m\u001b[0mmap_items\u001b[0m\u001b[0;34m,\u001b[0m \u001b[0mself\u001b[0m\u001b[0;34m.\u001b[0m\u001b[0munpack_items\u001b[0m\u001b[0;34m,\u001b[0m \u001b[0mself\u001b[0m\u001b[0;34m.\u001b[0m\u001b[0mlog_stats\u001b[0m\u001b[0;34m)\u001b[0m\u001b[0;34m\u001b[0m\u001b[0;34m\u001b[0m\u001b[0m\n\u001b[0m\u001b[1;32m    175\u001b[0m         \u001b[0;32mreturn\u001b[0m \u001b[0minput_\u001b[0m\u001b[0;34m\u001b[0m\u001b[0;34m\u001b[0m\u001b[0m\n\u001b[1;32m    176\u001b[0m \u001b[0;34m\u001b[0m\u001b[0m\n",
      "\u001b[0;32m~/anaconda3/envs/kevin/lib/python3.7/site-packages/monai/transforms/transform.py\u001b[0m in \u001b[0;36mapply_transform\u001b[0;34m(transform, data, map_items, unpack_items, log_stats)\u001b[0m\n\u001b[1;32m    127\u001b[0m             \u001b[0;32melse\u001b[0m\u001b[0;34m:\u001b[0m\u001b[0;34m\u001b[0m\u001b[0;34m\u001b[0m\u001b[0m\n\u001b[1;32m    128\u001b[0m                 \u001b[0m_log_stats\u001b[0m\u001b[0;34m(\u001b[0m\u001b[0mdata\u001b[0m\u001b[0;34m=\u001b[0m\u001b[0mdata\u001b[0m\u001b[0;34m)\u001b[0m\u001b[0;34m\u001b[0m\u001b[0;34m\u001b[0m\u001b[0m\n\u001b[0;32m--> 129\u001b[0;31m         \u001b[0;32mraise\u001b[0m \u001b[0mRuntimeError\u001b[0m\u001b[0;34m(\u001b[0m\u001b[0;34mf\"applying transform {transform}\"\u001b[0m\u001b[0;34m)\u001b[0m \u001b[0;32mfrom\u001b[0m \u001b[0me\u001b[0m\u001b[0;34m\u001b[0m\u001b[0;34m\u001b[0m\u001b[0m\n\u001b[0m\u001b[1;32m    130\u001b[0m \u001b[0;34m\u001b[0m\u001b[0m\n\u001b[1;32m    131\u001b[0m \u001b[0;34m\u001b[0m\u001b[0m\n",
      "\u001b[0;31mRuntimeError\u001b[0m: applying transform <monai.transforms.post.dictionary.Invertd object at 0x7fe93da9c250>"
     ]
    }
   ],
   "source": [
    "model.load_state_dict(torch.load(os.path.join(\"/home/user/Documents/swin_unetr/swin_unetr_model\", \"swinunetr_fold4_best_metric_model.pth\")))\n",
    "# model.load_state_dict(torch.load(os.path.join(\"/home/user/Documents/swin_unetr/swin_unetr_model\", \"swinunetr_fold1_best_metric_model.pth\")))\n",
    "model.eval()\n",
    "case_num=1\n",
    "# with torch.no_grad():\n",
    "# #     for case_num in range(0,114):\n",
    "#     img_name = os.path.split(test_ds[case_num][\"image\"].meta[\"filename_or_obj\"])[1]\n",
    "#     img = test_ds[case_num][\"image\"]\n",
    "#     test_inputs = torch.unsqueeze(img, 1).cuda()\n",
    "#     test_outputs = sliding_window_inference(test_inputs, (96, 96, 96), 4, model, overlap=0.8,sw_device=\"cuda\")\n",
    "#     test_outputs=torch.argmax(test_outputs, dim=1)\n",
    "# #     saver=NiftiSaver(output_dir='/home/user/Documents/unetr/research-contributions/UNETR/BTCV/dataset/datasetmajei/swinunetr_majei_output',output_ext=img_name)\n",
    "#     saver=NiftiSaver(output_dir='/home/user/Documents/unetr/research-contributions/UNETR/BTCV/dataset/datasetmajei',output_ext=img_name)\n",
    "#     saver.save(test_outputs\n",
    "\n",
    "# with torch.no_grad():\n",
    "#     for test_data in test_loader:\n",
    "#         test_inputs = test_data[\"image\"].to(device)\n",
    "#         test_data[\"pred\"] = sliding_window_inference(test_inputs, (96,96,96), 4, model)\n",
    "\n",
    "#         test_data = [post_transforms(i) for i in decollate_batch(test_data)]\n",
    "#         test_output = from_engine([\"pred\"])(test_data)\n",
    "\n",
    "\n",
    "with torch.no_grad():\n",
    "    for test_data in test_loader:\n",
    "        test_inputs = test_data[\"image\"].to(device)\n",
    "        test_data[\"pred\"] = sliding_window_inference(test_inputs, (96,96,96), 4, model)\n",
    "\n",
    "        test_data = [post_transforms(i) for i in decollate_batch(test_data)]\n",
    "        test_output = from_engine([\"pred\"])(test_data)\n"
   ]
  },
  {
   "cell_type": "code",
   "execution_count": null,
   "id": "d85ada62",
   "metadata": {},
   "outputs": [],
   "source": [
    "#inference on word dataset"
   ]
  },
  {
   "cell_type": "code",
   "execution_count": 4,
   "id": "ea975f48",
   "metadata": {},
   "outputs": [
    {
     "name": "stdout",
     "output_type": "stream",
     "text": [
      "MONAI version: 1.1.0\n",
      "Numpy version: 1.21.6\n",
      "Pytorch version: 1.13.1+cu117\n",
      "MONAI flags: HAS_EXT = False, USE_COMPILED = False, USE_META_DICT = False\n",
      "MONAI rev id: a2ec3752f54bfc3b40e7952234fbeb5452ed63e3\n",
      "MONAI __file__: /home/user/anaconda3/envs/kevin/lib/python3.7/site-packages/monai/__init__.py\n",
      "\n",
      "Optional dependencies:\n",
      "Pytorch Ignite version: NOT INSTALLED or UNKNOWN VERSION.\n",
      "Nibabel version: 4.0.2\n",
      "scikit-image version: 0.19.3\n",
      "Pillow version: 9.4.0\n",
      "Tensorboard version: 2.11.2\n",
      "gdown version: 4.7.1\n",
      "TorchVision version: 0.14.1+cu117\n",
      "tqdm version: 4.65.0\n",
      "lmdb version: NOT INSTALLED or UNKNOWN VERSION.\n",
      "psutil version: 5.9.0\n",
      "pandas version: 1.3.5\n",
      "einops version: 0.6.1\n",
      "transformers version: NOT INSTALLED or UNKNOWN VERSION.\n",
      "mlflow version: NOT INSTALLED or UNKNOWN VERSION.\n",
      "pynrrd version: NOT INSTALLED or UNKNOWN VERSION.\n",
      "\n",
      "For details about installing the optional dependencies, please visit:\n",
      "    https://docs.monai.io/en/latest/installation.html#installing-the-recommended-dependencies\n",
      "\n"
     ]
    }
   ],
   "source": [
    "#导入用到得module\n",
    "import os\n",
    "import shutil\n",
    "import numpy as np\n",
    "import itk\n",
    "from PIL import Image\n",
    "import tempfile\n",
    "from monai.data import ITKReader, PILReader\n",
    "from monai.transforms import (\n",
    "    LoadImage, LoadImaged, EnsureChannelFirstd,\n",
    "    Resized, EnsureTyped, Compose,Invertd,AsDiscreted, SaveImaged,\n",
    ")\n",
    "from monai.handlers.utils import from_engine\n",
    "\n",
    "from monai.config import print_config\n",
    "\n",
    "print_config()"
   ]
  },
  {
   "cell_type": "code",
   "execution_count": 5,
   "id": "5fcb6962",
   "metadata": {},
   "outputs": [],
   "source": [
    "# split_json = \"dataset_0.json\"\n",
    "# data_dir = \"/home/user/Documents/unetr/research-contributions/UNETR/BTCV/dataset/dataset0/\"\n",
    "from monai.inferers import sliding_window_inference\n",
    "from monai.data import NiftiSaver\n",
    "\n",
    "device = torch.device(\"cuda:0\")\n"
   ]
  },
  {
   "cell_type": "code",
   "execution_count": 6,
   "id": "2d4287af",
   "metadata": {},
   "outputs": [],
   "source": [
    "model = SwinUNETR(\n",
    "    img_size=(96, 96, 96),\n",
    "    in_channels=1,\n",
    "    out_channels=8,\n",
    "    feature_size=48,\n",
    "    use_checkpoint=True,\n",
    ").to(device)\n",
    "torch.backends.cudnn.benchmark = True\n",
    "loss_function = DiceCELoss(to_onehot_y=True, softmax=True)\n",
    "optimizer = torch.optim.AdamW(model.parameters(), lr=1e-4, weight_decay=1e-5)\n",
    "scaler = torch.cuda.amp.GradScaler()"
   ]
  },
  {
   "cell_type": "code",
   "execution_count": 7,
   "id": "316f359c",
   "metadata": {},
   "outputs": [],
   "source": [
    "def validation(epoch_iterator_val):\n",
    "    model.eval()\n",
    "    with torch.no_grad():\n",
    "        for batch in epoch_iterator_val:\n",
    "            val_inputs, val_labels = (batch[\"image\"].cuda(), batch[\"label\"].cuda())\n",
    "            with torch.cuda.amp.autocast():\n",
    "                val_outputs = sliding_window_inference(val_inputs, (96, 96, 96), 4, model)\n",
    "            val_labels_list = decollate_batch(val_labels)\n",
    "            val_labels_convert = [post_label(val_label_tensor) for val_label_tensor in val_labels_list]\n",
    "            val_outputs_list = decollate_batch(val_outputs)\n",
    "            val_output_convert = [post_pred(val_pred_tensor) for val_pred_tensor in val_outputs_list]\n",
    "            dice_metric(y_pred=val_output_convert, y=val_labels_convert)\n",
    "            epoch_iterator_val.set_description(\"Validate (%d / %d Steps)\" % (global_step, 10.0))\n",
    "        mean_dice_val = dice_metric.aggregate().item()\n",
    "        dice_metric.reset()\n",
    "    return mean_dice_val"
   ]
  },
  {
   "cell_type": "code",
   "execution_count": 8,
   "id": "ca03577f",
   "metadata": {},
   "outputs": [],
   "source": [
    "max_iterations = 25000#30000\n",
    "eval_num = 500\n",
    "post_label = AsDiscrete(to_onehot=8)\n",
    "post_pred = AsDiscrete(argmax=True, to_onehot=8)\n",
    "dice_metric = DiceMetric(include_background=True, reduction=\"mean\", get_not_nans=False)\n",
    "global_step = 0\n",
    "dice_val_best = 0.0\n",
    "global_step_best = 0\n",
    "epoch_loss_values = []\n",
    "metric_values = []"
   ]
  },
  {
   "cell_type": "code",
   "execution_count": 8,
   "id": "e85030bf",
   "metadata": {},
   "outputs": [
    {
     "name": "stderr",
     "output_type": "stream",
     "text": [
      "Loading dataset: 100%|████████████████████████| 100/100 [02:33<00:00,  1.54s/it]\n"
     ]
    }
   ],
   "source": [
    "data_dir='/home/user/Documents/unetr/research-contributions/UNETR/BTCV/dataset/dataset1/'\n",
    "split_json = \"dataset_inf.json\"\n",
    "datasets = data_dir + split_json\n",
    "\n",
    "val_transforms = Compose(\n",
    "    [\n",
    "        LoadImaged(keys=[\"image\", \"label\"]),\n",
    "        EnsureChannelFirstd(keys=[\"image\", \"label\"]),\n",
    "        Orientationd(keys=[\"image\", \"label\"], axcodes=\"RAS\"),\n",
    "        Spacingd(\n",
    "            keys=[\"image\", \"label\"],\n",
    "            pixdim=(1.5, 1.5, 2.0),\n",
    "            mode=(\"bilinear\", \"nearest\"),\n",
    "        ),\n",
    "        ScaleIntensityRanged(keys=[\"image\"], a_min=-175, a_max=250, b_min=0.0, b_max=1.0, clip=True),\n",
    "        CropForegroundd(keys=[\"image\", \"label\"], source_key=\"image\"),\n",
    "    ]\n",
    ")\n",
    "\n",
    "\n",
    "val_files = load_decathlon_datalist(datasets, True, \"validation\")\n",
    "val_ds = CacheDataset(data=val_files, transform=val_transforms, cache_num=100, cache_rate=1.0, num_workers=4)\n",
    "val_loader = ThreadDataLoader(val_ds, num_workers=0, batch_size=1)\n",
    "\n",
    "# as explained in the \"Setup transforms\" section above, we want cached training images to not have metadata, and validations to have metadata\n",
    "# the EnsureTyped transforms allow us to make this distinction\n",
    "# on the other hand, set_track_meta is a global API; doing so here makes sure subsequent transforms (i.e., random transforms for training)\n",
    "# will be carried out as Tensors, not MetaTensors\n",
    "set_track_meta(False)"
   ]
  },
  {
   "cell_type": "code",
   "execution_count": 10,
   "id": "09142da8",
   "metadata": {},
   "outputs": [
    {
     "name": "stderr",
     "output_type": "stream",
     "text": [
      "Validate (0 / 10 Steps): 100%|████████████████| 100/100 [06:04<00:00,  3.65s/it]"
     ]
    },
    {
     "name": "stdout",
     "output_type": "stream",
     "text": [
      "dice_val: 0.7114782929420471\n"
     ]
    },
    {
     "name": "stderr",
     "output_type": "stream",
     "text": [
      "\n"
     ]
    }
   ],
   "source": [
    "#fold0\n",
    "model.load_state_dict(torch.load(os.path.join(\"/home/user/Documents/swin_unetr/swin_unetr_model\", \"swinunetr_fold0_best_metric_model.pth\")))\n",
    "# model.load_state_dict(torch.load(os.path.join(\"/home/user/Documents/swin_unetr/swin_unetr_model\", \"swinunetr_fold1_best_metric_model.pth\")))\n",
    "model.eval()\n",
    "case_num=1\n",
    "\n",
    "epoch_iterator_val = tqdm(val_loader, desc=\"Validate (X / X Steps) (dice=X.X)\", dynamic_ncols=True)\n",
    "dice_val = validation(epoch_iterator_val)\n",
    "print(\"dice_val:\",dice_val)\n",
    "# epoch_loss /= step\n",
    "# epoch_loss_values.append(epoch_loss)\n",
    "# metric_values.append(dice_val)"
   ]
  },
  {
   "cell_type": "code",
   "execution_count": 11,
   "id": "f1a40743",
   "metadata": {},
   "outputs": [
    {
     "name": "stderr",
     "output_type": "stream",
     "text": [
      "Validate (0 / 10 Steps): 100%|████████████████| 100/100 [06:04<00:00,  3.64s/it]"
     ]
    },
    {
     "name": "stdout",
     "output_type": "stream",
     "text": [
      "dice_val: 0.7104701867103577\n"
     ]
    },
    {
     "name": "stderr",
     "output_type": "stream",
     "text": [
      "\n"
     ]
    }
   ],
   "source": [
    "#fold1\n",
    "model.load_state_dict(torch.load(os.path.join(\"/home/user/Documents/swin_unetr/swin_unetr_model\", \"swinunetr_fold1_best_metric_model.pth\")))\n",
    "# model.load_state_dict(torch.load(os.path.join(\"/home/user/Documents/swin_unetr/swin_unetr_model\", \"swinunetr_fold1_best_metric_model.pth\")))\n",
    "model.eval()\n",
    "case_num=1\n",
    "\n",
    "epoch_iterator_val = tqdm(val_loader, desc=\"Validate (X / X Steps) (dice=X.X)\", dynamic_ncols=True)\n",
    "dice_val = validation(epoch_iterator_val)\n",
    "print(\"dice_val:\",dice_val)\n",
    "# epoch_loss /= step\n",
    "# epoch_loss_values.append(epoch_loss)\n",
    "# metric_values.append(dice_val)"
   ]
  },
  {
   "cell_type": "code",
   "execution_count": 13,
   "id": "c3a31f65",
   "metadata": {},
   "outputs": [
    {
     "name": "stderr",
     "output_type": "stream",
     "text": [
      "Validate (0 / 10 Steps): 100%|████████████████| 100/100 [06:04<00:00,  3.64s/it]"
     ]
    },
    {
     "name": "stdout",
     "output_type": "stream",
     "text": [
      "dice_val: 0.748806893825531\n"
     ]
    },
    {
     "name": "stderr",
     "output_type": "stream",
     "text": [
      "\n"
     ]
    }
   ],
   "source": [
    "#fold2\n",
    "model.load_state_dict(torch.load(os.path.join(\"/home/user/Documents/swin_unetr/swin_unetr_model\", \"swinunetr_fold2_best_metric_model.pth\")))\n",
    "# model.load_state_dict(torch.load(os.path.join(\"/home/user/Documents/swin_unetr/swin_unetr_model\", \"swinunetr_fold1_best_metric_model.pth\")))\n",
    "model.eval()\n",
    "case_num=1\n",
    "\n",
    "epoch_iterator_val = tqdm(val_loader, desc=\"Validate (X / X Steps) (dice=X.X)\", dynamic_ncols=True)\n",
    "dice_val = validation(epoch_iterator_val)\n",
    "print(\"dice_val:\",dice_val)\n",
    "# epoch_loss /= step\n",
    "# epoch_loss_values.append(epoch_loss)\n",
    "# metric_values.append(dice_val)"
   ]
  },
  {
   "cell_type": "code",
   "execution_count": 11,
   "id": "11090dec",
   "metadata": {},
   "outputs": [
    {
     "name": "stderr",
     "output_type": "stream",
     "text": [
      "Validate (0 / 10 Steps): 100%|████████████████| 100/100 [06:04<00:00,  3.65s/it]"
     ]
    },
    {
     "name": "stdout",
     "output_type": "stream",
     "text": [
      "dice_val: 0.7214286923408508\n"
     ]
    },
    {
     "name": "stderr",
     "output_type": "stream",
     "text": [
      "\n"
     ]
    }
   ],
   "source": [
    "#fold3\n",
    "model.load_state_dict(torch.load(os.path.join(\"/home/user/Documents/swin_unetr/swin_unetr_model\", \"swinunetr_fold3_best_metric_model.pth\")))\n",
    "# model.load_state_dict(torch.load(os.path.join(\"/home/user/Documents/swin_unetr/swin_unetr_model\", \"swinunetr_fold1_best_metric_model.pth\")))\n",
    "model.eval()\n",
    "case_num=1\n",
    "\n",
    "epoch_iterator_val = tqdm(val_loader, desc=\"Validate (X / X Steps) (dice=X.X)\", dynamic_ncols=True)\n",
    "dice_val = validation(epoch_iterator_val)\n",
    "print(\"dice_val:\",dice_val)\n",
    "# epoch_loss /= step\n",
    "# epoch_loss_values.append(epoch_loss)\n",
    "# metric_values.append(dice_val)"
   ]
  },
  {
   "cell_type": "code",
   "execution_count": 12,
   "id": "41822b87",
   "metadata": {},
   "outputs": [
    {
     "name": "stderr",
     "output_type": "stream",
     "text": [
      "Validate (0 / 10 Steps): 100%|████████████████| 100/100 [06:03<00:00,  3.64s/it]"
     ]
    },
    {
     "name": "stdout",
     "output_type": "stream",
     "text": [
      "dice_val: 0.7853967547416687\n"
     ]
    },
    {
     "name": "stderr",
     "output_type": "stream",
     "text": [
      "\n"
     ]
    }
   ],
   "source": [
    "#fold4\n",
    "model.load_state_dict(torch.load(os.path.join(\"/home/user/Documents/swin_unetr/swin_unetr_model\", \"swinunetr_fold4_best_metric_model.pth\")))\n",
    "# model.load_state_dict(torch.load(os.path.join(\"/home/user/Documents/swin_unetr/swin_unetr_model\", \"swinunetr_fold1_best_metric_model.pth\")))\n",
    "model.eval()\n",
    "case_num=1\n",
    "\n",
    "epoch_iterator_val = tqdm(val_loader, desc=\"Validate (X / X Steps) (dice=X.X)\", dynamic_ncols=True)\n",
    "dice_val = validation(epoch_iterator_val)\n",
    "print(\"dice_val:\",dice_val)\n",
    "# epoch_loss /= step\n",
    "# epoch_loss_values.append(epoch_loss)\n",
    "# metric_values.append(dice_val)"
   ]
  },
  {
   "cell_type": "code",
   "execution_count": 7,
   "id": "bf2f203b",
   "metadata": {},
   "outputs": [
    {
     "name": "stdout",
     "output_type": "stream",
     "text": [
      "<class 'dict'>\n"
     ]
    },
    {
     "name": "stderr",
     "output_type": "stream",
     "text": [
      "None of the inputs have requires_grad=True. Gradients will be None\n"
     ]
    },
    {
     "data": {
      "image/png": "[encoded data removed]",
      "text/plain": [
       "<Figure size 1800x600 with 3 Axes>"
      ]
     },
     "metadata": {},
     "output_type": "display_data"
    }
   ],
   "source": [
    "slice_map = {\n",
    "    \"word_0002.nii.gz\": 170,\n",
    "    \"word_0003.nii.gz\": 230,\n",
    "    \"word_0004.nii.gz\": 204,\n",
    "    \"word_0005.nii.gz\": 204,\n",
    "    \"word_0006.nii.gz\": 204,\n",
    "    \"word_0008.nii.gz\": 180,\n",
    "}\n",
    "case_num = 1\n",
    "model.load_state_dict(torch.load(os.path.join(\"/home/user/Documents/swin_unetr/swin_unetr_model\", \"swinunetr_fold1_best_metric_model.pth\")))\n",
    "model.eval()\n",
    "with torch.no_grad():\n",
    "    print(type(val_ds[case_num]))\n",
    "    img_name = os.path.split(val_ds[case_num][\"image\"].meta[\"filename_or_obj\"])[1]\n",
    "    img = val_ds[case_num][\"image\"]\n",
    "    label = val_ds[case_num][\"label\"]\n",
    "    val_inputs = torch.unsqueeze(img, 1).cuda()\n",
    "    val_labels = torch.unsqueeze(label, 1).cuda()\n",
    "    val_outputs = sliding_window_inference(val_inputs, (96, 96, 96), 4, model, overlap=0.8)\n",
    "    plt.figure(\"check\", (18, 6))\n",
    "    plt.subplot(1, 3, 1)\n",
    "    plt.title(\"image\")\n",
    "    plt.imshow(val_inputs.cpu().numpy()[0, 0, :, :, slice_map[img_name]], cmap=\"gray\")\n",
    "    plt.subplot(1, 3, 2)\n",
    "    plt.title(\"label\")\n",
    "    plt.imshow(val_labels.cpu().numpy()[0, 0, :, :, slice_map[img_name]])\n",
    "    plt.subplot(1, 3, 3)\n",
    "    plt.title(\"output\")\n",
    "    plt.imshow(torch.argmax(val_outputs, dim=1).detach().cpu()[0, :, :, slice_map[img_name]])\n",
    "    plt.show()"
   ]
  },
  {
   "cell_type": "code",
   "execution_count": 10,
   "id": "513e2964",
   "metadata": {},
   "outputs": [
    {
     "name": "stderr",
     "output_type": "stream",
     "text": [
      "Loading dataset: 100%|██████████████████████████| 57/57 [00:19<00:00,  2.98it/s]\n"
     ]
    }
   ],
   "source": [
    "#inference MMH\n",
    "data_dir='/home/user/Documents/unetr/research-contributions/UNETR/BTCV/dataset/MMH_0503/'\n",
    "split_json = \"dataset_inf.json\"\n",
    "datasets = data_dir + split_json\n",
    "\n",
    "val_transforms = Compose(\n",
    "    [\n",
    "        LoadImaged(keys=[\"image\", \"label\"]),\n",
    "        EnsureChannelFirstd(keys=[\"image\", \"label\"]),\n",
    "        Orientationd(keys=[\"image\", \"label\"], axcodes=\"RAS\"),\n",
    "        Spacingd(\n",
    "            keys=[\"image\", \"label\"],\n",
    "            pixdim=(1.5, 1.5, 2.0),\n",
    "            mode=(\"bilinear\", \"nearest\"),\n",
    "        ),\n",
    "        ScaleIntensityRanged(keys=[\"image\"], a_min=-175, a_max=250, b_min=0.0, b_max=1.0, clip=True),\n",
    "        CropForegroundd(keys=[\"image\", \"label\"], source_key=\"image\"),\n",
    "    ]\n",
    ")\n",
    "\n",
    "\n",
    "val_files = load_decathlon_datalist(datasets, True, \"validation\")\n",
    "val_ds = CacheDataset(data=val_files, transform=val_transforms, cache_num=57, cache_rate=1.0, num_workers=4)\n",
    "val_loader = ThreadDataLoader(val_ds, num_workers=0, batch_size=1)\n",
    "\n",
    "# as explained in the \"Setup transforms\" section above, we want cached training images to not have metadata, and validations to have metadata\n",
    "# the EnsureTyped transforms allow us to make this distinction\n",
    "# on the other hand, set_track_meta is a global API; doing so here makes sure subsequent transforms (i.e., random transforms for training)\n",
    "# will be carried out as Tensors, not MetaTensors\n",
    "set_track_meta(False)"
   ]
  },
  {
   "cell_type": "code",
   "execution_count": 17,
   "id": "e729d68c",
   "metadata": {},
   "outputs": [
    {
     "name": "stderr",
     "output_type": "stream",
     "text": [
      "Validate (0 / 10 Steps): 100%|██████████████████| 57/57 [00:57<00:00,  1.01s/it]"
     ]
    },
    {
     "name": "stdout",
     "output_type": "stream",
     "text": [
      "dice_val: 0.2730907201766968\n"
     ]
    },
    {
     "name": "stderr",
     "output_type": "stream",
     "text": [
      "\n"
     ]
    }
   ],
   "source": [
    "#fold0_test\n",
    "model.load_state_dict(torch.load(os.path.join(\"/home/user/Documents/swin_unetr/swin_unetr_model\", \"swinunetr_fold0_best_metric_model.pth\")))\n",
    "# model.load_state_dict(torch.load(os.path.join(\"/home/user/Documents/swin_unetr/swin_unetr_model\", \"swinunetr_fold1_best_metric_model.pth\")))\n",
    "model.eval()\n",
    "case_num=1\n",
    "\n",
    "epoch_iterator_val = tqdm(val_loader, desc=\"Validate (X / X Steps) (dice=X.X)\", dynamic_ncols=True)\n",
    "dice_val = validation(epoch_iterator_val)\n",
    "print(\"dice_val:\",dice_val)\n",
    "# epoch_loss /= step\n",
    "# epoch_loss_values.append(epoch_loss)\n",
    "# metric_values.append(dice_val)"
   ]
  },
  {
   "cell_type": "code",
   "execution_count": 14,
   "id": "b9b00330",
   "metadata": {},
   "outputs": [
    {
     "name": "stderr",
     "output_type": "stream",
     "text": [
      "Validate (0 / 10 Steps): 100%|██████████████████| 57/57 [00:57<00:00,  1.01s/it]"
     ]
    },
    {
     "name": "stdout",
     "output_type": "stream",
     "text": [
      "dice_val: 0.3559509217739105\n"
     ]
    },
    {
     "name": "stderr",
     "output_type": "stream",
     "text": [
      "\n"
     ]
    }
   ],
   "source": [
    "#swinunetr inference \n",
    "#fold1\n",
    "model.load_state_dict(torch.load(os.path.join(\"/home/user/Documents/swin_unetr/swin_unetr_model\", \"swinunetr_fold1_best_metric_model.pth\")))\n",
    "# model.load_state_dict(torch.load(os.path.join(\"/home/user/Documents/swin_unetr/swin_unetr_model\", \"swinunetr_fold1_best_metric_model.pth\")))\n",
    "model.eval()\n",
    "case_num=1\n",
    "\n",
    "epoch_iterator_val = tqdm(val_loader, desc=\"Validate (X / X Steps) (dice=X.X)\", dynamic_ncols=True)\n",
    "dice_val = validation(epoch_iterator_val)\n",
    "print(\"dice_val:\",dice_val)\n",
    "# epoch_loss /= step\n",
    "# epoch_loss_values.append(epoch_loss)\n",
    "# metric_values.append(dice_val)"
   ]
  },
  {
   "cell_type": "code",
   "execution_count": 13,
   "id": "cf196799",
   "metadata": {},
   "outputs": [
    {
     "name": "stderr",
     "output_type": "stream",
     "text": [
      "Validate (0 / 10 Steps): 100%|██████████████████| 57/57 [00:57<00:00,  1.02s/it]"
     ]
    },
    {
     "name": "stdout",
     "output_type": "stream",
     "text": [
      "dice_val: 0.2785322368144989\n"
     ]
    },
    {
     "name": "stderr",
     "output_type": "stream",
     "text": [
      "\n"
     ]
    }
   ],
   "source": [
    "#swinunetr inference \n",
    "#fold2\n",
    "model.load_state_dict(torch.load(os.path.join(\"/home/user/Documents/swin_unetr/swin_unetr_model\", \"swinunetr_fold2_best_metric_model.pth\")))\n",
    "# model.load_state_dict(torch.load(os.path.join(\"/home/user/Documents/swin_unetr/swin_unetr_model\", \"swinunetr_fold1_best_metric_model.pth\")))\n",
    "model.eval()\n",
    "case_num=1\n",
    "\n",
    "epoch_iterator_val = tqdm(val_loader, desc=\"Validate (X / X Steps) (dice=X.X)\", dynamic_ncols=True)\n",
    "dice_val = validation(epoch_iterator_val)\n",
    "print(\"dice_val:\",dice_val)\n",
    "# epoch_loss /= step\n",
    "# epoch_loss_values.append(epoch_loss)\n",
    "# metric_values.append(dice_val)"
   ]
  },
  {
   "cell_type": "code",
   "execution_count": 12,
   "id": "c3a70bbe",
   "metadata": {},
   "outputs": [
    {
     "name": "stderr",
     "output_type": "stream",
     "text": [
      "Validate (0 / 10 Steps): 100%|██████████████████| 57/57 [00:57<00:00,  1.01s/it]"
     ]
    },
    {
     "name": "stdout",
     "output_type": "stream",
     "text": [
      "dice_val: 0.4045802652835846\n"
     ]
    },
    {
     "name": "stderr",
     "output_type": "stream",
     "text": [
      "\n"
     ]
    }
   ],
   "source": [
    "#swinunetr inference \n",
    "#fold3\n",
    "model.load_state_dict(torch.load(os.path.join(\"/home/user/Documents/swin_unetr/swin_unetr_model\", \"swinunetr_fold3_best_metric_model.pth\")))\n",
    "# model.load_state_dict(torch.load(os.path.join(\"/home/user/Documents/swin_unetr/swin_unetr_model\", \"swinunetr_fold1_best_metric_model.pth\")))\n",
    "model.eval()\n",
    "case_num=1\n",
    "\n",
    "epoch_iterator_val = tqdm(val_loader, desc=\"Validate (X / X Steps) (dice=X.X)\", dynamic_ncols=True)\n",
    "dice_val = validation(epoch_iterator_val)\n",
    "print(\"dice_val:\",dice_val)\n",
    "# epoch_loss /= step\n",
    "# epoch_loss_values.append(epoch_loss)\n",
    "# metric_values.append(dice_val)"
   ]
  },
  {
   "cell_type": "code",
   "execution_count": 11,
   "id": "f1dbe4d9",
   "metadata": {},
   "outputs": [
    {
     "name": "stderr",
     "output_type": "stream",
     "text": [
      "Validate (X / X Steps) (dice=X.X):   0%|                 | 0/57 [00:00<?, ?it/s]None of the inputs have requires_grad=True. Gradients will be None\n",
      "Validate (0 / 10 Steps): 100%|██████████████████| 57/57 [01:00<00:00,  1.06s/it]"
     ]
    },
    {
     "name": "stdout",
     "output_type": "stream",
     "text": [
      "dice_val: 0.18865294754505157\n"
     ]
    },
    {
     "name": "stderr",
     "output_type": "stream",
     "text": [
      "\n"
     ]
    }
   ],
   "source": [
    "#swinunetr inference \n",
    "#fold4\n",
    "model.load_state_dict(torch.load(os.path.join(\"/home/user/Documents/swin_unetr/swin_unetr_model\", \"swinunetr_fold4_best_metric_model.pth\")))\n",
    "# model.load_state_dict(torch.load(os.path.join(\"/home/user/Documents/swin_unetr/swin_unetr_model\", \"swinunetr_fold1_best_metric_model.pth\")))\n",
    "model.eval()\n",
    "case_num=1\n",
    "\n",
    "epoch_iterator_val = tqdm(val_loader, desc=\"Validate (X / X Steps) (dice=X.X)\", dynamic_ncols=True)\n",
    "dice_val = validation(epoch_iterator_val)\n",
    "print(\"dice_val:\",dice_val)\n",
    "# epoch_loss /= step\n",
    "# epoch_loss_values.append(epoch_loss)\n",
    "# metric_values.append(dice_val)"
   ]
  },
  {
   "cell_type": "code",
   "execution_count": null,
   "id": "9cd9b8e8",
   "metadata": {},
   "outputs": [],
   "source": [
    "#inference MMH updown_flip"
   ]
  },
  {
   "cell_type": "code",
   "execution_count": 9,
   "id": "3f774f48",
   "metadata": {},
   "outputs": [
    {
     "name": "stderr",
     "output_type": "stream",
     "text": [
      "Loading dataset: 100%|██████████████████████████| 57/57 [00:19<00:00,  2.92it/s]\n"
     ]
    }
   ],
   "source": [
    "data_dir='/home/user/Documents/unetr/research-contributions/UNETR/BTCV/dataset/MMH_0503_updown_flip/'\n",
    "split_json = \"dataset_inf.json\"\n",
    "datasets = data_dir + split_json\n",
    "\n",
    "val_transforms = Compose(\n",
    "    [\n",
    "        LoadImaged(keys=[\"image\", \"label\"]),\n",
    "        EnsureChannelFirstd(keys=[\"image\", \"label\"]),\n",
    "        Orientationd(keys=[\"image\", \"label\"], axcodes=\"RAS\"),\n",
    "        Spacingd(\n",
    "            keys=[\"image\", \"label\"],\n",
    "            pixdim=(1.5, 1.5, 2.0),\n",
    "            mode=(\"bilinear\", \"nearest\"),\n",
    "        ),\n",
    "        ScaleIntensityRanged(keys=[\"image\"], a_min=-175, a_max=250, b_min=0.0, b_max=1.0, clip=True),\n",
    "        CropForegroundd(keys=[\"image\", \"label\"], source_key=\"image\"),\n",
    "    ]\n",
    ")\n",
    "\n",
    "\n",
    "val_files = load_decathlon_datalist(datasets, True, \"validation\")\n",
    "val_ds = CacheDataset(data=val_files, transform=val_transforms, cache_num=100, cache_rate=1.0, num_workers=4)\n",
    "val_loader = ThreadDataLoader(val_ds, num_workers=0, batch_size=1)\n",
    "\n",
    "# as explained in the \"Setup transforms\" section above, we want cached training images to not have metadata, and validations to have metadata\n",
    "# the EnsureTyped transforms allow us to make this distinction\n",
    "# on the other hand, set_track_meta is a global API; doing so here makes sure subsequent transforms (i.e., random transforms for training)\n",
    "# will be carried out as Tensors, not MetaTensors\n",
    "set_track_meta(False)"
   ]
  },
  {
   "cell_type": "code",
   "execution_count": 11,
   "id": "f1528c05",
   "metadata": {},
   "outputs": [
    {
     "name": "stderr",
     "output_type": "stream",
     "text": [
      "Validate (X / X Steps) (dice=X.X):   0%|                 | 0/57 [00:00<?, ?it/s]None of the inputs have requires_grad=True. Gradients will be None\n",
      "Validate (0 / 10 Steps): 100%|██████████████████| 57/57 [01:00<00:00,  1.06s/it]"
     ]
    },
    {
     "name": "stdout",
     "output_type": "stream",
     "text": [
      "dice_val: 0.23404674232006073\n"
     ]
    },
    {
     "name": "stderr",
     "output_type": "stream",
     "text": [
      "\n"
     ]
    }
   ],
   "source": [
    "#fold0\n",
    "model.load_state_dict(torch.load(os.path.join(\"/home/user/Documents/swin_unetr/swin_unetr_model\", \"swinunetr_fold0_best_metric_model\")))\n",
    "# model.load_state_dict(torch.load(os.path.join(\"/home/user/Documents/swin_unetr/swin_unetr_model\", \"swinunetr_fold1_best_metric_model.pth\")))\n",
    "model.eval()\n",
    "case_num=1\n",
    "\n",
    "epoch_iterator_val = tqdm(val_loader, desc=\"Validate (X / X Steps) (dice=X.X)\", dynamic_ncols=True)\n",
    "dice_val = validation(epoch_iterator_val)\n",
    "print(\"dice_val:\",dice_val)\n",
    "# epoch_loss /= step\n",
    "# epoch_loss_values.append(epoch_loss)\n",
    "# metric_values.append(dice_val)"
   ]
  },
  {
   "cell_type": "code",
   "execution_count": 12,
   "id": "888e1c68",
   "metadata": {},
   "outputs": [
    {
     "name": "stderr",
     "output_type": "stream",
     "text": [
      "Validate (0 / 10 Steps): 100%|██████████████████| 57/57 [00:57<00:00,  1.02s/it]"
     ]
    },
    {
     "name": "stdout",
     "output_type": "stream",
     "text": [
      "dice_val: 0.32804927229881287\n"
     ]
    },
    {
     "name": "stderr",
     "output_type": "stream",
     "text": [
      "\n"
     ]
    }
   ],
   "source": [
    "#fold1\n",
    "model.load_state_dict(torch.load(os.path.join(\"/home/user/Documents/swin_unetr/swin_unetr_model\", \"swinunetr_fold1_best_metric_model.pth\")))\n",
    "# model.load_state_dict(torch.load(os.path.join(\"/home/user/Documents/swin_unetr/swin_unetr_model\", \"swinunetr_fold1_best_metric_model.pth\")))\n",
    "model.eval()\n",
    "case_num=1\n",
    "\n",
    "epoch_iterator_val = tqdm(val_loader, desc=\"Validate (X / X Steps) (dice=X.X)\", dynamic_ncols=True)\n",
    "dice_val = validation(epoch_iterator_val)\n",
    "print(\"dice_val:\",dice_val)\n",
    "# epoch_loss /= step\n",
    "# epoch_loss_values.append(epoch_loss)\n",
    "# metric_values.append(dice_val)"
   ]
  },
  {
   "cell_type": "code",
   "execution_count": 17,
   "id": "cba2c283",
   "metadata": {},
   "outputs": [
    {
     "name": "stderr",
     "output_type": "stream",
     "text": [
      "Validate (0 / 10 Steps): 100%|██████████████████| 57/57 [00:57<00:00,  1.01s/it]"
     ]
    },
    {
     "name": "stdout",
     "output_type": "stream",
     "text": [
      "dice_val: 0.2730907201766968\n"
     ]
    },
    {
     "name": "stderr",
     "output_type": "stream",
     "text": [
      "\n"
     ]
    }
   ],
   "source": [
    "#fold2\n",
    "model.load_state_dict(torch.load(os.path.join(\"/home/user/Documents/swin_unetr/swin_unetr_model\", \"swinunetr_fold2_best_metric_model.pth\")))\n",
    "# model.load_state_dict(torch.load(os.path.join(\"/home/user/Documents/swin_unetr/swin_unetr_model\", \"swinunetr_fold1_best_metric_model.pth\")))\n",
    "model.eval()\n",
    "case_num=1\n",
    "\n",
    "epoch_iterator_val = tqdm(val_loader, desc=\"Validate (X / X Steps) (dice=X.X)\", dynamic_ncols=True)\n",
    "dice_val = validation(epoch_iterator_val)\n",
    "print(\"dice_val:\",dice_val)\n",
    "# epoch_loss /= step\n",
    "# epoch_loss_values.append(epoch_loss)\n",
    "# metric_values.append(dice_val)"
   ]
  },
  {
   "cell_type": "code",
   "execution_count": 13,
   "id": "3150387f",
   "metadata": {},
   "outputs": [
    {
     "name": "stderr",
     "output_type": "stream",
     "text": [
      "Validate (0 / 10 Steps): 100%|██████████████████| 57/57 [00:57<00:00,  1.01s/it]"
     ]
    },
    {
     "name": "stdout",
     "output_type": "stream",
     "text": [
      "dice_val: 0.3645433187484741\n"
     ]
    },
    {
     "name": "stderr",
     "output_type": "stream",
     "text": [
      "\n"
     ]
    }
   ],
   "source": [
    "#fold3\n",
    "model.load_state_dict(torch.load(os.path.join(\"/home/user/Documents/swin_unetr/swin_unetr_model\", \"swinunetr_fold3_best_metric_model.pth\")))\n",
    "# model.load_state_dict(torch.load(os.path.join(\"/home/user/Documents/swin_unetr/swin_unetr_model\", \"swinunetr_fold1_best_metric_model.pth\")))\n",
    "model.eval()\n",
    "case_num=1\n",
    "\n",
    "epoch_iterator_val = tqdm(val_loader, desc=\"Validate (X / X Steps) (dice=X.X)\", dynamic_ncols=True)\n",
    "dice_val = validation(epoch_iterator_val)\n",
    "print(\"dice_val:\",dice_val)\n",
    "# epoch_loss /= step\n",
    "# epoch_loss_values.append(epoch_loss)\n",
    "# metric_values.append(dice_val)"
   ]
  },
  {
   "cell_type": "code",
   "execution_count": 14,
   "id": "6b93dc56",
   "metadata": {},
   "outputs": [
    {
     "name": "stderr",
     "output_type": "stream",
     "text": [
      "Validate (0 / 10 Steps): 100%|██████████████████| 57/57 [00:58<00:00,  1.02s/it]"
     ]
    },
    {
     "name": "stdout",
     "output_type": "stream",
     "text": [
      "dice_val: 0.19286225736141205\n"
     ]
    },
    {
     "name": "stderr",
     "output_type": "stream",
     "text": [
      "\n"
     ]
    }
   ],
   "source": [
    "#fold4\n",
    "model.load_state_dict(torch.load(os.path.join(\"/home/user/Documents/swin_unetr/swin_unetr_model\", \"swinunetr_fold4_best_metric_model.pth\")))\n",
    "# model.load_state_dict(torch.load(os.path.join(\"/home/user/Documents/swin_unetr/swin_unetr_model\", \"swinunetr_fold1_best_metric_model.pth\")))\n",
    "model.eval()\n",
    "case_num=1\n",
    "\n",
    "epoch_iterator_val = tqdm(val_loader, desc=\"Validate (X / X Steps) (dice=X.X)\", dynamic_ncols=True)\n",
    "dice_val = validation(epoch_iterator_val)\n",
    "print(\"dice_val:\",dice_val)\n",
    "# epoch_loss /= step\n",
    "# epoch_loss_values.append(epoch_loss)\n",
    "# metric_values.append(dice_val)"
   ]
  },
  {
   "cell_type": "code",
   "execution_count": null,
   "id": "1fc72b3d",
   "metadata": {},
   "outputs": [],
   "source": []
  }
 ],
 "metadata": {
  "kernelspec": {
   "display_name": "Python 3 (ipykernel)",
   "language": "python",
   "name": "python3"
  },
  "language_info": {
   "codemirror_mode": {
    "name": "ipython",
    "version": 3
   },
   "file_extension": ".py",
   "mimetype": "text/x-python",
   "name": "python",
   "nbconvert_exporter": "python",
   "pygments_lexer": "ipython3",
   "version": "3.7.16"
  }
 },
 "nbformat": 4,
 "nbformat_minor": 5
}
